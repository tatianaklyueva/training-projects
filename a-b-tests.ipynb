{
 "cells": [
  {
   "cell_type": "markdown",
   "id": "5a6c4b06",
   "metadata": {},
   "source": []
  },
  {
   "cell_type": "markdown",
   "id": "62e96f9e",
   "metadata": {},
   "source": [
    "# Событийная аналитика"
   ]
  },
  {
   "cell_type": "markdown",
   "id": "84c41ae8",
   "metadata": {},
   "source": [
    "Мы представляем стартап, который продает продукты питания. \n",
    "\n",
    "**Цель исследования** - определить модель поведения пользователей мобильного приложения.\n",
    "\n",
    "**Задачи исследования**:\n",
    "- на основе анализа воронки продаж проследить путь пользователей до покупки;\n",
    "- рассчитать доли дошедших до покупки и \"застрявших\" на предыдущих шагах пользователей;\n",
    "- оценить результаты  A/A/B-эксперимента.\n",
    "\n",
    "О эксперименте: Дизайнеры предложили поменять шрифты во всём приложении, а менеджеры посчитали, что пользователям будет непривычно. Договорились принять решение по результатам A/A/B-теста. Пользователей разбили на 3 группы: 2 контрольные со старыми шрифтами и одну экспериментальную — с новыми. Выясним, какой шрифт лучше. Создание двух групп A вместо одной имеет определённые преимущества. Если две контрольные группы окажутся равны, то мы можем быть уверены в точности проведенного тестирования. Если же между значениями A и A будут существенные различия, это поможет обнаружить факторы, которые привели к искажению результатов. Сравнение контрольных групп также помогает понять, сколько времени и данных потребуется для дальнейших тестов.\n",
    "В случае общей аналитики и A/A/B-эксперимента мы работаем с одними и теми же данными, не учитывая принадлежность пользователей к экспериментам.\n",
    "\n",
    "**Ход исследования**\n",
    "\n",
    "Для анализа мы используем логи пользователей мобильного приложения - информацию о событиях и действиях пользователя в приложении с указанием времени и даты события, а также принадлежности пользователя к экспериментальной группе.\n",
    "\n",
    "О качестве данных нам ничего неизвестно, поэтому перед проведением исследования понадобится обзор и предобработка данных: обработаем пропуски и дубликаты в случае наличия, приведем данные к необходимым типам, проведем дополнительные расчеты.\n",
    "\n",
    "Затем мы проверим данные и оценим, какой объем данных имеется, какой период они покрывают, как представлены экспериментальные группы.\n",
    "\n",
    "Потом изучим воронку событий - какие события в нее входят и в какой последовательности, каковы доли \"отсвва\" по этапам и в финале\n",
    "\n",
    "После этого - проанализируем результаты A/A/B-теста: есть ли значимые различия между контрольными и экспериментальной группой.\n",
    "\n",
    "Таким образом, решение пройдет в пять этапов."
   ]
  },
  {
   "cell_type": "markdown",
   "id": "c71199fc",
   "metadata": {},
   "source": [
    "## Обзор данных"
   ]
  },
  {
   "cell_type": "markdown",
   "id": "237755c2",
   "metadata": {},
   "source": [
    "Составим представление о данных. Импортируем специальную библиотеку pandas для обработки и анализа данных, а также другие библиотеки. "
   ]
  },
  {
   "cell_type": "code",
   "execution_count": 1,
   "id": "5af85d87",
   "metadata": {
    "scrolled": false
   },
   "outputs": [],
   "source": [
    "import pandas as pd # импорт библиотеки pandas\n",
    "import datetime as dt  # импорт библиотеки datetime для работы со временем\n",
    "import matplotlib.pyplot as plt # импорт части библиотеки matplotlib для работы с диаграммами\n",
    "import seaborn as sns # импорт библиотеки seaborn для работы с диаграммами\n",
    "from plotly import graph_objects as go # импортируем набор методов для работы с интерактивными графиками\n",
    "import numpy as np # импорт библиотеки numpy для математических вычислений\n",
    "import math # импорт библиотеки math для математических вычислений\n",
    "from scipy import stats as stats # импорт модуля stats для статистических методов"
   ]
  },
  {
   "cell_type": "markdown",
   "id": "a07fb39a",
   "metadata": {},
   "source": [
    "Прочитаем файл `/datasets/logs_exp.csv`, сохраним в переменную logs, а также выведем на экран начало таблицы."
   ]
  },
  {
   "cell_type": "code",
   "execution_count": 2,
   "id": "c6ec68be",
   "metadata": {},
   "outputs": [
    {
     "data": {
      "text/html": [
       "<div>\n",
       "<style scoped>\n",
       "    .dataframe tbody tr th:only-of-type {\n",
       "        vertical-align: middle;\n",
       "    }\n",
       "\n",
       "    .dataframe tbody tr th {\n",
       "        vertical-align: top;\n",
       "    }\n",
       "\n",
       "    .dataframe thead th {\n",
       "        text-align: right;\n",
       "    }\n",
       "</style>\n",
       "<table border=\"1\" class=\"dataframe\">\n",
       "  <thead>\n",
       "    <tr style=\"text-align: right;\">\n",
       "      <th></th>\n",
       "      <th>EventName</th>\n",
       "      <th>DeviceIDHash</th>\n",
       "      <th>EventTimestamp</th>\n",
       "      <th>ExpId</th>\n",
       "    </tr>\n",
       "  </thead>\n",
       "  <tbody>\n",
       "    <tr>\n",
       "      <th>0</th>\n",
       "      <td>MainScreenAppear</td>\n",
       "      <td>4575588528974610257</td>\n",
       "      <td>1564029816</td>\n",
       "      <td>246</td>\n",
       "    </tr>\n",
       "    <tr>\n",
       "      <th>1</th>\n",
       "      <td>MainScreenAppear</td>\n",
       "      <td>7416695313311560658</td>\n",
       "      <td>1564053102</td>\n",
       "      <td>246</td>\n",
       "    </tr>\n",
       "    <tr>\n",
       "      <th>2</th>\n",
       "      <td>PaymentScreenSuccessful</td>\n",
       "      <td>3518123091307005509</td>\n",
       "      <td>1564054127</td>\n",
       "      <td>248</td>\n",
       "    </tr>\n",
       "    <tr>\n",
       "      <th>3</th>\n",
       "      <td>CartScreenAppear</td>\n",
       "      <td>3518123091307005509</td>\n",
       "      <td>1564054127</td>\n",
       "      <td>248</td>\n",
       "    </tr>\n",
       "    <tr>\n",
       "      <th>4</th>\n",
       "      <td>PaymentScreenSuccessful</td>\n",
       "      <td>6217807653094995999</td>\n",
       "      <td>1564055322</td>\n",
       "      <td>248</td>\n",
       "    </tr>\n",
       "  </tbody>\n",
       "</table>\n",
       "</div>"
      ],
      "text/plain": [
       "                 EventName         DeviceIDHash  EventTimestamp  ExpId\n",
       "0         MainScreenAppear  4575588528974610257      1564029816    246\n",
       "1         MainScreenAppear  7416695313311560658      1564053102    246\n",
       "2  PaymentScreenSuccessful  3518123091307005509      1564054127    248\n",
       "3         CartScreenAppear  3518123091307005509      1564054127    248\n",
       "4  PaymentScreenSuccessful  6217807653094995999      1564055322    248"
      ]
     },
     "metadata": {},
     "output_type": "display_data"
    }
   ],
   "source": [
    "# чтение файла с данными и сохранение в logs\n",
    "try:\n",
    "    # адрес в среде 'practicum'\n",
    "    logs = pd.read_csv('/datasets/logs_exp.csv', sep='\\t')  \n",
    "except:\n",
    "    # адрес в локальном окружении\n",
    "    logs = pd.read_csv('logs_exp.csv', sep='\\t')\n",
    "# получение первых 5 строк таблицы\n",
    "display(logs.head(5)) "
   ]
  },
  {
   "cell_type": "markdown",
   "id": "6a30dfbd",
   "metadata": {},
   "source": [
    "Получим общую информацию о таблице. "
   ]
  },
  {
   "cell_type": "code",
   "execution_count": 3,
   "id": "7b90f054",
   "metadata": {},
   "outputs": [
    {
     "name": "stdout",
     "output_type": "stream",
     "text": [
      "<class 'pandas.core.frame.DataFrame'>\n",
      "RangeIndex: 244126 entries, 0 to 244125\n",
      "Data columns (total 4 columns):\n",
      " #   Column          Non-Null Count   Dtype \n",
      "---  ------          --------------   ----- \n",
      " 0   EventName       244126 non-null  object\n",
      " 1   DeviceIDHash    244126 non-null  int64 \n",
      " 2   EventTimestamp  244126 non-null  int64 \n",
      " 3   ExpId           244126 non-null  int64 \n",
      "dtypes: int64(3), object(1)\n",
      "memory usage: 7.5+ MB\n"
     ]
    }
   ],
   "source": [
    "logs.info() # получение общей информации о данных в таблице logs"
   ]
  },
  {
   "cell_type": "markdown",
   "id": "ef5e6d1f",
   "metadata": {},
   "source": [
    "Таблица `logs` (результаты эксперимента)\n",
    "Каждая запись в логе - это действие или событие.\n",
    "\n",
    "В таблице 4 столбца. Согласно документации к данным:\n",
    "* `EventName` — название события, тип данных object;\n",
    "\n",
    "Представлены следующие события:\n",
    "   1. MainScreenAppear - показ главного экрана;\n",
    "   2. OffersScreenAppear - показ экрана с предложением о покупке;        \n",
    "   3. CartScreenAppear - показ корзины ;            \n",
    "   4. PaymentScreenSuccessful - показ экрану успешной оплаты;    \n",
    "   5. Tutorial - открытие обучения пользования приложением.\n",
    "\n",
    "У остальных столбцов тип данных - int64: \n",
    "* `DeviceIDHash` — уникальный идентификатор устройства;\n",
    "* `EventTimestamp` — время события;\n",
    "* `ExpId` — — номер эксперимента: 246 и 247 — контрольные группы, а 248 — экспериментальная..\n",
    "\n",
    "В таблице 244 126 значений в каждом столбце, скорее всего пропущенных значений нет.\n",
    "Названия всех столбцов необходимо привести к хорошему стилю. Столбец `EventTimestamp` необходимо будет преобразовать в формат дата/время."
   ]
  },
  {
   "cell_type": "markdown",
   "id": "753536c8",
   "metadata": {},
   "source": [
    "**Выводы**\n",
    "\n",
    "Данные для анализа содержатся в таблице logs, они включают информацию о событиях пользователей и их принадлежности к группам в эксперименте. Для достижения целей исследования необходимо будет провести предобработку: привести данные к необходимым форматам, привести названия столбцов к хорошему стилю и убедиться в качестве данных. \n",
    "\n",
    "Чтобы двигаться дальше, нужно устранить проблемы в данных."
   ]
  },
  {
   "cell_type": "markdown",
   "id": "fa655d7b",
   "metadata": {},
   "source": [
    "## Предобработка данных"
   ]
  },
  {
   "cell_type": "markdown",
   "id": "fb2dcec3",
   "metadata": {},
   "source": [
    "Обработаем названия столбцов, исключим пропуски данных и дубликаты, проверим данные на наличие аномалий и при необходимости избавимся от них. Приведем данные к необходимым типам."
   ]
  },
  {
   "cell_type": "markdown",
   "id": "24c2b26a",
   "metadata": {},
   "source": [
    "### Приведение названий столбцов к хорошему стилю"
   ]
  },
  {
   "cell_type": "markdown",
   "id": "d1fca6af",
   "metadata": {},
   "source": [
    "Заменим названия столбцов в таблице logs - приведем к snake_case - нижний регистр с нижними поджчеркиваниями."
   ]
  },
  {
   "cell_type": "code",
   "execution_count": 4,
   "id": "7239f47b",
   "metadata": {
    "scrolled": true
   },
   "outputs": [
    {
     "data": {
      "text/plain": [
       "Index(['event_name', 'device_id_hash', 'event_timestamp', 'exp_id'], dtype='object')"
      ]
     },
     "execution_count": 4,
     "metadata": {},
     "output_type": "execute_result"
    }
   ],
   "source": [
    "# Переименование столбца\n",
    "logs.columns = ['event_name','device_id_hash', 'event_timestamp', 'exp_id']\n",
    "# Проверка - вывод названий столбцов\n",
    "logs.columns"
   ]
  },
  {
   "cell_type": "markdown",
   "id": "f76d06e8",
   "metadata": {},
   "source": [
    "Теперь названия столбцов в порядке. "
   ]
  },
  {
   "cell_type": "markdown",
   "id": "f14f752f",
   "metadata": {},
   "source": [
    "### Расчет дополнительных показателей"
   ]
  },
  {
   "cell_type": "markdown",
   "id": "248b6bc7",
   "metadata": {},
   "source": [
    "Добавим столцбцы с данными в нужных типах. На основе столбца `event_timestamp` создадим столбцы с информацией о дате и дате-времени события."
   ]
  },
  {
   "cell_type": "code",
   "execution_count": 5,
   "id": "00e5d916",
   "metadata": {},
   "outputs": [
    {
     "name": "stdout",
     "output_type": "stream",
     "text": [
      "<class 'numpy.dtype[datetime64]'>\n"
     ]
    },
    {
     "data": {
      "text/html": [
       "<div>\n",
       "<style scoped>\n",
       "    .dataframe tbody tr th:only-of-type {\n",
       "        vertical-align: middle;\n",
       "    }\n",
       "\n",
       "    .dataframe tbody tr th {\n",
       "        vertical-align: top;\n",
       "    }\n",
       "\n",
       "    .dataframe thead th {\n",
       "        text-align: right;\n",
       "    }\n",
       "</style>\n",
       "<table border=\"1\" class=\"dataframe\">\n",
       "  <thead>\n",
       "    <tr style=\"text-align: right;\">\n",
       "      <th></th>\n",
       "      <th>event_name</th>\n",
       "      <th>device_id_hash</th>\n",
       "      <th>event_timestamp</th>\n",
       "      <th>exp_id</th>\n",
       "      <th>event_datetime</th>\n",
       "    </tr>\n",
       "  </thead>\n",
       "  <tbody>\n",
       "    <tr>\n",
       "      <th>0</th>\n",
       "      <td>MainScreenAppear</td>\n",
       "      <td>4575588528974610257</td>\n",
       "      <td>1564029816</td>\n",
       "      <td>246</td>\n",
       "      <td>2019-07-25 04:43:36</td>\n",
       "    </tr>\n",
       "    <tr>\n",
       "      <th>1</th>\n",
       "      <td>MainScreenAppear</td>\n",
       "      <td>7416695313311560658</td>\n",
       "      <td>1564053102</td>\n",
       "      <td>246</td>\n",
       "      <td>2019-07-25 11:11:42</td>\n",
       "    </tr>\n",
       "    <tr>\n",
       "      <th>2</th>\n",
       "      <td>PaymentScreenSuccessful</td>\n",
       "      <td>3518123091307005509</td>\n",
       "      <td>1564054127</td>\n",
       "      <td>248</td>\n",
       "      <td>2019-07-25 11:28:47</td>\n",
       "    </tr>\n",
       "    <tr>\n",
       "      <th>3</th>\n",
       "      <td>CartScreenAppear</td>\n",
       "      <td>3518123091307005509</td>\n",
       "      <td>1564054127</td>\n",
       "      <td>248</td>\n",
       "      <td>2019-07-25 11:28:47</td>\n",
       "    </tr>\n",
       "    <tr>\n",
       "      <th>4</th>\n",
       "      <td>PaymentScreenSuccessful</td>\n",
       "      <td>6217807653094995999</td>\n",
       "      <td>1564055322</td>\n",
       "      <td>248</td>\n",
       "      <td>2019-07-25 11:48:42</td>\n",
       "    </tr>\n",
       "  </tbody>\n",
       "</table>\n",
       "</div>"
      ],
      "text/plain": [
       "                event_name       device_id_hash  event_timestamp  exp_id  \\\n",
       "0         MainScreenAppear  4575588528974610257       1564029816     246   \n",
       "1         MainScreenAppear  7416695313311560658       1564053102     246   \n",
       "2  PaymentScreenSuccessful  3518123091307005509       1564054127     248   \n",
       "3         CartScreenAppear  3518123091307005509       1564054127     248   \n",
       "4  PaymentScreenSuccessful  6217807653094995999       1564055322     248   \n",
       "\n",
       "       event_datetime  \n",
       "0 2019-07-25 04:43:36  \n",
       "1 2019-07-25 11:11:42  \n",
       "2 2019-07-25 11:28:47  \n",
       "3 2019-07-25 11:28:47  \n",
       "4 2019-07-25 11:48:42  "
      ]
     },
     "execution_count": 5,
     "metadata": {},
     "output_type": "execute_result"
    }
   ],
   "source": [
    "# Изменение типа данных с помощью метода .to_datetime()\n",
    "# даты представлены в unix-формате, поэтому используем аргумент unit='s' - измерение времени в секундах\n",
    "logs['event_datetime'] = pd.to_datetime(logs['event_timestamp'], unit='s')\n",
    "# Запрос получившегося типа данных\n",
    "print(type(logs['event_datetime'].dtype))\n",
    "# Проверка - получение первых 5 строк таблицы\n",
    "logs.head()"
   ]
  },
  {
   "cell_type": "markdown",
   "id": "f764d8d0",
   "metadata": {},
   "source": [
    "Замена произведена успешно."
   ]
  },
  {
   "cell_type": "markdown",
   "id": "184ebe3b",
   "metadata": {},
   "source": [
    "Выделим в отдельный столбец информацию о дате события."
   ]
  },
  {
   "cell_type": "code",
   "execution_count": 6,
   "id": "206b0cf9",
   "metadata": {},
   "outputs": [
    {
     "name": "stdout",
     "output_type": "stream",
     "text": [
      "<class 'numpy.dtype[object_]'>\n"
     ]
    },
    {
     "data": {
      "text/html": [
       "<div>\n",
       "<style scoped>\n",
       "    .dataframe tbody tr th:only-of-type {\n",
       "        vertical-align: middle;\n",
       "    }\n",
       "\n",
       "    .dataframe tbody tr th {\n",
       "        vertical-align: top;\n",
       "    }\n",
       "\n",
       "    .dataframe thead th {\n",
       "        text-align: right;\n",
       "    }\n",
       "</style>\n",
       "<table border=\"1\" class=\"dataframe\">\n",
       "  <thead>\n",
       "    <tr style=\"text-align: right;\">\n",
       "      <th></th>\n",
       "      <th>event_name</th>\n",
       "      <th>device_id_hash</th>\n",
       "      <th>event_timestamp</th>\n",
       "      <th>exp_id</th>\n",
       "      <th>event_datetime</th>\n",
       "      <th>event_date</th>\n",
       "    </tr>\n",
       "  </thead>\n",
       "  <tbody>\n",
       "    <tr>\n",
       "      <th>0</th>\n",
       "      <td>MainScreenAppear</td>\n",
       "      <td>4575588528974610257</td>\n",
       "      <td>1564029816</td>\n",
       "      <td>246</td>\n",
       "      <td>2019-07-25 04:43:36</td>\n",
       "      <td>2019-07-25</td>\n",
       "    </tr>\n",
       "    <tr>\n",
       "      <th>1</th>\n",
       "      <td>MainScreenAppear</td>\n",
       "      <td>7416695313311560658</td>\n",
       "      <td>1564053102</td>\n",
       "      <td>246</td>\n",
       "      <td>2019-07-25 11:11:42</td>\n",
       "      <td>2019-07-25</td>\n",
       "    </tr>\n",
       "    <tr>\n",
       "      <th>2</th>\n",
       "      <td>PaymentScreenSuccessful</td>\n",
       "      <td>3518123091307005509</td>\n",
       "      <td>1564054127</td>\n",
       "      <td>248</td>\n",
       "      <td>2019-07-25 11:28:47</td>\n",
       "      <td>2019-07-25</td>\n",
       "    </tr>\n",
       "    <tr>\n",
       "      <th>3</th>\n",
       "      <td>CartScreenAppear</td>\n",
       "      <td>3518123091307005509</td>\n",
       "      <td>1564054127</td>\n",
       "      <td>248</td>\n",
       "      <td>2019-07-25 11:28:47</td>\n",
       "      <td>2019-07-25</td>\n",
       "    </tr>\n",
       "    <tr>\n",
       "      <th>4</th>\n",
       "      <td>PaymentScreenSuccessful</td>\n",
       "      <td>6217807653094995999</td>\n",
       "      <td>1564055322</td>\n",
       "      <td>248</td>\n",
       "      <td>2019-07-25 11:48:42</td>\n",
       "      <td>2019-07-25</td>\n",
       "    </tr>\n",
       "  </tbody>\n",
       "</table>\n",
       "</div>"
      ],
      "text/plain": [
       "                event_name       device_id_hash  event_timestamp  exp_id  \\\n",
       "0         MainScreenAppear  4575588528974610257       1564029816     246   \n",
       "1         MainScreenAppear  7416695313311560658       1564053102     246   \n",
       "2  PaymentScreenSuccessful  3518123091307005509       1564054127     248   \n",
       "3         CartScreenAppear  3518123091307005509       1564054127     248   \n",
       "4  PaymentScreenSuccessful  6217807653094995999       1564055322     248   \n",
       "\n",
       "       event_datetime  event_date  \n",
       "0 2019-07-25 04:43:36  2019-07-25  \n",
       "1 2019-07-25 11:11:42  2019-07-25  \n",
       "2 2019-07-25 11:28:47  2019-07-25  \n",
       "3 2019-07-25 11:28:47  2019-07-25  \n",
       "4 2019-07-25 11:48:42  2019-07-25  "
      ]
     },
     "execution_count": 6,
     "metadata": {},
     "output_type": "execute_result"
    }
   ],
   "source": [
    "# Выделение даты с помощью индекса .dt.date \n",
    "logs['event_date'] = logs['event_datetime'].dt.date \n",
    "# Запрос получившегося типа данных\n",
    "print(type(logs['event_date'].dtype))\n",
    "# Проверка - получение первых 5 строк таблицы\n",
    "logs.head()"
   ]
  },
  {
   "cell_type": "markdown",
   "id": "ff3f5690",
   "metadata": {},
   "source": [
    "Тоже успешно. Теперь, когда все столбцы имеют верный формат данных, проверим данные на аномалии."
   ]
  },
  {
   "cell_type": "markdown",
   "id": "808da9c5",
   "metadata": {},
   "source": [
    "### Проверка данных на аномалии и дубликаты"
   ]
  },
  {
   "cell_type": "markdown",
   "id": "8c98a3b8",
   "metadata": {},
   "source": [
    "Определим, есть ли в таблице logs пропуски."
   ]
  },
  {
   "cell_type": "code",
   "execution_count": 7,
   "id": "52a21774",
   "metadata": {},
   "outputs": [
    {
     "data": {
      "text/plain": [
       "event_name         0\n",
       "device_id_hash     0\n",
       "event_timestamp    0\n",
       "exp_id             0\n",
       "event_datetime     0\n",
       "event_date         0\n",
       "dtype: int64"
      ]
     },
     "execution_count": 7,
     "metadata": {},
     "output_type": "execute_result"
    }
   ],
   "source": [
    "# Запрос количества пропущенных значений по столбцам.\n",
    "logs.isna().sum()"
   ]
  },
  {
   "cell_type": "markdown",
   "id": "a662dd0f",
   "metadata": {},
   "source": [
    "В таблицe, как мы и предположили, отсутствуют пропуски."
   ]
  },
  {
   "cell_type": "markdown",
   "id": "4dcdebce",
   "metadata": {},
   "source": [
    "Проверим поля event_name, exp_id на аномалии."
   ]
  },
  {
   "cell_type": "code",
   "execution_count": 8,
   "id": "97543c7c",
   "metadata": {
    "scrolled": true
   },
   "outputs": [
    {
     "name": "stdout",
     "output_type": "stream",
     "text": [
      "MainScreenAppear           119205\n",
      "OffersScreenAppear          46825\n",
      "CartScreenAppear            42731\n",
      "PaymentScreenSuccessful     34313\n",
      "Tutorial                     1052\n",
      "Name: event_name, dtype: int64\n",
      "248    85747\n",
      "246    80304\n",
      "247    78075\n",
      "Name: exp_id, dtype: int64\n"
     ]
    }
   ],
   "source": [
    "# Запрос значений поля\n",
    "print(logs.event_name.value_counts())\n",
    "print(logs.exp_id.value_counts())"
   ]
  },
  {
   "cell_type": "markdown",
   "id": "26124652",
   "metadata": {},
   "source": [
    "Аномалий в содержании полей event_name и exp_id нет.  "
   ]
  },
  {
   "cell_type": "markdown",
   "id": "17ba3f20",
   "metadata": {},
   "source": [
    "Проверим принадлежнность id пользователей группам A и B."
   ]
  },
  {
   "cell_type": "code",
   "execution_count": 9,
   "id": "832eb38f",
   "metadata": {},
   "outputs": [
    {
     "name": "stdout",
     "output_type": "stream",
     "text": [
      "Всего пользователей в группе 246 -  2489\n",
      "Всего пользователей в группе 247 -  2520\n",
      "Всего пользователей в группе 248 -  2542\n",
      "Всего пользователей, входящих в несколько списков -  0\n"
     ]
    }
   ],
   "source": [
    "# Создание списка user_id пользователей групп 246, 247 и 248\n",
    "raw_id_list_246 = logs.query(\"exp_id == 246\")['device_id_hash'].unique()\n",
    "raw_id_list_247 = logs.query(\"exp_id == 247\")['device_id_hash'].unique()\n",
    "raw_id_list_248 = logs.query(\"exp_id == 248\")['device_id_hash'].unique()\n",
    "\n",
    "# Создание списка пользователей, входящих в два списка \n",
    "common_list_1 = set(raw_id_list_246).intersection(raw_id_list_247)\n",
    "common_list_2 = set(raw_id_list_246).intersection(raw_id_list_248)\n",
    "common_list_3 = set(raw_id_list_247).intersection(raw_id_list_248)\n",
    "\n",
    "\n",
    "print ('Всего пользователей в группе 246 - ', len(raw_id_list_246))\n",
    "print ('Всего пользователей в группе 247 - ', len(raw_id_list_247))\n",
    "print ('Всего пользователей в группе 248 - ', len(raw_id_list_248))\n",
    "print ('Всего пользователей, входящих в несколько списков - ', \n",
    "       len(common_list_1)+len(common_list_2)+len(common_list_3))\n"
   ]
  },
  {
   "cell_type": "markdown",
   "id": "44217884",
   "metadata": {},
   "source": [
    "Пользователи успешно разделены по группам. "
   ]
  },
  {
   "cell_type": "markdown",
   "id": "bfa3c094",
   "metadata": {},
   "source": [
    "Теперь проверим таблицу на явные дубликаты."
   ]
  },
  {
   "cell_type": "code",
   "execution_count": 10,
   "id": "936b0f3f",
   "metadata": {},
   "outputs": [
    {
     "data": {
      "text/plain": [
       "413"
      ]
     },
     "execution_count": 10,
     "metadata": {},
     "output_type": "execute_result"
    }
   ],
   "source": [
    "# Запрос количества явных дубликатов\n",
    "logs.duplicated().sum()"
   ]
  },
  {
   "cell_type": "markdown",
   "id": "662f6807",
   "metadata": {},
   "source": [
    "В таблице 413 дубликатов, избавимся от них. "
   ]
  },
  {
   "cell_type": "code",
   "execution_count": 11,
   "id": "888ce8be",
   "metadata": {},
   "outputs": [
    {
     "data": {
      "text/plain": [
       "0"
      ]
     },
     "execution_count": 11,
     "metadata": {},
     "output_type": "execute_result"
    }
   ],
   "source": [
    "# удаление явных дубликатов (с удалением старых индексов и формированием новых)\n",
    "logs = logs.drop_duplicates().reset_index(drop=True) \n",
    "logs.duplicated().sum() # проверка на отсутствие дубликатов"
   ]
  },
  {
   "cell_type": "markdown",
   "id": "14c7a20a",
   "metadata": {},
   "source": [
    "Теперь явных дубликатов в таблице нет. \n",
    "Мы проверили данные на аномалии и дубликаты, устранили небольшие погрешности и теперь можем приступать к дальнейшему анализу"
   ]
  },
  {
   "cell_type": "markdown",
   "id": "e5c42747",
   "metadata": {},
   "source": [
    "## Общий анализ и проверка данных"
   ]
  },
  {
   "cell_type": "markdown",
   "id": "f9ab2bc4",
   "metadata": {},
   "source": [
    "Провелем первичный анализ данных: оценим общее количество событий и пользователей, период эксперимента и при необходимости отбросим неполные данные."
   ]
  },
  {
   "cell_type": "markdown",
   "id": "f8c4df64",
   "metadata": {},
   "source": [
    "### Общая информация о пользователях и событиях"
   ]
  },
  {
   "cell_type": "markdown",
   "id": "a4dafb58",
   "metadata": {},
   "source": [
    "Рассчитаем, сколько всего событий в логе."
   ]
  },
  {
   "cell_type": "code",
   "execution_count": 12,
   "id": "5b5bd551",
   "metadata": {},
   "outputs": [
    {
     "name": "stdout",
     "output_type": "stream",
     "text": [
      "Всего событий в логе -  243713\n",
      "По видам они распределены следующим образом:\n",
      "MainScreenAppear           119101\n",
      "OffersScreenAppear          46808\n",
      "CartScreenAppear            42668\n",
      "PaymentScreenSuccessful     34118\n",
      "Tutorial                     1018\n",
      "Name: event_name, dtype: int64\n"
     ]
    }
   ],
   "source": [
    "print('Всего событий в логе - ', logs.event_name.count())\n",
    "print('По видам они распределены следующим образом:')\n",
    "print(logs.event_name.value_counts())"
   ]
  },
  {
   "cell_type": "markdown",
   "id": "1f0ab21c",
   "metadata": {},
   "source": [
    "Рассчитаем количество пользователей в логе."
   ]
  },
  {
   "cell_type": "code",
   "execution_count": 13,
   "id": "61af7ba5",
   "metadata": {
    "scrolled": true
   },
   "outputs": [
    {
     "name": "stdout",
     "output_type": "stream",
     "text": [
      "Всего пользователей в логе - 7551\n",
      "По экспериментальным группам они распределены следующим образом:\n",
      "Группа 246 -  2489\n",
      "Группа 247 -  2520\n",
      "Группа 248 -  2542\n"
     ]
    }
   ],
   "source": [
    "print ('Всего пользователей в логе -', logs.device_id_hash.nunique())\n",
    "print('По экспериментальным группам они распределены следующим образом:')\n",
    "print ('Группа 246 - ', len(raw_id_list_246))\n",
    "print ('Группа 247 - ', len(raw_id_list_247))\n",
    "print ('Группа 248 - ', len(raw_id_list_248))"
   ]
  },
  {
   "cell_type": "markdown",
   "id": "c68a57dc",
   "metadata": {},
   "source": [
    "Определим среднее количество событий на пользователя."
   ]
  },
  {
   "cell_type": "code",
   "execution_count": 14,
   "id": "715fd4bc",
   "metadata": {},
   "outputs": [
    {
     "name": "stdout",
     "output_type": "stream",
     "text": [
      "Среднее количество событий на пользователя - 32\n"
     ]
    }
   ],
   "source": [
    "print ('Среднее количество событий на пользователя -', \n",
    "       round(logs.event_name.count() / logs.device_id_hash.nunique()))"
   ]
  },
  {
   "cell_type": "markdown",
   "id": "0f0e5e00",
   "metadata": {},
   "source": [
    "Пользователи достаточно активны. В среднем на пользователя приходится 32 события."
   ]
  },
  {
   "cell_type": "markdown",
   "id": "8e784858",
   "metadata": {},
   "source": [
    "### Определение периода эксперимента"
   ]
  },
  {
   "cell_type": "markdown",
   "id": "347856ce",
   "metadata": {},
   "source": [
    "Определим, данными за какой период мы распологаем. Для этого найдем минимальную и максимальную дату событий."
   ]
  },
  {
   "cell_type": "code",
   "execution_count": 15,
   "id": "7c77e883",
   "metadata": {},
   "outputs": [
    {
     "name": "stdout",
     "output_type": "stream",
     "text": [
      "Минимальная дата событий - 25.07.2019\n",
      "Максимальная дата событий - 07.08.2019\n"
     ]
    }
   ],
   "source": [
    "print(f'Минимальная дата событий - {logs.event_date.min():%d.%m.%Y}')\n",
    "print(f'Максимальная дата событий - {logs.event_date.max():%d.%m.%Y}')"
   ]
  },
  {
   "cell_type": "markdown",
   "id": "7a173048",
   "metadata": {},
   "source": [
    "У нас есть информация по событиям от 25 июля до 7 августа 2019 года, однако мы не можем быть уверены, что эти данные полные. Технически в логи пользователей могут \"доезжать\" события из прошлого и это может \"перекашивать\" данные. Проверим объем данных по датам."
   ]
  },
  {
   "cell_type": "code",
   "execution_count": 16,
   "id": "bb5063eb",
   "metadata": {},
   "outputs": [
    {
     "data": {
      "image/png": "[encoded data removed]",
      "text/plain": [
       "<Figure size 1080x540 with 1 Axes>"
      ]
     },
     "metadata": {
      "needs_background": "light"
     },
     "output_type": "display_data"
    }
   ],
   "source": [
    "# Определение размера графика\n",
    "plt.figure(\n",
    "    figsize=(15, 7.5)\n",
    ")  \n",
    "# Построение диаграммы с распределением событий по датам\n",
    "ax = sns.countplot(\n",
    "    x='event_date', \n",
    "    data=logs,\n",
    "    color='#1F77B4',\n",
    ")\n",
    "sns.despine()\n",
    "# Добавление подписей графика и осей\n",
    "plt.title('Количество событий по дням')\n",
    "plt.xlabel('Дата')\n",
    "plt.ylabel('Количество событий')\n",
    "# Демонстрация графика\n",
    "plt.show()"
   ]
  },
  {
   "cell_type": "markdown",
   "id": "3cb89de1",
   "metadata": {},
   "source": [
    "Действительно, в таблице есть нерелевантные данные - достаточный объем получен начиная с 1 августа, эксперимент продолжался неделю. Именно с 1 августа мы имеем одинаково полные данные. Теперь мы можем отбросить более старые. "
   ]
  },
  {
   "cell_type": "code",
   "execution_count": 17,
   "id": "2e1970c4",
   "metadata": {},
   "outputs": [
    {
     "name": "stdout",
     "output_type": "stream",
     "text": [
      "Количество событий после удаления старых данных -  240887\n"
     ]
    }
   ],
   "source": [
    "# Установление даты начала эксперимента\n",
    "start_date = dt.datetime.strptime('2019-08-01', '%Y-%m-%d')\n",
    "# Удаление более старых событий\n",
    "logs_filtered = logs.loc[logs['event_datetime'] >= start_date]\n",
    "# Проверка - запрос количества строк в таблице\n",
    "print('Количество событий после удаления старых данных - ', len(logs_filtered))"
   ]
  },
  {
   "cell_type": "markdown",
   "id": "a46d82db",
   "metadata": {},
   "source": [
    "Мы удалили старые данные. На самом деле мы располагаем данными с 1 по 7 августа 2019 года, и теперь наши данные соответствуют условиям эксперимента. "
   ]
  },
  {
   "cell_type": "markdown",
   "id": "e5c531cc",
   "metadata": {},
   "source": [
    "### Оценка удаленных данных"
   ]
  },
  {
   "cell_type": "markdown",
   "id": "f7184acf",
   "metadata": {},
   "source": [
    "Убедимся, что отбрасывая старые данные мы не потеряли слишком много событий и пользователей. "
   ]
  },
  {
   "cell_type": "code",
   "execution_count": 18,
   "id": "8f3e0708",
   "metadata": {},
   "outputs": [
    {
     "name": "stdout",
     "output_type": "stream",
     "text": [
      "Всего событий в логе -  240887\n",
      "Было удалено событий - 2826 или 0.012 от всех событий.\n"
     ]
    }
   ],
   "source": [
    "print('Всего событий в логе - ', logs_filtered.event_name.count())\n",
    "print(f'Было удалено событий - {logs.event_name.count() - logs_filtered.event_name.count()} \\\n",
    "или {(logs.event_name.count() - logs_filtered.event_name.count() )/ logs.event_name.count() :.3f} \\\n",
    "от всех событий.')"
   ]
  },
  {
   "cell_type": "markdown",
   "id": "5516d6fa",
   "metadata": {},
   "source": [
    "В результате мы отбросили 1.2% событий. Объем невелик и не повлияет на результаты эксперимента. \n",
    "\n",
    "Убедимся, что на структуру групп пользователей удаление старых данных так же не повлияло."
   ]
  },
  {
   "cell_type": "code",
   "execution_count": 19,
   "id": "ff9316d5",
   "metadata": {},
   "outputs": [
    {
     "name": "stdout",
     "output_type": "stream",
     "text": [
      "Всего пользователей в логе - 7534, удалено - 17.\n",
      "По экспериментальным группам они распределены следующим образом:\n",
      "Группа 246 - 2484, удалено 5.\n",
      "Группа 247 - 2513, удалено 7.\n",
      "Группа 248 - 2537, удалено 5.\n"
     ]
    }
   ],
   "source": [
    "# Создание списка user_id пользователей групп 246, 247 и 248\n",
    "id_list_246 = logs_filtered.query(\"exp_id == 246\")['device_id_hash'].unique()\n",
    "id_list_247 = logs_filtered.query(\"exp_id == 247\")['device_id_hash'].unique()\n",
    "id_list_248 = logs_filtered.query(\"exp_id == 248\")['device_id_hash'].unique()\n",
    "\n",
    "\n",
    "print (f'Всего пользователей в логе - {logs_filtered.device_id_hash.nunique()}, \\\n",
    "удалено - {logs.device_id_hash.nunique() - logs_filtered.device_id_hash.nunique()}.')\n",
    "print('По экспериментальным группам они распределены следующим образом:')\n",
    "print (f'Группа 246 - {len(id_list_246)}, удалено {len(raw_id_list_246) - len(id_list_246)}.')\n",
    "print (f'Группа 247 - {len(id_list_247)}, удалено {len(raw_id_list_247) - len(id_list_247)}.')\n",
    "print (f'Группа 248 - {len(id_list_248)}, удалено {len(raw_id_list_248) - len(id_list_248)}.')"
   ]
  },
  {
   "cell_type": "markdown",
   "id": "0cc6bb24",
   "metadata": {},
   "source": [
    "В результате мы удалили около 1% событий и 17 пользователей. Пользователи из групп удалены равномерно, что позволяет нам быть уверенными, что в эксперименте будут достаточно предсталены все группы."
   ]
  },
  {
   "cell_type": "markdown",
   "id": "04579251",
   "metadata": {},
   "source": [
    "**Вывод**\n",
    "Мы подготовили данные: оценили общий объем данных - у нас есть информация о более, чем 7.5 тысячах пользователей, разделенных на три группы - 2 контрольные и одна экспериментальная, и свыше 240 000 событий. Период проведения эксперимента - с 1 по 7 августа."
   ]
  },
  {
   "cell_type": "markdown",
   "id": "de3db1f1",
   "metadata": {},
   "source": [
    "## Анализ воронки событий"
   ]
  },
  {
   "cell_type": "markdown",
   "id": "57188593",
   "metadata": {},
   "source": [
    "Изучим воронку событий. Охарактеризуем события, ее составляющие, установим цепочку этих событий, оценим динамику числа пользователей при проходе через воронку. "
   ]
  },
  {
   "cell_type": "markdown",
   "id": "58e6e34c",
   "metadata": {},
   "source": [
    "### Виды событий"
   ]
  },
  {
   "cell_type": "markdown",
   "id": "2158bdd1",
   "metadata": {},
   "source": [
    "Посмотрим, какие события есть в логах и как часто они встречаются. Отсортируем события по частоте."
   ]
  },
  {
   "cell_type": "code",
   "execution_count": 20,
   "id": "32a545df",
   "metadata": {
    "scrolled": true
   },
   "outputs": [
    {
     "data": {
      "text/plain": [
       "MainScreenAppear           117328\n",
       "OffersScreenAppear          46333\n",
       "CartScreenAppear            42303\n",
       "PaymentScreenSuccessful     33918\n",
       "Tutorial                     1005\n",
       "Name: event_name, dtype: int64"
      ]
     },
     "execution_count": 20,
     "metadata": {},
     "output_type": "execute_result"
    }
   ],
   "source": [
    "# Запрос частоты показателя\n",
    "logs_filtered.event_name.value_counts()"
   ]
  },
  {
   "cell_type": "markdown",
   "id": "e8c48243",
   "metadata": {},
   "source": [
    "Чаще всего, что логично, встречается демонстрация главного экрана, за ним - демонстрация предложения, показ корзины, показ страницы успешной оплаты и прохождение обучения. Всего в логах около 240 000 событий, на демонстрацию главного экрана приходится около половины."
   ]
  },
  {
   "cell_type": "markdown",
   "id": "e0ea0357",
   "metadata": {},
   "source": [
    "Посчитаем, сколько пользователей совершали каждое из этих событий. Отсортируем события по числу пользователей и посчитаем долю пользователей, которые хоть раз совершали событие."
   ]
  },
  {
   "cell_type": "code",
   "execution_count": 21,
   "id": "5295273b",
   "metadata": {},
   "outputs": [
    {
     "data": {
      "text/html": [
       "<div>\n",
       "<style scoped>\n",
       "    .dataframe tbody tr th:only-of-type {\n",
       "        vertical-align: middle;\n",
       "    }\n",
       "\n",
       "    .dataframe tbody tr th {\n",
       "        vertical-align: top;\n",
       "    }\n",
       "\n",
       "    .dataframe thead th {\n",
       "        text-align: right;\n",
       "    }\n",
       "</style>\n",
       "<table border=\"1\" class=\"dataframe\">\n",
       "  <thead>\n",
       "    <tr style=\"text-align: right;\">\n",
       "      <th></th>\n",
       "      <th>unique_users</th>\n",
       "      <th>users_share</th>\n",
       "    </tr>\n",
       "    <tr>\n",
       "      <th>event_name</th>\n",
       "      <th></th>\n",
       "      <th></th>\n",
       "    </tr>\n",
       "  </thead>\n",
       "  <tbody>\n",
       "    <tr>\n",
       "      <th>MainScreenAppear</th>\n",
       "      <td>7419</td>\n",
       "      <td>0.98</td>\n",
       "    </tr>\n",
       "    <tr>\n",
       "      <th>OffersScreenAppear</th>\n",
       "      <td>4593</td>\n",
       "      <td>0.61</td>\n",
       "    </tr>\n",
       "    <tr>\n",
       "      <th>CartScreenAppear</th>\n",
       "      <td>3734</td>\n",
       "      <td>0.49</td>\n",
       "    </tr>\n",
       "    <tr>\n",
       "      <th>PaymentScreenSuccessful</th>\n",
       "      <td>3539</td>\n",
       "      <td>0.47</td>\n",
       "    </tr>\n",
       "    <tr>\n",
       "      <th>Tutorial</th>\n",
       "      <td>840</td>\n",
       "      <td>0.11</td>\n",
       "    </tr>\n",
       "  </tbody>\n",
       "</table>\n",
       "</div>"
      ],
      "text/plain": [
       "                         unique_users  users_share\n",
       "event_name                                        \n",
       "MainScreenAppear                 7419         0.98\n",
       "OffersScreenAppear               4593         0.61\n",
       "CartScreenAppear                 3734         0.49\n",
       "PaymentScreenSuccessful          3539         0.47\n",
       "Tutorial                          840         0.11"
      ]
     },
     "metadata": {},
     "output_type": "display_data"
    }
   ],
   "source": [
    "# Сводная таблица с информацией о событиях и уникальных пользователях\n",
    "event_users_pivot = logs_filtered.pivot_table(index = 'event_name', \n",
    "                 values = 'device_id_hash', \n",
    "                 aggfunc ='nunique',\n",
    "                ).sort_values(by='device_id_hash', ascending=False)\n",
    "total_users = logs.device_id_hash.nunique()\n",
    "# Переименование столбца\n",
    "event_users_pivot.columns = ['unique_users']\n",
    "# Добавление столбца с информацией о доле пользователей\n",
    "event_users_pivot['users_share'] = round(event_users_pivot.unique_users / total_users, 2)\n",
    "# Демонстрация таблицы\n",
    "display(event_users_pivot)"
   ]
  },
  {
   "cell_type": "markdown",
   "id": "a73019ba",
   "metadata": {},
   "source": [
    "Порядок событий по числу уникальных пользователей сохранился. Наиболее распространенное событие - показ главного экрана, было у 99% пользователей, предложение о покупке рассматривали 61% пользователей, до демонстрации корзины дошли 50%, экран успешной оплаты продемонстрирован 47% пользователей, 11% прошли обучение."
   ]
  },
  {
   "cell_type": "markdown",
   "id": "3ab72156",
   "metadata": {},
   "source": [
    "### Построение воронки событий"
   ]
  },
  {
   "cell_type": "markdown",
   "id": "a4b11c81",
   "metadata": {},
   "source": [
    "События выстраиваются в следующую логическую цепочку:\n",
    "1. Пользователю показан главный экран\n",
    "2. Пользователю показан экран предложения о покупке\n",
    "3. Пользователю показана корзина\n",
    "4. Пользователю показан экран успешной оплаты.\n",
    "\n",
    "Прохождение обучения не связано с остальными шагами и его не нужно учитываит при расчете воронки. Создадим таблицу с событиями, относящимися к воронке."
   ]
  },
  {
   "cell_type": "code",
   "execution_count": 22,
   "id": "dd1531cc",
   "metadata": {},
   "outputs": [
    {
     "data": {
      "text/plain": [
       "Index(['MainScreenAppear', 'OffersScreenAppear', 'CartScreenAppear',\n",
       "       'PaymentScreenSuccessful', 'Tutorial'],\n",
       "      dtype='object', name='event_name')"
      ]
     },
     "execution_count": 22,
     "metadata": {},
     "output_type": "execute_result"
    }
   ],
   "source": [
    "event_users_pivot.index"
   ]
  },
  {
   "cell_type": "code",
   "execution_count": 23,
   "id": "fab63aac",
   "metadata": {},
   "outputs": [
    {
     "data": {
      "text/html": [
       "<div>\n",
       "<style scoped>\n",
       "    .dataframe tbody tr th:only-of-type {\n",
       "        vertical-align: middle;\n",
       "    }\n",
       "\n",
       "    .dataframe tbody tr th {\n",
       "        vertical-align: top;\n",
       "    }\n",
       "\n",
       "    .dataframe thead th {\n",
       "        text-align: right;\n",
       "    }\n",
       "</style>\n",
       "<table border=\"1\" class=\"dataframe\">\n",
       "  <thead>\n",
       "    <tr style=\"text-align: right;\">\n",
       "      <th></th>\n",
       "      <th>unique_users</th>\n",
       "      <th>initial_share</th>\n",
       "      <th>previous_share</th>\n",
       "      <th>event_title</th>\n",
       "    </tr>\n",
       "    <tr>\n",
       "      <th>event_name</th>\n",
       "      <th></th>\n",
       "      <th></th>\n",
       "      <th></th>\n",
       "      <th></th>\n",
       "    </tr>\n",
       "  </thead>\n",
       "  <tbody>\n",
       "    <tr>\n",
       "      <th>MainScreenAppear</th>\n",
       "      <td>7419</td>\n",
       "      <td>100.00</td>\n",
       "      <td>NaN</td>\n",
       "      <td>Показ главной страницы</td>\n",
       "    </tr>\n",
       "    <tr>\n",
       "      <th>OffersScreenAppear</th>\n",
       "      <td>4593</td>\n",
       "      <td>61.91</td>\n",
       "      <td>61.91</td>\n",
       "      <td>Демонстрация предложения</td>\n",
       "    </tr>\n",
       "    <tr>\n",
       "      <th>CartScreenAppear</th>\n",
       "      <td>3734</td>\n",
       "      <td>50.33</td>\n",
       "      <td>81.30</td>\n",
       "      <td>Начало оплаты</td>\n",
       "    </tr>\n",
       "    <tr>\n",
       "      <th>PaymentScreenSuccessful</th>\n",
       "      <td>3539</td>\n",
       "      <td>47.70</td>\n",
       "      <td>94.77</td>\n",
       "      <td>Успешная покупка</td>\n",
       "    </tr>\n",
       "  </tbody>\n",
       "</table>\n",
       "</div>"
      ],
      "text/plain": [
       "                         unique_users  initial_share  previous_share  \\\n",
       "event_name                                                             \n",
       "MainScreenAppear                 7419         100.00             NaN   \n",
       "OffersScreenAppear               4593          61.91           61.91   \n",
       "CartScreenAppear                 3734          50.33           81.30   \n",
       "PaymentScreenSuccessful          3539          47.70           94.77   \n",
       "\n",
       "                                      event_title  \n",
       "event_name                                         \n",
       "MainScreenAppear           Показ главной страницы  \n",
       "OffersScreenAppear       Демонстрация предложения  \n",
       "CartScreenAppear                    Начало оплаты  \n",
       "PaymentScreenSuccessful          Успешная покупка  "
      ]
     },
     "metadata": {},
     "output_type": "display_data"
    }
   ],
   "source": [
    "# Построение воронки\n",
    "funnel =  logs_filtered.pivot_table(\n",
    "                                index='event_name',\n",
    "                                values='device_id_hash',\n",
    "                                aggfunc='nunique',\n",
    ")\n",
    "# Удаление лишних строк\n",
    "funnel = funnel.loc[funnel.index != 'Tutorial']\n",
    "# Сортировка данных\n",
    "funnel = funnel.sort_values(by='device_id_hash', ascending=False)\n",
    "# Переименование столбца\n",
    "funnel.rename(columns = {'device_id_hash':'unique_users'}, inplace = True)\n",
    "# Определение начального значения воронки\n",
    "funnel_initial = funnel.loc['MainScreenAppear','unique_users']\n",
    "# Рассчет доли от начального значения воронки\n",
    "funnel['initial_share'] = round(funnel['unique_users'] / funnel_initial * 100, 2)\n",
    "# Расчет доли от предылущего этапа\n",
    "funnel['previous_share'] =  round(funnel['initial_share'] / funnel['initial_share'].shift() * 100, 2)\n",
    "# Добавление названия события\n",
    "funnel['event_title'] = ['Показ главной страницы', \n",
    "                        'Демонстрация предложения', \n",
    "                        'Начало оплаты', \n",
    "                        'Успешная покупка']\n",
    "# Демонстрация таблицы\n",
    "display(funnel)"
   ]
  },
  {
   "cell_type": "markdown",
   "id": "2a2ab45f",
   "metadata": {},
   "source": [
    "Воронка готова. Теперь по ней посчитаем, какая доля пользователей проходит на следующий шаг воронки (от числа пользователей на предыдущем). То есть для последовательности событий A → B → C посчитаем отношение числа пользователей с событием B к количеству пользователей с событием A, а также отношение числа пользователей с событием C к количеству пользователей с событием B."
   ]
  },
  {
   "cell_type": "markdown",
   "id": "524f83e0",
   "metadata": {},
   "source": [
    "Визуализируем воронку событий. "
   ]
  },
  {
   "cell_type": "code",
   "execution_count": 33,
   "id": "11fcbc89",
   "metadata": {},
   "outputs": [
    {
     "data": {
      "application/vnd.plotly.v1+json": {
       "config": {
        "plotlyServerURL": "https://plot.ly"
       },
       "data": [
        {
         "type": "funnel",
         "x": [
          7419,
          4593,
          3734,
          3539
         ],
         "y": [
          "Показ главной страницы",
          "Демонстрация предложения",
          "Начало оплаты",
          "Успешная покупка"
         ]
        }
       ],
       "layout": {
        "template": {
         "data": {
          "bar": [
           {
            "error_x": {
             "color": "rgb(36,36,36)"
            },
            "error_y": {
             "color": "rgb(36,36,36)"
            },
            "marker": {
             "line": {
              "color": "white",
              "width": 0.5
             },
             "pattern": {
              "fillmode": "overlay",
              "size": 10,
              "solidity": 0.2
             }
            },
            "type": "bar"
           }
          ],
          "barpolar": [
           {
            "marker": {
             "line": {
              "color": "white",
              "width": 0.5
             },
             "pattern": {
              "fillmode": "overlay",
              "size": 10,
              "solidity": 0.2
             }
            },
            "type": "barpolar"
           }
          ],
          "carpet": [
           {
            "aaxis": {
             "endlinecolor": "rgb(36,36,36)",
             "gridcolor": "white",
             "linecolor": "white",
             "minorgridcolor": "white",
             "startlinecolor": "rgb(36,36,36)"
            },
            "baxis": {
             "endlinecolor": "rgb(36,36,36)",
             "gridcolor": "white",
             "linecolor": "white",
             "minorgridcolor": "white",
             "startlinecolor": "rgb(36,36,36)"
            },
            "type": "carpet"
           }
          ],
          "choropleth": [
           {
            "colorbar": {
             "outlinewidth": 1,
             "tickcolor": "rgb(36,36,36)",
             "ticks": "outside"
            },
            "type": "choropleth"
           }
          ],
          "contour": [
           {
            "colorbar": {
             "outlinewidth": 1,
             "tickcolor": "rgb(36,36,36)",
             "ticks": "outside"
            },
            "colorscale": [
             [
              0,
              "#440154"
             ],
             [
              0.1111111111111111,
              "#482878"
             ],
             [
              0.2222222222222222,
              "#3e4989"
             ],
             [
              0.3333333333333333,
              "#31688e"
             ],
             [
              0.4444444444444444,
              "#26828e"
             ],
             [
              0.5555555555555556,
              "#1f9e89"
             ],
             [
              0.6666666666666666,
              "#35b779"
             ],
             [
              0.7777777777777778,
              "#6ece58"
             ],
             [
              0.8888888888888888,
              "#b5de2b"
             ],
             [
              1,
              "#fde725"
             ]
            ],
            "type": "contour"
           }
          ],
          "contourcarpet": [
           {
            "colorbar": {
             "outlinewidth": 1,
             "tickcolor": "rgb(36,36,36)",
             "ticks": "outside"
            },
            "type": "contourcarpet"
           }
          ],
          "heatmap": [
           {
            "colorbar": {
             "outlinewidth": 1,
             "tickcolor": "rgb(36,36,36)",
             "ticks": "outside"
            },
            "colorscale": [
             [
              0,
              "#440154"
             ],
             [
              0.1111111111111111,
              "#482878"
             ],
             [
              0.2222222222222222,
              "#3e4989"
             ],
             [
              0.3333333333333333,
              "#31688e"
             ],
             [
              0.4444444444444444,
              "#26828e"
             ],
             [
              0.5555555555555556,
              "#1f9e89"
             ],
             [
              0.6666666666666666,
              "#35b779"
             ],
             [
              0.7777777777777778,
              "#6ece58"
             ],
             [
              0.8888888888888888,
              "#b5de2b"
             ],
             [
              1,
              "#fde725"
             ]
            ],
            "type": "heatmap"
           }
          ],
          "heatmapgl": [
           {
            "colorbar": {
             "outlinewidth": 1,
             "tickcolor": "rgb(36,36,36)",
             "ticks": "outside"
            },
            "colorscale": [
             [
              0,
              "#440154"
             ],
             [
              0.1111111111111111,
              "#482878"
             ],
             [
              0.2222222222222222,
              "#3e4989"
             ],
             [
              0.3333333333333333,
              "#31688e"
             ],
             [
              0.4444444444444444,
              "#26828e"
             ],
             [
              0.5555555555555556,
              "#1f9e89"
             ],
             [
              0.6666666666666666,
              "#35b779"
             ],
             [
              0.7777777777777778,
              "#6ece58"
             ],
             [
              0.8888888888888888,
              "#b5de2b"
             ],
             [
              1,
              "#fde725"
             ]
            ],
            "type": "heatmapgl"
           }
          ],
          "histogram": [
           {
            "marker": {
             "line": {
              "color": "white",
              "width": 0.6
             }
            },
            "type": "histogram"
           }
          ],
          "histogram2d": [
           {
            "colorbar": {
             "outlinewidth": 1,
             "tickcolor": "rgb(36,36,36)",
             "ticks": "outside"
            },
            "colorscale": [
             [
              0,
              "#440154"
             ],
             [
              0.1111111111111111,
              "#482878"
             ],
             [
              0.2222222222222222,
              "#3e4989"
             ],
             [
              0.3333333333333333,
              "#31688e"
             ],
             [
              0.4444444444444444,
              "#26828e"
             ],
             [
              0.5555555555555556,
              "#1f9e89"
             ],
             [
              0.6666666666666666,
              "#35b779"
             ],
             [
              0.7777777777777778,
              "#6ece58"
             ],
             [
              0.8888888888888888,
              "#b5de2b"
             ],
             [
              1,
              "#fde725"
             ]
            ],
            "type": "histogram2d"
           }
          ],
          "histogram2dcontour": [
           {
            "colorbar": {
             "outlinewidth": 1,
             "tickcolor": "rgb(36,36,36)",
             "ticks": "outside"
            },
            "colorscale": [
             [
              0,
              "#440154"
             ],
             [
              0.1111111111111111,
              "#482878"
             ],
             [
              0.2222222222222222,
              "#3e4989"
             ],
             [
              0.3333333333333333,
              "#31688e"
             ],
             [
              0.4444444444444444,
              "#26828e"
             ],
             [
              0.5555555555555556,
              "#1f9e89"
             ],
             [
              0.6666666666666666,
              "#35b779"
             ],
             [
              0.7777777777777778,
              "#6ece58"
             ],
             [
              0.8888888888888888,
              "#b5de2b"
             ],
             [
              1,
              "#fde725"
             ]
            ],
            "type": "histogram2dcontour"
           }
          ],
          "mesh3d": [
           {
            "colorbar": {
             "outlinewidth": 1,
             "tickcolor": "rgb(36,36,36)",
             "ticks": "outside"
            },
            "type": "mesh3d"
           }
          ],
          "parcoords": [
           {
            "line": {
             "colorbar": {
              "outlinewidth": 1,
              "tickcolor": "rgb(36,36,36)",
              "ticks": "outside"
             }
            },
            "type": "parcoords"
           }
          ],
          "pie": [
           {
            "automargin": true,
            "type": "pie"
           }
          ],
          "scatter": [
           {
            "fillpattern": {
             "fillmode": "overlay",
             "size": 10,
             "solidity": 0.2
            },
            "type": "scatter"
           }
          ],
          "scatter3d": [
           {
            "line": {
             "colorbar": {
              "outlinewidth": 1,
              "tickcolor": "rgb(36,36,36)",
              "ticks": "outside"
             }
            },
            "marker": {
             "colorbar": {
              "outlinewidth": 1,
              "tickcolor": "rgb(36,36,36)",
              "ticks": "outside"
             }
            },
            "type": "scatter3d"
           }
          ],
          "scattercarpet": [
           {
            "marker": {
             "colorbar": {
              "outlinewidth": 1,
              "tickcolor": "rgb(36,36,36)",
              "ticks": "outside"
             }
            },
            "type": "scattercarpet"
           }
          ],
          "scattergeo": [
           {
            "marker": {
             "colorbar": {
              "outlinewidth": 1,
              "tickcolor": "rgb(36,36,36)",
              "ticks": "outside"
             }
            },
            "type": "scattergeo"
           }
          ],
          "scattergl": [
           {
            "marker": {
             "colorbar": {
              "outlinewidth": 1,
              "tickcolor": "rgb(36,36,36)",
              "ticks": "outside"
             }
            },
            "type": "scattergl"
           }
          ],
          "scattermapbox": [
           {
            "marker": {
             "colorbar": {
              "outlinewidth": 1,
              "tickcolor": "rgb(36,36,36)",
              "ticks": "outside"
             }
            },
            "type": "scattermapbox"
           }
          ],
          "scatterpolar": [
           {
            "marker": {
             "colorbar": {
              "outlinewidth": 1,
              "tickcolor": "rgb(36,36,36)",
              "ticks": "outside"
             }
            },
            "type": "scatterpolar"
           }
          ],
          "scatterpolargl": [
           {
            "marker": {
             "colorbar": {
              "outlinewidth": 1,
              "tickcolor": "rgb(36,36,36)",
              "ticks": "outside"
             }
            },
            "type": "scatterpolargl"
           }
          ],
          "scatterternary": [
           {
            "marker": {
             "colorbar": {
              "outlinewidth": 1,
              "tickcolor": "rgb(36,36,36)",
              "ticks": "outside"
             }
            },
            "type": "scatterternary"
           }
          ],
          "surface": [
           {
            "colorbar": {
             "outlinewidth": 1,
             "tickcolor": "rgb(36,36,36)",
             "ticks": "outside"
            },
            "colorscale": [
             [
              0,
              "#440154"
             ],
             [
              0.1111111111111111,
              "#482878"
             ],
             [
              0.2222222222222222,
              "#3e4989"
             ],
             [
              0.3333333333333333,
              "#31688e"
             ],
             [
              0.4444444444444444,
              "#26828e"
             ],
             [
              0.5555555555555556,
              "#1f9e89"
             ],
             [
              0.6666666666666666,
              "#35b779"
             ],
             [
              0.7777777777777778,
              "#6ece58"
             ],
             [
              0.8888888888888888,
              "#b5de2b"
             ],
             [
              1,
              "#fde725"
             ]
            ],
            "type": "surface"
           }
          ],
          "table": [
           {
            "cells": {
             "fill": {
              "color": "rgb(237,237,237)"
             },
             "line": {
              "color": "white"
             }
            },
            "header": {
             "fill": {
              "color": "rgb(217,217,217)"
             },
             "line": {
              "color": "white"
             }
            },
            "type": "table"
           }
          ]
         },
         "layout": {
          "annotationdefaults": {
           "arrowhead": 0,
           "arrowwidth": 1
          },
          "autotypenumbers": "strict",
          "coloraxis": {
           "colorbar": {
            "outlinewidth": 1,
            "tickcolor": "rgb(36,36,36)",
            "ticks": "outside"
           }
          },
          "colorscale": {
           "diverging": [
            [
             0,
             "rgb(103,0,31)"
            ],
            [
             0.1,
             "rgb(178,24,43)"
            ],
            [
             0.2,
             "rgb(214,96,77)"
            ],
            [
             0.3,
             "rgb(244,165,130)"
            ],
            [
             0.4,
             "rgb(253,219,199)"
            ],
            [
             0.5,
             "rgb(247,247,247)"
            ],
            [
             0.6,
             "rgb(209,229,240)"
            ],
            [
             0.7,
             "rgb(146,197,222)"
            ],
            [
             0.8,
             "rgb(67,147,195)"
            ],
            [
             0.9,
             "rgb(33,102,172)"
            ],
            [
             1,
             "rgb(5,48,97)"
            ]
           ],
           "sequential": [
            [
             0,
             "#440154"
            ],
            [
             0.1111111111111111,
             "#482878"
            ],
            [
             0.2222222222222222,
             "#3e4989"
            ],
            [
             0.3333333333333333,
             "#31688e"
            ],
            [
             0.4444444444444444,
             "#26828e"
            ],
            [
             0.5555555555555556,
             "#1f9e89"
            ],
            [
             0.6666666666666666,
             "#35b779"
            ],
            [
             0.7777777777777778,
             "#6ece58"
            ],
            [
             0.8888888888888888,
             "#b5de2b"
            ],
            [
             1,
             "#fde725"
            ]
           ],
           "sequentialminus": [
            [
             0,
             "#440154"
            ],
            [
             0.1111111111111111,
             "#482878"
            ],
            [
             0.2222222222222222,
             "#3e4989"
            ],
            [
             0.3333333333333333,
             "#31688e"
            ],
            [
             0.4444444444444444,
             "#26828e"
            ],
            [
             0.5555555555555556,
             "#1f9e89"
            ],
            [
             0.6666666666666666,
             "#35b779"
            ],
            [
             0.7777777777777778,
             "#6ece58"
            ],
            [
             0.8888888888888888,
             "#b5de2b"
            ],
            [
             1,
             "#fde725"
            ]
           ]
          },
          "colorway": [
           "#1F77B4",
           "#FF7F0E",
           "#2CA02C",
           "#D62728",
           "#9467BD",
           "#8C564B",
           "#E377C2",
           "#7F7F7F",
           "#BCBD22",
           "#17BECF"
          ],
          "font": {
           "color": "rgb(36,36,36)"
          },
          "geo": {
           "bgcolor": "white",
           "lakecolor": "white",
           "landcolor": "white",
           "showlakes": true,
           "showland": true,
           "subunitcolor": "white"
          },
          "hoverlabel": {
           "align": "left"
          },
          "hovermode": "closest",
          "mapbox": {
           "style": "light"
          },
          "paper_bgcolor": "white",
          "plot_bgcolor": "white",
          "polar": {
           "angularaxis": {
            "gridcolor": "rgb(232,232,232)",
            "linecolor": "rgb(36,36,36)",
            "showgrid": false,
            "showline": true,
            "ticks": "outside"
           },
           "bgcolor": "white",
           "radialaxis": {
            "gridcolor": "rgb(232,232,232)",
            "linecolor": "rgb(36,36,36)",
            "showgrid": false,
            "showline": true,
            "ticks": "outside"
           }
          },
          "scene": {
           "xaxis": {
            "backgroundcolor": "white",
            "gridcolor": "rgb(232,232,232)",
            "gridwidth": 2,
            "linecolor": "rgb(36,36,36)",
            "showbackground": true,
            "showgrid": false,
            "showline": true,
            "ticks": "outside",
            "zeroline": false,
            "zerolinecolor": "rgb(36,36,36)"
           },
           "yaxis": {
            "backgroundcolor": "white",
            "gridcolor": "rgb(232,232,232)",
            "gridwidth": 2,
            "linecolor": "rgb(36,36,36)",
            "showbackground": true,
            "showgrid": false,
            "showline": true,
            "ticks": "outside",
            "zeroline": false,
            "zerolinecolor": "rgb(36,36,36)"
           },
           "zaxis": {
            "backgroundcolor": "white",
            "gridcolor": "rgb(232,232,232)",
            "gridwidth": 2,
            "linecolor": "rgb(36,36,36)",
            "showbackground": true,
            "showgrid": false,
            "showline": true,
            "ticks": "outside",
            "zeroline": false,
            "zerolinecolor": "rgb(36,36,36)"
           }
          },
          "shapedefaults": {
           "fillcolor": "black",
           "line": {
            "width": 0
           },
           "opacity": 0.3
          },
          "ternary": {
           "aaxis": {
            "gridcolor": "rgb(232,232,232)",
            "linecolor": "rgb(36,36,36)",
            "showgrid": false,
            "showline": true,
            "ticks": "outside"
           },
           "baxis": {
            "gridcolor": "rgb(232,232,232)",
            "linecolor": "rgb(36,36,36)",
            "showgrid": false,
            "showline": true,
            "ticks": "outside"
           },
           "bgcolor": "white",
           "caxis": {
            "gridcolor": "rgb(232,232,232)",
            "linecolor": "rgb(36,36,36)",
            "showgrid": false,
            "showline": true,
            "ticks": "outside"
           }
          },
          "title": {
           "x": 0.05
          },
          "xaxis": {
           "automargin": true,
           "gridcolor": "rgb(232,232,232)",
           "linecolor": "rgb(36,36,36)",
           "showgrid": false,
           "showline": true,
           "ticks": "outside",
           "title": {
            "standoff": 15
           },
           "zeroline": false,
           "zerolinecolor": "rgb(36,36,36)"
          },
          "yaxis": {
           "automargin": true,
           "gridcolor": "rgb(232,232,232)",
           "linecolor": "rgb(36,36,36)",
           "showgrid": false,
           "showline": true,
           "ticks": "outside",
           "title": {
            "standoff": 15
           },
           "zeroline": false,
           "zerolinecolor": "rgb(36,36,36)"
          }
         }
        },
        "title": {
         "text": "Воронка событий мобильного приложения"
        }
       }
      },
      "text/html": [
       "<div>                            <div id=\"93892c3e-8e0f-4a48-8cfd-2f675fd07526\" class=\"plotly-graph-div\" style=\"height:525px; width:100%;\"></div>            <script type=\"text/javascript\">                require([\"plotly\"], function(Plotly) {                    window.PLOTLYENV=window.PLOTLYENV || {};                                    if (document.getElementById(\"93892c3e-8e0f-4a48-8cfd-2f675fd07526\")) {                    Plotly.newPlot(                        \"93892c3e-8e0f-4a48-8cfd-2f675fd07526\",                        [{\"x\":[7419,4593,3734,3539],\"y\":[\"\\u041f\\u043e\\u043a\\u0430\\u0437 \\u0433\\u043b\\u0430\\u0432\\u043d\\u043e\\u0439 \\u0441\\u0442\\u0440\\u0430\\u043d\\u0438\\u0446\\u044b\",\"\\u0414\\u0435\\u043c\\u043e\\u043d\\u0441\\u0442\\u0440\\u0430\\u0446\\u0438\\u044f \\u043f\\u0440\\u0435\\u0434\\u043b\\u043e\\u0436\\u0435\\u043d\\u0438\\u044f\",\"\\u041d\\u0430\\u0447\\u0430\\u043b\\u043e \\u043e\\u043f\\u043b\\u0430\\u0442\\u044b\",\"\\u0423\\u0441\\u043f\\u0435\\u0448\\u043d\\u0430\\u044f \\u043f\\u043e\\u043a\\u0443\\u043f\\u043a\\u0430\"],\"type\":\"funnel\"}],                        {\"template\":{\"data\":{\"barpolar\":[{\"marker\":{\"line\":{\"color\":\"white\",\"width\":0.5},\"pattern\":{\"fillmode\":\"overlay\",\"size\":10,\"solidity\":0.2}},\"type\":\"barpolar\"}],\"bar\":[{\"error_x\":{\"color\":\"rgb(36,36,36)\"},\"error_y\":{\"color\":\"rgb(36,36,36)\"},\"marker\":{\"line\":{\"color\":\"white\",\"width\":0.5},\"pattern\":{\"fillmode\":\"overlay\",\"size\":10,\"solidity\":0.2}},\"type\":\"bar\"}],\"carpet\":[{\"aaxis\":{\"endlinecolor\":\"rgb(36,36,36)\",\"gridcolor\":\"white\",\"linecolor\":\"white\",\"minorgridcolor\":\"white\",\"startlinecolor\":\"rgb(36,36,36)\"},\"baxis\":{\"endlinecolor\":\"rgb(36,36,36)\",\"gridcolor\":\"white\",\"linecolor\":\"white\",\"minorgridcolor\":\"white\",\"startlinecolor\":\"rgb(36,36,36)\"},\"type\":\"carpet\"}],\"choropleth\":[{\"colorbar\":{\"outlinewidth\":1,\"tickcolor\":\"rgb(36,36,36)\",\"ticks\":\"outside\"},\"type\":\"choropleth\"}],\"contourcarpet\":[{\"colorbar\":{\"outlinewidth\":1,\"tickcolor\":\"rgb(36,36,36)\",\"ticks\":\"outside\"},\"type\":\"contourcarpet\"}],\"contour\":[{\"colorbar\":{\"outlinewidth\":1,\"tickcolor\":\"rgb(36,36,36)\",\"ticks\":\"outside\"},\"colorscale\":[[0.0,\"#440154\"],[0.1111111111111111,\"#482878\"],[0.2222222222222222,\"#3e4989\"],[0.3333333333333333,\"#31688e\"],[0.4444444444444444,\"#26828e\"],[0.5555555555555556,\"#1f9e89\"],[0.6666666666666666,\"#35b779\"],[0.7777777777777778,\"#6ece58\"],[0.8888888888888888,\"#b5de2b\"],[1.0,\"#fde725\"]],\"type\":\"contour\"}],\"heatmapgl\":[{\"colorbar\":{\"outlinewidth\":1,\"tickcolor\":\"rgb(36,36,36)\",\"ticks\":\"outside\"},\"colorscale\":[[0.0,\"#440154\"],[0.1111111111111111,\"#482878\"],[0.2222222222222222,\"#3e4989\"],[0.3333333333333333,\"#31688e\"],[0.4444444444444444,\"#26828e\"],[0.5555555555555556,\"#1f9e89\"],[0.6666666666666666,\"#35b779\"],[0.7777777777777778,\"#6ece58\"],[0.8888888888888888,\"#b5de2b\"],[1.0,\"#fde725\"]],\"type\":\"heatmapgl\"}],\"heatmap\":[{\"colorbar\":{\"outlinewidth\":1,\"tickcolor\":\"rgb(36,36,36)\",\"ticks\":\"outside\"},\"colorscale\":[[0.0,\"#440154\"],[0.1111111111111111,\"#482878\"],[0.2222222222222222,\"#3e4989\"],[0.3333333333333333,\"#31688e\"],[0.4444444444444444,\"#26828e\"],[0.5555555555555556,\"#1f9e89\"],[0.6666666666666666,\"#35b779\"],[0.7777777777777778,\"#6ece58\"],[0.8888888888888888,\"#b5de2b\"],[1.0,\"#fde725\"]],\"type\":\"heatmap\"}],\"histogram2dcontour\":[{\"colorbar\":{\"outlinewidth\":1,\"tickcolor\":\"rgb(36,36,36)\",\"ticks\":\"outside\"},\"colorscale\":[[0.0,\"#440154\"],[0.1111111111111111,\"#482878\"],[0.2222222222222222,\"#3e4989\"],[0.3333333333333333,\"#31688e\"],[0.4444444444444444,\"#26828e\"],[0.5555555555555556,\"#1f9e89\"],[0.6666666666666666,\"#35b779\"],[0.7777777777777778,\"#6ece58\"],[0.8888888888888888,\"#b5de2b\"],[1.0,\"#fde725\"]],\"type\":\"histogram2dcontour\"}],\"histogram2d\":[{\"colorbar\":{\"outlinewidth\":1,\"tickcolor\":\"rgb(36,36,36)\",\"ticks\":\"outside\"},\"colorscale\":[[0.0,\"#440154\"],[0.1111111111111111,\"#482878\"],[0.2222222222222222,\"#3e4989\"],[0.3333333333333333,\"#31688e\"],[0.4444444444444444,\"#26828e\"],[0.5555555555555556,\"#1f9e89\"],[0.6666666666666666,\"#35b779\"],[0.7777777777777778,\"#6ece58\"],[0.8888888888888888,\"#b5de2b\"],[1.0,\"#fde725\"]],\"type\":\"histogram2d\"}],\"histogram\":[{\"marker\":{\"line\":{\"color\":\"white\",\"width\":0.6}},\"type\":\"histogram\"}],\"mesh3d\":[{\"colorbar\":{\"outlinewidth\":1,\"tickcolor\":\"rgb(36,36,36)\",\"ticks\":\"outside\"},\"type\":\"mesh3d\"}],\"parcoords\":[{\"line\":{\"colorbar\":{\"outlinewidth\":1,\"tickcolor\":\"rgb(36,36,36)\",\"ticks\":\"outside\"}},\"type\":\"parcoords\"}],\"pie\":[{\"automargin\":true,\"type\":\"pie\"}],\"scatter3d\":[{\"line\":{\"colorbar\":{\"outlinewidth\":1,\"tickcolor\":\"rgb(36,36,36)\",\"ticks\":\"outside\"}},\"marker\":{\"colorbar\":{\"outlinewidth\":1,\"tickcolor\":\"rgb(36,36,36)\",\"ticks\":\"outside\"}},\"type\":\"scatter3d\"}],\"scattercarpet\":[{\"marker\":{\"colorbar\":{\"outlinewidth\":1,\"tickcolor\":\"rgb(36,36,36)\",\"ticks\":\"outside\"}},\"type\":\"scattercarpet\"}],\"scattergeo\":[{\"marker\":{\"colorbar\":{\"outlinewidth\":1,\"tickcolor\":\"rgb(36,36,36)\",\"ticks\":\"outside\"}},\"type\":\"scattergeo\"}],\"scattergl\":[{\"marker\":{\"colorbar\":{\"outlinewidth\":1,\"tickcolor\":\"rgb(36,36,36)\",\"ticks\":\"outside\"}},\"type\":\"scattergl\"}],\"scattermapbox\":[{\"marker\":{\"colorbar\":{\"outlinewidth\":1,\"tickcolor\":\"rgb(36,36,36)\",\"ticks\":\"outside\"}},\"type\":\"scattermapbox\"}],\"scatterpolargl\":[{\"marker\":{\"colorbar\":{\"outlinewidth\":1,\"tickcolor\":\"rgb(36,36,36)\",\"ticks\":\"outside\"}},\"type\":\"scatterpolargl\"}],\"scatterpolar\":[{\"marker\":{\"colorbar\":{\"outlinewidth\":1,\"tickcolor\":\"rgb(36,36,36)\",\"ticks\":\"outside\"}},\"type\":\"scatterpolar\"}],\"scatter\":[{\"fillpattern\":{\"fillmode\":\"overlay\",\"size\":10,\"solidity\":0.2},\"type\":\"scatter\"}],\"scatterternary\":[{\"marker\":{\"colorbar\":{\"outlinewidth\":1,\"tickcolor\":\"rgb(36,36,36)\",\"ticks\":\"outside\"}},\"type\":\"scatterternary\"}],\"surface\":[{\"colorbar\":{\"outlinewidth\":1,\"tickcolor\":\"rgb(36,36,36)\",\"ticks\":\"outside\"},\"colorscale\":[[0.0,\"#440154\"],[0.1111111111111111,\"#482878\"],[0.2222222222222222,\"#3e4989\"],[0.3333333333333333,\"#31688e\"],[0.4444444444444444,\"#26828e\"],[0.5555555555555556,\"#1f9e89\"],[0.6666666666666666,\"#35b779\"],[0.7777777777777778,\"#6ece58\"],[0.8888888888888888,\"#b5de2b\"],[1.0,\"#fde725\"]],\"type\":\"surface\"}],\"table\":[{\"cells\":{\"fill\":{\"color\":\"rgb(237,237,237)\"},\"line\":{\"color\":\"white\"}},\"header\":{\"fill\":{\"color\":\"rgb(217,217,217)\"},\"line\":{\"color\":\"white\"}},\"type\":\"table\"}]},\"layout\":{\"annotationdefaults\":{\"arrowhead\":0,\"arrowwidth\":1},\"autotypenumbers\":\"strict\",\"coloraxis\":{\"colorbar\":{\"outlinewidth\":1,\"tickcolor\":\"rgb(36,36,36)\",\"ticks\":\"outside\"}},\"colorscale\":{\"diverging\":[[0.0,\"rgb(103,0,31)\"],[0.1,\"rgb(178,24,43)\"],[0.2,\"rgb(214,96,77)\"],[0.3,\"rgb(244,165,130)\"],[0.4,\"rgb(253,219,199)\"],[0.5,\"rgb(247,247,247)\"],[0.6,\"rgb(209,229,240)\"],[0.7,\"rgb(146,197,222)\"],[0.8,\"rgb(67,147,195)\"],[0.9,\"rgb(33,102,172)\"],[1.0,\"rgb(5,48,97)\"]],\"sequential\":[[0.0,\"#440154\"],[0.1111111111111111,\"#482878\"],[0.2222222222222222,\"#3e4989\"],[0.3333333333333333,\"#31688e\"],[0.4444444444444444,\"#26828e\"],[0.5555555555555556,\"#1f9e89\"],[0.6666666666666666,\"#35b779\"],[0.7777777777777778,\"#6ece58\"],[0.8888888888888888,\"#b5de2b\"],[1.0,\"#fde725\"]],\"sequentialminus\":[[0.0,\"#440154\"],[0.1111111111111111,\"#482878\"],[0.2222222222222222,\"#3e4989\"],[0.3333333333333333,\"#31688e\"],[0.4444444444444444,\"#26828e\"],[0.5555555555555556,\"#1f9e89\"],[0.6666666666666666,\"#35b779\"],[0.7777777777777778,\"#6ece58\"],[0.8888888888888888,\"#b5de2b\"],[1.0,\"#fde725\"]]},\"colorway\":[\"#1F77B4\",\"#FF7F0E\",\"#2CA02C\",\"#D62728\",\"#9467BD\",\"#8C564B\",\"#E377C2\",\"#7F7F7F\",\"#BCBD22\",\"#17BECF\"],\"font\":{\"color\":\"rgb(36,36,36)\"},\"geo\":{\"bgcolor\":\"white\",\"lakecolor\":\"white\",\"landcolor\":\"white\",\"showlakes\":true,\"showland\":true,\"subunitcolor\":\"white\"},\"hoverlabel\":{\"align\":\"left\"},\"hovermode\":\"closest\",\"mapbox\":{\"style\":\"light\"},\"paper_bgcolor\":\"white\",\"plot_bgcolor\":\"white\",\"polar\":{\"angularaxis\":{\"gridcolor\":\"rgb(232,232,232)\",\"linecolor\":\"rgb(36,36,36)\",\"showgrid\":false,\"showline\":true,\"ticks\":\"outside\"},\"bgcolor\":\"white\",\"radialaxis\":{\"gridcolor\":\"rgb(232,232,232)\",\"linecolor\":\"rgb(36,36,36)\",\"showgrid\":false,\"showline\":true,\"ticks\":\"outside\"}},\"scene\":{\"xaxis\":{\"backgroundcolor\":\"white\",\"gridcolor\":\"rgb(232,232,232)\",\"gridwidth\":2,\"linecolor\":\"rgb(36,36,36)\",\"showbackground\":true,\"showgrid\":false,\"showline\":true,\"ticks\":\"outside\",\"zeroline\":false,\"zerolinecolor\":\"rgb(36,36,36)\"},\"yaxis\":{\"backgroundcolor\":\"white\",\"gridcolor\":\"rgb(232,232,232)\",\"gridwidth\":2,\"linecolor\":\"rgb(36,36,36)\",\"showbackground\":true,\"showgrid\":false,\"showline\":true,\"ticks\":\"outside\",\"zeroline\":false,\"zerolinecolor\":\"rgb(36,36,36)\"},\"zaxis\":{\"backgroundcolor\":\"white\",\"gridcolor\":\"rgb(232,232,232)\",\"gridwidth\":2,\"linecolor\":\"rgb(36,36,36)\",\"showbackground\":true,\"showgrid\":false,\"showline\":true,\"ticks\":\"outside\",\"zeroline\":false,\"zerolinecolor\":\"rgb(36,36,36)\"}},\"shapedefaults\":{\"fillcolor\":\"black\",\"line\":{\"width\":0},\"opacity\":0.3},\"ternary\":{\"aaxis\":{\"gridcolor\":\"rgb(232,232,232)\",\"linecolor\":\"rgb(36,36,36)\",\"showgrid\":false,\"showline\":true,\"ticks\":\"outside\"},\"baxis\":{\"gridcolor\":\"rgb(232,232,232)\",\"linecolor\":\"rgb(36,36,36)\",\"showgrid\":false,\"showline\":true,\"ticks\":\"outside\"},\"bgcolor\":\"white\",\"caxis\":{\"gridcolor\":\"rgb(232,232,232)\",\"linecolor\":\"rgb(36,36,36)\",\"showgrid\":false,\"showline\":true,\"ticks\":\"outside\"}},\"title\":{\"x\":0.05},\"xaxis\":{\"automargin\":true,\"gridcolor\":\"rgb(232,232,232)\",\"linecolor\":\"rgb(36,36,36)\",\"showgrid\":false,\"showline\":true,\"ticks\":\"outside\",\"title\":{\"standoff\":15},\"zeroline\":false,\"zerolinecolor\":\"rgb(36,36,36)\"},\"yaxis\":{\"automargin\":true,\"gridcolor\":\"rgb(232,232,232)\",\"linecolor\":\"rgb(36,36,36)\",\"showgrid\":false,\"showline\":true,\"ticks\":\"outside\",\"title\":{\"standoff\":15},\"zeroline\":false,\"zerolinecolor\":\"rgb(36,36,36)\"}}},\"title\":{\"text\":\"\\u0412\\u043e\\u0440\\u043e\\u043d\\u043a\\u0430 \\u0441\\u043e\\u0431\\u044b\\u0442\\u0438\\u0439 \\u043c\\u043e\\u0431\\u0438\\u043b\\u044c\\u043d\\u043e\\u0433\\u043e \\u043f\\u0440\\u0438\\u043b\\u043e\\u0436\\u0435\\u043d\\u0438\\u044f\"}},                        {\"responsive\": true}                    ).then(function(){\n",
       "                            \n",
       "var gd = document.getElementById('93892c3e-8e0f-4a48-8cfd-2f675fd07526');\n",
       "var x = new MutationObserver(function (mutations, observer) {{\n",
       "        var display = window.getComputedStyle(gd).display;\n",
       "        if (!display || display === 'none') {{\n",
       "            console.log([gd, 'removed!']);\n",
       "            Plotly.purge(gd);\n",
       "            observer.disconnect();\n",
       "        }}\n",
       "}});\n",
       "\n",
       "// Listen for the removal of the full notebook cells\n",
       "var notebookContainer = gd.closest('#notebook-container');\n",
       "if (notebookContainer) {{\n",
       "    x.observe(notebookContainer, {childList: true});\n",
       "}}\n",
       "\n",
       "// Listen for the clearing of the current output cell\n",
       "var outputEl = gd.closest('.output');\n",
       "if (outputEl) {{\n",
       "    x.observe(outputEl, {childList: true});\n",
       "}}\n",
       "\n",
       "                        })                };                });            </script>        </div>"
      ]
     },
     "metadata": {},
     "output_type": "display_data"
    }
   ],
   "source": [
    "# Построение диаграммы с помощью графических объектов библиотеки\n",
    "fig = go.Figure(\n",
    "    go.Funnel(\n",
    "        y=funnel.event_title,\n",
    "        x=funnel.unique_users,\n",
    "    )\n",
    ")\n",
    "# Добавление назваания и выбор темы\n",
    "fig.update_layout(\n",
    "    title=\"Воронка событий мобильного приложения\",\n",
    "    template='simple_white', \n",
    ")\n",
    "# Демонстрация диаграммы\n",
    "fig.show() "
   ]
  },
  {
   "cell_type": "markdown",
   "id": "f1f3e5c5",
   "metadata": {},
   "source": [
    "Больше всего пользователей теряется на первом шаге - при переходе от посещения главной страницы к демонстрации предложения. На этом этапе теряется 38% пользователей. \n",
    "От первого события до оплаты доходит 47,7% пользователей. "
   ]
  },
  {
   "cell_type": "markdown",
   "id": "8a2037ae",
   "metadata": {},
   "source": [
    "**Вывод**\n",
    "\n",
    "В воронку входят следующие события:\n",
    "- показ главной страницы,\n",
    "- демонстрация предложения,\n",
    "- начало оплаты,\n",
    "- успешная покупка.\n",
    "\n",
    "Больше всего пользователей теряется на первом шаге - перед демонстрацией предложения. Всего до оплаты доходит почти 48% посетителей приложения."
   ]
  },
  {
   "cell_type": "markdown",
   "id": "b2ecc2a7",
   "metadata": {},
   "source": [
    "## Анализ A/A/B-теста"
   ]
  },
  {
   "cell_type": "markdown",
   "id": "654c8e8c",
   "metadata": {},
   "source": [
    "Изучим результаты эксперимента. \n",
    "В ходе A/A/B-теста мы проверим следующие гипотезы:\n",
    "* НО - нет значимых отличий в долях пользователей разных групп, имеющих в логах событие конкретного типа,\n",
    "* Н1 - существуют значимые отличия в долях пользователей разных групп, имеющих в логах событие конкретного типа.\n",
    "\n",
    "Мы проведем сравнения между контрольными группами, каждой из контрольных групп и экспериментальной, а также между обеими контрольными группами вместе и экспериментальной по всем событиям, входящим в воронку.\n",
    "\n",
    "Для этого подготовим данные, функцию по определению разницы между выборками и проведем сравнение и проанализируем полученные результаты."
   ]
  },
  {
   "cell_type": "markdown",
   "id": "0312967c",
   "metadata": {},
   "source": [
    "### Подготовка данных для анализа результатов  A/A/B-теста "
   ]
  },
  {
   "cell_type": "markdown",
   "id": "9c0f1dd8",
   "metadata": {},
   "source": [
    "Подготовим сводную таблицу с информацией о количестве пользователей и событиях по группам."
   ]
  },
  {
   "cell_type": "code",
   "execution_count": 25,
   "id": "074c0a60",
   "metadata": {},
   "outputs": [
    {
     "data": {
      "text/html": [
       "<div>\n",
       "<style scoped>\n",
       "    .dataframe tbody tr th:only-of-type {\n",
       "        vertical-align: middle;\n",
       "    }\n",
       "\n",
       "    .dataframe tbody tr th {\n",
       "        vertical-align: top;\n",
       "    }\n",
       "\n",
       "    .dataframe thead th {\n",
       "        text-align: right;\n",
       "    }\n",
       "</style>\n",
       "<table border=\"1\" class=\"dataframe\">\n",
       "  <thead>\n",
       "    <tr style=\"text-align: right;\">\n",
       "      <th>exp_id</th>\n",
       "      <th>246</th>\n",
       "      <th>247</th>\n",
       "      <th>248</th>\n",
       "      <th>246_247</th>\n",
       "      <th>event_title</th>\n",
       "    </tr>\n",
       "    <tr>\n",
       "      <th>event_name</th>\n",
       "      <th></th>\n",
       "      <th></th>\n",
       "      <th></th>\n",
       "      <th></th>\n",
       "      <th></th>\n",
       "    </tr>\n",
       "  </thead>\n",
       "  <tbody>\n",
       "    <tr>\n",
       "      <th>MainScreenAppear</th>\n",
       "      <td>2450</td>\n",
       "      <td>2476</td>\n",
       "      <td>2493</td>\n",
       "      <td>4926</td>\n",
       "      <td>Показ главной страницы</td>\n",
       "    </tr>\n",
       "    <tr>\n",
       "      <th>OffersScreenAppear</th>\n",
       "      <td>1542</td>\n",
       "      <td>1520</td>\n",
       "      <td>1531</td>\n",
       "      <td>3062</td>\n",
       "      <td>Демонстрация предложения</td>\n",
       "    </tr>\n",
       "    <tr>\n",
       "      <th>CartScreenAppear</th>\n",
       "      <td>1266</td>\n",
       "      <td>1238</td>\n",
       "      <td>1230</td>\n",
       "      <td>2504</td>\n",
       "      <td>Начало оплаты</td>\n",
       "    </tr>\n",
       "    <tr>\n",
       "      <th>PaymentScreenSuccessful</th>\n",
       "      <td>1200</td>\n",
       "      <td>1158</td>\n",
       "      <td>1181</td>\n",
       "      <td>2358</td>\n",
       "      <td>Успешная покупка</td>\n",
       "    </tr>\n",
       "  </tbody>\n",
       "</table>\n",
       "</div>"
      ],
      "text/plain": [
       "exp_id                    246   247   248  246_247               event_title\n",
       "event_name                                                                  \n",
       "MainScreenAppear         2450  2476  2493     4926    Показ главной страницы\n",
       "OffersScreenAppear       1542  1520  1531     3062  Демонстрация предложения\n",
       "CartScreenAppear         1266  1238  1230     2504             Начало оплаты\n",
       "PaymentScreenSuccessful  1200  1158  1181     2358          Успешная покупка"
      ]
     },
     "execution_count": 25,
     "metadata": {},
     "output_type": "execute_result"
    }
   ],
   "source": [
    "# Сводная таблица по событиям и группам пользователей\n",
    "test_table = logs_filtered.pivot_table(index='event_name',\n",
    "                          columns = 'exp_id',\n",
    "                          values = 'device_id_hash',\n",
    "                          aggfunc='nunique')\n",
    "# Удаление данных о не входящих в воронку событиях\n",
    "test_table = test_table.loc[test_table.index != 'Tutorial']\n",
    "# Добавление информации о двух контрольных группах вместе\n",
    "test_table['246_247'] = test_table[246] + test_table[247]\n",
    "# Добавим наименовани.я этапов вороник\n",
    "test_table['event_title'] = funnel['event_title']\n",
    "# Изменение индекса в соответствии с воронкой\n",
    "test_table = test_table.reindex(funnel.index)\n",
    "# Демонстрация таблицы\n",
    "test_table"
   ]
  },
  {
   "cell_type": "code",
   "execution_count": 26,
   "id": "840fc38e",
   "metadata": {},
   "outputs": [
    {
     "name": "stdout",
     "output_type": "stream",
     "text": [
      "Количество пользователей в группе 246 - 2484\n",
      "Количество пользователей в группе 247 - 2513\n",
      "Количество пользователей в группе 248 - 2537\n",
      "Количество пользователей в группе 246_247 - 4997\n"
     ]
    },
    {
     "data": {
      "text/html": [
       "<div>\n",
       "<style scoped>\n",
       "    .dataframe tbody tr th:only-of-type {\n",
       "        vertical-align: middle;\n",
       "    }\n",
       "\n",
       "    .dataframe tbody tr th {\n",
       "        vertical-align: top;\n",
       "    }\n",
       "\n",
       "    .dataframe thead th {\n",
       "        text-align: right;\n",
       "    }\n",
       "</style>\n",
       "<table border=\"1\" class=\"dataframe\">\n",
       "  <thead>\n",
       "    <tr style=\"text-align: right;\">\n",
       "      <th>exp_id</th>\n",
       "      <th>246</th>\n",
       "      <th>247</th>\n",
       "      <th>248</th>\n",
       "      <th>246_247</th>\n",
       "    </tr>\n",
       "  </thead>\n",
       "  <tbody>\n",
       "    <tr>\n",
       "      <th>device_id_hash</th>\n",
       "      <td>2484</td>\n",
       "      <td>2513</td>\n",
       "      <td>2537</td>\n",
       "      <td>4997</td>\n",
       "    </tr>\n",
       "  </tbody>\n",
       "</table>\n",
       "</div>"
      ],
      "text/plain": [
       "exp_id           246   247   248  246_247\n",
       "device_id_hash  2484  2513  2537     4997"
      ]
     },
     "execution_count": 26,
     "metadata": {},
     "output_type": "execute_result"
    }
   ],
   "source": [
    "# Создание таблицы с информацией о пользователях по группам\n",
    "users_table = logs_filtered.pivot_table(columns = 'exp_id',\n",
    "                          values = 'device_id_hash',\n",
    "                          aggfunc='nunique')\n",
    "# Добавление информации о двух контрольных группах вместе\n",
    "users_table['246_247'] = users_table[246] + users_table[247]\n",
    "#\n",
    "# Печать информации о количестве пользователей по группам\n",
    "for col in users_table.columns:\n",
    "    print ('Количество пользователей в группе', \n",
    "           users_table[col].name,'-', \n",
    "           *users_table[col].values, )\n",
    "users_table"
   ]
  },
  {
   "cell_type": "markdown",
   "id": "07494880",
   "metadata": {},
   "source": [
    "Теперь необходимо рассчитать доли от общего числа уникальных пользователей."
   ]
  },
  {
   "cell_type": "code",
   "execution_count": 27,
   "id": "880d66c8",
   "metadata": {
    "scrolled": true
   },
   "outputs": [
    {
     "data": {
      "text/html": [
       "<div>\n",
       "<style scoped>\n",
       "    .dataframe tbody tr th:only-of-type {\n",
       "        vertical-align: middle;\n",
       "    }\n",
       "\n",
       "    .dataframe tbody tr th {\n",
       "        vertical-align: top;\n",
       "    }\n",
       "\n",
       "    .dataframe thead th {\n",
       "        text-align: right;\n",
       "    }\n",
       "</style>\n",
       "<table border=\"1\" class=\"dataframe\">\n",
       "  <thead>\n",
       "    <tr style=\"text-align: right;\">\n",
       "      <th>exp_id</th>\n",
       "      <th>246</th>\n",
       "      <th>247</th>\n",
       "      <th>248</th>\n",
       "      <th>246_247</th>\n",
       "      <th>event_title</th>\n",
       "    </tr>\n",
       "    <tr>\n",
       "      <th>event_name</th>\n",
       "      <th></th>\n",
       "      <th></th>\n",
       "      <th></th>\n",
       "      <th></th>\n",
       "      <th></th>\n",
       "    </tr>\n",
       "  </thead>\n",
       "  <tbody>\n",
       "    <tr>\n",
       "      <th>MainScreenAppear</th>\n",
       "      <td>0.986312</td>\n",
       "      <td>0.985277</td>\n",
       "      <td>0.982657</td>\n",
       "      <td>0.985791</td>\n",
       "      <td>Показ главной страницы</td>\n",
       "    </tr>\n",
       "    <tr>\n",
       "      <th>OffersScreenAppear</th>\n",
       "      <td>0.620773</td>\n",
       "      <td>0.604855</td>\n",
       "      <td>0.603469</td>\n",
       "      <td>0.612768</td>\n",
       "      <td>Демонстрация предложения</td>\n",
       "    </tr>\n",
       "    <tr>\n",
       "      <th>CartScreenAppear</th>\n",
       "      <td>0.509662</td>\n",
       "      <td>0.492638</td>\n",
       "      <td>0.484825</td>\n",
       "      <td>0.501101</td>\n",
       "      <td>Начало оплаты</td>\n",
       "    </tr>\n",
       "    <tr>\n",
       "      <th>PaymentScreenSuccessful</th>\n",
       "      <td>0.483092</td>\n",
       "      <td>0.460804</td>\n",
       "      <td>0.465510</td>\n",
       "      <td>0.471883</td>\n",
       "      <td>Успешная покупка</td>\n",
       "    </tr>\n",
       "  </tbody>\n",
       "</table>\n",
       "</div>"
      ],
      "text/plain": [
       "exp_id                        246       247       248   246_247  \\\n",
       "event_name                                                        \n",
       "MainScreenAppear         0.986312  0.985277  0.982657  0.985791   \n",
       "OffersScreenAppear       0.620773  0.604855  0.603469  0.612768   \n",
       "CartScreenAppear         0.509662  0.492638  0.484825  0.501101   \n",
       "PaymentScreenSuccessful  0.483092  0.460804  0.465510  0.471883   \n",
       "\n",
       "exp_id                                event_title  \n",
       "event_name                                         \n",
       "MainScreenAppear           Показ главной страницы  \n",
       "OffersScreenAppear       Демонстрация предложения  \n",
       "CartScreenAppear                    Начало оплаты  \n",
       "PaymentScreenSuccessful          Успешная покупка  "
      ]
     },
     "execution_count": 27,
     "metadata": {},
     "output_type": "execute_result"
    }
   ],
   "source": [
    "# Создание таблицы с информацией о долях пользователей в событиях\n",
    "test_table_share = test_table / users_table.iloc[0]\n",
    "# Добавим наименовани.я этапов вороник\n",
    "test_table_share['event_title'] = funnel['event_title']\n",
    "# Демонстрация таблицы\n",
    "test_table_share"
   ]
  },
  {
   "cell_type": "markdown",
   "id": "219a0aac",
   "metadata": {},
   "source": [
    "Теперь данные готовы к проведению анализа."
   ]
  },
  {
   "cell_type": "markdown",
   "id": "ccd86b46",
   "metadata": {},
   "source": [
    "### Функция для проведения теста"
   ]
  },
  {
   "cell_type": "markdown",
   "id": "b9f21f59",
   "metadata": {},
   "source": [
    "Подготовим функцию для проведения статистического теста"
   ]
  },
  {
   "cell_type": "code",
   "execution_count": 28,
   "id": "caf62df3",
   "metadata": {},
   "outputs": [],
   "source": [
    "def stat_test(data_table, users_table, event_name, sample_1, sample_2, \n",
    "              alpha = 0.01, event_title = 'event_title'):\n",
    "    successes_1 = data_table.loc[event_name, sample_1]\n",
    "    successes_2 = data_table.loc[event_name, sample_2]\n",
    "    trials_1 = users_table[sample_1].iloc[0]\n",
    "    trials_2 = users_table[sample_2].iloc[0]\n",
    "    event_title = data_table[event_title].loc[event_name]\n",
    "    # Пропорции успехов в первой и второй группе\n",
    "    p1 = successes_1 / trials_1\n",
    "    p2 = successes_2 / trials_2\n",
    "    # Пропорции успехов в комбинированной группе\n",
    "    p_combined = (successes_1 + successes_2) / (trials_1 + trials_2) \n",
    "    # Разница пропорций в датасетах\n",
    "    difference = p1 - p2\n",
    "    # Расчет статистики в стандартных отклонениях стандартного нормального распределения\n",
    "    z_value = difference / math.sqrt (p_combined * (1 - p_combined) * (1 / trials_1 + 1 / trials_2 ))\n",
    "    # Создание стандартного нормального распределения (среднее - 0, стандартное отклонение - 1)\n",
    "    distr = stats.norm (0, 1)\n",
    "    # Расчет уровня вероятности\n",
    "    p_value = (1 - distr.cdf(abs(z_value)))*2\n",
    "    print(f'Сравнение групп {sample_1} и {sample_2}')\n",
    "    print(\n",
    "        f'Н0: Доли пользователей, имеющих событие \\'{event_title}\\', \\\n",
    "в группах {sample_1} и {sample_2} статистически значимо не различаются.')\n",
    "    print(\n",
    "        f'Н1: Доли пользователей, имеющих событие \\'{event_title}\\', \\\n",
    "в группах {sample_1} и {sample_2} имеют статистически значимые различия.')\n",
    "    print((f'Уровень p-значения: {p_value:.3f}'))\n",
    "    if p_value >= alpha:\n",
    "        print('Не получилось отвергнуть нулевую гипотезу, нет оснований считать доли разными.')\n",
    "    else:\n",
    "        print('Отвергаем нулевую гипотезу, между долями есть значимая разница')\n",
    "        print (f'Различие составляет {difference:.2%}')\n",
    "    print('*****')"
   ]
  },
  {
   "cell_type": "markdown",
   "id": "1cb486b8",
   "metadata": {},
   "source": [
    "**Вывод**\n",
    "\n",
    "Мы подготовили функцию, которая принимает \n",
    "- таблицу с данными пользовательской воронки,\n",
    "- таблицу с информацией о числе уникальных пользователей в группе,\n",
    "- идентификатор события, по которому будет проходить сравнение, \n",
    "- конкретные группы, которые будут сравниваться, \n",
    "- уровень значимости (значение по умолчанию - 0.01,\n",
    "- название события, для вывода результатов.\n",
    "\n",
    "Функция возвращает p-значение и результат проверки гипотезы. "
   ]
  },
  {
   "cell_type": "markdown",
   "id": "23a0bbc0",
   "metadata": {},
   "source": [
    "### Результаты  A/A-теста "
   ]
  },
  {
   "cell_type": "markdown",
   "id": "c71d5c95",
   "metadata": {},
   "source": [
    "Используя подготовленную функцию, проверим, что существенных различий между контрольными группами нет и проведем A/A-тест. Контрольные группы в наших данных - под номерами 246 и 247."
   ]
  },
  {
   "cell_type": "code",
   "execution_count": 29,
   "id": "c85935a0",
   "metadata": {
    "scrolled": false
   },
   "outputs": [
    {
     "name": "stdout",
     "output_type": "stream",
     "text": [
      "Сравнение групп 246 и 247\n",
      "Н0: Доли пользователей, имеющих событие 'Показ главной страницы', в группах 246 и 247 статистически значимо не различаются.\n",
      "Н1: Доли пользователей, имеющих событие 'Показ главной страницы', в группах 246 и 247 имеют статистически значимые различия.\n",
      "Уровень p-значения: 0.757\n",
      "Не получилось отвергнуть нулевую гипотезу, нет оснований считать доли разными.\n",
      "*****\n",
      "Сравнение групп 246 и 247\n",
      "Н0: Доли пользователей, имеющих событие 'Демонстрация предложения', в группах 246 и 247 статистически значимо не различаются.\n",
      "Н1: Доли пользователей, имеющих событие 'Демонстрация предложения', в группах 246 и 247 имеют статистически значимые различия.\n",
      "Уровень p-значения: 0.248\n",
      "Не получилось отвергнуть нулевую гипотезу, нет оснований считать доли разными.\n",
      "*****\n",
      "Сравнение групп 246 и 247\n",
      "Н0: Доли пользователей, имеющих событие 'Начало оплаты', в группах 246 и 247 статистически значимо не различаются.\n",
      "Н1: Доли пользователей, имеющих событие 'Начало оплаты', в группах 246 и 247 имеют статистически значимые различия.\n",
      "Уровень p-значения: 0.229\n",
      "Не получилось отвергнуть нулевую гипотезу, нет оснований считать доли разными.\n",
      "*****\n",
      "Сравнение групп 246 и 247\n",
      "Н0: Доли пользователей, имеющих событие 'Успешная покупка', в группах 246 и 247 статистически значимо не различаются.\n",
      "Н1: Доли пользователей, имеющих событие 'Успешная покупка', в группах 246 и 247 имеют статистически значимые различия.\n",
      "Уровень p-значения: 0.115\n",
      "Не получилось отвергнуть нулевую гипотезу, нет оснований считать доли разными.\n",
      "*****\n"
     ]
    }
   ],
   "source": [
    "# Сравнение групп по всем видам событий\n",
    "for index in test_table.index:\n",
    "    stat_test(test_table, users_table, index, 246, 247)"
   ]
  },
  {
   "cell_type": "markdown",
   "id": "71e7f697",
   "metadata": {},
   "source": [
    "**Вывод:**\n",
    "А/А тест проведен успешно. По его результатам обе группы продемонстрировали отсутствие отличие в долях по всем событиям. Это подтверждает корректность механизмов и наших расчетов."
   ]
  },
  {
   "cell_type": "markdown",
   "id": "1314e0d5",
   "metadata": {},
   "source": [
    "### Результаты A/B теста."
   ]
  },
  {
   "cell_type": "markdown",
   "id": "2ccb57f3",
   "metadata": {},
   "source": [
    "Сравним экспериментальную группу (248) и первую из контрольных групп, группу 246."
   ]
  },
  {
   "cell_type": "code",
   "execution_count": 30,
   "id": "b4b4378f",
   "metadata": {},
   "outputs": [
    {
     "name": "stdout",
     "output_type": "stream",
     "text": [
      "Сравнение групп 248 и 246\n",
      "Н0: Доли пользователей, имеющих событие 'Показ главной страницы', в группах 248 и 246 статистически значимо не различаются.\n",
      "Н1: Доли пользователей, имеющих событие 'Показ главной страницы', в группах 248 и 246 имеют статистически значимые различия.\n",
      "Уровень p-значения: 0.295\n",
      "Не получилось отвергнуть нулевую гипотезу, нет оснований считать доли разными.\n",
      "*****\n",
      "Сравнение групп 248 и 246\n",
      "Н0: Доли пользователей, имеющих событие 'Демонстрация предложения', в группах 248 и 246 статистически значимо не различаются.\n",
      "Н1: Доли пользователей, имеющих событие 'Демонстрация предложения', в группах 248 и 246 имеют статистически значимые различия.\n",
      "Уровень p-значения: 0.208\n",
      "Не получилось отвергнуть нулевую гипотезу, нет оснований считать доли разными.\n",
      "*****\n",
      "Сравнение групп 248 и 246\n",
      "Н0: Доли пользователей, имеющих событие 'Начало оплаты', в группах 248 и 246 статистически значимо не различаются.\n",
      "Н1: Доли пользователей, имеющих событие 'Начало оплаты', в группах 248 и 246 имеют статистически значимые различия.\n",
      "Уровень p-значения: 0.078\n",
      "Не получилось отвергнуть нулевую гипотезу, нет оснований считать доли разными.\n",
      "*****\n",
      "Сравнение групп 248 и 246\n",
      "Н0: Доли пользователей, имеющих событие 'Успешная покупка', в группах 248 и 246 статистически значимо не различаются.\n",
      "Н1: Доли пользователей, имеющих событие 'Успешная покупка', в группах 248 и 246 имеют статистически значимые различия.\n",
      "Уровень p-значения: 0.212\n",
      "Не получилось отвергнуть нулевую гипотезу, нет оснований считать доли разными.\n",
      "*****\n"
     ]
    }
   ],
   "source": [
    "# Сравнение групп по всем видам событий\n",
    "for index in test_table.index:\n",
    "    stat_test(test_table, users_table, index, 248, 246)"
   ]
  },
  {
   "cell_type": "markdown",
   "id": "5f4b5101",
   "metadata": {},
   "source": [
    "Значимых различий между группами пока обнаружить не удалось."
   ]
  },
  {
   "cell_type": "markdown",
   "id": "74d74052",
   "metadata": {},
   "source": [
    "Сравним экспериментальную группу (248) со второй контрольной группой (247)."
   ]
  },
  {
   "cell_type": "code",
   "execution_count": 31,
   "id": "c5ae8c0f",
   "metadata": {},
   "outputs": [
    {
     "name": "stdout",
     "output_type": "stream",
     "text": [
      "Сравнение групп 248 и 247\n",
      "Н0: Доли пользователей, имеющих событие 'Показ главной страницы', в группах 248 и 247 статистически значимо не различаются.\n",
      "Н1: Доли пользователей, имеющих событие 'Показ главной страницы', в группах 248 и 247 имеют статистически значимые различия.\n",
      "Уровень p-значения: 0.459\n",
      "Не получилось отвергнуть нулевую гипотезу, нет оснований считать доли разными.\n",
      "*****\n",
      "Сравнение групп 248 и 247\n",
      "Н0: Доли пользователей, имеющих событие 'Демонстрация предложения', в группах 248 и 247 статистически значимо не различаются.\n",
      "Н1: Доли пользователей, имеющих событие 'Демонстрация предложения', в группах 248 и 247 имеют статистически значимые различия.\n",
      "Уровень p-значения: 0.920\n",
      "Не получилось отвергнуть нулевую гипотезу, нет оснований считать доли разными.\n",
      "*****\n",
      "Сравнение групп 248 и 247\n",
      "Н0: Доли пользователей, имеющих событие 'Начало оплаты', в группах 248 и 247 статистически значимо не различаются.\n",
      "Н1: Доли пользователей, имеющих событие 'Начало оплаты', в группах 248 и 247 имеют статистически значимые различия.\n",
      "Уровень p-значения: 0.579\n",
      "Не получилось отвергнуть нулевую гипотезу, нет оснований считать доли разными.\n",
      "*****\n",
      "Сравнение групп 248 и 247\n",
      "Н0: Доли пользователей, имеющих событие 'Успешная покупка', в группах 248 и 247 статистически значимо не различаются.\n",
      "Н1: Доли пользователей, имеющих событие 'Успешная покупка', в группах 248 и 247 имеют статистически значимые различия.\n",
      "Уровень p-значения: 0.737\n",
      "Не получилось отвергнуть нулевую гипотезу, нет оснований считать доли разными.\n",
      "*****\n"
     ]
    }
   ],
   "source": [
    "# Сравнение групп по всем видам событий\n",
    "for index in test_table.index:\n",
    "    stat_test(test_table, users_table, index, 248, 247)"
   ]
  },
  {
   "cell_type": "markdown",
   "id": "2c7a5b67",
   "metadata": {},
   "source": [
    "При сравнении со второй контрольной группой также не были обнаружены значимые различия."
   ]
  },
  {
   "cell_type": "markdown",
   "id": "faf4f0bc",
   "metadata": {},
   "source": [
    "Сравним экспериментальную группу (248) с двумя контрольными группами сразу (247_248)."
   ]
  },
  {
   "cell_type": "code",
   "execution_count": 32,
   "id": "6e0acb43",
   "metadata": {},
   "outputs": [
    {
     "name": "stdout",
     "output_type": "stream",
     "text": [
      "Сравнение групп 248 и 246_247\n",
      "Н0: Доли пользователей, имеющих событие 'Показ главной страницы', в группах 248 и 246_247 статистически значимо не различаются.\n",
      "Н1: Доли пользователей, имеющих событие 'Показ главной страницы', в группах 248 и 246_247 имеют статистически значимые различия.\n",
      "Уровень p-значения: 0.294\n",
      "Не получилось отвергнуть нулевую гипотезу, нет оснований считать доли разными.\n",
      "*****\n",
      "Сравнение групп 248 и 246_247\n",
      "Н0: Доли пользователей, имеющих событие 'Демонстрация предложения', в группах 248 и 246_247 статистически значимо не различаются.\n",
      "Н1: Доли пользователей, имеющих событие 'Демонстрация предложения', в группах 248 и 246_247 имеют статистически значимые различия.\n",
      "Уровень p-значения: 0.434\n",
      "Не получилось отвергнуть нулевую гипотезу, нет оснований считать доли разными.\n",
      "*****\n",
      "Сравнение групп 248 и 246_247\n",
      "Н0: Доли пользователей, имеющих событие 'Начало оплаты', в группах 248 и 246_247 статистически значимо не различаются.\n",
      "Н1: Доли пользователей, имеющих событие 'Начало оплаты', в группах 248 и 246_247 имеют статистически значимые различия.\n",
      "Уровень p-значения: 0.182\n",
      "Не получилось отвергнуть нулевую гипотезу, нет оснований считать доли разными.\n",
      "*****\n",
      "Сравнение групп 248 и 246_247\n",
      "Н0: Доли пользователей, имеющих событие 'Успешная покупка', в группах 248 и 246_247 статистически значимо не различаются.\n",
      "Н1: Доли пользователей, имеющих событие 'Успешная покупка', в группах 248 и 246_247 имеют статистически значимые различия.\n",
      "Уровень p-значения: 0.600\n",
      "Не получилось отвергнуть нулевую гипотезу, нет оснований считать доли разными.\n",
      "*****\n"
     ]
    }
   ],
   "source": [
    "# Сравнение групп по всем видам событий\n",
    "for index in test_table.index:\n",
    "    stat_test(test_table, users_table, index, 248, '246_247')"
   ]
  },
  {
   "cell_type": "markdown",
   "id": "5154970c",
   "metadata": {},
   "source": [
    "Сравнение с двумя контрольными группами сразу также не дало основание считать доли разными. "
   ]
  },
  {
   "cell_type": "markdown",
   "id": "c1f7f0b9",
   "metadata": {},
   "source": [
    "**Вывод**"
   ]
  },
  {
   "cell_type": "markdown",
   "id": "99787f08",
   "metadata": {},
   "source": [
    "Эксперимент показал отсутствие значимых различий между контрольными и экспериментальной группой по всем событиям. Для эксперимента мы выбрали высокое значение уровня значимости, установив показатель альфа на 0.01. Будь он ниже мы могли бы признать часть различий значимыми.\n",
    "Однако нами было проведено 16 тестов, что означает, что в 0.0625 случаев нами мог быть получен случайный результат. "
   ]
  },
  {
   "cell_type": "markdown",
   "id": "5be03165",
   "metadata": {},
   "source": [
    "## Общий вывод"
   ]
  },
  {
   "cell_type": "markdown",
   "id": "3fd7bbb6",
   "metadata": {},
   "source": [
    "По результатам А/А/В-теста мы можем зафиксировать отсутствие различий между группами. \n",
    "\n",
    "Причина принятия этого решения следующая:\n",
    "- на очищенных данных различия в конверсии между первой, второй, обеими вместе контрольными группами и экспериментальной группой не достигли уровня статистической значимости, это значит, что мы не можем отказаться от нулевой гипотезы - о том, что доли пользователей в этих руппах являются одинаковыми;\n",
    "- предположение дизайнеров о смене шрифтов в приложении существенно не повлияло на путь пользователей.\n",
    "\n",
    "По результатам теста можно предложить следующие рекомендации:\n",
    "- обратить внимание на тот этап воронки, на котором происходит \"отсев пользователей\" - 38% пользователей не доходят с главной страницы приложения до просмотра специального предложения. Следует проверить приложение на отсутствие технических ошибок на этом этапе, продумать способы изменения пути пользователей в этом направлении. \n",
    "- рассмотреть возможность использования более простых механик экспериментов в дальнейшем - большое количество сравнений приводит к повышению уровню значимости статистических тестов, а это означает, что улавливаются только самые сильные различия, и чаще всего тест удорожается."
   ]
  }
 ],
 "metadata": {
  "kernelspec": {
   "display_name": "Python 3 (ipykernel)",
   "language": "python",
   "name": "python3"
  },
  "language_info": {
   "codemirror_mode": {
    "name": "ipython",
    "version": 3
   },
   "file_extension": ".py",
   "mimetype": "text/x-python",
   "name": "python",
   "nbconvert_exporter": "python",
   "pygments_lexer": "ipython3",
   "version": "3.9.7"
  },
  "toc": {
   "base_numbering": 1,
   "nav_menu": {},
   "number_sections": true,
   "sideBar": true,
   "skip_h1_title": true,
   "title_cell": "Table of Contents",
   "title_sidebar": "Contents",
   "toc_cell": false,
   "toc_position": {},
   "toc_section_display": true,
   "toc_window_display": true
  }
 },
 "nbformat": 4,
 "nbformat_minor": 5
}
