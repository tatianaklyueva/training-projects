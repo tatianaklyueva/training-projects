{
 "cells": [
  {
   "cell_type": "markdown",
   "id": "5a6c4b06",
   "metadata": {},
   "source": []
  },
  {
   "cell_type": "markdown",
   "id": "62e96f9e",
   "metadata": {},
   "source": [
    "# Мобильные приложения - Выделение групп пользователей на основе поведения"
   ]
  },
  {
   "cell_type": "markdown",
   "id": "84c41ae8",
   "metadata": {},
   "source": [
    "Мы представляем интернет-сервис по продаже вещей \"Ненужные вещи\". \n",
    "\n",
    "**Цель исследования** - определить модель поведения пользователей мобильного приложения.\n",
    "\n",
    "**Задачи исследования**:\n",
    "- оценить уровень удержания, конверсию, время, проведенное в приложении и частоту пользования приложением пользователями, \n",
    "- сегментировать пользователей на основе действий, \n",
    "- оценить различия сегментов по активности пользователей, \n",
    "- проверить гипотезу о взаимосвязи конверсии и удержания и источников установки приложения,\n",
    "- проверить гипотезу о взаимосвязи частоты пользования приложением от дня недели (будние, выходные дни).\n",
    "\n",
    "**Ход исследования**\n",
    "\n",
    "Для анализа мы используем данные пользователей мобильного приложения - информацию о событиях и действиях пользователя в приложении с указанием времени события, а также данные о источнике, из которого пользователь установил приложение.\n",
    "\n",
    "О качестве данных нам ничего неизвестно, поэтому перед проведением исследования понадобится обзор и предобработка данных: обработаем пропуски и дубликаты в случае наличия, приведем данные к необходимым типам, проведем дополнительные расчеты.\n",
    "\n",
    "Затем мы проверим данные и оценим, какой объем данных имеется, какой период они покрывают, как представлены группы пользователей по источнику установки приложения.\n",
    "\n",
    "После этого проведем сегментацию пользователей - разделение на группы.\n",
    "\n",
    "На основе сегментации проанализируем различия между группами пользователя по основным показателям активности. \n",
    "\n",
    "Затем проверим гипотезы нашего исследования.\n",
    "\n",
    "Таким образом, решение пройдет в пять этапов."
   ]
  },
  {
   "cell_type": "markdown",
   "id": "c71199fc",
   "metadata": {},
   "source": [
    "## Обзор и предобработка данных"
   ]
  },
  {
   "cell_type": "markdown",
   "id": "16ccce11",
   "metadata": {},
   "source": [
    "### Обзор данных"
   ]
  },
  {
   "cell_type": "markdown",
   "id": "237755c2",
   "metadata": {},
   "source": [
    "Составим представление о данных. Импортируем специальную библиотеку pandas для обработки и анализа данных, а также другие библиотеки и объекты. "
   ]
  },
  {
   "cell_type": "code",
   "execution_count": 1,
   "id": "5af85d87",
   "metadata": {
    "scrolled": false
   },
   "outputs": [],
   "source": [
    "import pandas as pd # импорт библиотеки pandas\n",
    "#import datetime as dt  # импорт библиотеки datetime для работы со временем\n",
    "import matplotlib.pyplot as plt # импорт части библиотеки matplotlib для работы с диаграммами\n",
    "import seaborn as sns # импорт библиотеки seaborn для работы с диаграммами\n",
    "from datetime import datetime, timedelta\n",
    "import re\n",
    "import numpy as np\n",
    "from sklearn.preprocessing import StandardScaler\n",
    "from sklearn.cluster import KMeans\n",
    "from scipy.cluster.hierarchy import dendrogram, linkage \n",
    "#from plotly import graph_objects as go # импортируем набор методов для работы с интерактивными графиками\n",
    "#import numpy as np # импорт библиотеки numpy для математических вычислений\n",
    "import math # импорт библиотеки math для математических вычислений\n",
    "from scipy import stats as stats # импорт модуля stats для статистических методов"
   ]
  },
  {
   "cell_type": "markdown",
   "id": "a07fb39a",
   "metadata": {},
   "source": [
    "Прочитаем файлы и сохраним в переменные `mobile_sourсes`, `mobile_dataset`, а также выведем на экран начало таблиц."
   ]
  },
  {
   "cell_type": "code",
   "execution_count": 2,
   "id": "c6ec68be",
   "metadata": {},
   "outputs": [
    {
     "data": {
      "text/html": [
       "<div>\n",
       "<style scoped>\n",
       "    .dataframe tbody tr th:only-of-type {\n",
       "        vertical-align: middle;\n",
       "    }\n",
       "\n",
       "    .dataframe tbody tr th {\n",
       "        vertical-align: top;\n",
       "    }\n",
       "\n",
       "    .dataframe thead th {\n",
       "        text-align: right;\n",
       "    }\n",
       "</style>\n",
       "<table border=\"1\" class=\"dataframe\">\n",
       "  <thead>\n",
       "    <tr style=\"text-align: right;\">\n",
       "      <th></th>\n",
       "      <th>userId</th>\n",
       "      <th>source</th>\n",
       "    </tr>\n",
       "  </thead>\n",
       "  <tbody>\n",
       "    <tr>\n",
       "      <th>0</th>\n",
       "      <td>020292ab-89bc-4156-9acf-68bc2783f894</td>\n",
       "      <td>other</td>\n",
       "    </tr>\n",
       "    <tr>\n",
       "      <th>1</th>\n",
       "      <td>cf7eda61-9349-469f-ac27-e5b6f5ec475c</td>\n",
       "      <td>yandex</td>\n",
       "    </tr>\n",
       "    <tr>\n",
       "      <th>2</th>\n",
       "      <td>8c356c42-3ba9-4cb6-80b8-3f868d0192c3</td>\n",
       "      <td>yandex</td>\n",
       "    </tr>\n",
       "    <tr>\n",
       "      <th>3</th>\n",
       "      <td>d9b06b47-0f36-419b-bbb0-3533e582a6cb</td>\n",
       "      <td>other</td>\n",
       "    </tr>\n",
       "    <tr>\n",
       "      <th>4</th>\n",
       "      <td>f32e1e2a-3027-4693-b793-b7b3ff274439</td>\n",
       "      <td>google</td>\n",
       "    </tr>\n",
       "  </tbody>\n",
       "</table>\n",
       "</div>"
      ],
      "text/plain": [
       "                                 userId  source\n",
       "0  020292ab-89bc-4156-9acf-68bc2783f894   other\n",
       "1  cf7eda61-9349-469f-ac27-e5b6f5ec475c  yandex\n",
       "2  8c356c42-3ba9-4cb6-80b8-3f868d0192c3  yandex\n",
       "3  d9b06b47-0f36-419b-bbb0-3533e582a6cb   other\n",
       "4  f32e1e2a-3027-4693-b793-b7b3ff274439  google"
      ]
     },
     "metadata": {},
     "output_type": "display_data"
    },
    {
     "data": {
      "text/html": [
       "<div>\n",
       "<style scoped>\n",
       "    .dataframe tbody tr th:only-of-type {\n",
       "        vertical-align: middle;\n",
       "    }\n",
       "\n",
       "    .dataframe tbody tr th {\n",
       "        vertical-align: top;\n",
       "    }\n",
       "\n",
       "    .dataframe thead th {\n",
       "        text-align: right;\n",
       "    }\n",
       "</style>\n",
       "<table border=\"1\" class=\"dataframe\">\n",
       "  <thead>\n",
       "    <tr style=\"text-align: right;\">\n",
       "      <th></th>\n",
       "      <th>event.time</th>\n",
       "      <th>event.name</th>\n",
       "      <th>user.id</th>\n",
       "    </tr>\n",
       "  </thead>\n",
       "  <tbody>\n",
       "    <tr>\n",
       "      <th>0</th>\n",
       "      <td>2019-10-07 00:00:00.431357</td>\n",
       "      <td>advert_open</td>\n",
       "      <td>020292ab-89bc-4156-9acf-68bc2783f894</td>\n",
       "    </tr>\n",
       "    <tr>\n",
       "      <th>1</th>\n",
       "      <td>2019-10-07 00:00:01.236320</td>\n",
       "      <td>tips_show</td>\n",
       "      <td>020292ab-89bc-4156-9acf-68bc2783f894</td>\n",
       "    </tr>\n",
       "    <tr>\n",
       "      <th>2</th>\n",
       "      <td>2019-10-07 00:00:02.245341</td>\n",
       "      <td>tips_show</td>\n",
       "      <td>cf7eda61-9349-469f-ac27-e5b6f5ec475c</td>\n",
       "    </tr>\n",
       "    <tr>\n",
       "      <th>3</th>\n",
       "      <td>2019-10-07 00:00:07.039334</td>\n",
       "      <td>tips_show</td>\n",
       "      <td>020292ab-89bc-4156-9acf-68bc2783f894</td>\n",
       "    </tr>\n",
       "    <tr>\n",
       "      <th>4</th>\n",
       "      <td>2019-10-07 00:00:56.319813</td>\n",
       "      <td>advert_open</td>\n",
       "      <td>cf7eda61-9349-469f-ac27-e5b6f5ec475c</td>\n",
       "    </tr>\n",
       "  </tbody>\n",
       "</table>\n",
       "</div>"
      ],
      "text/plain": [
       "                   event.time   event.name  \\\n",
       "0  2019-10-07 00:00:00.431357  advert_open   \n",
       "1  2019-10-07 00:00:01.236320    tips_show   \n",
       "2  2019-10-07 00:00:02.245341    tips_show   \n",
       "3  2019-10-07 00:00:07.039334    tips_show   \n",
       "4  2019-10-07 00:00:56.319813  advert_open   \n",
       "\n",
       "                                user.id  \n",
       "0  020292ab-89bc-4156-9acf-68bc2783f894  \n",
       "1  020292ab-89bc-4156-9acf-68bc2783f894  \n",
       "2  cf7eda61-9349-469f-ac27-e5b6f5ec475c  \n",
       "3  020292ab-89bc-4156-9acf-68bc2783f894  \n",
       "4  cf7eda61-9349-469f-ac27-e5b6f5ec475c  "
      ]
     },
     "metadata": {},
     "output_type": "display_data"
    }
   ],
   "source": [
    "# чтение файла с данными и сохранение в logs\n",
    "try:\n",
    "    # адрес на платформе Яндекса\n",
    "    mobile_sources = pd.read_csv('https://code.s3.yandex.net/datasets/mobile_soures.csv')\n",
    "    mobile_dataset = pd.read_csv('https://code.s3.yandex.net/datasets/mobile_dataset.csv')  \n",
    "except:\n",
    "    # адрес в локальном окружении\n",
    "    mobile_sources = pd.read_csv('mobile_sources.csv')\n",
    "    mobile_dataset = pd.read_csv('mobile_dataset.csv')\n",
    "# получение первых 5 строк таблиц\n",
    "display(mobile_sources.head(5)) \n",
    "display(mobile_dataset.head(5)) "
   ]
  },
  {
   "cell_type": "markdown",
   "id": "6a30dfbd",
   "metadata": {},
   "source": [
    "Получим общую информацию о таблицах. Начнем с таблицы `mobile_sourсes`."
   ]
  },
  {
   "cell_type": "code",
   "execution_count": 3,
   "id": "7b90f054",
   "metadata": {
    "scrolled": true
   },
   "outputs": [
    {
     "name": "stdout",
     "output_type": "stream",
     "text": [
      "<class 'pandas.core.frame.DataFrame'>\n",
      "RangeIndex: 4293 entries, 0 to 4292\n",
      "Data columns (total 2 columns):\n",
      " #   Column  Non-Null Count  Dtype \n",
      "---  ------  --------------  ----- \n",
      " 0   userId  4293 non-null   object\n",
      " 1   source  4293 non-null   object\n",
      "dtypes: object(2)\n",
      "memory usage: 67.2+ KB\n"
     ]
    }
   ],
   "source": [
    "mobile_sources.info() # получение общей информации о данных в таблице mobile_sourсes"
   ]
  },
  {
   "cell_type": "markdown",
   "id": "ef5e6d1f",
   "metadata": {},
   "source": [
    "Таблица `mobile_sourсes` (источники установки приложения)\n",
    "Каждая запись в таблице - это пользователь и источник установки приложения.\n",
    "\n",
    "В таблице 2 столбца. Согласно документации к данным:\n",
    "* `userId` — идентификатор пользователя, тип данных object;\n",
    "* `source` — источник установки приложения, тип данных object.\n",
    "\n",
    "Представлены следующие источники:\n",
    "   1. google;\n",
    "   2. yandex;\n",
    "   2. other - другой. \n",
    "\n",
    "В таблице 4293 значения в каждом столбце, пропущенных значений нет.\n",
    "Названия всех столбцов необходимо привести к хорошему стилю."
   ]
  },
  {
   "cell_type": "code",
   "execution_count": 4,
   "id": "0f20f4bd",
   "metadata": {},
   "outputs": [
    {
     "name": "stdout",
     "output_type": "stream",
     "text": [
      "<class 'pandas.core.frame.DataFrame'>\n",
      "RangeIndex: 74197 entries, 0 to 74196\n",
      "Data columns (total 3 columns):\n",
      " #   Column      Non-Null Count  Dtype \n",
      "---  ------      --------------  ----- \n",
      " 0   event.time  74197 non-null  object\n",
      " 1   event.name  74197 non-null  object\n",
      " 2   user.id     74197 non-null  object\n",
      "dtypes: object(3)\n",
      "memory usage: 1.7+ MB\n"
     ]
    }
   ],
   "source": [
    "mobile_dataset.info() # получение общей информации о данных в таблице mobile_dataset"
   ]
  },
  {
   "cell_type": "markdown",
   "id": "3e93bc61",
   "metadata": {},
   "source": [
    "Таблица `mobile_dataset` (данные приложения)\n",
    "Каждая запись в логе - это действие или событие.\n",
    "\n",
    "В таблице 3 столбца. Согласно документации к данным:\n",
    "* `event.time` - время совершения события,\n",
    "* `event.name` — название события;\n",
    "* `user.id` — идентификатор пользователя.\n",
    "\n",
    "Представлены следующие события:\n",
    "   1. advert_open - открытие карточки объявления;\n",
    "   2. photos_show  - просмотр фотографий в объявлении;      \n",
    "   3. tips_show - пользователь увидел рекомендованные объявления;         \n",
    "   4. tips_click  - пользователь кликнул по рекомендованному объявлению;   \n",
    "   5. contacts_show и show_contacts - пользователь нажал на кнопку \"посмотреть номер телефона\" на карточке объявления;\n",
    "   6. contacts_call - пользователь позвонил по номеру телефона на карточке объявления;\n",
    "   7. map - пользователь открыл карту размещенных объявлений;\n",
    "   8. search_1 - search_7 - разные события, связанные с поиском по сайту;\n",
    "   9. favorites_add -  добавление объявления в избранное.\n",
    "\n",
    "У всех столбцов тип данных - object.\n",
    "\n",
    "В таблице 74 197 значений в каждом столбце, пропущенных значений нет.\n",
    "Названия всех столбцов необходимо привести к хорошему стилю. Столбец `event.time` необходимо будет преобразовать в формат дата/время."
   ]
  },
  {
   "cell_type": "markdown",
   "id": "753536c8",
   "metadata": {},
   "source": [
    "**Выводы**\n",
    "\n",
    "Данные для анализа содержатся в таблицах `mobile_sources` и `mobile_dataset`, они включают информацию о событиях пользователей и их источникам установки приложения. Для достижения целей исследования необходимо будет провести предобработку: привести данные к необходимым форматам, привести названия столбцов к хорошему стилю и убедиться в качестве данных. \n",
    "\n",
    "Чтобы двигаться дальше, нужно устранить проблемы в данных."
   ]
  },
  {
   "cell_type": "markdown",
   "id": "24c2b26a",
   "metadata": {},
   "source": [
    "### Приведение названий столбцов к хорошему стилю"
   ]
  },
  {
   "cell_type": "markdown",
   "id": "d1fca6af",
   "metadata": {},
   "source": [
    "Заменим названия столбцов в таблицах - приведем к snake_case - нижний регистр с нижними поджчеркиваниями."
   ]
  },
  {
   "cell_type": "code",
   "execution_count": 5,
   "id": "7239f47b",
   "metadata": {
    "scrolled": true
   },
   "outputs": [
    {
     "name": "stdout",
     "output_type": "stream",
     "text": [
      "Index(['user_id', 'source'], dtype='object')\n",
      "Index(['event_time', 'event_name', 'user_id'], dtype='object')\n"
     ]
    }
   ],
   "source": [
    "# Переименование столбца в mobile_sourсes\n",
    "mobile_sources = mobile_sources.rename(columns={'userId':'user_id'})\n",
    "# Переименование столбцов\n",
    "mobile_dataset.columns = ['event_time', 'event_name','user_id']\n",
    "# Проверка - вывод названий столбцов\n",
    "print(mobile_sources.columns)\n",
    "print(mobile_dataset.columns)"
   ]
  },
  {
   "cell_type": "markdown",
   "id": "f76d06e8",
   "metadata": {},
   "source": [
    "Теперь названия столбцов в порядке. "
   ]
  },
  {
   "cell_type": "markdown",
   "id": "ae8c5858",
   "metadata": {},
   "source": [
    "### Преобразование типов данных"
   ]
  },
  {
   "cell_type": "markdown",
   "id": "7bdde790",
   "metadata": {},
   "source": [
    " Cтолбец `event_time` преобразуем в формат дата/время."
   ]
  },
  {
   "cell_type": "code",
   "execution_count": 6,
   "id": "c28d24e6",
   "metadata": {},
   "outputs": [
    {
     "name": "stdout",
     "output_type": "stream",
     "text": [
      "<class 'numpy.dtype[datetime64]'>\n"
     ]
    },
    {
     "data": {
      "text/html": [
       "<div>\n",
       "<style scoped>\n",
       "    .dataframe tbody tr th:only-of-type {\n",
       "        vertical-align: middle;\n",
       "    }\n",
       "\n",
       "    .dataframe tbody tr th {\n",
       "        vertical-align: top;\n",
       "    }\n",
       "\n",
       "    .dataframe thead th {\n",
       "        text-align: right;\n",
       "    }\n",
       "</style>\n",
       "<table border=\"1\" class=\"dataframe\">\n",
       "  <thead>\n",
       "    <tr style=\"text-align: right;\">\n",
       "      <th></th>\n",
       "      <th>event_time</th>\n",
       "      <th>event_name</th>\n",
       "      <th>user_id</th>\n",
       "    </tr>\n",
       "  </thead>\n",
       "  <tbody>\n",
       "    <tr>\n",
       "      <th>0</th>\n",
       "      <td>2019-10-07 00:00:00.431357</td>\n",
       "      <td>advert_open</td>\n",
       "      <td>020292ab-89bc-4156-9acf-68bc2783f894</td>\n",
       "    </tr>\n",
       "    <tr>\n",
       "      <th>1</th>\n",
       "      <td>2019-10-07 00:00:01.236320</td>\n",
       "      <td>tips_show</td>\n",
       "      <td>020292ab-89bc-4156-9acf-68bc2783f894</td>\n",
       "    </tr>\n",
       "    <tr>\n",
       "      <th>2</th>\n",
       "      <td>2019-10-07 00:00:02.245341</td>\n",
       "      <td>tips_show</td>\n",
       "      <td>cf7eda61-9349-469f-ac27-e5b6f5ec475c</td>\n",
       "    </tr>\n",
       "    <tr>\n",
       "      <th>3</th>\n",
       "      <td>2019-10-07 00:00:07.039334</td>\n",
       "      <td>tips_show</td>\n",
       "      <td>020292ab-89bc-4156-9acf-68bc2783f894</td>\n",
       "    </tr>\n",
       "    <tr>\n",
       "      <th>4</th>\n",
       "      <td>2019-10-07 00:00:56.319813</td>\n",
       "      <td>advert_open</td>\n",
       "      <td>cf7eda61-9349-469f-ac27-e5b6f5ec475c</td>\n",
       "    </tr>\n",
       "  </tbody>\n",
       "</table>\n",
       "</div>"
      ],
      "text/plain": [
       "                  event_time   event_name  \\\n",
       "0 2019-10-07 00:00:00.431357  advert_open   \n",
       "1 2019-10-07 00:00:01.236320    tips_show   \n",
       "2 2019-10-07 00:00:02.245341    tips_show   \n",
       "3 2019-10-07 00:00:07.039334    tips_show   \n",
       "4 2019-10-07 00:00:56.319813  advert_open   \n",
       "\n",
       "                                user_id  \n",
       "0  020292ab-89bc-4156-9acf-68bc2783f894  \n",
       "1  020292ab-89bc-4156-9acf-68bc2783f894  \n",
       "2  cf7eda61-9349-469f-ac27-e5b6f5ec475c  \n",
       "3  020292ab-89bc-4156-9acf-68bc2783f894  \n",
       "4  cf7eda61-9349-469f-ac27-e5b6f5ec475c  "
      ]
     },
     "execution_count": 6,
     "metadata": {},
     "output_type": "execute_result"
    }
   ],
   "source": [
    "# Изменение типа данных с помощью метода .to_datetime()\n",
    "mobile_dataset['event_time'] = pd.to_datetime(mobile_dataset['event_time'])\n",
    "# Запрос получившегося типа данных\n",
    "print(type(mobile_dataset['event_time'].dtype))\n",
    "# Проверка - получение первых 5 строк таблицы\n",
    "mobile_dataset.head()"
   ]
  },
  {
   "cell_type": "markdown",
   "id": "b8689a3e",
   "metadata": {},
   "source": [
    "Замена произведена успешно."
   ]
  },
  {
   "cell_type": "markdown",
   "id": "808da9c5",
   "metadata": {},
   "source": [
    "### Проверка данных на аномалии и дубликаты"
   ]
  },
  {
   "cell_type": "markdown",
   "id": "4dcdebce",
   "metadata": {},
   "source": [
    "Проверим поля event_name, source на аномалии."
   ]
  },
  {
   "cell_type": "code",
   "execution_count": 7,
   "id": "97543c7c",
   "metadata": {
    "scrolled": true
   },
   "outputs": [
    {
     "name": "stdout",
     "output_type": "stream",
     "text": [
      "tips_show        40055\n",
      "photos_show      10012\n",
      "advert_open       6164\n",
      "contacts_show     4450\n",
      "map               3881\n",
      "search_1          3506\n",
      "favorites_add     1417\n",
      "search_5          1049\n",
      "tips_click         814\n",
      "search_4           701\n",
      "contacts_call      541\n",
      "search_3           522\n",
      "search_6           460\n",
      "search_2           324\n",
      "search_7           222\n",
      "show_contacts       79\n",
      "Name: event_name, dtype: int64\n",
      "yandex    1934\n",
      "other     1230\n",
      "google    1129\n",
      "Name: source, dtype: int64\n"
     ]
    }
   ],
   "source": [
    "# Запрос значений поля\n",
    "print(mobile_dataset.event_name.value_counts())\n",
    "print(mobile_sources.source.value_counts())"
   ]
  },
  {
   "cell_type": "markdown",
   "id": "26124652",
   "metadata": {},
   "source": [
    "Аномалий в содержании полей event_name и source нет, однако есть дубликаты: contacts_show и show_contacts, также к дубликатам можно отнести все значения search - они демонстрируют различные действия, но в контексте нашего исследования это не принципиально, мы можем их объединить."
   ]
  },
  {
   "cell_type": "code",
   "execution_count": 8,
   "id": "6c54ed7f",
   "metadata": {},
   "outputs": [
    {
     "data": {
      "text/plain": [
       "tips_show        40055\n",
       "photos_show      10012\n",
       "search            6784\n",
       "advert_open       6164\n",
       "contacts_show     4529\n",
       "map               3881\n",
       "favorites_add     1417\n",
       "tips_click         814\n",
       "contacts_call      541\n",
       "Name: event_name, dtype: int64"
      ]
     },
     "execution_count": 8,
     "metadata": {},
     "output_type": "execute_result"
    }
   ],
   "source": [
    "# Замена значений в поле\n",
    "mobile_dataset.loc[mobile_dataset['event_name'] == 'show_contacts', 'event_name'] = 'contacts_show'\n",
    "mobile_dataset['event_name'] = mobile_dataset['event_name'].str.replace(r'_[1-7]','', regex=True)\n",
    "# Проверка - запрос значений полей\n",
    "mobile_dataset.event_name.value_counts()"
   ]
  },
  {
   "cell_type": "markdown",
   "id": "bfa3c094",
   "metadata": {},
   "source": [
    "Теперь проверим таблицы на явные дубликаты."
   ]
  },
  {
   "cell_type": "code",
   "execution_count": 9,
   "id": "936b0f3f",
   "metadata": {},
   "outputs": [
    {
     "name": "stdout",
     "output_type": "stream",
     "text": [
      "0\n",
      "0\n"
     ]
    }
   ],
   "source": [
    "# Запрос количества явных дубликатов\n",
    "print(mobile_dataset.duplicated().sum())\n",
    "print(mobile_sources.duplicated().sum())"
   ]
  },
  {
   "cell_type": "markdown",
   "id": "14c7a20a",
   "metadata": {},
   "source": [
    "Явных дубликатов в таблицах нет. \n",
    "Мы проверили данные на аномалии и дубликаты, устранили небольшие погрешности и теперь можем приступать к дальнейшему анализу"
   ]
  },
  {
   "cell_type": "markdown",
   "id": "f14f752f",
   "metadata": {},
   "source": [
    "### Расчет дополнительных показателей"
   ]
  },
  {
   "cell_type": "markdown",
   "id": "184ebe3b",
   "metadata": {},
   "source": [
    "Выделим в отдельный столбец информацию о дате события и дне недели."
   ]
  },
  {
   "cell_type": "code",
   "execution_count": 10,
   "id": "206b0cf9",
   "metadata": {},
   "outputs": [
    {
     "name": "stdout",
     "output_type": "stream",
     "text": [
      "<class 'numpy.dtype[object_]'>\n",
      "<class 'numpy.dtype[int64]'>\n"
     ]
    },
    {
     "data": {
      "text/html": [
       "<div>\n",
       "<style scoped>\n",
       "    .dataframe tbody tr th:only-of-type {\n",
       "        vertical-align: middle;\n",
       "    }\n",
       "\n",
       "    .dataframe tbody tr th {\n",
       "        vertical-align: top;\n",
       "    }\n",
       "\n",
       "    .dataframe thead th {\n",
       "        text-align: right;\n",
       "    }\n",
       "</style>\n",
       "<table border=\"1\" class=\"dataframe\">\n",
       "  <thead>\n",
       "    <tr style=\"text-align: right;\">\n",
       "      <th></th>\n",
       "      <th>event_time</th>\n",
       "      <th>event_name</th>\n",
       "      <th>user_id</th>\n",
       "      <th>event_date</th>\n",
       "      <th>event_weekday</th>\n",
       "    </tr>\n",
       "  </thead>\n",
       "  <tbody>\n",
       "    <tr>\n",
       "      <th>0</th>\n",
       "      <td>2019-10-07 00:00:00.431357</td>\n",
       "      <td>advert_open</td>\n",
       "      <td>020292ab-89bc-4156-9acf-68bc2783f894</td>\n",
       "      <td>2019-10-07</td>\n",
       "      <td>0</td>\n",
       "    </tr>\n",
       "    <tr>\n",
       "      <th>1</th>\n",
       "      <td>2019-10-07 00:00:01.236320</td>\n",
       "      <td>tips_show</td>\n",
       "      <td>020292ab-89bc-4156-9acf-68bc2783f894</td>\n",
       "      <td>2019-10-07</td>\n",
       "      <td>0</td>\n",
       "    </tr>\n",
       "    <tr>\n",
       "      <th>2</th>\n",
       "      <td>2019-10-07 00:00:02.245341</td>\n",
       "      <td>tips_show</td>\n",
       "      <td>cf7eda61-9349-469f-ac27-e5b6f5ec475c</td>\n",
       "      <td>2019-10-07</td>\n",
       "      <td>0</td>\n",
       "    </tr>\n",
       "    <tr>\n",
       "      <th>3</th>\n",
       "      <td>2019-10-07 00:00:07.039334</td>\n",
       "      <td>tips_show</td>\n",
       "      <td>020292ab-89bc-4156-9acf-68bc2783f894</td>\n",
       "      <td>2019-10-07</td>\n",
       "      <td>0</td>\n",
       "    </tr>\n",
       "    <tr>\n",
       "      <th>4</th>\n",
       "      <td>2019-10-07 00:00:56.319813</td>\n",
       "      <td>advert_open</td>\n",
       "      <td>cf7eda61-9349-469f-ac27-e5b6f5ec475c</td>\n",
       "      <td>2019-10-07</td>\n",
       "      <td>0</td>\n",
       "    </tr>\n",
       "  </tbody>\n",
       "</table>\n",
       "</div>"
      ],
      "text/plain": [
       "                  event_time   event_name  \\\n",
       "0 2019-10-07 00:00:00.431357  advert_open   \n",
       "1 2019-10-07 00:00:01.236320    tips_show   \n",
       "2 2019-10-07 00:00:02.245341    tips_show   \n",
       "3 2019-10-07 00:00:07.039334    tips_show   \n",
       "4 2019-10-07 00:00:56.319813  advert_open   \n",
       "\n",
       "                                user_id  event_date  event_weekday  \n",
       "0  020292ab-89bc-4156-9acf-68bc2783f894  2019-10-07              0  \n",
       "1  020292ab-89bc-4156-9acf-68bc2783f894  2019-10-07              0  \n",
       "2  cf7eda61-9349-469f-ac27-e5b6f5ec475c  2019-10-07              0  \n",
       "3  020292ab-89bc-4156-9acf-68bc2783f894  2019-10-07              0  \n",
       "4  cf7eda61-9349-469f-ac27-e5b6f5ec475c  2019-10-07              0  "
      ]
     },
     "execution_count": 10,
     "metadata": {},
     "output_type": "execute_result"
    }
   ],
   "source": [
    "# Выделение даты с помощью индекса .dt.date \n",
    "mobile_dataset['event_date'] = mobile_dataset['event_time'].dt.date \n",
    "mobile_dataset['event_weekday'] = mobile_dataset['event_time'].dt.weekday\n",
    "# Запрос получившегося типа данных\n",
    "print(type(mobile_dataset['event_date'].dtype))\n",
    "print(type(mobile_dataset['event_weekday'].dtype))\n",
    "# Проверка - получение первых 5 строк таблицы\n",
    "mobile_dataset.head()"
   ]
  },
  {
   "cell_type": "markdown",
   "id": "ff3f5690",
   "metadata": {},
   "source": [
    "Добавление прошло успешно."
   ]
  },
  {
   "cell_type": "markdown",
   "id": "81c58faf",
   "metadata": {},
   "source": [
    "Для полноценного анализа лучше использовать не отдельные пользовательские действия, а сессии. В дальнейшем стоит логировать сессии пользователей, но пока информации о сессиях у нас нет, поэтому попробуем рассчитать номер сессии для каждого пользователя самостоятельно. Установим длительность паузы между сессиями в 30 минут - после этого сессия \"закрывается\", а дальнейшие действия пользователя относятся к следующей сессии. "
   ]
  },
  {
   "cell_type": "code",
   "execution_count": 11,
   "id": "afe9e5f6",
   "metadata": {},
   "outputs": [
    {
     "data": {
      "text/html": [
       "<div>\n",
       "<style scoped>\n",
       "    .dataframe tbody tr th:only-of-type {\n",
       "        vertical-align: middle;\n",
       "    }\n",
       "\n",
       "    .dataframe tbody tr th {\n",
       "        vertical-align: top;\n",
       "    }\n",
       "\n",
       "    .dataframe thead th {\n",
       "        text-align: right;\n",
       "    }\n",
       "</style>\n",
       "<table border=\"1\" class=\"dataframe\">\n",
       "  <thead>\n",
       "    <tr style=\"text-align: right;\">\n",
       "      <th></th>\n",
       "      <th>event_time</th>\n",
       "      <th>event_name</th>\n",
       "      <th>user_id</th>\n",
       "      <th>event_date</th>\n",
       "      <th>event_weekday</th>\n",
       "      <th>session_id</th>\n",
       "    </tr>\n",
       "  </thead>\n",
       "  <tbody>\n",
       "    <tr>\n",
       "      <th>805</th>\n",
       "      <td>2019-10-07 13:39:45.989359</td>\n",
       "      <td>tips_show</td>\n",
       "      <td>0001b1d5-b74a-4cbf-aeb0-7df5947bf349</td>\n",
       "      <td>2019-10-07</td>\n",
       "      <td>0</td>\n",
       "      <td>1</td>\n",
       "    </tr>\n",
       "    <tr>\n",
       "      <th>806</th>\n",
       "      <td>2019-10-07 13:40:31.052909</td>\n",
       "      <td>tips_show</td>\n",
       "      <td>0001b1d5-b74a-4cbf-aeb0-7df5947bf349</td>\n",
       "      <td>2019-10-07</td>\n",
       "      <td>0</td>\n",
       "      <td>1</td>\n",
       "    </tr>\n",
       "    <tr>\n",
       "      <th>809</th>\n",
       "      <td>2019-10-07 13:41:05.722489</td>\n",
       "      <td>tips_show</td>\n",
       "      <td>0001b1d5-b74a-4cbf-aeb0-7df5947bf349</td>\n",
       "      <td>2019-10-07</td>\n",
       "      <td>0</td>\n",
       "      <td>1</td>\n",
       "    </tr>\n",
       "    <tr>\n",
       "      <th>820</th>\n",
       "      <td>2019-10-07 13:43:20.735461</td>\n",
       "      <td>tips_show</td>\n",
       "      <td>0001b1d5-b74a-4cbf-aeb0-7df5947bf349</td>\n",
       "      <td>2019-10-07</td>\n",
       "      <td>0</td>\n",
       "      <td>1</td>\n",
       "    </tr>\n",
       "    <tr>\n",
       "      <th>830</th>\n",
       "      <td>2019-10-07 13:45:30.917502</td>\n",
       "      <td>tips_show</td>\n",
       "      <td>0001b1d5-b74a-4cbf-aeb0-7df5947bf349</td>\n",
       "      <td>2019-10-07</td>\n",
       "      <td>0</td>\n",
       "      <td>1</td>\n",
       "    </tr>\n",
       "    <tr>\n",
       "      <th>831</th>\n",
       "      <td>2019-10-07 13:45:43.212340</td>\n",
       "      <td>tips_show</td>\n",
       "      <td>0001b1d5-b74a-4cbf-aeb0-7df5947bf349</td>\n",
       "      <td>2019-10-07</td>\n",
       "      <td>0</td>\n",
       "      <td>1</td>\n",
       "    </tr>\n",
       "    <tr>\n",
       "      <th>832</th>\n",
       "      <td>2019-10-07 13:46:31.033718</td>\n",
       "      <td>tips_show</td>\n",
       "      <td>0001b1d5-b74a-4cbf-aeb0-7df5947bf349</td>\n",
       "      <td>2019-10-07</td>\n",
       "      <td>0</td>\n",
       "      <td>1</td>\n",
       "    </tr>\n",
       "    <tr>\n",
       "      <th>836</th>\n",
       "      <td>2019-10-07 13:47:32.860234</td>\n",
       "      <td>tips_show</td>\n",
       "      <td>0001b1d5-b74a-4cbf-aeb0-7df5947bf349</td>\n",
       "      <td>2019-10-07</td>\n",
       "      <td>0</td>\n",
       "      <td>1</td>\n",
       "    </tr>\n",
       "    <tr>\n",
       "      <th>839</th>\n",
       "      <td>2019-10-07 13:49:41.716617</td>\n",
       "      <td>tips_show</td>\n",
       "      <td>0001b1d5-b74a-4cbf-aeb0-7df5947bf349</td>\n",
       "      <td>2019-10-07</td>\n",
       "      <td>0</td>\n",
       "      <td>1</td>\n",
       "    </tr>\n",
       "    <tr>\n",
       "      <th>6541</th>\n",
       "      <td>2019-10-09 18:33:55.577963</td>\n",
       "      <td>map</td>\n",
       "      <td>0001b1d5-b74a-4cbf-aeb0-7df5947bf349</td>\n",
       "      <td>2019-10-09</td>\n",
       "      <td>2</td>\n",
       "      <td>2</td>\n",
       "    </tr>\n",
       "  </tbody>\n",
       "</table>\n",
       "</div>"
      ],
      "text/plain": [
       "                     event_time event_name  \\\n",
       "805  2019-10-07 13:39:45.989359  tips_show   \n",
       "806  2019-10-07 13:40:31.052909  tips_show   \n",
       "809  2019-10-07 13:41:05.722489  tips_show   \n",
       "820  2019-10-07 13:43:20.735461  tips_show   \n",
       "830  2019-10-07 13:45:30.917502  tips_show   \n",
       "831  2019-10-07 13:45:43.212340  tips_show   \n",
       "832  2019-10-07 13:46:31.033718  tips_show   \n",
       "836  2019-10-07 13:47:32.860234  tips_show   \n",
       "839  2019-10-07 13:49:41.716617  tips_show   \n",
       "6541 2019-10-09 18:33:55.577963        map   \n",
       "\n",
       "                                   user_id  event_date  event_weekday  \\\n",
       "805   0001b1d5-b74a-4cbf-aeb0-7df5947bf349  2019-10-07              0   \n",
       "806   0001b1d5-b74a-4cbf-aeb0-7df5947bf349  2019-10-07              0   \n",
       "809   0001b1d5-b74a-4cbf-aeb0-7df5947bf349  2019-10-07              0   \n",
       "820   0001b1d5-b74a-4cbf-aeb0-7df5947bf349  2019-10-07              0   \n",
       "830   0001b1d5-b74a-4cbf-aeb0-7df5947bf349  2019-10-07              0   \n",
       "831   0001b1d5-b74a-4cbf-aeb0-7df5947bf349  2019-10-07              0   \n",
       "832   0001b1d5-b74a-4cbf-aeb0-7df5947bf349  2019-10-07              0   \n",
       "836   0001b1d5-b74a-4cbf-aeb0-7df5947bf349  2019-10-07              0   \n",
       "839   0001b1d5-b74a-4cbf-aeb0-7df5947bf349  2019-10-07              0   \n",
       "6541  0001b1d5-b74a-4cbf-aeb0-7df5947bf349  2019-10-09              2   \n",
       "\n",
       "      session_id  \n",
       "805            1  \n",
       "806            1  \n",
       "809            1  \n",
       "820            1  \n",
       "830            1  \n",
       "831            1  \n",
       "832            1  \n",
       "836            1  \n",
       "839            1  \n",
       "6541           2  "
      ]
     },
     "metadata": {},
     "output_type": "display_data"
    },
    {
     "name": "stdout",
     "output_type": "stream",
     "text": [
      "Всего событий - 74197, сессий - 10368.\n"
     ]
    }
   ],
   "source": [
    "# Установление длительности паузы, после которой сессия закрывается\n",
    "time_difference = '30Min'\n",
    "# Сортировка таблицы для верного распределения действий по секциям\n",
    "mobile_dataset = mobile_dataset.sort_values(['user_id', 'event_time']) \n",
    "# Определение разницы в каждой группе, кумулятивная сумма по пользователям \n",
    "group = (mobile_dataset.groupby('user_id')['event_time'].diff() > pd.Timedelta(time_difference)).cumsum()\n",
    "# Установление номеров сессии\n",
    "mobile_dataset['session_id'] = mobile_dataset.groupby(['user_id', group], sort=False).ngroup() + 1\n",
    "# Проверка - получение первых 10 строк таблицы\n",
    "display(mobile_dataset.head(10))\n",
    "print(f'Всего событий - {len(mobile_dataset)}, сессий - {mobile_dataset.session_id.max()}.')"
   ]
  },
  {
   "cell_type": "markdown",
   "id": "6faac2e2",
   "metadata": {},
   "source": [
    "### Агрегация данных"
   ]
  },
  {
   "cell_type": "markdown",
   "id": "68d42601",
   "metadata": {},
   "source": [
    "Подготовим сводную таблицу по уникальным пользователям и внесем в нее все необходимые данные:\n",
    "* количество действий, \n",
    "* количество сессий,\n",
    "* дата первого использования приложения, \n",
    "* дата последнего использования приложения, \n",
    "* разница между первым и последним днем использования приложения,\n",
    "* количество дней использования приложения,\n",
    "* факт конверсии, \n",
    "* дата конверсии,\n",
    "* источник установки приложения. "
   ]
  },
  {
   "cell_type": "markdown",
   "id": "a452179c",
   "metadata": {},
   "source": [
    "Начнем с расчета основных характеристик: дат использования и количества событий и сессий."
   ]
  },
  {
   "cell_type": "code",
   "execution_count": 12,
   "id": "6323c775",
   "metadata": {
    "scrolled": true
   },
   "outputs": [
    {
     "data": {
      "text/html": [
       "<div>\n",
       "<style scoped>\n",
       "    .dataframe tbody tr th:only-of-type {\n",
       "        vertical-align: middle;\n",
       "    }\n",
       "\n",
       "    .dataframe tbody tr th {\n",
       "        vertical-align: top;\n",
       "    }\n",
       "\n",
       "    .dataframe thead th {\n",
       "        text-align: right;\n",
       "    }\n",
       "</style>\n",
       "<table border=\"1\" class=\"dataframe\">\n",
       "  <thead>\n",
       "    <tr style=\"text-align: right;\">\n",
       "      <th></th>\n",
       "      <th>user_id</th>\n",
       "      <th>last_event</th>\n",
       "      <th>first_event</th>\n",
       "      <th>days_of_use</th>\n",
       "      <th>event_count</th>\n",
       "      <th>session_count</th>\n",
       "      <th>date_difference_in_days</th>\n",
       "    </tr>\n",
       "  </thead>\n",
       "  <tbody>\n",
       "    <tr>\n",
       "      <th>0</th>\n",
       "      <td>0001b1d5-b74a-4cbf-aeb0-7df5947bf349</td>\n",
       "      <td>2019-10-22</td>\n",
       "      <td>2019-10-07</td>\n",
       "      <td>4</td>\n",
       "      <td>35</td>\n",
       "      <td>4</td>\n",
       "      <td>15.0</td>\n",
       "    </tr>\n",
       "    <tr>\n",
       "      <th>1</th>\n",
       "      <td>00157779-810c-4498-9e05-a1e9e3cedf93</td>\n",
       "      <td>2019-11-03</td>\n",
       "      <td>2019-10-19</td>\n",
       "      <td>6</td>\n",
       "      <td>71</td>\n",
       "      <td>6</td>\n",
       "      <td>15.0</td>\n",
       "    </tr>\n",
       "    <tr>\n",
       "      <th>2</th>\n",
       "      <td>00463033-5717-4bf1-91b4-09183923b9df</td>\n",
       "      <td>2019-11-01</td>\n",
       "      <td>2019-11-01</td>\n",
       "      <td>1</td>\n",
       "      <td>10</td>\n",
       "      <td>1</td>\n",
       "      <td>0.0</td>\n",
       "    </tr>\n",
       "    <tr>\n",
       "      <th>3</th>\n",
       "      <td>004690c3-5a84-4bb7-a8af-e0c8f8fca64e</td>\n",
       "      <td>2019-10-31</td>\n",
       "      <td>2019-10-18</td>\n",
       "      <td>6</td>\n",
       "      <td>32</td>\n",
       "      <td>6</td>\n",
       "      <td>13.0</td>\n",
       "    </tr>\n",
       "    <tr>\n",
       "      <th>4</th>\n",
       "      <td>00551e79-152e-4441-9cf7-565d7eb04090</td>\n",
       "      <td>2019-10-29</td>\n",
       "      <td>2019-10-25</td>\n",
       "      <td>3</td>\n",
       "      <td>8</td>\n",
       "      <td>3</td>\n",
       "      <td>4.0</td>\n",
       "    </tr>\n",
       "  </tbody>\n",
       "</table>\n",
       "</div>"
      ],
      "text/plain": [
       "                                user_id  last_event first_event  days_of_use  \\\n",
       "0  0001b1d5-b74a-4cbf-aeb0-7df5947bf349  2019-10-22  2019-10-07            4   \n",
       "1  00157779-810c-4498-9e05-a1e9e3cedf93  2019-11-03  2019-10-19            6   \n",
       "2  00463033-5717-4bf1-91b4-09183923b9df  2019-11-01  2019-11-01            1   \n",
       "3  004690c3-5a84-4bb7-a8af-e0c8f8fca64e  2019-10-31  2019-10-18            6   \n",
       "4  00551e79-152e-4441-9cf7-565d7eb04090  2019-10-29  2019-10-25            3   \n",
       "\n",
       "   event_count  session_count  date_difference_in_days  \n",
       "0           35              4                     15.0  \n",
       "1           71              6                     15.0  \n",
       "2           10              1                      0.0  \n",
       "3           32              6                     13.0  \n",
       "4            8              3                      4.0  "
      ]
     },
     "execution_count": 12,
     "metadata": {},
     "output_type": "execute_result"
    }
   ],
   "source": [
    "# Создание сводной таблицы с информацией о датах, событиях и сессиях по пользователям\n",
    "events_pivot = mobile_dataset.pivot_table(\n",
    "    values=['event_name','session_id', 'event_date'] ,\n",
    "    index='user_id', \n",
    "    aggfunc={'event_name':'count', 'session_id':'nunique', 'event_date':['min', 'max', 'nunique']}, \n",
    ").reset_index()\n",
    "# Переименование столбцов\n",
    "events_pivot.columns = ['user_id','last_event', 'first_event', 'days_of_use', 'event_count', 'session_count']\n",
    "# Добавление столбца\n",
    "events_pivot['date_difference_in_days'] = (events_pivot['last_event'] - events_pivot['first_event'] ) / (\n",
    "    np.timedelta64(1, 'D')\n",
    ")\n",
    "# Изменение порядка столбцов\n",
    "events_pivot.reindex(['user_id','event_count', 'session_count', 'first_event', \n",
    "                      'last_event', 'date_difference_in_days', 'days_of_use'], \n",
    "                     axis=1)\n",
    "# Проверка - демонстрация первых 5 строк таблицы\n",
    "events_pivot.head(5)"
   ]
  },
  {
   "cell_type": "markdown",
   "id": "9c41148a",
   "metadata": {},
   "source": [
    "Для построения таблицы необходимо выделить пользователей, совершивших и не совершивших конверсию."
   ]
  },
  {
   "cell_type": "code",
   "execution_count": 13,
   "id": "9b93d33b",
   "metadata": {},
   "outputs": [
    {
     "name": "stdout",
     "output_type": "stream",
     "text": [
      "Всего пользователей, просмотревших контакты - 981, не просмотревших контакты - 3312.\n"
     ]
    }
   ],
   "source": [
    "# Выделение пользователей, у которых произошла и не произошла конверсия\n",
    "users_contacts_shown = mobile_dataset.loc[mobile_dataset['event_name'] == 'contacts_show', 'user_id'].unique()\n",
    "users_contacts_not_shown = mobile_dataset.query('user_id not in @users_contacts_shown')['user_id'].unique()\n",
    "print(f'Всего пользователей, просмотревших контакты - {len(users_contacts_shown)}, \\\n",
    "не просмотревших контакты - {len(users_contacts_not_shown)}.')"
   ]
  },
  {
   "cell_type": "markdown",
   "id": "7a196831",
   "metadata": {},
   "source": [
    "Теперь добавим факт и дату конверсии в таблицу."
   ]
  },
  {
   "cell_type": "code",
   "execution_count": 14,
   "id": "32bd41d1",
   "metadata": {},
   "outputs": [
    {
     "data": {
      "text/html": [
       "<div>\n",
       "<style scoped>\n",
       "    .dataframe tbody tr th:only-of-type {\n",
       "        vertical-align: middle;\n",
       "    }\n",
       "\n",
       "    .dataframe tbody tr th {\n",
       "        vertical-align: top;\n",
       "    }\n",
       "\n",
       "    .dataframe thead th {\n",
       "        text-align: right;\n",
       "    }\n",
       "</style>\n",
       "<table border=\"1\" class=\"dataframe\">\n",
       "  <thead>\n",
       "    <tr style=\"text-align: right;\">\n",
       "      <th></th>\n",
       "      <th>user_id</th>\n",
       "      <th>conversion_date</th>\n",
       "    </tr>\n",
       "  </thead>\n",
       "  <tbody>\n",
       "    <tr>\n",
       "      <th>0</th>\n",
       "      <td>00157779-810c-4498-9e05-a1e9e3cedf93</td>\n",
       "      <td>2019-10-20</td>\n",
       "    </tr>\n",
       "    <tr>\n",
       "      <th>1</th>\n",
       "      <td>00551e79-152e-4441-9cf7-565d7eb04090</td>\n",
       "      <td>2019-10-25</td>\n",
       "    </tr>\n",
       "    <tr>\n",
       "      <th>2</th>\n",
       "      <td>005fbea5-2678-406f-88a6-fbe9787e2268</td>\n",
       "      <td>2019-10-11</td>\n",
       "    </tr>\n",
       "    <tr>\n",
       "      <th>3</th>\n",
       "      <td>00753c79-ea81-4456-acd0-a47a23ca2fb9</td>\n",
       "      <td>2019-10-20</td>\n",
       "    </tr>\n",
       "    <tr>\n",
       "      <th>4</th>\n",
       "      <td>007d031d-5018-4e02-b7ee-72a30609173f</td>\n",
       "      <td>2019-10-22</td>\n",
       "    </tr>\n",
       "  </tbody>\n",
       "</table>\n",
       "</div>"
      ],
      "text/plain": [
       "                                user_id conversion_date\n",
       "0  00157779-810c-4498-9e05-a1e9e3cedf93      2019-10-20\n",
       "1  00551e79-152e-4441-9cf7-565d7eb04090      2019-10-25\n",
       "2  005fbea5-2678-406f-88a6-fbe9787e2268      2019-10-11\n",
       "3  00753c79-ea81-4456-acd0-a47a23ca2fb9      2019-10-20\n",
       "4  007d031d-5018-4e02-b7ee-72a30609173f      2019-10-22"
      ]
     },
     "metadata": {},
     "output_type": "display_data"
    },
    {
     "data": {
      "text/html": [
       "<div>\n",
       "<style scoped>\n",
       "    .dataframe tbody tr th:only-of-type {\n",
       "        vertical-align: middle;\n",
       "    }\n",
       "\n",
       "    .dataframe tbody tr th {\n",
       "        vertical-align: top;\n",
       "    }\n",
       "\n",
       "    .dataframe thead th {\n",
       "        text-align: right;\n",
       "    }\n",
       "</style>\n",
       "<table border=\"1\" class=\"dataframe\">\n",
       "  <thead>\n",
       "    <tr style=\"text-align: right;\">\n",
       "      <th></th>\n",
       "      <th>user_id</th>\n",
       "      <th>last_event</th>\n",
       "      <th>first_event</th>\n",
       "      <th>days_of_use</th>\n",
       "      <th>event_count</th>\n",
       "      <th>session_count</th>\n",
       "      <th>date_difference_in_days</th>\n",
       "      <th>conversion_date</th>\n",
       "      <th>user_conversion</th>\n",
       "      <th>source</th>\n",
       "    </tr>\n",
       "  </thead>\n",
       "  <tbody>\n",
       "    <tr>\n",
       "      <th>0</th>\n",
       "      <td>0001b1d5-b74a-4cbf-aeb0-7df5947bf349</td>\n",
       "      <td>2019-10-22</td>\n",
       "      <td>2019-10-07</td>\n",
       "      <td>4</td>\n",
       "      <td>35</td>\n",
       "      <td>4</td>\n",
       "      <td>15.0</td>\n",
       "      <td>NaN</td>\n",
       "      <td>0</td>\n",
       "      <td>other</td>\n",
       "    </tr>\n",
       "    <tr>\n",
       "      <th>1</th>\n",
       "      <td>00157779-810c-4498-9e05-a1e9e3cedf93</td>\n",
       "      <td>2019-11-03</td>\n",
       "      <td>2019-10-19</td>\n",
       "      <td>6</td>\n",
       "      <td>71</td>\n",
       "      <td>6</td>\n",
       "      <td>15.0</td>\n",
       "      <td>2019-10-20</td>\n",
       "      <td>1</td>\n",
       "      <td>yandex</td>\n",
       "    </tr>\n",
       "    <tr>\n",
       "      <th>2</th>\n",
       "      <td>00463033-5717-4bf1-91b4-09183923b9df</td>\n",
       "      <td>2019-11-01</td>\n",
       "      <td>2019-11-01</td>\n",
       "      <td>1</td>\n",
       "      <td>10</td>\n",
       "      <td>1</td>\n",
       "      <td>0.0</td>\n",
       "      <td>NaN</td>\n",
       "      <td>0</td>\n",
       "      <td>yandex</td>\n",
       "    </tr>\n",
       "    <tr>\n",
       "      <th>3</th>\n",
       "      <td>004690c3-5a84-4bb7-a8af-e0c8f8fca64e</td>\n",
       "      <td>2019-10-31</td>\n",
       "      <td>2019-10-18</td>\n",
       "      <td>6</td>\n",
       "      <td>32</td>\n",
       "      <td>6</td>\n",
       "      <td>13.0</td>\n",
       "      <td>NaN</td>\n",
       "      <td>0</td>\n",
       "      <td>google</td>\n",
       "    </tr>\n",
       "    <tr>\n",
       "      <th>4</th>\n",
       "      <td>00551e79-152e-4441-9cf7-565d7eb04090</td>\n",
       "      <td>2019-10-29</td>\n",
       "      <td>2019-10-25</td>\n",
       "      <td>3</td>\n",
       "      <td>8</td>\n",
       "      <td>3</td>\n",
       "      <td>4.0</td>\n",
       "      <td>2019-10-25</td>\n",
       "      <td>1</td>\n",
       "      <td>yandex</td>\n",
       "    </tr>\n",
       "  </tbody>\n",
       "</table>\n",
       "</div>"
      ],
      "text/plain": [
       "                                user_id  last_event first_event  days_of_use  \\\n",
       "0  0001b1d5-b74a-4cbf-aeb0-7df5947bf349  2019-10-22  2019-10-07            4   \n",
       "1  00157779-810c-4498-9e05-a1e9e3cedf93  2019-11-03  2019-10-19            6   \n",
       "2  00463033-5717-4bf1-91b4-09183923b9df  2019-11-01  2019-11-01            1   \n",
       "3  004690c3-5a84-4bb7-a8af-e0c8f8fca64e  2019-10-31  2019-10-18            6   \n",
       "4  00551e79-152e-4441-9cf7-565d7eb04090  2019-10-29  2019-10-25            3   \n",
       "\n",
       "   event_count  session_count  date_difference_in_days conversion_date  \\\n",
       "0           35              4                     15.0             NaN   \n",
       "1           71              6                     15.0      2019-10-20   \n",
       "2           10              1                      0.0             NaN   \n",
       "3           32              6                     13.0             NaN   \n",
       "4            8              3                      4.0      2019-10-25   \n",
       "\n",
       "   user_conversion  source  \n",
       "0                0   other  \n",
       "1                1  yandex  \n",
       "2                0  yandex  \n",
       "3                0  google  \n",
       "4                1  yandex  "
      ]
     },
     "metadata": {},
     "output_type": "display_data"
    }
   ],
   "source": [
    "# Расчет даты конверсии\n",
    "conversion_date = mobile_dataset.query(\n",
    "    'event_name == \"contacts_show\"').pivot_table(index='user_id', \n",
    "                                                                  values='event_date', \n",
    "                                                                  aggfunc='min').reset_index()\n",
    "conversion_date.columns = ['user_id','conversion_date']\n",
    "# Проверка - демонстрация первых 5 строк таблицы\n",
    "display(conversion_date.head(5))\n",
    "# Добавление данных о дате конверсии в сводную таблицу\n",
    "events_pivot = events_pivot.merge(conversion_date, on = 'user_id', how='left')\n",
    "# Добавление столбца с информацией о конверсии\n",
    "events_pivot['user_conversion'] = np.where(events_pivot['conversion_date'].isna(), 0, 1)\n",
    "# Добавление столбца с информацией об источнике установки приложения\n",
    "\n",
    "events_pivot = events_pivot.merge(mobile_sources, on = 'user_id', how='left')\n",
    "## Проверка - демонстрация первых 5 строк таблицы\n",
    "display(events_pivot.head(5))\n"
   ]
  },
  {
   "cell_type": "code",
   "execution_count": null,
   "id": "aa514959",
   "metadata": {},
   "outputs": [],
   "source": []
  },
  {
   "cell_type": "markdown",
   "id": "8b6f318a",
   "metadata": {},
   "source": [
    "Сводная таблица с информацией о пользователях успешно создана. "
   ]
  },
  {
   "cell_type": "markdown",
   "id": "ce69c29e",
   "metadata": {},
   "source": [
    "Подготовим сводную таблицу по сессиям, включим в нее следующую информацию:\n",
    "- идентификатор сессии,\n",
    "- пользователь,\n",
    "- дата,\n",
    "- начало сессии,\n",
    "- конец сессии, \n",
    "- длительность сессии,\n",
    "- часть дня, в который проходит сессия, \n",
    "- количество действий в сессии,\n",
    "- факт конверсии в рамках сессии,\n",
    "- факт конверсии у пользователя,\n",
    "- содержание сессии."
   ]
  },
  {
   "cell_type": "markdown",
   "id": "b7f2536f",
   "metadata": {},
   "source": [
    "Подготовим функцию для учета действий в сессии. "
   ]
  },
  {
   "cell_type": "code",
   "execution_count": 15,
   "id": "6f7657f2",
   "metadata": {},
   "outputs": [],
   "source": [
    "# Создание функции демонстрации списка действий в сессии\n",
    "def list_names(series):\n",
    "    unique_names = ''\n",
    "    for element in series:\n",
    "        if element not in unique_names:\n",
    "            unique_names = unique_names + ' ' + element\n",
    "    return unique_names\n"
   ]
  },
  {
   "cell_type": "markdown",
   "id": "e701252e",
   "metadata": {},
   "source": [
    "Теперь создадим сводную таблицу с информацией о сессиях."
   ]
  },
  {
   "cell_type": "code",
   "execution_count": 16,
   "id": "5cdcd725",
   "metadata": {},
   "outputs": [
    {
     "data": {
      "text/html": [
       "<div>\n",
       "<style scoped>\n",
       "    .dataframe tbody tr th:only-of-type {\n",
       "        vertical-align: middle;\n",
       "    }\n",
       "\n",
       "    .dataframe tbody tr th {\n",
       "        vertical-align: top;\n",
       "    }\n",
       "\n",
       "    .dataframe thead th {\n",
       "        text-align: right;\n",
       "    }\n",
       "</style>\n",
       "<table border=\"1\" class=\"dataframe\">\n",
       "  <thead>\n",
       "    <tr style=\"text-align: right;\">\n",
       "      <th></th>\n",
       "      <th>session_id</th>\n",
       "      <th>event_date</th>\n",
       "      <th>events_in_session</th>\n",
       "      <th>event_names</th>\n",
       "      <th>last_event_time</th>\n",
       "      <th>first_event_time</th>\n",
       "      <th>user_id</th>\n",
       "      <th>session_duration_min</th>\n",
       "      <th>daytime</th>\n",
       "      <th>session_conversion</th>\n",
       "      <th>user_conversion</th>\n",
       "    </tr>\n",
       "  </thead>\n",
       "  <tbody>\n",
       "    <tr>\n",
       "      <th>0</th>\n",
       "      <td>1</td>\n",
       "      <td>2019-10-07</td>\n",
       "      <td>9</td>\n",
       "      <td>tips_show</td>\n",
       "      <td>2019-10-07 13:49:41.716617</td>\n",
       "      <td>2019-10-07 13:39:45.989359</td>\n",
       "      <td>0001b1d5-b74a-4cbf-aeb0-7df5947bf349</td>\n",
       "      <td>10.93</td>\n",
       "      <td>день</td>\n",
       "      <td>0</td>\n",
       "      <td>0</td>\n",
       "    </tr>\n",
       "    <tr>\n",
       "      <th>1</th>\n",
       "      <td>2</td>\n",
       "      <td>2019-10-09</td>\n",
       "      <td>4</td>\n",
       "      <td>map tips_show</td>\n",
       "      <td>2019-10-09 18:42:22.963948</td>\n",
       "      <td>2019-10-09 18:33:55.577963</td>\n",
       "      <td>0001b1d5-b74a-4cbf-aeb0-7df5947bf349</td>\n",
       "      <td>9.46</td>\n",
       "      <td>вечер</td>\n",
       "      <td>0</td>\n",
       "      <td>0</td>\n",
       "    </tr>\n",
       "    <tr>\n",
       "      <th>2</th>\n",
       "      <td>3</td>\n",
       "      <td>2019-10-21</td>\n",
       "      <td>14</td>\n",
       "      <td>tips_show map</td>\n",
       "      <td>2019-10-21 20:07:30.051028</td>\n",
       "      <td>2019-10-21 19:52:30.778932</td>\n",
       "      <td>0001b1d5-b74a-4cbf-aeb0-7df5947bf349</td>\n",
       "      <td>15.99</td>\n",
       "      <td>вечер</td>\n",
       "      <td>0</td>\n",
       "      <td>0</td>\n",
       "    </tr>\n",
       "    <tr>\n",
       "      <th>3</th>\n",
       "      <td>4</td>\n",
       "      <td>2019-10-22</td>\n",
       "      <td>8</td>\n",
       "      <td>map tips_show</td>\n",
       "      <td>2019-10-22 11:30:52.807203</td>\n",
       "      <td>2019-10-22 11:18:14.635436</td>\n",
       "      <td>0001b1d5-b74a-4cbf-aeb0-7df5947bf349</td>\n",
       "      <td>13.64</td>\n",
       "      <td>день</td>\n",
       "      <td>0</td>\n",
       "      <td>0</td>\n",
       "    </tr>\n",
       "    <tr>\n",
       "      <th>4</th>\n",
       "      <td>5</td>\n",
       "      <td>2019-10-19</td>\n",
       "      <td>9</td>\n",
       "      <td>search photos_show</td>\n",
       "      <td>2019-10-19 21:59:54.637098</td>\n",
       "      <td>2019-10-19 21:34:33.849769</td>\n",
       "      <td>00157779-810c-4498-9e05-a1e9e3cedf93</td>\n",
       "      <td>26.35</td>\n",
       "      <td>вечер</td>\n",
       "      <td>0</td>\n",
       "      <td>1</td>\n",
       "    </tr>\n",
       "  </tbody>\n",
       "</table>\n",
       "</div>"
      ],
      "text/plain": [
       "   session_id  event_date  events_in_session          event_names  \\\n",
       "0           1  2019-10-07                  9            tips_show   \n",
       "1           2  2019-10-09                  4        map tips_show   \n",
       "2           3  2019-10-21                 14        tips_show map   \n",
       "3           4  2019-10-22                  8        map tips_show   \n",
       "4           5  2019-10-19                  9   search photos_show   \n",
       "\n",
       "             last_event_time           first_event_time  \\\n",
       "0 2019-10-07 13:49:41.716617 2019-10-07 13:39:45.989359   \n",
       "1 2019-10-09 18:42:22.963948 2019-10-09 18:33:55.577963   \n",
       "2 2019-10-21 20:07:30.051028 2019-10-21 19:52:30.778932   \n",
       "3 2019-10-22 11:30:52.807203 2019-10-22 11:18:14.635436   \n",
       "4 2019-10-19 21:59:54.637098 2019-10-19 21:34:33.849769   \n",
       "\n",
       "                                user_id  session_duration_min daytime  \\\n",
       "0  0001b1d5-b74a-4cbf-aeb0-7df5947bf349                 10.93    день   \n",
       "1  0001b1d5-b74a-4cbf-aeb0-7df5947bf349                  9.46   вечер   \n",
       "2  0001b1d5-b74a-4cbf-aeb0-7df5947bf349                 15.99   вечер   \n",
       "3  0001b1d5-b74a-4cbf-aeb0-7df5947bf349                 13.64    день   \n",
       "4  00157779-810c-4498-9e05-a1e9e3cedf93                 26.35   вечер   \n",
       "\n",
       "   session_conversion  user_conversion  \n",
       "0                   0                0  \n",
       "1                   0                0  \n",
       "2                   0                0  \n",
       "3                   0                0  \n",
       "4                   0                1  "
      ]
     },
     "execution_count": 16,
     "metadata": {},
     "output_type": "execute_result"
    }
   ],
   "source": [
    "# Создание сводной таблицы с информацией о сессиях\n",
    "sessions_pivot = mobile_dataset.pivot_table(\n",
    "    values=['event_name','user_id', 'event_date', 'event_time'] ,\n",
    "    index='session_id', \n",
    "    aggfunc={'user_id':'first', 'event_name':['count', list_names], 'event_date':'min', 'event_time' : ['min', 'max']}, \n",
    ").reset_index()\n",
    "sessions_pivot.head(5)\n",
    "\n",
    "# Переименование столбцов\n",
    "sessions_pivot.columns = ['session_id', 'event_date', 'events_in_session', 'event_names', 'last_event_time', 'first_event_time', 'user_id', ]\n",
    "# Добавление столбцов\n",
    "min_duration = pd.Timedelta(value = 1, unit='minutes')\n",
    "sessions_pivot['session_duration_min'] = round((sessions_pivot.last_event_time - \n",
    "                                      sessions_pivot.first_event_time + \n",
    "                                      min_duration) / np.timedelta64(1, 'm'), 2)\n",
    "\n",
    "# Подготовка функции для расчета времени суток\n",
    "def session_daypart(time):\n",
    "    if time.hour < 5:\n",
    "        return 'ночь'\n",
    "    if time.hour < 11:\n",
    "        return 'утро'\n",
    "    if time.hour < 17:\n",
    "        return 'день'\n",
    "    if time.hour < 23:\n",
    "        return 'вечер'\n",
    "    else:\n",
    "        return 'ночь'\n",
    "# Добавление столбца со временем суток \n",
    "sessions_pivot['daytime'] = sessions_pivot['first_event_time'].apply(session_daypart)\n",
    "# Добавление столбца с информацией о конверсии в рамках сессии\n",
    "sessions_pivot['session_conversion'] = np.where(sessions_pivot['event_names'].str.contains('contacts_show'), 1, 0)\n",
    "# Добавление столбца с информацией о конверсии пользователя\n",
    "sessions_pivot = sessions_pivot.merge(events_pivot[['user_conversion', 'user_id']], on = 'user_id')\n",
    "# Изменение порядка столбцов\n",
    "sessions_pivot.reindex(['session_id', 'user_id', 'event_date', 'first_event_time', 'last_event_time',\n",
    "                      'session_duration_min', 'daytime', 'events_in_session', 'session_conversion', \n",
    "                       'user_conversion', 'events_in_session'], \n",
    "                     axis=1)\n",
    "# Проверка - демонстрация первых 5 строк таблицы\n",
    "sessions_pivot.head(5)"
   ]
  },
  {
   "cell_type": "markdown",
   "id": "fbb02688",
   "metadata": {},
   "source": [
    "Сводные таблицы по пользователям и сессиям подготовлены. "
   ]
  },
  {
   "cell_type": "markdown",
   "id": "ef6b68f2",
   "metadata": {},
   "source": [
    "Подготовим также таблицу для дашборда:\n",
    "1. Постройте диаграмму распределения количества событий по типу события\n",
    "2. Добавьте индикатор количества пользователей\n",
    "3. Добавьте фильтр дашборда по дате совершения события"
   ]
  },
  {
   "cell_type": "code",
   "execution_count": 59,
   "id": "96d9818b",
   "metadata": {},
   "outputs": [
    {
     "data": {
      "text/html": [
       "<div>\n",
       "<style scoped>\n",
       "    .dataframe tbody tr th:only-of-type {\n",
       "        vertical-align: middle;\n",
       "    }\n",
       "\n",
       "    .dataframe tbody tr th {\n",
       "        vertical-align: top;\n",
       "    }\n",
       "\n",
       "    .dataframe thead th {\n",
       "        text-align: right;\n",
       "    }\n",
       "</style>\n",
       "<table border=\"1\" class=\"dataframe\">\n",
       "  <thead>\n",
       "    <tr style=\"text-align: right;\">\n",
       "      <th></th>\n",
       "      <th>event_name</th>\n",
       "      <th>event_date</th>\n",
       "      <th>user_id</th>\n",
       "    </tr>\n",
       "  </thead>\n",
       "  <tbody>\n",
       "    <tr>\n",
       "      <th>805</th>\n",
       "      <td>tips_show</td>\n",
       "      <td>2019-10-07</td>\n",
       "      <td>0001b1d5-b74a-4cbf-aeb0-7df5947bf349</td>\n",
       "    </tr>\n",
       "    <tr>\n",
       "      <th>806</th>\n",
       "      <td>tips_show</td>\n",
       "      <td>2019-10-07</td>\n",
       "      <td>0001b1d5-b74a-4cbf-aeb0-7df5947bf349</td>\n",
       "    </tr>\n",
       "    <tr>\n",
       "      <th>809</th>\n",
       "      <td>tips_show</td>\n",
       "      <td>2019-10-07</td>\n",
       "      <td>0001b1d5-b74a-4cbf-aeb0-7df5947bf349</td>\n",
       "    </tr>\n",
       "    <tr>\n",
       "      <th>820</th>\n",
       "      <td>tips_show</td>\n",
       "      <td>2019-10-07</td>\n",
       "      <td>0001b1d5-b74a-4cbf-aeb0-7df5947bf349</td>\n",
       "    </tr>\n",
       "    <tr>\n",
       "      <th>830</th>\n",
       "      <td>tips_show</td>\n",
       "      <td>2019-10-07</td>\n",
       "      <td>0001b1d5-b74a-4cbf-aeb0-7df5947bf349</td>\n",
       "    </tr>\n",
       "    <tr>\n",
       "      <th>...</th>\n",
       "      <td>...</td>\n",
       "      <td>...</td>\n",
       "      <td>...</td>\n",
       "    </tr>\n",
       "    <tr>\n",
       "      <th>72584</th>\n",
       "      <td>tips_show</td>\n",
       "      <td>2019-11-03</td>\n",
       "      <td>fffb9e79-b927-4dbb-9b48-7fd09b23a62b</td>\n",
       "    </tr>\n",
       "    <tr>\n",
       "      <th>72589</th>\n",
       "      <td>contacts_show</td>\n",
       "      <td>2019-11-03</td>\n",
       "      <td>fffb9e79-b927-4dbb-9b48-7fd09b23a62b</td>\n",
       "    </tr>\n",
       "    <tr>\n",
       "      <th>72684</th>\n",
       "      <td>tips_show</td>\n",
       "      <td>2019-11-03</td>\n",
       "      <td>fffb9e79-b927-4dbb-9b48-7fd09b23a62b</td>\n",
       "    </tr>\n",
       "    <tr>\n",
       "      <th>72688</th>\n",
       "      <td>tips_show</td>\n",
       "      <td>2019-11-03</td>\n",
       "      <td>fffb9e79-b927-4dbb-9b48-7fd09b23a62b</td>\n",
       "    </tr>\n",
       "    <tr>\n",
       "      <th>72689</th>\n",
       "      <td>tips_show</td>\n",
       "      <td>2019-11-03</td>\n",
       "      <td>fffb9e79-b927-4dbb-9b48-7fd09b23a62b</td>\n",
       "    </tr>\n",
       "  </tbody>\n",
       "</table>\n",
       "<p>74197 rows × 3 columns</p>\n",
       "</div>"
      ],
      "text/plain": [
       "          event_name  event_date                               user_id\n",
       "805        tips_show  2019-10-07  0001b1d5-b74a-4cbf-aeb0-7df5947bf349\n",
       "806        tips_show  2019-10-07  0001b1d5-b74a-4cbf-aeb0-7df5947bf349\n",
       "809        tips_show  2019-10-07  0001b1d5-b74a-4cbf-aeb0-7df5947bf349\n",
       "820        tips_show  2019-10-07  0001b1d5-b74a-4cbf-aeb0-7df5947bf349\n",
       "830        tips_show  2019-10-07  0001b1d5-b74a-4cbf-aeb0-7df5947bf349\n",
       "...              ...         ...                                   ...\n",
       "72584      tips_show  2019-11-03  fffb9e79-b927-4dbb-9b48-7fd09b23a62b\n",
       "72589  contacts_show  2019-11-03  fffb9e79-b927-4dbb-9b48-7fd09b23a62b\n",
       "72684      tips_show  2019-11-03  fffb9e79-b927-4dbb-9b48-7fd09b23a62b\n",
       "72688      tips_show  2019-11-03  fffb9e79-b927-4dbb-9b48-7fd09b23a62b\n",
       "72689      tips_show  2019-11-03  fffb9e79-b927-4dbb-9b48-7fd09b23a62b\n",
       "\n",
       "[74197 rows x 3 columns]"
      ]
     },
     "execution_count": 59,
     "metadata": {},
     "output_type": "execute_result"
    }
   ],
   "source": [
    "dashboard_table = mobile_dataset[['event_name', 'event_date', 'user_id']]\n",
    "dashboard_table.to_csv('dashboard_app.csv')\n",
    "dashboard_table"
   ]
  },
  {
   "cell_type": "markdown",
   "id": "d4bfee49",
   "metadata": {},
   "source": [
    "**Вывод:**\n",
    " \n",
    " В рамках подготовки данных мы привели названия столбцов хорошему стилю, там где было необходимо, привели данные к необходимому формату (даты-времени), удалили дубликаты в данных, рассчитали необходимые показатели. Полученные данные мы объединили в сводные таблицы по пользователям и сессиям. Следует отметить, что в анализе мы будем использовать искусственно собранные сессии, а не сгенерированные аналитической системой на основании активности пользователя."
   ]
  },
  {
   "cell_type": "markdown",
   "id": "e5c42747",
   "metadata": {},
   "source": [
    "## Исследовательский анализ данных"
   ]
  },
  {
   "cell_type": "markdown",
   "id": "f9ab2bc4",
   "metadata": {},
   "source": [
    "Провелем первичный анализ данных: оценим общее количество событий и пользователей, оценим основные показатели активности пользователей: уровень удержания, конверсию, время, проведенное в приложении и частоту пользования приложением пользователями. "
   ]
  },
  {
   "cell_type": "markdown",
   "id": "f8c4df64",
   "metadata": {},
   "source": [
    "### Общая информация о пользователях"
   ]
  },
  {
   "cell_type": "markdown",
   "id": "a4dafb58",
   "metadata": {},
   "source": [
    "Рассчитаем количество событий и уникальных пользователей."
   ]
  },
  {
   "cell_type": "code",
   "execution_count": 18,
   "id": "5b5bd551",
   "metadata": {
    "scrolled": true
   },
   "outputs": [
    {
     "name": "stdout",
     "output_type": "stream",
     "text": [
      "Всего событий в приложении -  74197\n",
      "По видам они распределены следующим образом:\n",
      "tips_show        40055\n",
      "photos_show      10012\n",
      "search            6784\n",
      "advert_open       6164\n",
      "contacts_show     4529\n",
      "map               3881\n",
      "favorites_add     1417\n",
      "tips_click         814\n",
      "contacts_call      541\n",
      "Name: event_name, dtype: int64\n"
     ]
    }
   ],
   "source": [
    "print('Всего событий в приложении - ', mobile_dataset.event_name.count())\n",
    "print('По видам они распределены следующим образом:')\n",
    "print(mobile_dataset.event_name.value_counts())"
   ]
  },
  {
   "cell_type": "markdown",
   "id": "1f0ab21c",
   "metadata": {},
   "source": [
    "Рассчитаем количество уникальных пользователей приложения."
   ]
  },
  {
   "cell_type": "code",
   "execution_count": 19,
   "id": "61af7ba5",
   "metadata": {
    "scrolled": true
   },
   "outputs": [
    {
     "name": "stdout",
     "output_type": "stream",
     "text": [
      "Всего уникальных пользователей - 4293, из них просмотрело контакты - 981 \n",
      "Уровень конверсии -  22.85%\n"
     ]
    }
   ],
   "source": [
    "print (f'Всего уникальных пользователей - {mobile_dataset.user_id.nunique()}, из них просмотрело контакты - {len(users_contacts_shown)} ' )\n",
    "print(f'Уровень конверсии - {len(users_contacts_shown) / mobile_dataset.user_id.nunique(): .2%}')"
   ]
  },
  {
   "cell_type": "markdown",
   "id": "c68a57dc",
   "metadata": {},
   "source": [
    "Определим среднее количество событий на пользователя."
   ]
  },
  {
   "cell_type": "code",
   "execution_count": 20,
   "id": "715fd4bc",
   "metadata": {},
   "outputs": [
    {
     "name": "stdout",
     "output_type": "stream",
     "text": [
      "Среднее количество событий на пользователя - 17\n"
     ]
    }
   ],
   "source": [
    "print ('Среднее количество событий на пользователя -', \n",
    "       round(mobile_dataset.event_name.count() / mobile_dataset.user_id.nunique()))"
   ]
  },
  {
   "cell_type": "markdown",
   "id": "0f0e5e00",
   "metadata": {},
   "source": [
    "Среднее количество событий на пользователя не позволяет представить, как эти события между пользователями распределены. Построим гистограмму количества событий. "
   ]
  },
  {
   "cell_type": "code",
   "execution_count": 21,
   "id": "885b1d71",
   "metadata": {},
   "outputs": [
    {
     "data": {
      "text/plain": [
       " tips_show                           2677\n",
       " photos_show                         1320\n",
       " search                               762\n",
       " map tips_show                        547\n",
       " search photos_show                   524\n",
       " search tips_show                     409\n",
       " tips_show contacts_show              342\n",
       " tips_show map                        203\n",
       " contacts_show                        195\n",
       " map advert_open tips_show            172\n",
       " tips_show tips_click                 162\n",
       " advert_open                          134\n",
       " map                                  134\n",
       " advert_open tips_show                133\n",
       " contacts_show contacts_call          120\n",
       " search map tips_show                 108\n",
       " photos_show search                   106\n",
       " map tips_show contacts_show           94\n",
       " photos_show contacts_show             85\n",
       " search map advert_open tips_show      81\n",
       "Name: event_names, dtype: int64"
      ]
     },
     "execution_count": 21,
     "metadata": {},
     "output_type": "execute_result"
    }
   ],
   "source": [
    "sessions_pivot.event_names.value_counts().head(20)"
   ]
  },
  {
   "cell_type": "markdown",
   "id": "58fc730e",
   "metadata": {},
   "source": [
    "Наиболее распространенные сценарии сессий состоят из \n",
    "- просмотра объявлений, \n",
    "- просмотра фотографий,\n",
    "- поиска,\n",
    "- просмотра объявлений на карте,\n",
    "- поиска и просмотра объявлений,\n",
    "- взаимодействия с рекламой,"
   ]
  },
  {
   "cell_type": "code",
   "execution_count": 22,
   "id": "15efa6c7",
   "metadata": {
    "scrolled": true
   },
   "outputs": [
    {
     "data": {
      "text/plain": [
       "день     0.407311\n",
       "вечер    0.359279\n",
       "утро     0.154225\n",
       "ночь     0.079186\n",
       "Name: daytime, dtype: float64"
      ]
     },
     "execution_count": 22,
     "metadata": {},
     "output_type": "execute_result"
    }
   ],
   "source": [
    "sessions_pivot.daytime.value_counts(normalize=True)"
   ]
  },
  {
   "cell_type": "markdown",
   "id": "f5eeb069",
   "metadata": {},
   "source": [
    "Большинство сессий происходит днем (41%) и вечером (36%).  Это может быть связано с особенностями приложения - чтобы связаться с человеком для покупки-продажи вещи нужно, чтобы это было удобное время для переговоров - день или вечер."
   ]
  },
  {
   "cell_type": "code",
   "execution_count": 23,
   "id": "d10860f9",
   "metadata": {
    "scrolled": true
   },
   "outputs": [
    {
     "data": {
      "text/html": [
       "<div>\n",
       "<style scoped>\n",
       "    .dataframe tbody tr th:only-of-type {\n",
       "        vertical-align: middle;\n",
       "    }\n",
       "\n",
       "    .dataframe tbody tr th {\n",
       "        vertical-align: top;\n",
       "    }\n",
       "\n",
       "    .dataframe thead th {\n",
       "        text-align: right;\n",
       "    }\n",
       "</style>\n",
       "<table border=\"1\" class=\"dataframe\">\n",
       "  <thead>\n",
       "    <tr style=\"text-align: right;\">\n",
       "      <th></th>\n",
       "      <th>events_in_session</th>\n",
       "      <th>session_duration_min</th>\n",
       "    </tr>\n",
       "    <tr>\n",
       "      <th>session_conversion</th>\n",
       "      <th></th>\n",
       "      <th></th>\n",
       "    </tr>\n",
       "  </thead>\n",
       "  <tbody>\n",
       "    <tr>\n",
       "      <th>0</th>\n",
       "      <td>6.622620</td>\n",
       "      <td>12.454926</td>\n",
       "    </tr>\n",
       "    <tr>\n",
       "      <th>1</th>\n",
       "      <td>9.871991</td>\n",
       "      <td>21.117651</td>\n",
       "    </tr>\n",
       "  </tbody>\n",
       "</table>\n",
       "</div>"
      ],
      "text/plain": [
       "                    events_in_session  session_duration_min\n",
       "session_conversion                                         \n",
       "0                            6.622620             12.454926\n",
       "1                            9.871991             21.117651"
      ]
     },
     "execution_count": 23,
     "metadata": {},
     "output_type": "execute_result"
    }
   ],
   "source": [
    "sessions_pivot.pivot_table(index='session_conversion',\n",
    "                          aggfunc={'events_in_session':'mean', 'session_duration_min': 'mean'})"
   ]
  },
  {
   "cell_type": "markdown",
   "id": "2a6e53dd",
   "metadata": {},
   "source": [
    "Сессии в которые происходят конверсии содержат в 1,5 раза больше событий и по длительности почти в два раза длиннее сессий, в которых события не происходят. "
   ]
  },
  {
   "cell_type": "code",
   "execution_count": 24,
   "id": "183eebc4",
   "metadata": {
    "scrolled": false
   },
   "outputs": [
    {
     "data": {
      "image/png": "[encoded data removed]",
      "text/plain": [
       "<Figure size 1152x288 with 1 Axes>"
      ]
     },
     "metadata": {
      "needs_background": "light"
     },
     "output_type": "display_data"
    }
   ],
   "source": [
    "# Определение размера графика\n",
    "plt.figure(\n",
    "    figsize=(16, 4)\n",
    ")  \n",
    "# Построение диаграммы с распределением событий по датам\n",
    "ax = sns.histplot(\n",
    "    x='event_count', \n",
    "    data=events_pivot,\n",
    "    color='#1F77B4',\n",
    "    bins = 100,\n",
    ")\n",
    "ax.set_xlim(0,100)\n",
    "sns.despine()\n",
    "# Добавление подписей графика и осей\n",
    "plt.title('Количество событий в приложении')\n",
    "plt.xlabel('Количество событий')\n",
    "plt.ylabel('Количество пользователей')\n",
    "# Демонстрация графика\n",
    "plt.show()"
   ]
  },
  {
   "cell_type": "markdown",
   "id": "3cd61c67",
   "metadata": {},
   "source": [
    "На гистограмме мы отразили пользователей, которые совершили до 100 действий в приложении. Как мы видим, наибольшее количество пользователей совершает небольшое количество действий. Проанализирем общие данные по пользователям."
   ]
  },
  {
   "cell_type": "code",
   "execution_count": 25,
   "id": "497206a7",
   "metadata": {},
   "outputs": [
    {
     "data": {
      "text/html": [
       "<div>\n",
       "<style scoped>\n",
       "    .dataframe tbody tr th:only-of-type {\n",
       "        vertical-align: middle;\n",
       "    }\n",
       "\n",
       "    .dataframe tbody tr th {\n",
       "        vertical-align: top;\n",
       "    }\n",
       "\n",
       "    .dataframe thead th {\n",
       "        text-align: right;\n",
       "    }\n",
       "</style>\n",
       "<table border=\"1\" class=\"dataframe\">\n",
       "  <thead>\n",
       "    <tr style=\"text-align: right;\">\n",
       "      <th></th>\n",
       "      <th>days_of_use</th>\n",
       "      <th>event_count</th>\n",
       "      <th>session_count</th>\n",
       "      <th>date_difference_in_days</th>\n",
       "      <th>user_conversion</th>\n",
       "    </tr>\n",
       "  </thead>\n",
       "  <tbody>\n",
       "    <tr>\n",
       "      <th>count</th>\n",
       "      <td>4293.000000</td>\n",
       "      <td>4293.000000</td>\n",
       "      <td>4293.000000</td>\n",
       "      <td>4293.000000</td>\n",
       "      <td>4293.000000</td>\n",
       "    </tr>\n",
       "    <tr>\n",
       "      <th>mean</th>\n",
       "      <td>1.820871</td>\n",
       "      <td>17.283252</td>\n",
       "      <td>2.415094</td>\n",
       "      <td>2.613324</td>\n",
       "      <td>0.228512</td>\n",
       "    </tr>\n",
       "    <tr>\n",
       "      <th>std</th>\n",
       "      <td>1.762537</td>\n",
       "      <td>29.130677</td>\n",
       "      <td>3.536466</td>\n",
       "      <td>5.187808</td>\n",
       "      <td>0.419923</td>\n",
       "    </tr>\n",
       "    <tr>\n",
       "      <th>min</th>\n",
       "      <td>1.000000</td>\n",
       "      <td>1.000000</td>\n",
       "      <td>1.000000</td>\n",
       "      <td>0.000000</td>\n",
       "      <td>0.000000</td>\n",
       "    </tr>\n",
       "    <tr>\n",
       "      <th>25%</th>\n",
       "      <td>1.000000</td>\n",
       "      <td>5.000000</td>\n",
       "      <td>1.000000</td>\n",
       "      <td>0.000000</td>\n",
       "      <td>0.000000</td>\n",
       "    </tr>\n",
       "    <tr>\n",
       "      <th>50%</th>\n",
       "      <td>1.000000</td>\n",
       "      <td>9.000000</td>\n",
       "      <td>1.000000</td>\n",
       "      <td>0.000000</td>\n",
       "      <td>0.000000</td>\n",
       "    </tr>\n",
       "    <tr>\n",
       "      <th>75%</th>\n",
       "      <td>2.000000</td>\n",
       "      <td>17.000000</td>\n",
       "      <td>3.000000</td>\n",
       "      <td>3.000000</td>\n",
       "      <td>0.000000</td>\n",
       "    </tr>\n",
       "    <tr>\n",
       "      <th>max</th>\n",
       "      <td>25.000000</td>\n",
       "      <td>478.000000</td>\n",
       "      <td>99.000000</td>\n",
       "      <td>27.000000</td>\n",
       "      <td>1.000000</td>\n",
       "    </tr>\n",
       "  </tbody>\n",
       "</table>\n",
       "</div>"
      ],
      "text/plain": [
       "       days_of_use  event_count  session_count  date_difference_in_days  \\\n",
       "count  4293.000000  4293.000000    4293.000000              4293.000000   \n",
       "mean      1.820871    17.283252       2.415094                 2.613324   \n",
       "std       1.762537    29.130677       3.536466                 5.187808   \n",
       "min       1.000000     1.000000       1.000000                 0.000000   \n",
       "25%       1.000000     5.000000       1.000000                 0.000000   \n",
       "50%       1.000000     9.000000       1.000000                 0.000000   \n",
       "75%       2.000000    17.000000       3.000000                 3.000000   \n",
       "max      25.000000   478.000000      99.000000                27.000000   \n",
       "\n",
       "       user_conversion  \n",
       "count      4293.000000  \n",
       "mean          0.228512  \n",
       "std           0.419923  \n",
       "min           0.000000  \n",
       "25%           0.000000  \n",
       "50%           0.000000  \n",
       "75%           0.000000  \n",
       "max           1.000000  "
      ]
     },
     "execution_count": 25,
     "metadata": {},
     "output_type": "execute_result"
    }
   ],
   "source": [
    "events_pivot.describe()"
   ]
  },
  {
   "cell_type": "markdown",
   "id": "5e2d0973",
   "metadata": {},
   "source": [
    "Данные по пользователям показывают: есть существенная разница в активности пользователей. Средниий уровень конверсии - 22%. Есть небольшое количество наиболее активных пользователей - они совершают до 478 действий, либо имеют до 99 сессий за период, при этом для 75% пользователей общее количество дней пользования приложением не превышает 2, за это время они успевают выполнить до 3 сессий с общим количеством действий 17."
   ]
  },
  {
   "cell_type": "markdown",
   "id": "dd70963d",
   "metadata": {},
   "source": [
    "Проанализируем сводную информацию о сессиях."
   ]
  },
  {
   "cell_type": "code",
   "execution_count": 26,
   "id": "0fce97ba",
   "metadata": {},
   "outputs": [
    {
     "data": {
      "text/html": [
       "<div>\n",
       "<style scoped>\n",
       "    .dataframe tbody tr th:only-of-type {\n",
       "        vertical-align: middle;\n",
       "    }\n",
       "\n",
       "    .dataframe tbody tr th {\n",
       "        vertical-align: top;\n",
       "    }\n",
       "\n",
       "    .dataframe thead th {\n",
       "        text-align: right;\n",
       "    }\n",
       "</style>\n",
       "<table border=\"1\" class=\"dataframe\">\n",
       "  <thead>\n",
       "    <tr style=\"text-align: right;\">\n",
       "      <th></th>\n",
       "      <th>session_id</th>\n",
       "      <th>events_in_session</th>\n",
       "      <th>session_duration_min</th>\n",
       "      <th>session_conversion</th>\n",
       "      <th>user_conversion</th>\n",
       "    </tr>\n",
       "  </thead>\n",
       "  <tbody>\n",
       "    <tr>\n",
       "      <th>count</th>\n",
       "      <td>10368.00000</td>\n",
       "      <td>10368.000000</td>\n",
       "      <td>10368.000000</td>\n",
       "      <td>10368.000000</td>\n",
       "      <td>10368.000000</td>\n",
       "    </tr>\n",
       "    <tr>\n",
       "      <th>mean</th>\n",
       "      <td>5184.50000</td>\n",
       "      <td>7.156346</td>\n",
       "      <td>13.877825</td>\n",
       "      <td>0.164255</td>\n",
       "      <td>0.368345</td>\n",
       "    </tr>\n",
       "    <tr>\n",
       "      <th>std</th>\n",
       "      <td>2993.12813</td>\n",
       "      <td>9.581106</td>\n",
       "      <td>19.860204</td>\n",
       "      <td>0.370525</td>\n",
       "      <td>0.482379</td>\n",
       "    </tr>\n",
       "    <tr>\n",
       "      <th>min</th>\n",
       "      <td>1.00000</td>\n",
       "      <td>1.000000</td>\n",
       "      <td>1.000000</td>\n",
       "      <td>0.000000</td>\n",
       "      <td>0.000000</td>\n",
       "    </tr>\n",
       "    <tr>\n",
       "      <th>25%</th>\n",
       "      <td>2592.75000</td>\n",
       "      <td>2.000000</td>\n",
       "      <td>1.350000</td>\n",
       "      <td>0.000000</td>\n",
       "      <td>0.000000</td>\n",
       "    </tr>\n",
       "    <tr>\n",
       "      <th>50%</th>\n",
       "      <td>5184.50000</td>\n",
       "      <td>4.000000</td>\n",
       "      <td>6.590000</td>\n",
       "      <td>0.000000</td>\n",
       "      <td>0.000000</td>\n",
       "    </tr>\n",
       "    <tr>\n",
       "      <th>75%</th>\n",
       "      <td>7776.25000</td>\n",
       "      <td>9.000000</td>\n",
       "      <td>18.422500</td>\n",
       "      <td>0.000000</td>\n",
       "      <td>1.000000</td>\n",
       "    </tr>\n",
       "    <tr>\n",
       "      <th>max</th>\n",
       "      <td>10368.00000</td>\n",
       "      <td>149.000000</td>\n",
       "      <td>322.970000</td>\n",
       "      <td>1.000000</td>\n",
       "      <td>1.000000</td>\n",
       "    </tr>\n",
       "  </tbody>\n",
       "</table>\n",
       "</div>"
      ],
      "text/plain": [
       "        session_id  events_in_session  session_duration_min  \\\n",
       "count  10368.00000       10368.000000          10368.000000   \n",
       "mean    5184.50000           7.156346             13.877825   \n",
       "std     2993.12813           9.581106             19.860204   \n",
       "min        1.00000           1.000000              1.000000   \n",
       "25%     2592.75000           2.000000              1.350000   \n",
       "50%     5184.50000           4.000000              6.590000   \n",
       "75%     7776.25000           9.000000             18.422500   \n",
       "max    10368.00000         149.000000            322.970000   \n",
       "\n",
       "       session_conversion  user_conversion  \n",
       "count        10368.000000     10368.000000  \n",
       "mean             0.164255         0.368345  \n",
       "std              0.370525         0.482379  \n",
       "min              0.000000         0.000000  \n",
       "25%              0.000000         0.000000  \n",
       "50%              0.000000         0.000000  \n",
       "75%              0.000000         1.000000  \n",
       "max              1.000000         1.000000  "
      ]
     },
     "execution_count": 26,
     "metadata": {},
     "output_type": "execute_result"
    }
   ],
   "source": [
    "sessions_pivot.describe()"
   ]
  },
  {
   "cell_type": "markdown",
   "id": "3c894e4d",
   "metadata": {},
   "source": [
    "Более 70 000 событий были объединены нами в примерно 10 000 сессий. В среднем в сессию входит 7 событий, а средняя длительность сессии составляет около 14 минут. Включают демонстрацию контактов 16% сессий. "
   ]
  },
  {
   "cell_type": "markdown",
   "id": "04579251",
   "metadata": {},
   "source": [
    "**Вывод**\n",
    "Мы подготовили данные: оценили общий объем данных - у нас есть информация о более, чем 4 тысячах пользователей, из которых 22% просмотрели контакты (в нашем случае - это показатель конверсии), и свыше 70 000 событий. "
   ]
  },
  {
   "cell_type": "markdown",
   "id": "37b5c8d3",
   "metadata": {},
   "source": [
    "### Подготовка функций для расчета и визуализации основных показателей: удержание и конверсия"
   ]
  },
  {
   "cell_type": "markdown",
   "id": "86bcb24e",
   "metadata": {},
   "source": [
    "#### Функция расчета удержания"
   ]
  },
  {
   "cell_type": "code",
   "execution_count": 27,
   "id": "498432b8",
   "metadata": {},
   "outputs": [],
   "source": [
    "# функция для расчёта удержания\n",
    "\n",
    "def get_retention(\n",
    "    profiles,\n",
    "    sessions,\n",
    "    observation_date,\n",
    "    horizon_days,\n",
    "    dimensions=[],\n",
    "    ignore_horizon=False,\n",
    "):\n",
    "\n",
    "    # добавляем столбец user_conversion в передаваемый dimensions список\n",
    "    dimensions = ['user_conversion'] + dimensions\n",
    "\n",
    "    # исключаем пользователей, не «доживших» до горизонта анализа\n",
    "    last_suitable_acquisition_date = observation_date\n",
    "    if not ignore_horizon:\n",
    "        last_suitable_acquisition_date = observation_date - timedelta(\n",
    "            days=horizon_days - 1\n",
    "        )\n",
    "    result_raw = profiles.query('first_event <= @last_suitable_acquisition_date')\n",
    "\n",
    "    # собираем «сырые» данные для расчёта удержания\n",
    "    result_raw = result_raw.merge(\n",
    "        sessions[['user_id', 'first_event_time']], on='user_id', how='left'\n",
    "    )\n",
    "    result_raw['lifetime'] = (\n",
    "        result_raw['first_event_time'].dt.date - result_raw['first_event']\n",
    "    ).dt.days\n",
    "\n",
    "    # функция для группировки таблицы по желаемым признакам\n",
    "    def group_by_dimensions(df, dims, horizon_days):\n",
    "        result = df.pivot_table(\n",
    "            index=dims, columns='lifetime', values='user_id', aggfunc='nunique'\n",
    "        )\n",
    "        cohort_sizes = (\n",
    "            df.groupby(dims)\n",
    "            .agg({'user_id': 'nunique'})\n",
    "            .rename(columns={'user_id': 'cohort_size'})\n",
    "        )\n",
    "        result = cohort_sizes.merge(result, on=dims, how='left').fillna(0)\n",
    "        result = result.div(result['cohort_size'], axis=0)\n",
    "        result = result[['cohort_size'] + list(range(horizon_days))]\n",
    "        result['cohort_size'] = cohort_sizes\n",
    "        return result\n",
    "\n",
    "    # получаем таблицу удержания\n",
    "    result_grouped = group_by_dimensions(result_raw, dimensions, horizon_days)\n",
    "\n",
    "    # получаем таблицу динамики удержания\n",
    "    result_in_time = group_by_dimensions(\n",
    "        result_raw, dimensions + ['first_event_time'], horizon_days\n",
    "    )\n",
    "\n",
    "    # возвращаем обе таблицы и сырые данные\n",
    "    return result_raw, result_grouped, result_in_time\n"
   ]
  },
  {
   "cell_type": "markdown",
   "id": "b28f50b9",
   "metadata": {},
   "source": [
    "#### Функция расчета времени в приложении"
   ]
  },
  {
   "cell_type": "markdown",
   "id": "a9a9ab14",
   "metadata": {},
   "source": [
    "Рассчитаем время в приложении"
   ]
  },
  {
   "cell_type": "code",
   "execution_count": 28,
   "id": "90f4648d",
   "metadata": {},
   "outputs": [],
   "source": [
    "# функция для расчёта времени в приложении\n",
    "\n",
    "def get_time_in_app(\n",
    "    profiles,\n",
    "    sessions,\n",
    "    observation_date,\n",
    "    horizon_days,\n",
    "    dimensions=[],\n",
    "    ignore_horizon=False,\n",
    "):\n",
    "\n",
    "    # добавляем столбец user_conversion в передаваемый dimensions список\n",
    "    dimensions = ['user_conversion'] + dimensions\n",
    "\n",
    "    # исключаем пользователей, не «доживших» до горизонта анализа\n",
    "    last_suitable_acquisition_date = observation_date\n",
    "    if not ignore_horizon:\n",
    "        last_suitable_acquisition_date = observation_date - timedelta(\n",
    "            days=horizon_days - 1\n",
    "        )\n",
    "    result_raw = profiles.query('first_event <= @last_suitable_acquisition_date')\n",
    "\n",
    "    # собираем «сырые» данные для расчёта\n",
    "    result_raw = result_raw.merge(\n",
    "        sessions.pivot_table(index = ['user_id', 'event_date'], \n",
    "                                   aggfunc ={'session_duration_min': 'sum', 'first_event_time': 'first'}), \n",
    "        on='user_id', how='left'\n",
    "    )\n",
    "    result_raw['lifetime'] = (\n",
    "        result_raw['first_event_time'].dt.date - result_raw['first_event']\n",
    "    ).dt.days\n",
    "\n",
    "    # функция для группировки таблицы по желаемым признакам\n",
    "    def group_by_dimensions(df, dims, horizon_days):\n",
    "        result = df.query('lifetime < 7').pivot_table(\n",
    "            values = 'session_duration_min', \n",
    "            index = dims, \n",
    "            columns = 'lifetime')\n",
    "        \n",
    "        cohort_sizes = (\n",
    "            df.groupby(dims)\n",
    "            .agg({'user_id': 'nunique'})\n",
    "            .rename(columns={'user_id': 'cohort_size'})\n",
    "        )\n",
    "        result = cohort_sizes.merge(result, on=dims, how='left').fillna(0)\n",
    "        \n",
    "        result['cohort_size'] = cohort_sizes\n",
    "        return result\n",
    "\n",
    "    # получаем таблицу удержания\n",
    "    result_grouped = group_by_dimensions(result_raw, dimensions, horizon_days)\n",
    "\n",
    "    # возвращаем таблицу и сырые данные\n",
    "    return result_raw, result_grouped"
   ]
  },
  {
   "cell_type": "markdown",
   "id": "87971685",
   "metadata": {},
   "source": [
    "#### Функция расчета количества действий в приложении"
   ]
  },
  {
   "cell_type": "markdown",
   "id": "102e49c5",
   "metadata": {},
   "source": [
    "Подготовим функцию для расчета количества действий"
   ]
  },
  {
   "cell_type": "code",
   "execution_count": 29,
   "id": "221b23ba",
   "metadata": {},
   "outputs": [],
   "source": [
    "# функция для расчёта времени в приложении\n",
    "\n",
    "def get_event_count(\n",
    "    profiles,\n",
    "    sessions,\n",
    "    observation_date,\n",
    "    horizon_days,\n",
    "    dimensions=[],\n",
    "    ignore_horizon=False,\n",
    "):\n",
    "\n",
    "    # добавляем столбец user_conversion в передаваемый dimensions список\n",
    "    dimensions = ['user_conversion'] + dimensions\n",
    "\n",
    "    # исключаем пользователей, не «доживших» до горизонта анализа\n",
    "    last_suitable_acquisition_date = observation_date\n",
    "    if not ignore_horizon:\n",
    "        last_suitable_acquisition_date = observation_date - timedelta(\n",
    "            days=horizon_days - 1\n",
    "        )\n",
    "    result_raw = profiles.query('first_event <= @last_suitable_acquisition_date')\n",
    "\n",
    "    # собираем «сырые» данные для расчёта удержания\n",
    "    result_raw = result_raw.merge(\n",
    "        sessions.pivot_table(index = ['user_id', 'event_date'], \n",
    "                                   aggfunc ={'events_in_session': 'sum', 'first_event_time': 'first'}), \n",
    "        on='user_id', how='left'\n",
    "    )\n",
    "    result_raw['lifetime'] = (\n",
    "        result_raw['first_event_time'].dt.date - result_raw['first_event']\n",
    "    ).dt.days\n",
    "\n",
    "    # функция для группировки таблицы по желаемым признакам\n",
    "    def group_by_dimensions(df, dims, horizon_days):\n",
    "        result = df.query('lifetime < 7').pivot_table(\n",
    "            values = 'events_in_session', \n",
    "            index = dims, \n",
    "            columns = 'lifetime')\n",
    "        \n",
    "        cohort_sizes = (\n",
    "            df.groupby(dims)\n",
    "            .agg({'user_id': 'nunique'})\n",
    "            .rename(columns={'user_id': 'cohort_size'})\n",
    "        )\n",
    "        result = cohort_sizes.merge(result, on=dims, how='left').fillna(0)\n",
    "        \n",
    "        result['cohort_size'] = cohort_sizes\n",
    "        return result\n",
    "\n",
    "    # получаем таблицу удержания\n",
    "    result_grouped = group_by_dimensions(result_raw, dimensions, horizon_days)\n",
    "\n",
    "    # возвращаем таблицу и сырые данные\n",
    "    return result_raw, result_grouped"
   ]
  },
  {
   "cell_type": "markdown",
   "id": "76db8d24",
   "metadata": {},
   "source": [
    "Подготовим функцию для расчета удержания потребителей. "
   ]
  },
  {
   "cell_type": "markdown",
   "id": "70d463ab",
   "metadata": {},
   "source": [
    "#### Функция расчета расчета конверсии"
   ]
  },
  {
   "cell_type": "code",
   "execution_count": 30,
   "id": "8d927573",
   "metadata": {},
   "outputs": [],
   "source": [
    "# функция для расчёта конверсии\n",
    "\n",
    "def get_conversion(\n",
    "    profiles,\n",
    "    sessions,\n",
    "    observation_date,\n",
    "    horizon_days,\n",
    "    dimensions=[],\n",
    "    ignore_horizon=False,\n",
    "):\n",
    "\n",
    "    # исключаем пользователей, не «доживших» до горизонта анализа\n",
    "    last_suitable_acquisition_date = observation_date\n",
    "    if not ignore_horizon:\n",
    "        last_suitable_acquisition_date = observation_date - timedelta(\n",
    "            days=horizon_days - 1\n",
    "        )\n",
    "    result_raw = profiles.query('first_event <= @last_suitable_acquisition_date')\n",
    "\n",
    "    # определяем дату и время первого просмотра контактов для каждого пользователя\n",
    "    first_contact_show = (\n",
    "        sessions.query('session_conversion == 1')\n",
    "        .sort_values(by=['user_id', 'first_event_time'])\n",
    "        .groupby('user_id')\n",
    "        .agg({'event_date': 'first'})\n",
    "        .reset_index()\n",
    "    )\n",
    "\n",
    "    # добавляем данные о покупках в профили\n",
    "    result_raw = result_raw.merge(\n",
    "        first_contact_show[['user_id', 'event_date']], on='user_id', how='left'\n",
    "    )\n",
    "\n",
    "    # рассчитываем лайфтайм для каждой покупки\n",
    "    result_raw['lifetime'] = (\n",
    "        result_raw['event_date'] - result_raw['first_event']\n",
    "    ).dt.days\n",
    "\n",
    "    # группируем по cohort, если в dimensions ничего нет\n",
    "    if len(dimensions) == 0:\n",
    "        result_raw['cohort'] = 'All users' \n",
    "        dimensions = dimensions + ['cohort']\n",
    "\n",
    "    # функция для группировки таблицы по желаемым признакам\n",
    "    def group_by_dimensions(df, dims, horizon_days):\n",
    "        result = df.pivot_table(\n",
    "            index=dims, columns='lifetime', values='user_id', aggfunc='nunique'\n",
    "        )\n",
    "        result = result.fillna(0).cumsum(axis = 1)\n",
    "        cohort_sizes = (\n",
    "            df.groupby(dims)\n",
    "            .agg({'user_id': 'nunique'})\n",
    "            .rename(columns={'user_id': 'cohort_size'})\n",
    "        )\n",
    "        result = cohort_sizes.merge(result, on=dims, how='left').fillna(0)\n",
    "        # делим каждую «ячейку» в строке на размер когорты\n",
    "        # и получаем conversion rate\n",
    "        result = result.div(result['cohort_size'], axis=0)\n",
    "        result = result[['cohort_size'] + list(range(horizon_days))]\n",
    "        result['cohort_size'] = cohort_sizes\n",
    "        return result\n",
    "\n",
    "    # получаем таблицу конверсии\n",
    "    result_grouped = group_by_dimensions(result_raw, dimensions, horizon_days)\n",
    "\n",
    "    # для таблицы динамики конверсии убираем 'cohort' из dimensions\n",
    "    if 'cohort' in dimensions: \n",
    "        dimensions = []\n",
    "\n",
    "   \n",
    "\n",
    "    # возвращаем обе таблицы и сырые данные\n",
    "    return result_raw, result_grouped"
   ]
  },
  {
   "cell_type": "markdown",
   "id": "3c9f6f7f",
   "metadata": {},
   "source": [
    "#### Функция визуализации удержания"
   ]
  },
  {
   "cell_type": "markdown",
   "id": "b12a81f1",
   "metadata": {},
   "source": [
    "Подготовим функцию для визуализации удержания"
   ]
  },
  {
   "cell_type": "code",
   "execution_count": 31,
   "id": "f5e5d858",
   "metadata": {},
   "outputs": [],
   "source": [
    "# функция для визуализации удержания\n",
    "\n",
    "def plot_retention(retention, horizon, window=7):\n",
    "\n",
    "    # задаём размер сетки для графиков\n",
    "    plt.figure(figsize=(12, 5))\n",
    "\n",
    "    # исключаем размеры когорт и удержание первого дня\n",
    "    retention = retention.drop(columns=['cohort_size', 0])\n",
    "    # в таблице динамики оставляем только нужный лайфтайм\n",
    "\n",
    "\n",
    "    # если в индексах таблицы удержания только payer,\n",
    "    # добавляем второй признак — cohort\n",
    "    if retention.index.nlevels == 1:\n",
    "        retention['cohort'] = 'All users'\n",
    "        retention = retention.reset_index().set_index(['cohort', 'user_conversion'])\n",
    "\n",
    "    # в таблице графиков — два столбца и две ячейки\n",
    "    # в первой строим кривые удержания платящих пользователей\n",
    "    ax1 = plt.subplot(1, 2, 1)\n",
    "    retention.query('user_conversion == 1').droplevel('user_conversion').T.plot(\n",
    "        grid=True, ax=ax1\n",
    "    )\n",
    "    plt.legend()\n",
    "    plt.xlabel('Лайфтайм')\n",
    "    plt.title('Удержание пользователей, просматривающих контакты')\n",
    "\n",
    "    # во второй ячейке строим кривые удержания неплатящих\n",
    "    # вертикальная ось — от графика из первой ячейки\n",
    "    ax2 = plt.subplot(1, 2, 2, sharey=ax1)\n",
    "    retention.query('user_conversion == 0').droplevel('user_conversion').T.plot(\n",
    "        grid=True, ax=ax2\n",
    "    )\n",
    "    plt.legend()\n",
    "    plt.xlabel('Лайфтайм')\n",
    "    plt.title('Удержание пользователей, не просматривающих контакты')\n",
    "\n",
    "    \n",
    "    plt.tight_layout()\n",
    "    plt.show()"
   ]
  },
  {
   "cell_type": "markdown",
   "id": "1fe0134c",
   "metadata": {},
   "source": [
    "#### Функция визуализации конверсия"
   ]
  },
  {
   "cell_type": "markdown",
   "id": "a798e227",
   "metadata": {},
   "source": [
    "Подготовим функцию для визуализации конверсии."
   ]
  },
  {
   "cell_type": "code",
   "execution_count": 32,
   "id": "825923cb",
   "metadata": {},
   "outputs": [],
   "source": [
    "# функция для визуализации конверсии\n",
    "\n",
    "def plot_conversion(conversion, horizon, window=7):\n",
    "\n",
    "    # задаём размер сетки для графиков\n",
    "    plt.figure(figsize=(15, 5))\n",
    "\n",
    "    # исключаем размеры когорт\n",
    "    conversion = conversion.drop(columns=['cohort_size'])\n",
    "    # в таблице динамики оставляем только нужный лайфтайм\n",
    "   # conversion_history = conversion_history.drop(columns=['cohort_size'])[\n",
    "    #    [horizon - 1]\n",
    "    #]\n",
    "\n",
    "    # первый график — кривые конверсии\n",
    "    conversion.T.plot(grid=True)\n",
    "    plt.legend()\n",
    "    plt.ylim((0,0.25))\n",
    "    plt.xlabel('Лайфтайм')\n",
    "    plt.title('Конверсия пользователей')\n",
    "\n",
    "    plt.tight_layout()\n",
    "    plt.show()"
   ]
  },
  {
   "cell_type": "markdown",
   "id": "75b4b3a5",
   "metadata": {},
   "source": [
    "Функции для расчета удержания и конверсии готовы, а также функции для их визуализации готовы, теперь мы можем проанализировать пользователей по основным характеристикам их активности."
   ]
  },
  {
   "cell_type": "markdown",
   "id": "fca603f9",
   "metadata": {},
   "source": [
    "### Расчет основных показателей: удержание, время, проведенное в приложении, частота действий, конверсия"
   ]
  },
  {
   "cell_type": "markdown",
   "id": "ce755113",
   "metadata": {},
   "source": [
    "Определим, данными за какой период мы распологаем. Для этого найдем минимальную и максимальную дату событий."
   ]
  },
  {
   "cell_type": "code",
   "execution_count": 33,
   "id": "7efcac86",
   "metadata": {},
   "outputs": [
    {
     "name": "stdout",
     "output_type": "stream",
     "text": [
      "Минимальная дата событий - 07.10.2019\n",
      "Максимальная дата событий - 03.11.2019\n"
     ]
    }
   ],
   "source": [
    "print(f'Минимальная дата событий - {mobile_dataset.event_time.min():%d.%m.%Y}')\n",
    "print(f'Максимальная дата событий - {mobile_dataset.event_time.max():%d.%m.%Y}')"
   ]
  },
  {
   "cell_type": "markdown",
   "id": "02526da2",
   "metadata": {},
   "source": [
    "У нас есть информация по событиям от 07 октября до 3 ноября 2019 года. Для анализа событий нам необходимо определить дату наблюдения - это максимальная дата событий и горизонт анализа. \n",
    "В качества горизонта анализа используем неделю - за этот срок пользователь может ознакомиться с функционалом и определиться с характером использования приложения. "
   ]
  },
  {
   "cell_type": "code",
   "execution_count": 34,
   "id": "2e9faf67",
   "metadata": {},
   "outputs": [],
   "source": [
    "# Установление даты наблюдения\n",
    "observation_date = mobile_dataset.event_time.max()\n",
    "# Установление горизонта анализа\n",
    "horizon_days = 7"
   ]
  },
  {
   "cell_type": "markdown",
   "id": "382341e5",
   "metadata": {},
   "source": [
    "#### Расчет удержания пользователей"
   ]
  },
  {
   "cell_type": "markdown",
   "id": "a389f514",
   "metadata": {},
   "source": [
    "Рассчитаем удержание пользователей."
   ]
  },
  {
   "cell_type": "code",
   "execution_count": 35,
   "id": "ab3f32bd",
   "metadata": {
    "scrolled": false
   },
   "outputs": [
    {
     "data": {
      "text/html": [
       "<div>\n",
       "<style scoped>\n",
       "    .dataframe tbody tr th:only-of-type {\n",
       "        vertical-align: middle;\n",
       "    }\n",
       "\n",
       "    .dataframe tbody tr th {\n",
       "        vertical-align: top;\n",
       "    }\n",
       "\n",
       "    .dataframe thead th {\n",
       "        text-align: right;\n",
       "    }\n",
       "</style>\n",
       "<table border=\"1\" class=\"dataframe\">\n",
       "  <thead>\n",
       "    <tr style=\"text-align: right;\">\n",
       "      <th></th>\n",
       "      <th>cohort_size</th>\n",
       "      <th>0</th>\n",
       "      <th>1</th>\n",
       "      <th>2</th>\n",
       "      <th>3</th>\n",
       "      <th>4</th>\n",
       "      <th>5</th>\n",
       "      <th>6</th>\n",
       "    </tr>\n",
       "    <tr>\n",
       "      <th>user_conversion</th>\n",
       "      <th></th>\n",
       "      <th></th>\n",
       "      <th></th>\n",
       "      <th></th>\n",
       "      <th></th>\n",
       "      <th></th>\n",
       "      <th></th>\n",
       "      <th></th>\n",
       "    </tr>\n",
       "  </thead>\n",
       "  <tbody>\n",
       "    <tr>\n",
       "      <th>0</th>\n",
       "      <td>2725</td>\n",
       "      <td>1.0</td>\n",
       "      <td>0.114128</td>\n",
       "      <td>0.067156</td>\n",
       "      <td>0.065688</td>\n",
       "      <td>0.050642</td>\n",
       "      <td>0.051009</td>\n",
       "      <td>0.040734</td>\n",
       "    </tr>\n",
       "    <tr>\n",
       "      <th>1</th>\n",
       "      <td>823</td>\n",
       "      <td>1.0</td>\n",
       "      <td>0.249089</td>\n",
       "      <td>0.182260</td>\n",
       "      <td>0.167679</td>\n",
       "      <td>0.103281</td>\n",
       "      <td>0.103281</td>\n",
       "      <td>0.105711</td>\n",
       "    </tr>\n",
       "  </tbody>\n",
       "</table>\n",
       "</div>"
      ],
      "text/plain": [
       "                 cohort_size    0         1         2         3         4  \\\n",
       "user_conversion                                                             \n",
       "0                       2725  1.0  0.114128  0.067156  0.065688  0.050642   \n",
       "1                        823  1.0  0.249089  0.182260  0.167679  0.103281   \n",
       "\n",
       "                        5         6  \n",
       "user_conversion                      \n",
       "0                0.051009  0.040734  \n",
       "1                0.103281  0.105711  "
      ]
     },
     "execution_count": 35,
     "metadata": {},
     "output_type": "execute_result"
    }
   ],
   "source": [
    "# Расчет удержания\n",
    "retention_raw, retention_grouped, retention_history = get_retention(\n",
    "    events_pivot,\n",
    "    sessions_pivot,\n",
    "    observation_date,\n",
    "    horizon_days,\n",
    "    dimensions=[],\n",
    "    ignore_horizon=False,\n",
    ")\n",
    "# Демонстрация общей таблицы удержания\n",
    "retention_grouped"
   ]
  },
  {
   "cell_type": "code",
   "execution_count": 36,
   "id": "e8ac77eb",
   "metadata": {
    "scrolled": false
   },
   "outputs": [
    {
     "data": {
      "image/png": "[encoded data removed]",
      "text/plain": [
       "<Figure size 864x360 with 2 Axes>"
      ]
     },
     "metadata": {
      "needs_background": "light"
     },
     "output_type": "display_data"
    }
   ],
   "source": [
    "# Визуализация удержания\n",
    "plot_retention(retention_grouped, horizon = 7, window=7)"
   ]
  },
  {
   "cell_type": "markdown",
   "id": "30efc66d",
   "metadata": {},
   "source": [
    "Мы видим, что уровень удержания на 7-дневном горизонте существенно различается для пользователей, которые просмотрели контакты и пользователей не просмотревших их. Для пользователей с конверсией показатель через неделю составляет свыше 10%, тогда как для пользователей, не просмотревших контакты аналогичный показатель составляет около 4%."
   ]
  },
  {
   "cell_type": "markdown",
   "id": "877bcf49",
   "metadata": {},
   "source": [
    "#### Расчет времени, проведенного в приложении, для пользователей"
   ]
  },
  {
   "cell_type": "markdown",
   "id": "57188593",
   "metadata": {},
   "source": [
    "Рассчитаем время, проведенное в приложении для пользователей.  "
   ]
  },
  {
   "cell_type": "code",
   "execution_count": 37,
   "id": "adfeabbb",
   "metadata": {
    "scrolled": false
   },
   "outputs": [
    {
     "data": {
      "text/html": [
       "<div>\n",
       "<style scoped>\n",
       "    .dataframe tbody tr th:only-of-type {\n",
       "        vertical-align: middle;\n",
       "    }\n",
       "\n",
       "    .dataframe tbody tr th {\n",
       "        vertical-align: top;\n",
       "    }\n",
       "\n",
       "    .dataframe thead th {\n",
       "        text-align: right;\n",
       "    }\n",
       "</style>\n",
       "<table border=\"1\" class=\"dataframe\">\n",
       "  <thead>\n",
       "    <tr style=\"text-align: right;\">\n",
       "      <th></th>\n",
       "      <th>cohort_size</th>\n",
       "      <th>0</th>\n",
       "      <th>1</th>\n",
       "      <th>2</th>\n",
       "      <th>3</th>\n",
       "      <th>4</th>\n",
       "      <th>5</th>\n",
       "      <th>6</th>\n",
       "    </tr>\n",
       "    <tr>\n",
       "      <th>user_conversion</th>\n",
       "      <th></th>\n",
       "      <th></th>\n",
       "      <th></th>\n",
       "      <th></th>\n",
       "      <th></th>\n",
       "      <th></th>\n",
       "      <th></th>\n",
       "      <th></th>\n",
       "    </tr>\n",
       "  </thead>\n",
       "  <tbody>\n",
       "    <tr>\n",
       "      <th>0</th>\n",
       "      <td>2725</td>\n",
       "      <td>17.894763</td>\n",
       "      <td>14.582315</td>\n",
       "      <td>13.624208</td>\n",
       "      <td>12.399330</td>\n",
       "      <td>12.732609</td>\n",
       "      <td>14.548705</td>\n",
       "      <td>13.724685</td>\n",
       "    </tr>\n",
       "    <tr>\n",
       "      <th>1</th>\n",
       "      <td>823</td>\n",
       "      <td>24.802211</td>\n",
       "      <td>23.320244</td>\n",
       "      <td>19.788467</td>\n",
       "      <td>16.152536</td>\n",
       "      <td>17.998824</td>\n",
       "      <td>16.480000</td>\n",
       "      <td>18.685632</td>\n",
       "    </tr>\n",
       "  </tbody>\n",
       "</table>\n",
       "</div>"
      ],
      "text/plain": [
       "                 cohort_size          0          1          2          3  \\\n",
       "user_conversion                                                            \n",
       "0                       2725  17.894763  14.582315  13.624208  12.399330   \n",
       "1                        823  24.802211  23.320244  19.788467  16.152536   \n",
       "\n",
       "                         4          5          6  \n",
       "user_conversion                                   \n",
       "0                12.732609  14.548705  13.724685  \n",
       "1                17.998824  16.480000  18.685632  "
      ]
     },
     "execution_count": 37,
     "metadata": {},
     "output_type": "execute_result"
    }
   ],
   "source": [
    "# Расчет времени, проведенного в приложении \n",
    "time_raw, time_grouped = get_time_in_app(\n",
    "    events_pivot,\n",
    "    sessions_pivot,\n",
    "    observation_date = mobile_dataset.event_time.max(),\n",
    "    horizon_days = 7,\n",
    "    dimensions=[],\n",
    "    ignore_horizon=False,\n",
    ")\n",
    "time_grouped"
   ]
  },
  {
   "cell_type": "markdown",
   "id": "c40a80b8",
   "metadata": {},
   "source": [
    "Мы видим, что в среднем пользователи, просматривающие контакты проводят больше время в приложении, чем не просматривающие, однако и заметно отсутствие линейного снижения времени, проведенного в приложении.\n",
    "\n",
    "Пользователи, не просматривающие контакты постепенно сокращают свое время в приложении, однако пользователи, просматривающие контакты взаимодействуют с приложением достаточно стабильно."
   ]
  },
  {
   "cell_type": "markdown",
   "id": "f96a393c",
   "metadata": {},
   "source": [
    "#### Расчет частоты действий пользователей"
   ]
  },
  {
   "cell_type": "markdown",
   "id": "1527f619",
   "metadata": {},
   "source": [
    "Оценим частоту действий. "
   ]
  },
  {
   "cell_type": "code",
   "execution_count": 38,
   "id": "340e7c3f",
   "metadata": {},
   "outputs": [
    {
     "data": {
      "text/html": [
       "<div>\n",
       "<style scoped>\n",
       "    .dataframe tbody tr th:only-of-type {\n",
       "        vertical-align: middle;\n",
       "    }\n",
       "\n",
       "    .dataframe tbody tr th {\n",
       "        vertical-align: top;\n",
       "    }\n",
       "\n",
       "    .dataframe thead th {\n",
       "        text-align: right;\n",
       "    }\n",
       "</style>\n",
       "<table border=\"1\" class=\"dataframe\">\n",
       "  <thead>\n",
       "    <tr style=\"text-align: right;\">\n",
       "      <th></th>\n",
       "      <th>cohort_size</th>\n",
       "      <th>0</th>\n",
       "      <th>1</th>\n",
       "      <th>2</th>\n",
       "      <th>3</th>\n",
       "      <th>4</th>\n",
       "      <th>5</th>\n",
       "      <th>6</th>\n",
       "    </tr>\n",
       "    <tr>\n",
       "      <th>user_conversion</th>\n",
       "      <th></th>\n",
       "      <th></th>\n",
       "      <th></th>\n",
       "      <th></th>\n",
       "      <th></th>\n",
       "      <th></th>\n",
       "      <th></th>\n",
       "      <th></th>\n",
       "    </tr>\n",
       "  </thead>\n",
       "  <tbody>\n",
       "    <tr>\n",
       "      <th>0</th>\n",
       "      <td>2725</td>\n",
       "      <td>9.928073</td>\n",
       "      <td>7.681672</td>\n",
       "      <td>7.508197</td>\n",
       "      <td>6.860335</td>\n",
       "      <td>7.594203</td>\n",
       "      <td>7.474820</td>\n",
       "      <td>6.540541</td>\n",
       "    </tr>\n",
       "    <tr>\n",
       "      <th>1</th>\n",
       "      <td>823</td>\n",
       "      <td>12.166464</td>\n",
       "      <td>11.551220</td>\n",
       "      <td>9.206667</td>\n",
       "      <td>7.818841</td>\n",
       "      <td>8.988235</td>\n",
       "      <td>8.611765</td>\n",
       "      <td>9.574713</td>\n",
       "    </tr>\n",
       "  </tbody>\n",
       "</table>\n",
       "</div>"
      ],
      "text/plain": [
       "                 cohort_size          0          1         2         3  \\\n",
       "user_conversion                                                          \n",
       "0                       2725   9.928073   7.681672  7.508197  6.860335   \n",
       "1                        823  12.166464  11.551220  9.206667  7.818841   \n",
       "\n",
       "                        4         5         6  \n",
       "user_conversion                                \n",
       "0                7.594203  7.474820  6.540541  \n",
       "1                8.988235  8.611765  9.574713  "
      ]
     },
     "execution_count": 38,
     "metadata": {},
     "output_type": "execute_result"
    }
   ],
   "source": [
    "# Расчет количества действий, проведенного в приложении \n",
    "events_raw, events_grouped = get_event_count(\n",
    "    events_pivot,\n",
    "    sessions_pivot,\n",
    "    observation_date = mobile_dataset.event_time.max(),\n",
    "    horizon_days = 7,\n",
    "    dimensions=[],\n",
    "    ignore_horizon=False,\n",
    ")\n",
    "events_grouped"
   ]
  },
  {
   "cell_type": "markdown",
   "id": "fbfcbb8d",
   "metadata": {},
   "source": [
    "Среднее количество действий за день также различается для пользователей, просматривающих контакты и не просматривающих контакты. В среднем пользователи с конверсией на четверть более активны, по сравнению с пользователями, не совершившим конверсии."
   ]
  },
  {
   "cell_type": "markdown",
   "id": "65c03e89",
   "metadata": {},
   "source": [
    "#### Расчет конверсии пользователей"
   ]
  },
  {
   "cell_type": "markdown",
   "id": "a607f655",
   "metadata": {},
   "source": [
    "Рассчитаем конверсию пользователей. "
   ]
  },
  {
   "cell_type": "code",
   "execution_count": 39,
   "id": "ec44f7c2",
   "metadata": {},
   "outputs": [
    {
     "data": {
      "text/html": [
       "<div>\n",
       "<style scoped>\n",
       "    .dataframe tbody tr th:only-of-type {\n",
       "        vertical-align: middle;\n",
       "    }\n",
       "\n",
       "    .dataframe tbody tr th {\n",
       "        vertical-align: top;\n",
       "    }\n",
       "\n",
       "    .dataframe thead th {\n",
       "        text-align: right;\n",
       "    }\n",
       "</style>\n",
       "<table border=\"1\" class=\"dataframe\">\n",
       "  <thead>\n",
       "    <tr style=\"text-align: right;\">\n",
       "      <th></th>\n",
       "      <th>cohort_size</th>\n",
       "      <th>0.0</th>\n",
       "      <th>1.0</th>\n",
       "      <th>2.0</th>\n",
       "      <th>3.0</th>\n",
       "      <th>4.0</th>\n",
       "      <th>5.0</th>\n",
       "      <th>6.0</th>\n",
       "    </tr>\n",
       "    <tr>\n",
       "      <th>cohort</th>\n",
       "      <th></th>\n",
       "      <th></th>\n",
       "      <th></th>\n",
       "      <th></th>\n",
       "      <th></th>\n",
       "      <th></th>\n",
       "      <th></th>\n",
       "      <th></th>\n",
       "    </tr>\n",
       "  </thead>\n",
       "  <tbody>\n",
       "    <tr>\n",
       "      <th>All users</th>\n",
       "      <td>3548</td>\n",
       "      <td>0.172492</td>\n",
       "      <td>0.186584</td>\n",
       "      <td>0.194758</td>\n",
       "      <td>0.200113</td>\n",
       "      <td>0.204622</td>\n",
       "      <td>0.209414</td>\n",
       "      <td>0.213641</td>\n",
       "    </tr>\n",
       "  </tbody>\n",
       "</table>\n",
       "</div>"
      ],
      "text/plain": [
       "           cohort_size       0.0       1.0       2.0       3.0       4.0  \\\n",
       "cohort                                                                     \n",
       "All users         3548  0.172492  0.186584  0.194758  0.200113  0.204622   \n",
       "\n",
       "                5.0       6.0  \n",
       "cohort                         \n",
       "All users  0.209414  0.213641  "
      ]
     },
     "execution_count": 39,
     "metadata": {},
     "output_type": "execute_result"
    }
   ],
   "source": [
    "# Расчет конверсии\n",
    "conversion_raw, conversion_grouped = get_conversion(\n",
    "    profiles = events_pivot,\n",
    "    sessions = sessions_pivot,\n",
    "    observation_date = mobile_dataset.event_time.max(),\n",
    "    horizon_days = 7,\n",
    "    dimensions=[],\n",
    "    ignore_horizon=False,\n",
    ")\n",
    "conversion_grouped"
   ]
  },
  {
   "cell_type": "code",
   "execution_count": 40,
   "id": "4259b40a",
   "metadata": {
    "scrolled": false
   },
   "outputs": [
    {
     "data": {
      "text/plain": [
       "<Figure size 1080x360 with 0 Axes>"
      ]
     },
     "metadata": {},
     "output_type": "display_data"
    },
    {
     "data": {
      "image/png": "[encoded data removed]",
      "text/plain": [
       "<Figure size 432x288 with 1 Axes>"
      ]
     },
     "metadata": {
      "needs_background": "light"
     },
     "output_type": "display_data"
    }
   ],
   "source": [
    "plot_conversion(conversion_grouped, horizon=7)"
   ]
  },
  {
   "cell_type": "markdown",
   "id": "23e0727e",
   "metadata": {},
   "source": [
    "Конверсия пользователй до просмотра контактов на недельном горизонте составляет более 21%. \n",
    "\n",
    "Оценим общий уровень конверсии по всему датасету."
   ]
  },
  {
   "cell_type": "code",
   "execution_count": 41,
   "id": "e698a063",
   "metadata": {},
   "outputs": [
    {
     "data": {
      "text/plain": [
       "0.22851153039832284"
      ]
     },
     "execution_count": 41,
     "metadata": {},
     "output_type": "execute_result"
    }
   ],
   "source": [
    "# Расчет общего уровня конверсии по всем пользователям в датасете\n",
    "events_pivot.user_conversion.mean()"
   ]
  },
  {
   "cell_type": "markdown",
   "id": "8f11c8a5",
   "metadata": {},
   "source": [
    "**Вывод:**\n",
    "\n",
    "Таким образом, общая активность пользователей на горизонте в 1 неделю характеризуется следущими показателями:\n",
    "- удержание пользователей с конверсией составляет около 10%, без конверсии - 4%,\n",
    "- время, проведенное в приложении в день после начального ознакомительного периода для пользователей с конверсией составляет 16-20 минут, для пользователей без конверсии - 12-14 минут,\n",
    "- частота действий для пользователей до конверсии составляет 6-7 действий в день после ознакомительного периода, для пользователей с конверсией - 8-10 действий в день,\n",
    "- общий уровень конверсии в первый день установки составляет 17%, на 7 сутки доходит до 21%, по всем пользователям составляет около 23%. "
   ]
  },
  {
   "cell_type": "markdown",
   "id": "b2ecc2a7",
   "metadata": {},
   "source": [
    "## Сегментация пользователей"
   ]
  },
  {
   "cell_type": "markdown",
   "id": "654c8e8c",
   "metadata": {},
   "source": [
    "Разделим пользователй на сегменты. Воспользуемся методом кластеризации."
   ]
  },
  {
   "cell_type": "markdown",
   "id": "cb30acfa",
   "metadata": {},
   "source": [
    "### Матрица корреляции"
   ]
  },
  {
   "cell_type": "markdown",
   "id": "932d5369",
   "metadata": {},
   "source": [
    "Подготовим таблицу и рассмотрим матрицу корреляции"
   ]
  },
  {
   "cell_type": "code",
   "execution_count": 42,
   "id": "615402af",
   "metadata": {},
   "outputs": [],
   "source": [
    "# Преобразование источника в измеряемый тип\n",
    "events_pivot = pd.get_dummies(events_pivot, columns=['source'])\n"
   ]
  },
  {
   "cell_type": "code",
   "execution_count": 43,
   "id": "074c0a60",
   "metadata": {},
   "outputs": [
    {
     "data": {
      "image/png": "[encoded data removed]",
      "text/plain": [
       "<Figure size 504x504 with 2 Axes>"
      ]
     },
     "metadata": {
      "needs_background": "light"
     },
     "output_type": "display_data"
    }
   ],
   "source": [
    "cm = events_pivot.corr() #вычисляем матрицу корреляций\n",
    "fig, ax = plt.subplots(figsize=(7,7))\n",
    "\n",
    "# тепловая карта с подписями для матрицы корреляций\n",
    "sns.heatmap(cm, annot=True, square=True)\n",
    "ax.set_ylim(\n",
    "    8, 0\n",
    ")  # корректировка \"рваных\" полей heatmap в последней версии библиотеки\n",
    "plt.show()"
   ]
  },
  {
   "cell_type": "markdown",
   "id": "a3624bc5",
   "metadata": {},
   "source": [
    "Матрица корреляции показываает, что есть ряд показателей с достаточно высокой корреляцией с конверсией:\n",
    "\n",
    "    - количество сессий, \n",
    "    - количество дней использования,\n",
    "    - количество событий.\n",
    "\n",
    "Так как количество дней и сессий очень сильно взаимосвязано, уберем одну из характеристик из расчета.\n"
   ]
  },
  {
   "cell_type": "markdown",
   "id": "c11791c5",
   "metadata": {},
   "source": [
    "Теперь данные готовы для проведения кластеризации."
   ]
  },
  {
   "cell_type": "markdown",
   "id": "0312967c",
   "metadata": {},
   "source": [
    "### Кластеризация пользователей"
   ]
  },
  {
   "cell_type": "markdown",
   "id": "9c0f1dd8",
   "metadata": {},
   "source": [
    "Подготовим дендрограмму"
   ]
  },
  {
   "cell_type": "code",
   "execution_count": 44,
   "id": "840fc38e",
   "metadata": {},
   "outputs": [],
   "source": [
    "# Разделение данных на признаки и целевую переменную\n",
    "X = events_pivot[['days_of_use', \n",
    "                  'event_count', \n",
    "                  'date_difference_in_days', \n",
    "                  'source_google', \n",
    "                  'source_other', \n",
    "                  'source_yandex']]\n",
    "y = events_pivot['user_conversion']\n",
    "# Выбор scaler\n",
    "scaler = StandardScaler()\n",
    "# Преобразование и трансформация данных\n",
    "X_st = scaler.fit_transform(X)"
   ]
  },
  {
   "cell_type": "markdown",
   "id": "07494880",
   "metadata": {},
   "source": [
    "Построим матрицу расстояний на стандартизированной матрице признаков и нарисуем дендрограмму."
   ]
  },
  {
   "cell_type": "code",
   "execution_count": 45,
   "id": "880d66c8",
   "metadata": {
    "scrolled": false
   },
   "outputs": [
    {
     "data": {
      "image/png": "[encoded data removed]",
      "text/plain": [
       "<Figure size 1080x720 with 1 Axes>"
      ]
     },
     "metadata": {
      "needs_background": "light"
     },
     "output_type": "display_data"
    }
   ],
   "source": [
    "# Модель кластеризации\n",
    "linked = linkage(X_st, method = 'ward') \n",
    "# Демонстрация дендрограммы\n",
    "plt.figure(figsize=(15, 10))  \n",
    "dendrogram(linked, orientation='top')\n",
    "plt.title('Иерархическая классификация пользователей приложения')\n",
    "plt.show() "
   ]
  },
  {
   "cell_type": "markdown",
   "id": "219a0aac",
   "metadata": {},
   "source": [
    "На основании полученной диаграммы мы можем выделить от 3 до 5 наполненных кластеров. Остановимся на 3 кластерах. Теперь мы можем обучить модель кластеризации. Обучим модель кластеризации на основании алгоритма K-Means и спрогнозируем кластеры клиентов. За число кластеров мы приняли n=3. "
   ]
  },
  {
   "cell_type": "code",
   "execution_count": 46,
   "id": "242768a4",
   "metadata": {},
   "outputs": [],
   "source": [
    "# Обучение модели\n",
    "km = KMeans(n_clusters=3, random_state=0) # задаём число кластеров, равное 3, и фиксируем значение random_state для воспроизводимости результата\n",
    "# Предсказание принадлежности к классу\n",
    "labels = km.fit_predict(X_st) # применяем алгоритм к данным и формируем вектор кластеров "
   ]
  },
  {
   "cell_type": "markdown",
   "id": "3957224a",
   "metadata": {},
   "source": [
    "### Общие характеристики сегментов"
   ]
  },
  {
   "cell_type": "markdown",
   "id": "df425562",
   "metadata": {},
   "source": [
    "Рассмотрим средние значения признаков для классов."
   ]
  },
  {
   "cell_type": "code",
   "execution_count": 47,
   "id": "64043dca",
   "metadata": {
    "scrolled": true
   },
   "outputs": [
    {
     "name": "stdout",
     "output_type": "stream",
     "text": [
      "1    1934\n",
      "0    1230\n",
      "2    1129\n",
      "Name: label, dtype: int64\n",
      "1    0.450501\n",
      "0    0.286513\n",
      "2    0.262986\n",
      "Name: label, dtype: float64\n"
     ]
    },
    {
     "data": {
      "text/html": [
       "<div>\n",
       "<style scoped>\n",
       "    .dataframe tbody tr th:only-of-type {\n",
       "        vertical-align: middle;\n",
       "    }\n",
       "\n",
       "    .dataframe tbody tr th {\n",
       "        vertical-align: top;\n",
       "    }\n",
       "\n",
       "    .dataframe thead th {\n",
       "        text-align: right;\n",
       "    }\n",
       "</style>\n",
       "<table border=\"1\" class=\"dataframe\">\n",
       "  <thead>\n",
       "    <tr style=\"text-align: right;\">\n",
       "      <th></th>\n",
       "      <th>days_of_use</th>\n",
       "      <th>event_count</th>\n",
       "      <th>session_count</th>\n",
       "      <th>date_difference_in_days</th>\n",
       "      <th>user_conversion</th>\n",
       "      <th>source_google</th>\n",
       "      <th>source_other</th>\n",
       "      <th>source_yandex</th>\n",
       "      <th>label</th>\n",
       "    </tr>\n",
       "  </thead>\n",
       "  <tbody>\n",
       "    <tr>\n",
       "      <th>0</th>\n",
       "      <td>1.860163</td>\n",
       "      <td>15.826016</td>\n",
       "      <td>2.452846</td>\n",
       "      <td>2.786992</td>\n",
       "      <td>0.185366</td>\n",
       "      <td>0</td>\n",
       "      <td>1</td>\n",
       "      <td>0</td>\n",
       "      <td>0</td>\n",
       "    </tr>\n",
       "    <tr>\n",
       "      <th>1</th>\n",
       "      <td>1.789555</td>\n",
       "      <td>17.728025</td>\n",
       "      <td>2.338676</td>\n",
       "      <td>2.580145</td>\n",
       "      <td>0.247156</td>\n",
       "      <td>0</td>\n",
       "      <td>0</td>\n",
       "      <td>1</td>\n",
       "      <td>1</td>\n",
       "    </tr>\n",
       "    <tr>\n",
       "      <th>2</th>\n",
       "      <td>1.831709</td>\n",
       "      <td>18.108946</td>\n",
       "      <td>2.504872</td>\n",
       "      <td>2.480957</td>\n",
       "      <td>0.243578</td>\n",
       "      <td>1</td>\n",
       "      <td>0</td>\n",
       "      <td>0</td>\n",
       "      <td>2</td>\n",
       "    </tr>\n",
       "  </tbody>\n",
       "</table>\n",
       "</div>"
      ],
      "text/plain": [
       "   days_of_use  event_count  session_count  date_difference_in_days  \\\n",
       "0     1.860163    15.826016       2.452846                 2.786992   \n",
       "1     1.789555    17.728025       2.338676                 2.580145   \n",
       "2     1.831709    18.108946       2.504872                 2.480957   \n",
       "\n",
       "   user_conversion  source_google  source_other  source_yandex  label  \n",
       "0         0.185366              0             1              0      0  \n",
       "1         0.247156              0             0              1      1  \n",
       "2         0.243578              1             0              0      2  "
      ]
     },
     "execution_count": 47,
     "metadata": {},
     "output_type": "execute_result"
    }
   ],
   "source": [
    "# Добавление столбца с номером кластера в таблицу с данными\n",
    "events_pivot['label'] = labels\n",
    "print(events_pivot['label'].value_counts())\n",
    "print(events_pivot['label'].value_counts(normalize=True))\n",
    "# Расчет средних значений признаков для классов\n",
    "events_pivot.groupby(labels).mean()"
   ]
  },
  {
   "cell_type": "markdown",
   "id": "52e2156b",
   "metadata": {},
   "source": [
    "Таким образом, метод кластеризации разделил пользователей по источникам трафика: google, yandex и другой. будем пользоваться этой классификацией."
   ]
  },
  {
   "cell_type": "code",
   "execution_count": 48,
   "id": "5bbf6453",
   "metadata": {},
   "outputs": [
    {
     "data": {
      "text/plain": [
       "0     other\n",
       "1    yandex\n",
       "2    yandex\n",
       "3    google\n",
       "4    yandex\n",
       "Name: label, dtype: object"
      ]
     },
     "execution_count": 48,
     "metadata": {},
     "output_type": "execute_result"
    }
   ],
   "source": [
    "# Заменим название сегментов на название источника\n",
    "events_pivot['label'] = events_pivot[['source_google', 'source_yandex', 'source_other']].idxmax(axis='columns')\n",
    "events_pivot['label'] = events_pivot['label'].str.replace('source_','')\n",
    "# Проверим - запросим первые 5 строк.\n",
    "events_pivot['label'].head()"
   ]
  },
  {
   "cell_type": "markdown",
   "id": "13f49d32",
   "metadata": {},
   "source": [
    "Среди пользователей 1934 приходится на yandex, 1129 - на google, еще 1230 - на другие источники. Уровень конверсии через yandex и google выше - около 24-25%, из иных источников - около 19%. Также пользователи yandex и google совершают немного больше действий - 18 по сравнению с 16 от иных источников."
   ]
  },
  {
   "cell_type": "markdown",
   "id": "ac763f04",
   "metadata": {},
   "source": [
    "***Вывод***\n",
    "\n",
    "Выделение пользователей по источнику установки приложения позволило выбрать три равные по объему группы. В целом, поведение этих групп похоже. Пользователи yandex и google совершают несколько больше действий в приложении и имеют несколько более высокую конверсию, чем пользователи из иных источников."
   ]
  },
  {
   "cell_type": "markdown",
   "id": "ccd86b46",
   "metadata": {},
   "source": [
    "## Различия сегментов по основным показателям"
   ]
  },
  {
   "cell_type": "markdown",
   "id": "2f9b5196",
   "metadata": {},
   "source": [
    "### Уровень удержания по сегментам"
   ]
  },
  {
   "cell_type": "markdown",
   "id": "2b80992b",
   "metadata": {},
   "source": [
    "Сравним уровень удержания по сегментам. "
   ]
  },
  {
   "cell_type": "code",
   "execution_count": 49,
   "id": "eba00e83",
   "metadata": {},
   "outputs": [
    {
     "data": {
      "text/html": [
       "<div>\n",
       "<style scoped>\n",
       "    .dataframe tbody tr th:only-of-type {\n",
       "        vertical-align: middle;\n",
       "    }\n",
       "\n",
       "    .dataframe tbody tr th {\n",
       "        vertical-align: top;\n",
       "    }\n",
       "\n",
       "    .dataframe thead th {\n",
       "        text-align: right;\n",
       "    }\n",
       "</style>\n",
       "<table border=\"1\" class=\"dataframe\">\n",
       "  <thead>\n",
       "    <tr style=\"text-align: right;\">\n",
       "      <th></th>\n",
       "      <th></th>\n",
       "      <th>cohort_size</th>\n",
       "      <th>0</th>\n",
       "      <th>1</th>\n",
       "      <th>2</th>\n",
       "      <th>3</th>\n",
       "      <th>4</th>\n",
       "      <th>5</th>\n",
       "      <th>6</th>\n",
       "    </tr>\n",
       "    <tr>\n",
       "      <th>user_conversion</th>\n",
       "      <th>label</th>\n",
       "      <th></th>\n",
       "      <th></th>\n",
       "      <th></th>\n",
       "      <th></th>\n",
       "      <th></th>\n",
       "      <th></th>\n",
       "      <th></th>\n",
       "      <th></th>\n",
       "    </tr>\n",
       "  </thead>\n",
       "  <tbody>\n",
       "    <tr>\n",
       "      <th rowspan=\"3\" valign=\"top\">0</th>\n",
       "      <th>google</th>\n",
       "      <td>706</td>\n",
       "      <td>1.0</td>\n",
       "      <td>0.118980</td>\n",
       "      <td>0.059490</td>\n",
       "      <td>0.059490</td>\n",
       "      <td>0.049575</td>\n",
       "      <td>0.036827</td>\n",
       "      <td>0.039660</td>\n",
       "    </tr>\n",
       "    <tr>\n",
       "      <th>other</th>\n",
       "      <td>799</td>\n",
       "      <td>1.0</td>\n",
       "      <td>0.111389</td>\n",
       "      <td>0.072591</td>\n",
       "      <td>0.078849</td>\n",
       "      <td>0.043805</td>\n",
       "      <td>0.070088</td>\n",
       "      <td>0.037547</td>\n",
       "    </tr>\n",
       "    <tr>\n",
       "      <th>yandex</th>\n",
       "      <td>1220</td>\n",
       "      <td>1.0</td>\n",
       "      <td>0.113115</td>\n",
       "      <td>0.068033</td>\n",
       "      <td>0.060656</td>\n",
       "      <td>0.055738</td>\n",
       "      <td>0.046721</td>\n",
       "      <td>0.043443</td>\n",
       "    </tr>\n",
       "    <tr>\n",
       "      <th rowspan=\"3\" valign=\"top\">1</th>\n",
       "      <th>google</th>\n",
       "      <td>232</td>\n",
       "      <td>1.0</td>\n",
       "      <td>0.262931</td>\n",
       "      <td>0.159483</td>\n",
       "      <td>0.142241</td>\n",
       "      <td>0.120690</td>\n",
       "      <td>0.099138</td>\n",
       "      <td>0.120690</td>\n",
       "    </tr>\n",
       "    <tr>\n",
       "      <th>other</th>\n",
       "      <td>193</td>\n",
       "      <td>1.0</td>\n",
       "      <td>0.279793</td>\n",
       "      <td>0.233161</td>\n",
       "      <td>0.202073</td>\n",
       "      <td>0.108808</td>\n",
       "      <td>0.129534</td>\n",
       "      <td>0.108808</td>\n",
       "    </tr>\n",
       "    <tr>\n",
       "      <th>yandex</th>\n",
       "      <td>398</td>\n",
       "      <td>1.0</td>\n",
       "      <td>0.226131</td>\n",
       "      <td>0.170854</td>\n",
       "      <td>0.165829</td>\n",
       "      <td>0.090452</td>\n",
       "      <td>0.092965</td>\n",
       "      <td>0.095477</td>\n",
       "    </tr>\n",
       "  </tbody>\n",
       "</table>\n",
       "</div>"
      ],
      "text/plain": [
       "                        cohort_size    0         1         2         3  \\\n",
       "user_conversion label                                                    \n",
       "0               google          706  1.0  0.118980  0.059490  0.059490   \n",
       "                other           799  1.0  0.111389  0.072591  0.078849   \n",
       "                yandex         1220  1.0  0.113115  0.068033  0.060656   \n",
       "1               google          232  1.0  0.262931  0.159483  0.142241   \n",
       "                other           193  1.0  0.279793  0.233161  0.202073   \n",
       "                yandex          398  1.0  0.226131  0.170854  0.165829   \n",
       "\n",
       "                               4         5         6  \n",
       "user_conversion label                                 \n",
       "0               google  0.049575  0.036827  0.039660  \n",
       "                other   0.043805  0.070088  0.037547  \n",
       "                yandex  0.055738  0.046721  0.043443  \n",
       "1               google  0.120690  0.099138  0.120690  \n",
       "                other   0.108808  0.129534  0.108808  \n",
       "                yandex  0.090452  0.092965  0.095477  "
      ]
     },
     "metadata": {},
     "output_type": "display_data"
    },
    {
     "data": {
      "image/png": "[encoded data removed]",
      "text/plain": [
       "<Figure size 864x360 with 2 Axes>"
      ]
     },
     "metadata": {
      "needs_background": "light"
     },
     "output_type": "display_data"
    }
   ],
   "source": [
    "# Расчет удержания\n",
    "retention_raw, retention_grouped, retention_history = get_retention(\n",
    "    events_pivot,\n",
    "    sessions_pivot,\n",
    "    observation_date,\n",
    "    horizon_days = 7,\n",
    "    dimensions=['label'],\n",
    "    ignore_horizon=False,\n",
    ")\n",
    "# Демонстрация общей таблицы удержания\n",
    "display(retention_grouped)\n",
    "# Визуализация удержания\n",
    "plot_retention(retention_grouped, horizon = 7, window=7)"
   ]
  },
  {
   "cell_type": "markdown",
   "id": "6887988d",
   "metadata": {},
   "source": [
    "Удержание пользователей, просматривающих контакты, на 7-дневном горизонте несколько выше у google - 12% против 10% у yandex и других источников. "
   ]
  },
  {
   "cell_type": "markdown",
   "id": "3a525570",
   "metadata": {},
   "source": [
    "### Время, проведенное в приложении по сегментам"
   ]
  },
  {
   "cell_type": "markdown",
   "id": "9667baf5",
   "metadata": {},
   "source": [
    "Сравним время, проведенное в приложении по сегментам"
   ]
  },
  {
   "cell_type": "code",
   "execution_count": 50,
   "id": "d82e21e9",
   "metadata": {
    "scrolled": true
   },
   "outputs": [
    {
     "data": {
      "text/html": [
       "<div>\n",
       "<style scoped>\n",
       "    .dataframe tbody tr th:only-of-type {\n",
       "        vertical-align: middle;\n",
       "    }\n",
       "\n",
       "    .dataframe tbody tr th {\n",
       "        vertical-align: top;\n",
       "    }\n",
       "\n",
       "    .dataframe thead th {\n",
       "        text-align: right;\n",
       "    }\n",
       "</style>\n",
       "<table border=\"1\" class=\"dataframe\">\n",
       "  <thead>\n",
       "    <tr style=\"text-align: right;\">\n",
       "      <th></th>\n",
       "      <th></th>\n",
       "      <th>cohort_size</th>\n",
       "      <th>0</th>\n",
       "      <th>1</th>\n",
       "      <th>2</th>\n",
       "      <th>3</th>\n",
       "      <th>4</th>\n",
       "      <th>5</th>\n",
       "      <th>6</th>\n",
       "    </tr>\n",
       "    <tr>\n",
       "      <th>user_conversion</th>\n",
       "      <th>label</th>\n",
       "      <th></th>\n",
       "      <th></th>\n",
       "      <th></th>\n",
       "      <th></th>\n",
       "      <th></th>\n",
       "      <th></th>\n",
       "      <th></th>\n",
       "      <th></th>\n",
       "    </tr>\n",
       "  </thead>\n",
       "  <tbody>\n",
       "    <tr>\n",
       "      <th rowspan=\"3\" valign=\"top\">0</th>\n",
       "      <th>google</th>\n",
       "      <td>706</td>\n",
       "      <td>18.690198</td>\n",
       "      <td>9.802857</td>\n",
       "      <td>12.884524</td>\n",
       "      <td>14.667381</td>\n",
       "      <td>11.140857</td>\n",
       "      <td>15.085385</td>\n",
       "      <td>15.046071</td>\n",
       "    </tr>\n",
       "    <tr>\n",
       "      <th>other</th>\n",
       "      <td>799</td>\n",
       "      <td>15.931014</td>\n",
       "      <td>16.087416</td>\n",
       "      <td>13.178103</td>\n",
       "      <td>8.421905</td>\n",
       "      <td>5.484286</td>\n",
       "      <td>13.121607</td>\n",
       "      <td>12.363333</td>\n",
       "    </tr>\n",
       "    <tr>\n",
       "      <th>yandex</th>\n",
       "      <td>1220</td>\n",
       "      <td>18.720549</td>\n",
       "      <td>16.520870</td>\n",
       "      <td>14.310241</td>\n",
       "      <td>14.498243</td>\n",
       "      <td>17.282647</td>\n",
       "      <td>15.705965</td>\n",
       "      <td>13.797170</td>\n",
       "    </tr>\n",
       "    <tr>\n",
       "      <th rowspan=\"3\" valign=\"top\">1</th>\n",
       "      <th>google</th>\n",
       "      <td>232</td>\n",
       "      <td>25.278233</td>\n",
       "      <td>22.472131</td>\n",
       "      <td>13.536216</td>\n",
       "      <td>20.248182</td>\n",
       "      <td>19.470714</td>\n",
       "      <td>15.453043</td>\n",
       "      <td>18.683571</td>\n",
       "    </tr>\n",
       "    <tr>\n",
       "      <th>other</th>\n",
       "      <td>193</td>\n",
       "      <td>21.050725</td>\n",
       "      <td>16.022963</td>\n",
       "      <td>18.473778</td>\n",
       "      <td>9.292821</td>\n",
       "      <td>24.283810</td>\n",
       "      <td>18.666000</td>\n",
       "      <td>21.121905</td>\n",
       "    </tr>\n",
       "    <tr>\n",
       "      <th>yandex</th>\n",
       "      <td>398</td>\n",
       "      <td>26.343920</td>\n",
       "      <td>28.273444</td>\n",
       "      <td>24.060441</td>\n",
       "      <td>18.158182</td>\n",
       "      <td>13.187778</td>\n",
       "      <td>15.641351</td>\n",
       "      <td>17.340789</td>\n",
       "    </tr>\n",
       "  </tbody>\n",
       "</table>\n",
       "</div>"
      ],
      "text/plain": [
       "                        cohort_size          0          1          2  \\\n",
       "user_conversion label                                                  \n",
       "0               google          706  18.690198   9.802857  12.884524   \n",
       "                other           799  15.931014  16.087416  13.178103   \n",
       "                yandex         1220  18.720549  16.520870  14.310241   \n",
       "1               google          232  25.278233  22.472131  13.536216   \n",
       "                other           193  21.050725  16.022963  18.473778   \n",
       "                yandex          398  26.343920  28.273444  24.060441   \n",
       "\n",
       "                                3          4          5          6  \n",
       "user_conversion label                                               \n",
       "0               google  14.667381  11.140857  15.085385  15.046071  \n",
       "                other    8.421905   5.484286  13.121607  12.363333  \n",
       "                yandex  14.498243  17.282647  15.705965  13.797170  \n",
       "1               google  20.248182  19.470714  15.453043  18.683571  \n",
       "                other    9.292821  24.283810  18.666000  21.121905  \n",
       "                yandex  18.158182  13.187778  15.641351  17.340789  "
      ]
     },
     "execution_count": 50,
     "metadata": {},
     "output_type": "execute_result"
    }
   ],
   "source": [
    "# Расчет времени, проведенного в приложении \n",
    "time_raw, time_grouped = get_time_in_app(\n",
    "    events_pivot,\n",
    "    sessions_pivot,\n",
    "    observation_date = mobile_dataset.event_time.max(),\n",
    "    horizon_days = 7,\n",
    "    dimensions=['label'],\n",
    "    ignore_horizon=False,\n",
    ")\n",
    "time_grouped"
   ]
  },
  {
   "cell_type": "markdown",
   "id": "112c9dac",
   "metadata": {},
   "source": [
    "Более высокое время на 7-дневном горизонте среди не просмотревших контакты пользователей у пользователей google, среди просмотревших контакты - у пользователей других сетей."
   ]
  },
  {
   "cell_type": "markdown",
   "id": "e2bbe09d",
   "metadata": {},
   "source": [
    "### Частота пользования по сегментам"
   ]
  },
  {
   "cell_type": "code",
   "execution_count": 51,
   "id": "522ecdd6",
   "metadata": {},
   "outputs": [
    {
     "data": {
      "text/html": [
       "<div>\n",
       "<style scoped>\n",
       "    .dataframe tbody tr th:only-of-type {\n",
       "        vertical-align: middle;\n",
       "    }\n",
       "\n",
       "    .dataframe tbody tr th {\n",
       "        vertical-align: top;\n",
       "    }\n",
       "\n",
       "    .dataframe thead th {\n",
       "        text-align: right;\n",
       "    }\n",
       "</style>\n",
       "<table border=\"1\" class=\"dataframe\">\n",
       "  <thead>\n",
       "    <tr style=\"text-align: right;\">\n",
       "      <th></th>\n",
       "      <th></th>\n",
       "      <th>cohort_size</th>\n",
       "      <th>0</th>\n",
       "      <th>1</th>\n",
       "      <th>2</th>\n",
       "      <th>3</th>\n",
       "      <th>4</th>\n",
       "      <th>5</th>\n",
       "      <th>6</th>\n",
       "    </tr>\n",
       "    <tr>\n",
       "      <th>user_conversion</th>\n",
       "      <th>label</th>\n",
       "      <th></th>\n",
       "      <th></th>\n",
       "      <th></th>\n",
       "      <th></th>\n",
       "      <th></th>\n",
       "      <th></th>\n",
       "      <th></th>\n",
       "      <th></th>\n",
       "    </tr>\n",
       "  </thead>\n",
       "  <tbody>\n",
       "    <tr>\n",
       "      <th rowspan=\"3\" valign=\"top\">0</th>\n",
       "      <th>google</th>\n",
       "      <td>706</td>\n",
       "      <td>10.498584</td>\n",
       "      <td>5.833333</td>\n",
       "      <td>7.357143</td>\n",
       "      <td>6.261905</td>\n",
       "      <td>7.057143</td>\n",
       "      <td>9.230769</td>\n",
       "      <td>7.071429</td>\n",
       "    </tr>\n",
       "    <tr>\n",
       "      <th>other</th>\n",
       "      <td>799</td>\n",
       "      <td>9.127660</td>\n",
       "      <td>7.415730</td>\n",
       "      <td>7.017241</td>\n",
       "      <td>6.142857</td>\n",
       "      <td>3.942857</td>\n",
       "      <td>6.785714</td>\n",
       "      <td>6.900000</td>\n",
       "    </tr>\n",
       "    <tr>\n",
       "      <th>yandex</th>\n",
       "      <td>1220</td>\n",
       "      <td>10.122131</td>\n",
       "      <td>8.978261</td>\n",
       "      <td>7.927711</td>\n",
       "      <td>7.810811</td>\n",
       "      <td>9.750000</td>\n",
       "      <td>7.350877</td>\n",
       "      <td>6.056604</td>\n",
       "    </tr>\n",
       "    <tr>\n",
       "      <th rowspan=\"3\" valign=\"top\">1</th>\n",
       "      <th>google</th>\n",
       "      <td>232</td>\n",
       "      <td>12.077586</td>\n",
       "      <td>10.639344</td>\n",
       "      <td>8.162162</td>\n",
       "      <td>9.333333</td>\n",
       "      <td>8.714286</td>\n",
       "      <td>8.173913</td>\n",
       "      <td>9.250000</td>\n",
       "    </tr>\n",
       "    <tr>\n",
       "      <th>other</th>\n",
       "      <td>193</td>\n",
       "      <td>10.803109</td>\n",
       "      <td>9.185185</td>\n",
       "      <td>7.977778</td>\n",
       "      <td>6.256410</td>\n",
       "      <td>15.047619</td>\n",
       "      <td>9.840000</td>\n",
       "      <td>11.761905</td>\n",
       "    </tr>\n",
       "    <tr>\n",
       "      <th>yandex</th>\n",
       "      <td>398</td>\n",
       "      <td>12.879397</td>\n",
       "      <td>13.588889</td>\n",
       "      <td>10.588235</td>\n",
       "      <td>7.984848</td>\n",
       "      <td>5.666667</td>\n",
       "      <td>8.054054</td>\n",
       "      <td>8.605263</td>\n",
       "    </tr>\n",
       "  </tbody>\n",
       "</table>\n",
       "</div>"
      ],
      "text/plain": [
       "                        cohort_size          0          1          2  \\\n",
       "user_conversion label                                                  \n",
       "0               google          706  10.498584   5.833333   7.357143   \n",
       "                other           799   9.127660   7.415730   7.017241   \n",
       "                yandex         1220  10.122131   8.978261   7.927711   \n",
       "1               google          232  12.077586  10.639344   8.162162   \n",
       "                other           193  10.803109   9.185185   7.977778   \n",
       "                yandex          398  12.879397  13.588889  10.588235   \n",
       "\n",
       "                               3          4         5          6  \n",
       "user_conversion label                                             \n",
       "0               google  6.261905   7.057143  9.230769   7.071429  \n",
       "                other   6.142857   3.942857  6.785714   6.900000  \n",
       "                yandex  7.810811   9.750000  7.350877   6.056604  \n",
       "1               google  9.333333   8.714286  8.173913   9.250000  \n",
       "                other   6.256410  15.047619  9.840000  11.761905  \n",
       "                yandex  7.984848   5.666667  8.054054   8.605263  "
      ]
     },
     "execution_count": 51,
     "metadata": {},
     "output_type": "execute_result"
    }
   ],
   "source": [
    "# Расчет количества действий, проведенного в приложении \n",
    "events_raw, events_grouped = get_event_count(\n",
    "    events_pivot,\n",
    "    sessions_pivot,\n",
    "    observation_date = mobile_dataset.event_time.max(),\n",
    "    horizon_days = 7,\n",
    "    dimensions=['label'],\n",
    "    ignore_horizon=False,\n",
    ")\n",
    "events_grouped"
   ]
  },
  {
   "cell_type": "markdown",
   "id": "ba24feba",
   "metadata": {},
   "source": [
    "На семидневном горизонте выше частоста пользования среди пользователей без конверсии у google и других источников, среди пользователей после конверсии - у пользователей других источников."
   ]
  },
  {
   "cell_type": "markdown",
   "id": "3646cbfc",
   "metadata": {},
   "source": [
    "### Конверсия по сегментам"
   ]
  },
  {
   "cell_type": "code",
   "execution_count": 52,
   "id": "05cf88d3",
   "metadata": {},
   "outputs": [
    {
     "data": {
      "text/html": [
       "<div>\n",
       "<style scoped>\n",
       "    .dataframe tbody tr th:only-of-type {\n",
       "        vertical-align: middle;\n",
       "    }\n",
       "\n",
       "    .dataframe tbody tr th {\n",
       "        vertical-align: top;\n",
       "    }\n",
       "\n",
       "    .dataframe thead th {\n",
       "        text-align: right;\n",
       "    }\n",
       "</style>\n",
       "<table border=\"1\" class=\"dataframe\">\n",
       "  <thead>\n",
       "    <tr style=\"text-align: right;\">\n",
       "      <th></th>\n",
       "      <th>cohort_size</th>\n",
       "      <th>0.0</th>\n",
       "      <th>1.0</th>\n",
       "      <th>2.0</th>\n",
       "      <th>3.0</th>\n",
       "      <th>4.0</th>\n",
       "      <th>5.0</th>\n",
       "      <th>6.0</th>\n",
       "    </tr>\n",
       "    <tr>\n",
       "      <th>label</th>\n",
       "      <th></th>\n",
       "      <th></th>\n",
       "      <th></th>\n",
       "      <th></th>\n",
       "      <th></th>\n",
       "      <th></th>\n",
       "      <th></th>\n",
       "      <th></th>\n",
       "    </tr>\n",
       "  </thead>\n",
       "  <tbody>\n",
       "    <tr>\n",
       "      <th>google</th>\n",
       "      <td>938</td>\n",
       "      <td>0.191898</td>\n",
       "      <td>0.204691</td>\n",
       "      <td>0.211087</td>\n",
       "      <td>0.215352</td>\n",
       "      <td>0.221748</td>\n",
       "      <td>0.224947</td>\n",
       "      <td>0.230277</td>\n",
       "    </tr>\n",
       "    <tr>\n",
       "      <th>other</th>\n",
       "      <td>992</td>\n",
       "      <td>0.134073</td>\n",
       "      <td>0.147177</td>\n",
       "      <td>0.156250</td>\n",
       "      <td>0.159274</td>\n",
       "      <td>0.162298</td>\n",
       "      <td>0.165323</td>\n",
       "      <td>0.171371</td>\n",
       "    </tr>\n",
       "    <tr>\n",
       "      <th>yandex</th>\n",
       "      <td>1618</td>\n",
       "      <td>0.184796</td>\n",
       "      <td>0.200247</td>\n",
       "      <td>0.208900</td>\n",
       "      <td>0.216316</td>\n",
       "      <td>0.220643</td>\n",
       "      <td>0.227441</td>\n",
       "      <td>0.229913</td>\n",
       "    </tr>\n",
       "  </tbody>\n",
       "</table>\n",
       "</div>"
      ],
      "text/plain": [
       "        cohort_size       0.0       1.0       2.0       3.0       4.0  \\\n",
       "label                                                                   \n",
       "google          938  0.191898  0.204691  0.211087  0.215352  0.221748   \n",
       "other           992  0.134073  0.147177  0.156250  0.159274  0.162298   \n",
       "yandex         1618  0.184796  0.200247  0.208900  0.216316  0.220643   \n",
       "\n",
       "             5.0       6.0  \n",
       "label                       \n",
       "google  0.224947  0.230277  \n",
       "other   0.165323  0.171371  \n",
       "yandex  0.227441  0.229913  "
      ]
     },
     "execution_count": 52,
     "metadata": {},
     "output_type": "execute_result"
    }
   ],
   "source": [
    "# Расчет конверсии\n",
    "conversion_raw, conversion_grouped = get_conversion(\n",
    "    profiles = events_pivot,\n",
    "    sessions = sessions_pivot,\n",
    "    observation_date = mobile_dataset.event_time.max(),\n",
    "    horizon_days = 7,\n",
    "    dimensions=['label'],\n",
    "    ignore_horizon=False,\n",
    ")\n",
    "conversion_grouped"
   ]
  },
  {
   "cell_type": "markdown",
   "id": "9c2b93d9",
   "metadata": {},
   "source": [
    "В первый день конверсия среди пользователей google составляет 19%, yandex - 18.5%, других источников - 13%.\n",
    "На седьмой день конверсия доходит до 23% у yandex и google, 17% у других источников."
   ]
  },
  {
   "cell_type": "code",
   "execution_count": 53,
   "id": "0dc4f2f7",
   "metadata": {},
   "outputs": [
    {
     "data": {
      "text/plain": [
       "<Figure size 1080x360 with 0 Axes>"
      ]
     },
     "metadata": {},
     "output_type": "display_data"
    },
    {
     "data": {
      "image/png": "[encoded data removed]",
      "text/plain": [
       "<Figure size 432x288 with 1 Axes>"
      ]
     },
     "metadata": {
      "needs_background": "light"
     },
     "output_type": "display_data"
    }
   ],
   "source": [
    "plot_conversion(conversion_grouped, horizon=7)"
   ]
  },
  {
   "cell_type": "markdown",
   "id": "1cb486b8",
   "metadata": {},
   "source": [
    "**Вывод**\n",
    "\n",
    "Анализ сегментов показывает \n",
    "- по уровню удержания на 7 дневном горизонте все источники близки, для пользователей с конверсией этот уровень составляет 10-12%, \n",
    "- по событиям и времени в приложении сегменты также достаточно близки, немного больше событий и времени в приложении среди пользователей без конверсии из google, с конверсией - из иных источников,\n",
    "- сама конверсия выше для пользователей yandex и google, ниже - из иных источников."
   ]
  },
  {
   "cell_type": "markdown",
   "id": "23a0bbc0",
   "metadata": {},
   "source": [
    "## Проверка гипотез"
   ]
  },
  {
   "cell_type": "markdown",
   "id": "1a90d55f",
   "metadata": {},
   "source": [
    "Мы проверим следующие гипотезы:\n",
    "\n",
    "1. Относительно различий пользователей, использующих google и yandex:\n",
    "* НО - нет значимых отличий в уровне конверсии пользователей, использующих google и yandex,\n",
    "* Н1 - существуют значимые отличия в уровне конверсии пользователей, использующих google и yandex.\n",
    "\n",
    "2. Относительно различий в частоте действий пользователей в выходные (праздничные) и будние дни:\n",
    "* НО - нет значимых отличий в частоте действий пользователей в выходные (праздничные) и будние дни,\n",
    "* Н1 - существуют значимые отличия в частоте действий пользователей в выходные (праздничные) и будние дни.\n",
    "\n",
    "Для этого подготовим данные, функцию по определению разницы между выборками и проведем сравнение и проанализируем полученные результаты."
   ]
  },
  {
   "cell_type": "markdown",
   "id": "3129bb13",
   "metadata": {},
   "source": [
    "### Подготовка данных для анализа результатов  статистического теста "
   ]
  },
  {
   "cell_type": "code",
   "execution_count": 54,
   "id": "5d8ebd30",
   "metadata": {},
   "outputs": [
    {
     "ename": "SyntaxError",
     "evalue": "invalid syntax (1817586325.py, line 1)",
     "output_type": "error",
     "traceback": [
      "\u001b[0;36m  Input \u001b[0;32mIn [54]\u001b[0;36m\u001b[0m\n\u001b[0;31m    Подготовим сводную таблицу с информацией о количестве пользователей и конверсии по источникам.\u001b[0m\n\u001b[0m               ^\u001b[0m\n\u001b[0;31mSyntaxError\u001b[0m\u001b[0;31m:\u001b[0m invalid syntax\n"
     ]
    }
   ],
   "source": [
    "Подготовим сводную таблицу с информацией о количестве пользователей и конверсии по источникам."
   ]
  },
  {
   "cell_type": "code",
   "execution_count": null,
   "id": "12e628db",
   "metadata": {},
   "outputs": [],
   "source": [
    "# Подготовка сводной таблицы\n",
    "test_sources = events_pivot.pivot_table(index = 'label', \n",
    "                                        aggfunc = {'user_id': 'nunique', 'user_conversion': 'sum'})\n",
    "# Удаление строки, не участвующей в сравнении\n",
    "test_sources = test_sources.drop('other', axis=0)\n",
    "# Демонстрация таблицы\n",
    "test_sources"
   ]
  },
  {
   "cell_type": "markdown",
   "id": "563e04a4",
   "metadata": {},
   "source": [
    "Теперь таблица по источникам готова, создадим таблицу по дням недели."
   ]
  },
  {
   "cell_type": "code",
   "execution_count": null,
   "id": "581680f8",
   "metadata": {},
   "outputs": [],
   "source": [
    "sessions_pivot['weekday'] = sessions_pivot.first_event_time.dt.weekday\n",
    "\n",
    "# Подготовка сводной таблицы\n",
    "test_weekday = sessions_pivot.pivot_table(index = 'weekday', \n",
    "                                        aggfunc = {'events_in_session': 'sum', 'user_id':'nunique'})\n",
    "# Демонстрация таблицы\n",
    "test_weekday"
   ]
  },
  {
   "cell_type": "markdown",
   "id": "08bd6279",
   "metadata": {},
   "source": [
    "Данные подготовлены, мы можем тестировать гипотезу."
   ]
  },
  {
   "cell_type": "markdown",
   "id": "eb52ba77",
   "metadata": {},
   "source": [
    "### Подготовка функции для тестирования статистических гипотез"
   ]
  },
  {
   "cell_type": "code",
   "execution_count": null,
   "id": "e4fe9fa6",
   "metadata": {},
   "outputs": [],
   "source": [
    "# Подготовка функции\n",
    "def stat_test(successes_1, successes_2, trials_1, trials_2, sample_1, sample_2, metric, \n",
    "              alpha = 0.05):    \n",
    "    # Пропорции успехов в первой и второй группе\n",
    "    p1 = successes_1 / trials_1\n",
    "    p2 = successes_2 / trials_2\n",
    "    # Пропорции успехов в комбинированной группе\n",
    "    p_combined = (successes_1 + successes_2) / (trials_1 + trials_2) \n",
    "    # Разница пропорций в датасетах\n",
    "    difference = p1 - p2\n",
    "    # Расчет статистики в стандартных отклонениях стандартного нормального распределения\n",
    "    z_value = difference / math.sqrt (p_combined * (1 - p_combined) * (1 / trials_1 + 1 / trials_2 ))\n",
    "    # Создание стандартного нормального распределения (среднее - 0, стандартное отклонение - 1)\n",
    "    distr = stats.norm (0, 1)\n",
    "    # Расчет уровня вероятности\n",
    "    p_value = (1 - distr.cdf(abs(z_value)))*2\n",
    "    print(f'Сравнение групп {sample_1} и {sample_2}')\n",
    "    print(\n",
    "        f'Н0: Доли пользователей по характеристике \\'{metric}\\', \\\n",
    "в группах {sample_1} и {sample_2} статистически значимо не различаются.')\n",
    "    print(\n",
    "        f'Н1: Доли пользователей по характеристику \\'{metric}\\', \\\n",
    "в группах {sample_1} и {sample_2} имеют статистически значимые различия.')\n",
    "    print((f'Уровень p-значения: {p_value:.3f}'))\n",
    "    if p_value >= alpha:\n",
    "        print('Не получилось отвергнуть нулевую гипотезу, нет оснований считать доли разными.')\n",
    "    else:\n",
    "        print('Отвергаем нулевую гипотезу, между долями есть значимая разница')\n",
    "        print (f'Различие составляет {difference:.2%}')\n",
    "    print('*****')"
   ]
  },
  {
   "cell_type": "markdown",
   "id": "29862fce",
   "metadata": {},
   "source": [
    "Функция готова к анализу"
   ]
  },
  {
   "cell_type": "markdown",
   "id": "2e1e5b30",
   "metadata": {},
   "source": [
    "### Результаты тестирования гипотезы об источниках трафика"
   ]
  },
  {
   "cell_type": "markdown",
   "id": "c42b7b06",
   "metadata": {},
   "source": [
    "Проанализируем результаты статистического теста. Установим порог значимости в 5%."
   ]
  },
  {
   "cell_type": "code",
   "execution_count": null,
   "id": "b83be764",
   "metadata": {},
   "outputs": [],
   "source": [
    "# Рассчитаем \"успехи\" и \"попытки\" по сводной таблице\n",
    "successes_1 = test_sources.loc['google', 'user_conversion']\n",
    "successes_2 = test_sources.loc['yandex', 'user_conversion']\n",
    "trials_1 = test_sources.loc['google', 'user_id']\n",
    "trials_2 = test_sources.loc['yandex', 'user_id']\n",
    "# Проведем статистический тест\n",
    "stat_test(successes_1 = successes_1, \n",
    "          successes_2 = successes_2, \n",
    "          trials_1 = trials_1, \n",
    "          trials_2 = trials_2, \n",
    "          sample_1 = 'источник google', \n",
    "          sample_2 = 'источник yandex', \n",
    "          metric = 'конверсия')"
   ]
  },
  {
   "cell_type": "markdown",
   "id": "71e7f697",
   "metadata": {},
   "source": [
    "**Вывод:**\n",
    "\n",
    "Статистический тест проведен успешно. По его результатам обе группы продемонстрировали отсутствие отличие в долях по конверсии."
   ]
  },
  {
   "cell_type": "markdown",
   "id": "1314e0d5",
   "metadata": {},
   "source": [
    "### Результаты тестирования гипотезы о частоте использования по дням"
   ]
  },
  {
   "cell_type": "markdown",
   "id": "2ccb57f3",
   "metadata": {},
   "source": [
    "Сравним экспериментальную группу (248) и первую из контрольных групп, группу 246."
   ]
  },
  {
   "cell_type": "code",
   "execution_count": null,
   "id": "7f629f6e",
   "metadata": {},
   "outputs": [],
   "source": [
    "# Среднее количество пользователей в рабочие дни\n",
    "successes_1 = test_weekday.iloc[:5, 1].mean()\n",
    "# Среднее количество пользователей в нерабочие дни\n",
    "successes_2 = test_weekday.iloc[5:, 1].mean()\n",
    "# Среднее количество событий в день в рабочие дни - попытки\n",
    "trials_1 = test_weekday.iloc[:5, 0].mean()\n",
    "# Среднее количество событий в день в нерабочие дни - попытки\n",
    "trials_2 = test_weekday.iloc[5:, 0].mean()\n",
    "# Проведем статистический тест\n",
    "stat_test(successes_1 = successes_1, \n",
    "          successes_2 = successes_2, \n",
    "          trials_1 = trials_1, \n",
    "          trials_2 = trials_2, \n",
    "          sample_1 = 'пользователи, открывающие приложение в рабочие дни,', \n",
    "          sample_2 = 'пользователи, открывающие приложение в нерабочие дни', \n",
    "          metric = 'частота использования')"
   ]
  },
  {
   "cell_type": "code",
   "execution_count": null,
   "id": "2dd1a9cf",
   "metadata": {},
   "outputs": [],
   "source": [
    "# Рассчитаем \"успехи\" и \"попытки\" по сводной таблице\n",
    "successes_1 = test_sources.loc['google', 'user_conversion']\n",
    "successes_2 = test_sources.loc['yandex', 'user_conversion']\n",
    "trials_1 = test_sources.loc['google', 'user_id']\n",
    "trials_2 = test_sources.loc['yandex', 'user_id']\n",
    "# Проведем статистический тест\n",
    "stat_test(successes_1 = successes_1, \n",
    "          successes_2 = successes_2, \n",
    "          trials_1 = trials_1, \n",
    "          trials_2 = trials_2, \n",
    "          sample_1 = 'источник google', \n",
    "          sample_2 = 'источник yandex', \n",
    "          metric = 'конверсия')"
   ]
  },
  {
   "cell_type": "markdown",
   "id": "c1f7f0b9",
   "metadata": {},
   "source": [
    "**Вывод**"
   ]
  },
  {
   "cell_type": "markdown",
   "id": "99787f08",
   "metadata": {},
   "source": [
    "**Вывод:**\n",
    "\n",
    "Статистический тест проведен успешно. По его результатам обе группы продемонстрировали отсутствие отличие в долях по частоте использования приложения."
   ]
  },
  {
   "cell_type": "markdown",
   "id": "5be03165",
   "metadata": {},
   "source": [
    "## Общий вывод"
   ]
  },
  {
   "cell_type": "markdown",
   "id": "3fd7bbb6",
   "metadata": {},
   "source": [
    "В результате анализа иы выделили пользователей, которые различаются по метрикам:\n",
    "\n",
    "1. retention rate - пользователи, пришедшие из разных источниках имеют примерно равный уровень удержания - от 10 до 12%, но пользователи yandex более многочисленны,\n",
    "2. время, проведённое в приложении - среди конвертированных пользователей больше всего времени проводят пользователи из других источников, среди пользователей без конверсии - перешедшие из google, в целом в день на недельном горизонте пользователи, если заходят в приложение проводят там не менее 12 минут (без конверсии) и 18 минут (с конверсией). \n",
    "3. частота действий - за время проведенное в приложении пользователи успевают совершить 6-7 действий (без конверсии), 10-12 действий с конверсией, \n",
    "4. конверсия в целевое действие — просмотр контактов. Общий уровень конверсии на 7 дневном горизонте - около 23% у yandex и google, 17% у пользователей из других источников. \n",
    "\n",
    "На основе поведения при регистрации (использованного источника) нами были выделены следующие сегменты:\n",
    "\n",
    "- пользователи yandex - наиболее многочисленная группа, 45% пользователей. Характеризуется достаточно высоким уровнем удержания и конверсии, при условии, что затраты на привлечение одинаковы - это самый массовый и потенциально прибыльный сегмент,\n",
    "- пользователи google - достаточно многочисленная группа - 26% пользователей, характеризуется достаточно высоким уровнем удержания, конверсии, а также высокой частотой пользования пользователей, просматривающих контакты.\n",
    "- пользователи из других источников составляют 28% пользователей, характеризуются немного меньшим уровнем удержания и значительно меньшим уровнем конверсии, среди них больше тех, кто проводит дольше времени в приложении без конверсии, возможно есть какие-то барьеры, которые им надо преодолеть, чтобы перейти в пользователи с конверсией. \n",
    "\n",
    "В ходе анализа мы проверяли следующие гипотезы:\n",
    "1. Пользователи, установившие приложение по ссылке из `yandex` и из `google` демонстрируют разную конверсию в просмотры контактов.*\n",
    "2. Пользователи пользуются приложением с различной частотой в выходные (праздничные) и будние дни.\n",
    "\n",
    "Статистический анализ показал отсутствие значимых отличий между группами пользователей в обоих случаях.\n",
    "\n",
    "Важно учитывать при развитии приложения:\n",
    "- быстрая конверсия характеризует пользование приложением. В первые сутки конверсия составляет 17% пользователей, в первую неделю \"дорастает\" до 21%, без ограничения времени достигает 22.8%. Это означает, что необходимо направить особую активность на стимулирование просмотра контактов в первый день и в первую сессию использования приложения,\n",
    "- приложение характеризуется достаточно большим количеством действий в рамках сессии и достаточно высокой длительностью сессии, следует это учитывать при планировании взаимодействия с пользователями.\n",
    "- большинство сессий в приложении происходит днем и вечером, то есть приложением могут пользоваться во время работы(учебы), а не только в свободно время,\n",
    "- сессии, в которые происходят конверсии насыщеннее событиями (10 событий против 8) и длиннее по времени (22 минуты против 12) по сравнению с сессиями, в которых конверсии не происходит, следует поддерживать более длинные сессии, стимулировать максимально подробное заполнение объявлений, чтобы пользователю, ищущему вещи было что читать и какую информацию анализировать,\n",
    "- сценарии пользования приложением покаазывают - пользователь не всегда работает с поиском, есть также очень распространенные группы пользователей \n",
    "   - сосредоточенные на изображениях - они просматривают фото и исходя из фото принимают решение о просмотре контактов,\n",
    "   - ориентированные на место - они ищут на карте вещи, которые им удобно было бы забрать, видимо ориентируясь на близость местоположения.\n",
    "   Следует поощрять использование фотографий и точного местоположения в объявлении, возможно сделать пару фотографий и указание места с точностью до улицы обязательным для повышения конверсии.\n",
    "\n",
    "Для более успешного анализа на следующих этапах было бы полезно:\n",
    "- установить систему логирования сессий, чтобы более корректно характеризовать пользовательскую активность,\n",
    "- если используются платные каналы привлечения пользователей, учитывать их стоимость для определения ценности пользователей и эффективности каналов.\n",
    "\n",
    "Надеемся наши выводы помогут усовершенствовать взаимодействие с пользователями приложения."
   ]
  }
 ],
 "metadata": {
  "kernelspec": {
   "display_name": "Python 3 (ipykernel)",
   "language": "python",
   "name": "python3"
  },
  "language_info": {
   "codemirror_mode": {
    "name": "ipython",
    "version": 3
   },
   "file_extension": ".py",
   "mimetype": "text/x-python",
   "name": "python",
   "nbconvert_exporter": "python",
   "pygments_lexer": "ipython3",
   "version": "3.9.12"
  },
  "toc": {
   "base_numbering": 1,
   "nav_menu": {},
   "number_sections": true,
   "sideBar": false,
   "skip_h1_title": true,
   "title_cell": "Table of Contents",
   "title_sidebar": "Contents",
   "toc_cell": false,
   "toc_position": {
    "height": "875.25px",
    "left": "59px",
    "top": "111.483px",
    "width": "428.8px"
   },
   "toc_section_display": true,
   "toc_window_display": true
  }
 },
 "nbformat": 4,
 "nbformat_minor": 5
}
