{
 "cells": [
  {
   "cell_type": "markdown",
   "id": "62e96f9e",
   "metadata": {},
   "source": [
    "# Поиск закономерностей успешности игр"
   ]
  },
  {
   "cell_type": "markdown",
   "id": "84c41ae8",
   "metadata": {},
   "source": [
    "Мы представляем проект для интернет-магазина «Стримчик», который продаёт по всему миру компьютерные игры. Из открытых источников доступны исторические данные о продажах игр, оценки пользователей и экспертов, жанры и платформы (например, Xbox или PlayStation). Перед нами данные до 2016 года. Представим, что сейчас декабрь 2016 г., и мы планируем кампанию на 2017. \n",
    "\n",
    "**Цель исследования** - выявить определяющие успешность игры закономерности. Это позволит сделать ставку на потенциально популярный продукт и спланировать рекламные кампании.\n",
    "\n",
    "**Ход исследования**\n",
    "Данные об играх мы получили из файла `/datasets/games.csv`. \n",
    "\n",
    "О качестве данных нам ничего неизвестно, поэтому перед проведением исследования понадобится обзор данных.\n",
    "\n",
    "Мы проведем предобработку данных: проверим данные на ошибки и оценим их влияние на исследование, постараемся исправить самые критичные ошибки данных, обработаем пропуски, приведем данные к необходимым типам, проведем дополнительные расчеты.\n",
    "\n",
    "Затем мы проведем исследовательский анализ, сравним продажи игр в разные периоды и оценим влияние платформы, отзывов, региона на продажи. \n",
    "\n",
    "На основе данных мы представим портрет пользователя каждого региона (самые популярные платформы, жанры и влияние рейтинга ESRB на продажи).\n",
    "\n",
    "Мы сформулировали следующие гипотезы: \n",
    "* средние пользовательские рейтинги платформ Xbox One и PC одинаковые;\n",
    "* средние пользовательские рейтинги жанров Action (англ. «действие», экшен-игры) и Sports (англ. «спортивные соревнования») разные.\n",
    "Проверим их на имеющихся данных.\n",
    "\n",
    "Таким образом, решение пройдет в пять этапов."
   ]
  },
  {
   "cell_type": "markdown",
   "id": "38751d6e",
   "metadata": {},
   "source": [
    "## Обзор данных"
   ]
  },
  {
   "cell_type": "markdown",
   "id": "237755c2",
   "metadata": {},
   "source": [
    "Составим представление о данных. Импортируем специальную библиотеку pandas для обработки и анализа данных. "
   ]
  },
  {
   "cell_type": "code",
   "execution_count": 69,
   "id": "5af85d87",
   "metadata": {
    "scrolled": false
   },
   "outputs": [],
   "source": [
    "import pandas as pd # импорт библиотеки pandas\n",
    "# import numpy as np # импорт библиотеки numpy для математических вычислений\n",
    "import matplotlib.pyplot as plt # импорт части библиотеки matplotlib\n",
    "import seaborn as sns # импорт библиотеки seaborn для работы с графиками\n",
    "from scipy import stats as st\n"
   ]
  },
  {
   "cell_type": "markdown",
   "id": "a07fb39a",
   "metadata": {},
   "source": [
    "Прочитаем файл `/datasets/games.csv` и сохраним его в переменной `df`:"
   ]
  },
  {
   "cell_type": "code",
   "execution_count": 2,
   "id": "c6ec68be",
   "metadata": {},
   "outputs": [],
   "source": [
    "# чтение файла с данными и сохранение в df\n",
    "try:\n",
    "    # адрес в локальном окружении\n",
    "    df = pd.read_csv('games.csv')\n",
    "except:\n",
    "    # адрес в среде 'practicum'\n",
    "    df = pd.read_csv('/datasets/games.csv')"
   ]
  },
  {
   "cell_type": "markdown",
   "id": "ec3f1d44",
   "metadata": {},
   "source": [
    "Выведем на экран первые пять строк таблицы"
   ]
  },
  {
   "cell_type": "code",
   "execution_count": 3,
   "id": "646ceda4",
   "metadata": {},
   "outputs": [
    {
     "data": {
      "text/html": [
       "<div>\n",
       "<style scoped>\n",
       "    .dataframe tbody tr th:only-of-type {\n",
       "        vertical-align: middle;\n",
       "    }\n",
       "\n",
       "    .dataframe tbody tr th {\n",
       "        vertical-align: top;\n",
       "    }\n",
       "\n",
       "    .dataframe thead th {\n",
       "        text-align: right;\n",
       "    }\n",
       "</style>\n",
       "<table border=\"1\" class=\"dataframe\">\n",
       "  <thead>\n",
       "    <tr style=\"text-align: right;\">\n",
       "      <th></th>\n",
       "      <th>Name</th>\n",
       "      <th>Platform</th>\n",
       "      <th>Year_of_Release</th>\n",
       "      <th>Genre</th>\n",
       "      <th>NA_sales</th>\n",
       "      <th>EU_sales</th>\n",
       "      <th>JP_sales</th>\n",
       "      <th>Other_sales</th>\n",
       "      <th>Critic_Score</th>\n",
       "      <th>User_Score</th>\n",
       "      <th>Rating</th>\n",
       "    </tr>\n",
       "  </thead>\n",
       "  <tbody>\n",
       "    <tr>\n",
       "      <th>0</th>\n",
       "      <td>Wii Sports</td>\n",
       "      <td>Wii</td>\n",
       "      <td>2006.0</td>\n",
       "      <td>Sports</td>\n",
       "      <td>41.36</td>\n",
       "      <td>28.96</td>\n",
       "      <td>3.77</td>\n",
       "      <td>8.45</td>\n",
       "      <td>76.0</td>\n",
       "      <td>8</td>\n",
       "      <td>E</td>\n",
       "    </tr>\n",
       "    <tr>\n",
       "      <th>1</th>\n",
       "      <td>Super Mario Bros.</td>\n",
       "      <td>NES</td>\n",
       "      <td>1985.0</td>\n",
       "      <td>Platform</td>\n",
       "      <td>29.08</td>\n",
       "      <td>3.58</td>\n",
       "      <td>6.81</td>\n",
       "      <td>0.77</td>\n",
       "      <td>NaN</td>\n",
       "      <td>NaN</td>\n",
       "      <td>NaN</td>\n",
       "    </tr>\n",
       "    <tr>\n",
       "      <th>2</th>\n",
       "      <td>Mario Kart Wii</td>\n",
       "      <td>Wii</td>\n",
       "      <td>2008.0</td>\n",
       "      <td>Racing</td>\n",
       "      <td>15.68</td>\n",
       "      <td>12.76</td>\n",
       "      <td>3.79</td>\n",
       "      <td>3.29</td>\n",
       "      <td>82.0</td>\n",
       "      <td>8.3</td>\n",
       "      <td>E</td>\n",
       "    </tr>\n",
       "    <tr>\n",
       "      <th>3</th>\n",
       "      <td>Wii Sports Resort</td>\n",
       "      <td>Wii</td>\n",
       "      <td>2009.0</td>\n",
       "      <td>Sports</td>\n",
       "      <td>15.61</td>\n",
       "      <td>10.93</td>\n",
       "      <td>3.28</td>\n",
       "      <td>2.95</td>\n",
       "      <td>80.0</td>\n",
       "      <td>8</td>\n",
       "      <td>E</td>\n",
       "    </tr>\n",
       "    <tr>\n",
       "      <th>4</th>\n",
       "      <td>Pokemon Red/Pokemon Blue</td>\n",
       "      <td>GB</td>\n",
       "      <td>1996.0</td>\n",
       "      <td>Role-Playing</td>\n",
       "      <td>11.27</td>\n",
       "      <td>8.89</td>\n",
       "      <td>10.22</td>\n",
       "      <td>1.00</td>\n",
       "      <td>NaN</td>\n",
       "      <td>NaN</td>\n",
       "      <td>NaN</td>\n",
       "    </tr>\n",
       "  </tbody>\n",
       "</table>\n",
       "</div>"
      ],
      "text/plain": [
       "                       Name Platform  Year_of_Release         Genre  NA_sales  \\\n",
       "0                Wii Sports      Wii           2006.0        Sports     41.36   \n",
       "1         Super Mario Bros.      NES           1985.0      Platform     29.08   \n",
       "2            Mario Kart Wii      Wii           2008.0        Racing     15.68   \n",
       "3         Wii Sports Resort      Wii           2009.0        Sports     15.61   \n",
       "4  Pokemon Red/Pokemon Blue       GB           1996.0  Role-Playing     11.27   \n",
       "\n",
       "   EU_sales  JP_sales  Other_sales  Critic_Score User_Score Rating  \n",
       "0     28.96      3.77         8.45          76.0          8      E  \n",
       "1      3.58      6.81         0.77           NaN        NaN    NaN  \n",
       "2     12.76      3.79         3.29          82.0        8.3      E  \n",
       "3     10.93      3.28         2.95          80.0          8      E  \n",
       "4      8.89     10.22         1.00           NaN        NaN    NaN  "
      ]
     },
     "metadata": {},
     "output_type": "display_data"
    }
   ],
   "source": [
    "display(df.head()) # получение первых 5 строк таблицы df"
   ]
  },
  {
   "cell_type": "markdown",
   "id": "753536c8",
   "metadata": {},
   "source": [
    "Получим общую информацию о таблицe."
   ]
  },
  {
   "cell_type": "code",
   "execution_count": 4,
   "id": "7b90f054",
   "metadata": {},
   "outputs": [
    {
     "name": "stdout",
     "output_type": "stream",
     "text": [
      "<class 'pandas.core.frame.DataFrame'>\n",
      "RangeIndex: 16715 entries, 0 to 16714\n",
      "Data columns (total 11 columns):\n",
      " #   Column           Non-Null Count  Dtype  \n",
      "---  ------           --------------  -----  \n",
      " 0   Name             16713 non-null  object \n",
      " 1   Platform         16715 non-null  object \n",
      " 2   Year_of_Release  16446 non-null  float64\n",
      " 3   Genre            16713 non-null  object \n",
      " 4   NA_sales         16715 non-null  float64\n",
      " 5   EU_sales         16715 non-null  float64\n",
      " 6   JP_sales         16715 non-null  float64\n",
      " 7   Other_sales      16715 non-null  float64\n",
      " 8   Critic_Score     8137 non-null   float64\n",
      " 9   User_Score       10014 non-null  object \n",
      " 10  Rating           9949 non-null   object \n",
      "dtypes: float64(6), object(5)\n",
      "memory usage: 1.4+ MB\n"
     ]
    }
   ],
   "source": [
    "df.info() # получение общей информации о данных в таблице df_tariffs"
   ]
  },
  {
   "cell_type": "markdown",
   "id": "adc2349a",
   "metadata": {},
   "source": [
    "В таблице 11 столбцов. Согласно документации к данным:\n",
    "* `Name` — название игры, тип данных - object;\n",
    "* `Platform` — платформа, тип данных - object;\n",
    "* `Year_of_Release` — год выпуска, тип данных - float64;\n",
    "* `Genre` — жанр игры, тип данных - object;\n",
    "* `NA_sales` — продажи в Северной Америке (миллионы проданных копий), тип данных - float64;\n",
    "* `EU_sales` — продажи в Европе (миллионы проданных копий), тип данных - float64;\n",
    "* `JP_sales` — продажи в Японии (миллионы проданных копий), тип данных - float64;\n",
    "* `Other_sales` — продажи в других странах (миллионы проданных копий), тип данных - float64;\n",
    "* `Critic_Score` — оценка критиков (максимум 100), тип данных - float64;\n",
    "* `User_Score` — оценка пользователей (максимум 10), тип данных - object;\n",
    "* `Rating` — рейтинг от организации ESRB (англ. Entertainment Software Rating Board), тип данных - object. \n",
    "\n",
    "*ESRB (Entertainment Software Rating Board)* — это ассоциация, определяющая возрастной рейтинг компьютерных игр. ESRB оценивает игровой контент и присваивает ему подходящую возрастную категорию, например, «Для взрослых», «Для детей младшего возраста» или «Для подростков».\n",
    "\n",
    "***Примечание***\n",
    "Данные за 2016 год могут быть неполными."
   ]
  },
  {
   "cell_type": "markdown",
   "id": "46cb9e67",
   "metadata": {},
   "source": [
    "**Выводы**\n",
    "\n",
    "Данные об играх содержатся в 11 столбцах таблицы. \n",
    "Количество значений в столбцах неодинаково, это значит в данных есть пропуски. \n",
    "Названия столбцов не соответствуют правилам хорошего стиля - в них есть заглавные буквы.\n",
    "Содержание столбцов и тип данных не всегда соответствуют друг другу: оценка пользователей сохраена в строковом формате, год - в дробном.\n",
    "\n",
    "Чтобы двигаться дальше, нужно устранить проблемы в данных."
   ]
  },
  {
   "cell_type": "markdown",
   "id": "fa655d7b",
   "metadata": {},
   "source": [
    "## Предобработка данных"
   ]
  },
  {
   "cell_type": "markdown",
   "id": "fb2dcec3",
   "metadata": {},
   "source": [
    "Обработаем названия столбцов, исключим пропуски данных и дубликаты, проверим данные на наличие аномалий и при необходимости избавимся от них. Приведем данные к необходимым типам."
   ]
  },
  {
   "cell_type": "markdown",
   "id": "24c2b26a",
   "metadata": {},
   "source": [
    "### Приведение названий столбцов к хорошему стилю"
   ]
  },
  {
   "cell_type": "markdown",
   "id": "d1fca6af",
   "metadata": {},
   "source": [
    "Заменим названия столбцов - приведем к нижнему регистру."
   ]
  },
  {
   "cell_type": "code",
   "execution_count": 5,
   "id": "e1cd1f60",
   "metadata": {},
   "outputs": [
    {
     "data": {
      "text/plain": [
       "Index(['name', 'platform', 'year_of_release', 'genre', 'na_sales', 'eu_sales',\n",
       "       'jp_sales', 'other_sales', 'critic_score', 'user_score', 'rating'],\n",
       "      dtype='object')"
      ]
     },
     "execution_count": 5,
     "metadata": {},
     "output_type": "execute_result"
    }
   ],
   "source": [
    "# \n",
    "df.columns = df.columns.str.lower()\n",
    "# Проверка - вывод названий столбцов\n",
    "df.columns"
   ]
  },
  {
   "cell_type": "markdown",
   "id": "f76d06e8",
   "metadata": {},
   "source": [
    "Теперь названия столбцов в порядке. "
   ]
  },
  {
   "cell_type": "markdown",
   "id": "002d00de",
   "metadata": {},
   "source": [
    "### Обработка пропущенных значений"
   ]
  },
  {
   "cell_type": "markdown",
   "id": "8c98a3b8",
   "metadata": {},
   "source": [
    "Обработаем пропуски. Определим, в каких столбцах пропуски в наличии."
   ]
  },
  {
   "cell_type": "code",
   "execution_count": 6,
   "id": "52a21774",
   "metadata": {},
   "outputs": [
    {
     "data": {
      "text/plain": [
       "name                  2\n",
       "platform              0\n",
       "year_of_release     269\n",
       "genre                 2\n",
       "na_sales              0\n",
       "eu_sales              0\n",
       "jp_sales              0\n",
       "other_sales           0\n",
       "critic_score       8578\n",
       "user_score         6701\n",
       "rating             6766\n",
       "dtype: int64"
      ]
     },
     "execution_count": 6,
     "metadata": {},
     "output_type": "execute_result"
    }
   ],
   "source": [
    "# Запрос количества пропущенных значений по столбцам.\n",
    "df.isna().sum()"
   ]
  },
  {
   "cell_type": "markdown",
   "id": "a662dd0f",
   "metadata": {},
   "source": [
    "В таблице отсутствуют данные о названии и жанре 2 игр, годе выпуска 269 игр, а также несколько тысяч оценок критиков, пользователей и рейтинг. \n",
    "Игры без названия и жанра необходимо удалить из анализа.\n",
    "В реальном проекте можно было бы обратиться к внешним данным, чтобы восстановить год выпуска игр, однако сейчас у нас такой задачи нет, поэтому их также удалим из анализа."
   ]
  },
  {
   "cell_type": "code",
   "execution_count": 7,
   "id": "c7fe68a7",
   "metadata": {},
   "outputs": [
    {
     "data": {
      "text/plain": [
       "name               0.000000\n",
       "platform           0.000000\n",
       "year_of_release    0.000000\n",
       "genre              0.000000\n",
       "na_sales           0.000000\n",
       "eu_sales           0.000000\n",
       "jp_sales           0.000000\n",
       "other_sales        0.000000\n",
       "critic_score       0.514534\n",
       "user_score         0.401666\n",
       "rating             0.405984\n",
       "dtype: float64"
      ]
     },
     "execution_count": 7,
     "metadata": {},
     "output_type": "execute_result"
    }
   ],
   "source": [
    "# Удаление строк с пропущенными данными в названии, жанре или годе выпуска\n",
    "df.dropna(subset=['name', 'genre', 'year_of_release'], inplace=True)\n",
    "# Проверка - запрос доли пропущенных значений по столбцам.\n",
    "df.isna().mean()"
   ]
  },
  {
   "cell_type": "markdown",
   "id": "03c1450b",
   "metadata": {},
   "source": [
    "Итак, мы избавились от пропусков в некоторых ячейках, однако в столбцах critic_score пропущенных значений оказалось больше половины, user_score и rating - более 40%.  Удалять эти данные не стоит, однако и заполнять данные медианными данными не совсем верно - нельзя, чтобы наши расчеты повлияли на оценки и рейтинг.\n",
    "Заполним пропущенные значения оценок критиков и зрителей отрицательными медианными значениями по жанру. Тогда нам при необходимости легко будет узнать, какие значения являются сгенерированными.\n"
   ]
  },
  {
   "cell_type": "code",
   "execution_count": 8,
   "id": "982d6c52",
   "metadata": {},
   "outputs": [
    {
     "name": "stdout",
     "output_type": "stream",
     "text": [
      "Количество пропущенных значений в столбце critic_score - 0\n"
     ]
    },
    {
     "data": {
      "text/html": [
       "<div>\n",
       "<style scoped>\n",
       "    .dataframe tbody tr th:only-of-type {\n",
       "        vertical-align: middle;\n",
       "    }\n",
       "\n",
       "    .dataframe tbody tr th {\n",
       "        vertical-align: top;\n",
       "    }\n",
       "\n",
       "    .dataframe thead th {\n",
       "        text-align: right;\n",
       "    }\n",
       "</style>\n",
       "<table border=\"1\" class=\"dataframe\">\n",
       "  <thead>\n",
       "    <tr style=\"text-align: right;\">\n",
       "      <th></th>\n",
       "      <th>name</th>\n",
       "      <th>platform</th>\n",
       "      <th>year_of_release</th>\n",
       "      <th>genre</th>\n",
       "      <th>na_sales</th>\n",
       "      <th>eu_sales</th>\n",
       "      <th>jp_sales</th>\n",
       "      <th>other_sales</th>\n",
       "      <th>critic_score</th>\n",
       "      <th>user_score</th>\n",
       "      <th>rating</th>\n",
       "    </tr>\n",
       "  </thead>\n",
       "  <tbody>\n",
       "    <tr>\n",
       "      <th>0</th>\n",
       "      <td>Wii Sports</td>\n",
       "      <td>Wii</td>\n",
       "      <td>2006.0</td>\n",
       "      <td>Sports</td>\n",
       "      <td>41.36</td>\n",
       "      <td>28.96</td>\n",
       "      <td>3.77</td>\n",
       "      <td>8.45</td>\n",
       "      <td>76.0</td>\n",
       "      <td>8</td>\n",
       "      <td>E</td>\n",
       "    </tr>\n",
       "    <tr>\n",
       "      <th>1</th>\n",
       "      <td>Super Mario Bros.</td>\n",
       "      <td>NES</td>\n",
       "      <td>1985.0</td>\n",
       "      <td>Platform</td>\n",
       "      <td>29.08</td>\n",
       "      <td>3.58</td>\n",
       "      <td>6.81</td>\n",
       "      <td>0.77</td>\n",
       "      <td>-69.5</td>\n",
       "      <td>NaN</td>\n",
       "      <td>NaN</td>\n",
       "    </tr>\n",
       "    <tr>\n",
       "      <th>2</th>\n",
       "      <td>Mario Kart Wii</td>\n",
       "      <td>Wii</td>\n",
       "      <td>2008.0</td>\n",
       "      <td>Racing</td>\n",
       "      <td>15.68</td>\n",
       "      <td>12.76</td>\n",
       "      <td>3.79</td>\n",
       "      <td>3.29</td>\n",
       "      <td>82.0</td>\n",
       "      <td>8.3</td>\n",
       "      <td>E</td>\n",
       "    </tr>\n",
       "    <tr>\n",
       "      <th>3</th>\n",
       "      <td>Wii Sports Resort</td>\n",
       "      <td>Wii</td>\n",
       "      <td>2009.0</td>\n",
       "      <td>Sports</td>\n",
       "      <td>15.61</td>\n",
       "      <td>10.93</td>\n",
       "      <td>3.28</td>\n",
       "      <td>2.95</td>\n",
       "      <td>80.0</td>\n",
       "      <td>8</td>\n",
       "      <td>E</td>\n",
       "    </tr>\n",
       "    <tr>\n",
       "      <th>4</th>\n",
       "      <td>Pokemon Red/Pokemon Blue</td>\n",
       "      <td>GB</td>\n",
       "      <td>1996.0</td>\n",
       "      <td>Role-Playing</td>\n",
       "      <td>11.27</td>\n",
       "      <td>8.89</td>\n",
       "      <td>10.22</td>\n",
       "      <td>1.00</td>\n",
       "      <td>-74.0</td>\n",
       "      <td>NaN</td>\n",
       "      <td>NaN</td>\n",
       "    </tr>\n",
       "  </tbody>\n",
       "</table>\n",
       "</div>"
      ],
      "text/plain": [
       "                       name platform  year_of_release         genre  na_sales  \\\n",
       "0                Wii Sports      Wii           2006.0        Sports     41.36   \n",
       "1         Super Mario Bros.      NES           1985.0      Platform     29.08   \n",
       "2            Mario Kart Wii      Wii           2008.0        Racing     15.68   \n",
       "3         Wii Sports Resort      Wii           2009.0        Sports     15.61   \n",
       "4  Pokemon Red/Pokemon Blue       GB           1996.0  Role-Playing     11.27   \n",
       "\n",
       "   eu_sales  jp_sales  other_sales  critic_score user_score rating  \n",
       "0     28.96      3.77         8.45          76.0          8      E  \n",
       "1      3.58      6.81         0.77         -69.5        NaN    NaN  \n",
       "2     12.76      3.79         3.29          82.0        8.3      E  \n",
       "3     10.93      3.28         2.95          80.0          8      E  \n",
       "4      8.89     10.22         1.00         -74.0        NaN    NaN  "
      ]
     },
     "execution_count": 8,
     "metadata": {},
     "output_type": "execute_result"
    }
   ],
   "source": [
    "# Замена на медиану с отрицательным знаком\n",
    "df['critic_score'] = df['critic_score'].fillna(-df.groupby('genre')['critic_score'].transform('median'))\n",
    "# Проверка - вывод суммы пропущенных значений по столбцу\n",
    "print('Количество пропущенных значений в столбце critic_score -', df['critic_score'].isna().sum())\n",
    "# Проверка - вывод первых пяти строк таблицы\n",
    "df.head()"
   ]
  },
  {
   "cell_type": "markdown",
   "id": "8e7723f0",
   "metadata": {},
   "source": [
    "Мы заполнили пропущенные значения в столбце critic_score.\n",
    "Aналогичным образом заполним пропущенные значения в столбце user_score. \n",
    "В этом столбце помимо просто пропущенных значений есть значения 'tbd' - to be determined. Эта аббревиатура используется в случае, когда значений пока нет, но ожидается обновление данных в будущем и значения могут появиться.\n",
    "В нашем случае принципиальной разницы между пропущенными значениями и значениями 'tbd' нет, поэтому заменим их на произвольную отрицательную величину, например '-1', а пропущенные значения - на '-2'."
   ]
  },
  {
   "cell_type": "code",
   "execution_count": 9,
   "id": "62e2472e",
   "metadata": {},
   "outputs": [
    {
     "name": "stdout",
     "output_type": "stream",
     "text": [
      "Количество пропущенных значений в столбце user_score - 0\n"
     ]
    },
    {
     "data": {
      "text/html": [
       "<div>\n",
       "<style scoped>\n",
       "    .dataframe tbody tr th:only-of-type {\n",
       "        vertical-align: middle;\n",
       "    }\n",
       "\n",
       "    .dataframe tbody tr th {\n",
       "        vertical-align: top;\n",
       "    }\n",
       "\n",
       "    .dataframe thead th {\n",
       "        text-align: right;\n",
       "    }\n",
       "</style>\n",
       "<table border=\"1\" class=\"dataframe\">\n",
       "  <thead>\n",
       "    <tr style=\"text-align: right;\">\n",
       "      <th></th>\n",
       "      <th>name</th>\n",
       "      <th>platform</th>\n",
       "      <th>year_of_release</th>\n",
       "      <th>genre</th>\n",
       "      <th>na_sales</th>\n",
       "      <th>eu_sales</th>\n",
       "      <th>jp_sales</th>\n",
       "      <th>other_sales</th>\n",
       "      <th>critic_score</th>\n",
       "      <th>user_score</th>\n",
       "      <th>rating</th>\n",
       "    </tr>\n",
       "  </thead>\n",
       "  <tbody>\n",
       "    <tr>\n",
       "      <th>0</th>\n",
       "      <td>Wii Sports</td>\n",
       "      <td>Wii</td>\n",
       "      <td>2006.0</td>\n",
       "      <td>Sports</td>\n",
       "      <td>41.36</td>\n",
       "      <td>28.96</td>\n",
       "      <td>3.77</td>\n",
       "      <td>8.45</td>\n",
       "      <td>76.0</td>\n",
       "      <td>8</td>\n",
       "      <td>E</td>\n",
       "    </tr>\n",
       "    <tr>\n",
       "      <th>1</th>\n",
       "      <td>Super Mario Bros.</td>\n",
       "      <td>NES</td>\n",
       "      <td>1985.0</td>\n",
       "      <td>Platform</td>\n",
       "      <td>29.08</td>\n",
       "      <td>3.58</td>\n",
       "      <td>6.81</td>\n",
       "      <td>0.77</td>\n",
       "      <td>-69.5</td>\n",
       "      <td>-2</td>\n",
       "      <td>NaN</td>\n",
       "    </tr>\n",
       "    <tr>\n",
       "      <th>2</th>\n",
       "      <td>Mario Kart Wii</td>\n",
       "      <td>Wii</td>\n",
       "      <td>2008.0</td>\n",
       "      <td>Racing</td>\n",
       "      <td>15.68</td>\n",
       "      <td>12.76</td>\n",
       "      <td>3.79</td>\n",
       "      <td>3.29</td>\n",
       "      <td>82.0</td>\n",
       "      <td>8.3</td>\n",
       "      <td>E</td>\n",
       "    </tr>\n",
       "    <tr>\n",
       "      <th>3</th>\n",
       "      <td>Wii Sports Resort</td>\n",
       "      <td>Wii</td>\n",
       "      <td>2009.0</td>\n",
       "      <td>Sports</td>\n",
       "      <td>15.61</td>\n",
       "      <td>10.93</td>\n",
       "      <td>3.28</td>\n",
       "      <td>2.95</td>\n",
       "      <td>80.0</td>\n",
       "      <td>8</td>\n",
       "      <td>E</td>\n",
       "    </tr>\n",
       "    <tr>\n",
       "      <th>4</th>\n",
       "      <td>Pokemon Red/Pokemon Blue</td>\n",
       "      <td>GB</td>\n",
       "      <td>1996.0</td>\n",
       "      <td>Role-Playing</td>\n",
       "      <td>11.27</td>\n",
       "      <td>8.89</td>\n",
       "      <td>10.22</td>\n",
       "      <td>1.00</td>\n",
       "      <td>-74.0</td>\n",
       "      <td>-2</td>\n",
       "      <td>NaN</td>\n",
       "    </tr>\n",
       "  </tbody>\n",
       "</table>\n",
       "</div>"
      ],
      "text/plain": [
       "                       name platform  year_of_release         genre  na_sales  \\\n",
       "0                Wii Sports      Wii           2006.0        Sports     41.36   \n",
       "1         Super Mario Bros.      NES           1985.0      Platform     29.08   \n",
       "2            Mario Kart Wii      Wii           2008.0        Racing     15.68   \n",
       "3         Wii Sports Resort      Wii           2009.0        Sports     15.61   \n",
       "4  Pokemon Red/Pokemon Blue       GB           1996.0  Role-Playing     11.27   \n",
       "\n",
       "   eu_sales  jp_sales  other_sales  critic_score user_score rating  \n",
       "0     28.96      3.77         8.45          76.0          8      E  \n",
       "1      3.58      6.81         0.77         -69.5         -2    NaN  \n",
       "2     12.76      3.79         3.29          82.0        8.3      E  \n",
       "3     10.93      3.28         2.95          80.0          8      E  \n",
       "4      8.89     10.22         1.00         -74.0         -2    NaN  "
      ]
     },
     "execution_count": 9,
     "metadata": {},
     "output_type": "execute_result"
    }
   ],
   "source": [
    "# Замена значений 'tbd' на отрицательную величину\n",
    "df.loc[df['user_score'] == 'tbd', 'user_score']=-1\n",
    "# Замена пропущенных значений на отрицательную величину\n",
    "df['user_score'] = df['user_score'].fillna(-2)\n",
    "# Проверка - вывод суммы пропущенных значений по столбцу\n",
    "print('Количество пропущенных значений в столбце user_score -', df['user_score'].isna().sum())\n",
    "# Проверка - вывод первых пяти строк таблицы\n",
    "df.head()"
   ]
  },
  {
   "cell_type": "markdown",
   "id": "007026e2",
   "metadata": {},
   "source": [
    "Теперь заменим пропущенные значения в столбце rating на unknown - неизвестно."
   ]
  },
  {
   "cell_type": "code",
   "execution_count": 10,
   "id": "7a6bbb3e",
   "metadata": {},
   "outputs": [
    {
     "name": "stdout",
     "output_type": "stream",
     "text": [
      "Количество пропущенных значений в столбце rating 0\n"
     ]
    },
    {
     "data": {
      "text/html": [
       "<div>\n",
       "<style scoped>\n",
       "    .dataframe tbody tr th:only-of-type {\n",
       "        vertical-align: middle;\n",
       "    }\n",
       "\n",
       "    .dataframe tbody tr th {\n",
       "        vertical-align: top;\n",
       "    }\n",
       "\n",
       "    .dataframe thead th {\n",
       "        text-align: right;\n",
       "    }\n",
       "</style>\n",
       "<table border=\"1\" class=\"dataframe\">\n",
       "  <thead>\n",
       "    <tr style=\"text-align: right;\">\n",
       "      <th></th>\n",
       "      <th>name</th>\n",
       "      <th>platform</th>\n",
       "      <th>year_of_release</th>\n",
       "      <th>genre</th>\n",
       "      <th>na_sales</th>\n",
       "      <th>eu_sales</th>\n",
       "      <th>jp_sales</th>\n",
       "      <th>other_sales</th>\n",
       "      <th>critic_score</th>\n",
       "      <th>user_score</th>\n",
       "      <th>rating</th>\n",
       "    </tr>\n",
       "  </thead>\n",
       "  <tbody>\n",
       "    <tr>\n",
       "      <th>0</th>\n",
       "      <td>Wii Sports</td>\n",
       "      <td>Wii</td>\n",
       "      <td>2006.0</td>\n",
       "      <td>Sports</td>\n",
       "      <td>41.36</td>\n",
       "      <td>28.96</td>\n",
       "      <td>3.77</td>\n",
       "      <td>8.45</td>\n",
       "      <td>76.0</td>\n",
       "      <td>8</td>\n",
       "      <td>E</td>\n",
       "    </tr>\n",
       "    <tr>\n",
       "      <th>1</th>\n",
       "      <td>Super Mario Bros.</td>\n",
       "      <td>NES</td>\n",
       "      <td>1985.0</td>\n",
       "      <td>Platform</td>\n",
       "      <td>29.08</td>\n",
       "      <td>3.58</td>\n",
       "      <td>6.81</td>\n",
       "      <td>0.77</td>\n",
       "      <td>-69.5</td>\n",
       "      <td>-2</td>\n",
       "      <td>unknown</td>\n",
       "    </tr>\n",
       "    <tr>\n",
       "      <th>2</th>\n",
       "      <td>Mario Kart Wii</td>\n",
       "      <td>Wii</td>\n",
       "      <td>2008.0</td>\n",
       "      <td>Racing</td>\n",
       "      <td>15.68</td>\n",
       "      <td>12.76</td>\n",
       "      <td>3.79</td>\n",
       "      <td>3.29</td>\n",
       "      <td>82.0</td>\n",
       "      <td>8.3</td>\n",
       "      <td>E</td>\n",
       "    </tr>\n",
       "    <tr>\n",
       "      <th>3</th>\n",
       "      <td>Wii Sports Resort</td>\n",
       "      <td>Wii</td>\n",
       "      <td>2009.0</td>\n",
       "      <td>Sports</td>\n",
       "      <td>15.61</td>\n",
       "      <td>10.93</td>\n",
       "      <td>3.28</td>\n",
       "      <td>2.95</td>\n",
       "      <td>80.0</td>\n",
       "      <td>8</td>\n",
       "      <td>E</td>\n",
       "    </tr>\n",
       "    <tr>\n",
       "      <th>4</th>\n",
       "      <td>Pokemon Red/Pokemon Blue</td>\n",
       "      <td>GB</td>\n",
       "      <td>1996.0</td>\n",
       "      <td>Role-Playing</td>\n",
       "      <td>11.27</td>\n",
       "      <td>8.89</td>\n",
       "      <td>10.22</td>\n",
       "      <td>1.00</td>\n",
       "      <td>-74.0</td>\n",
       "      <td>-2</td>\n",
       "      <td>unknown</td>\n",
       "    </tr>\n",
       "  </tbody>\n",
       "</table>\n",
       "</div>"
      ],
      "text/plain": [
       "                       name platform  year_of_release         genre  na_sales  \\\n",
       "0                Wii Sports      Wii           2006.0        Sports     41.36   \n",
       "1         Super Mario Bros.      NES           1985.0      Platform     29.08   \n",
       "2            Mario Kart Wii      Wii           2008.0        Racing     15.68   \n",
       "3         Wii Sports Resort      Wii           2009.0        Sports     15.61   \n",
       "4  Pokemon Red/Pokemon Blue       GB           1996.0  Role-Playing     11.27   \n",
       "\n",
       "   eu_sales  jp_sales  other_sales  critic_score user_score   rating  \n",
       "0     28.96      3.77         8.45          76.0          8        E  \n",
       "1      3.58      6.81         0.77         -69.5         -2  unknown  \n",
       "2     12.76      3.79         3.29          82.0        8.3        E  \n",
       "3     10.93      3.28         2.95          80.0          8        E  \n",
       "4      8.89     10.22         1.00         -74.0         -2  unknown  "
      ]
     },
     "execution_count": 10,
     "metadata": {},
     "output_type": "execute_result"
    }
   ],
   "source": [
    "# Замена пропущенных значений\n",
    "df['rating'] = df['rating'].fillna('unknown')\n",
    "# Проверка - вывод суммы пропущенных значений по столбцу\n",
    "print('Количество пропущенных значений в столбце rating', df['rating'].isna().sum())\n",
    "# Проверка - вывод первых пяти строк таблицы\n",
    "df.head()"
   ]
  },
  {
   "cell_type": "markdown",
   "id": "0e6fa7c8",
   "metadata": {},
   "source": [
    "**Вывод**:\n",
    "Возможные причины пропусков в данных:\n",
    "- техническая ошибка (например, отсутствие имени игры или года выпуска), \n",
    "- соединение данных из нескольких источников и их неполное совпадение,\n",
    "- отсутствие необходимых данных (например, оценочная система могла быть введена после какого-то года и ранние игры оценок не имеют, либо наоборот, не критики не успели оценить новые игры).\n",
    "\n",
    "Мы не стали заполнять пропуски в столбцах name, year_of_release и genre, так как это - важнейшие для нашего исследования параметры, а у нас не было данных, чтобы восстановить пропуски.\n",
    "Мы заполнили пропуски в столбцах critic_score и user_score отрицательными значениями, для того, чтобы при необходимости можно было легко исключить их из анализа. Оценки пользователей 'tbd' (будет определено в дальнейшем) мы обработали как пропуски, выбрав разные значения для замены обычных пропусков и полей 'tbd', чтобы при необходимости можно было эти поля различить.\n",
    "В столбце rating мы заполнили пропуски значением unknown, чтобы явно выделить игры, по которым данных о жанровой маркировке нет. "
   ]
  },
  {
   "cell_type": "markdown",
   "id": "f14f752f",
   "metadata": {},
   "source": [
    "### Преобразование типов данных"
   ]
  },
  {
   "cell_type": "markdown",
   "id": "d9b38238",
   "metadata": {},
   "source": [
    "Преобразуем данные в нужные типы. Сначала запросим характеристику всех столбцов."
   ]
  },
  {
   "cell_type": "code",
   "execution_count": 11,
   "id": "639462b6",
   "metadata": {},
   "outputs": [
    {
     "name": "stdout",
     "output_type": "stream",
     "text": [
      "<class 'pandas.core.frame.DataFrame'>\n",
      "Int64Index: 16444 entries, 0 to 16714\n",
      "Data columns (total 11 columns):\n",
      " #   Column           Non-Null Count  Dtype  \n",
      "---  ------           --------------  -----  \n",
      " 0   name             16444 non-null  object \n",
      " 1   platform         16444 non-null  object \n",
      " 2   year_of_release  16444 non-null  float64\n",
      " 3   genre            16444 non-null  object \n",
      " 4   na_sales         16444 non-null  float64\n",
      " 5   eu_sales         16444 non-null  float64\n",
      " 6   jp_sales         16444 non-null  float64\n",
      " 7   other_sales      16444 non-null  float64\n",
      " 8   critic_score     16444 non-null  float64\n",
      " 9   user_score       16444 non-null  object \n",
      " 10  rating           16444 non-null  object \n",
      "dtypes: float64(6), object(5)\n",
      "memory usage: 1.5+ MB\n"
     ]
    },
    {
     "data": {
      "text/html": [
       "<div>\n",
       "<style scoped>\n",
       "    .dataframe tbody tr th:only-of-type {\n",
       "        vertical-align: middle;\n",
       "    }\n",
       "\n",
       "    .dataframe tbody tr th {\n",
       "        vertical-align: top;\n",
       "    }\n",
       "\n",
       "    .dataframe thead th {\n",
       "        text-align: right;\n",
       "    }\n",
       "</style>\n",
       "<table border=\"1\" class=\"dataframe\">\n",
       "  <thead>\n",
       "    <tr style=\"text-align: right;\">\n",
       "      <th></th>\n",
       "      <th>name</th>\n",
       "      <th>platform</th>\n",
       "      <th>year_of_release</th>\n",
       "      <th>genre</th>\n",
       "      <th>na_sales</th>\n",
       "      <th>eu_sales</th>\n",
       "      <th>jp_sales</th>\n",
       "      <th>other_sales</th>\n",
       "      <th>critic_score</th>\n",
       "      <th>user_score</th>\n",
       "      <th>rating</th>\n",
       "    </tr>\n",
       "  </thead>\n",
       "  <tbody>\n",
       "    <tr>\n",
       "      <th>0</th>\n",
       "      <td>Wii Sports</td>\n",
       "      <td>Wii</td>\n",
       "      <td>2006.0</td>\n",
       "      <td>Sports</td>\n",
       "      <td>41.36</td>\n",
       "      <td>28.96</td>\n",
       "      <td>3.77</td>\n",
       "      <td>8.45</td>\n",
       "      <td>76.0</td>\n",
       "      <td>8</td>\n",
       "      <td>E</td>\n",
       "    </tr>\n",
       "    <tr>\n",
       "      <th>1</th>\n",
       "      <td>Super Mario Bros.</td>\n",
       "      <td>NES</td>\n",
       "      <td>1985.0</td>\n",
       "      <td>Platform</td>\n",
       "      <td>29.08</td>\n",
       "      <td>3.58</td>\n",
       "      <td>6.81</td>\n",
       "      <td>0.77</td>\n",
       "      <td>-69.5</td>\n",
       "      <td>-2</td>\n",
       "      <td>unknown</td>\n",
       "    </tr>\n",
       "    <tr>\n",
       "      <th>2</th>\n",
       "      <td>Mario Kart Wii</td>\n",
       "      <td>Wii</td>\n",
       "      <td>2008.0</td>\n",
       "      <td>Racing</td>\n",
       "      <td>15.68</td>\n",
       "      <td>12.76</td>\n",
       "      <td>3.79</td>\n",
       "      <td>3.29</td>\n",
       "      <td>82.0</td>\n",
       "      <td>8.3</td>\n",
       "      <td>E</td>\n",
       "    </tr>\n",
       "    <tr>\n",
       "      <th>3</th>\n",
       "      <td>Wii Sports Resort</td>\n",
       "      <td>Wii</td>\n",
       "      <td>2009.0</td>\n",
       "      <td>Sports</td>\n",
       "      <td>15.61</td>\n",
       "      <td>10.93</td>\n",
       "      <td>3.28</td>\n",
       "      <td>2.95</td>\n",
       "      <td>80.0</td>\n",
       "      <td>8</td>\n",
       "      <td>E</td>\n",
       "    </tr>\n",
       "    <tr>\n",
       "      <th>4</th>\n",
       "      <td>Pokemon Red/Pokemon Blue</td>\n",
       "      <td>GB</td>\n",
       "      <td>1996.0</td>\n",
       "      <td>Role-Playing</td>\n",
       "      <td>11.27</td>\n",
       "      <td>8.89</td>\n",
       "      <td>10.22</td>\n",
       "      <td>1.00</td>\n",
       "      <td>-74.0</td>\n",
       "      <td>-2</td>\n",
       "      <td>unknown</td>\n",
       "    </tr>\n",
       "  </tbody>\n",
       "</table>\n",
       "</div>"
      ],
      "text/plain": [
       "                       name platform  year_of_release         genre  na_sales  \\\n",
       "0                Wii Sports      Wii           2006.0        Sports     41.36   \n",
       "1         Super Mario Bros.      NES           1985.0      Platform     29.08   \n",
       "2            Mario Kart Wii      Wii           2008.0        Racing     15.68   \n",
       "3         Wii Sports Resort      Wii           2009.0        Sports     15.61   \n",
       "4  Pokemon Red/Pokemon Blue       GB           1996.0  Role-Playing     11.27   \n",
       "\n",
       "   eu_sales  jp_sales  other_sales  critic_score user_score   rating  \n",
       "0     28.96      3.77         8.45          76.0          8        E  \n",
       "1      3.58      6.81         0.77         -69.5         -2  unknown  \n",
       "2     12.76      3.79         3.29          82.0        8.3        E  \n",
       "3     10.93      3.28         2.95          80.0          8        E  \n",
       "4      8.89     10.22         1.00         -74.0         -2  unknown  "
      ]
     },
     "execution_count": 11,
     "metadata": {},
     "output_type": "execute_result"
    }
   ],
   "source": [
    "# Запрос информации о всех столбцах таблицы\n",
    "df.info()\n",
    "# Вывод первых 5 строк таблицы\n",
    "df.head()"
   ]
  },
  {
   "cell_type": "markdown",
   "id": "248b6bc7",
   "metadata": {},
   "source": [
    "Тип данных необходимо заменить в следующих столбцах:\n",
    "- year_of_release - с дробного на целочисленный (год), так как формат дата не такой удобный для обработки;\n",
    "- critic_score - с дробного на целочисленный, так как все значения в этом столбце целые;\n",
    "- user_score - со строкового на дробный, так как в содержании оценки с дробной частью."
   ]
  },
  {
   "cell_type": "code",
   "execution_count": 12,
   "id": "00e5d916",
   "metadata": {},
   "outputs": [
    {
     "data": {
      "text/plain": [
       "numpy.dtype[int64]"
      ]
     },
     "execution_count": 12,
     "metadata": {},
     "output_type": "execute_result"
    }
   ],
   "source": [
    "# Замена типа данных с помощью метода .to_datetime(), формат - год \n",
    "df['year_of_release'] = df['year_of_release'].astype(int)\n",
    "# Запрос получившегося типа данных\n",
    "type(df['year_of_release'].dtype)"
   ]
  },
  {
   "cell_type": "markdown",
   "id": "f764d8d0",
   "metadata": {},
   "source": [
    "Замена произведена удачно. Теперь преобразуем столбец с оценками критиков."
   ]
  },
  {
   "cell_type": "code",
   "execution_count": 13,
   "id": "206b0cf9",
   "metadata": {},
   "outputs": [
    {
     "data": {
      "text/plain": [
       "numpy.dtype[int64]"
      ]
     },
     "execution_count": 13,
     "metadata": {},
     "output_type": "execute_result"
    }
   ],
   "source": [
    "# Замена типа данных с помощью метода .astype \n",
    "df['critic_score'] = df['critic_score'].astype(int)\n",
    "# Запрос получившегося типа данных\n",
    "type(df['critic_score'].dtype)"
   ]
  },
  {
   "cell_type": "markdown",
   "id": "0e036022",
   "metadata": {},
   "source": [
    "Также успешно. Наконец, заменим тип в столбце с оценками пользователей."
   ]
  },
  {
   "cell_type": "code",
   "execution_count": 14,
   "id": "08686f5e",
   "metadata": {},
   "outputs": [
    {
     "data": {
      "text/plain": [
       "numpy.dtype[float64]"
      ]
     },
     "execution_count": 14,
     "metadata": {},
     "output_type": "execute_result"
    }
   ],
   "source": [
    "# Замена типа данных с помощью метода .astype \n",
    "df['user_score'] = df['user_score'].astype(float)\n",
    "# Запрос получившегося типа данных\n",
    "type(df['user_score'].dtype)"
   ]
  },
  {
   "cell_type": "markdown",
   "id": "a69f05fa",
   "metadata": {},
   "source": [
    "И этот столбец успешно приведен к верному формату. Проверим все столбцы."
   ]
  },
  {
   "cell_type": "code",
   "execution_count": 15,
   "id": "292eab76",
   "metadata": {},
   "outputs": [
    {
     "name": "stdout",
     "output_type": "stream",
     "text": [
      "<class 'pandas.core.frame.DataFrame'>\n",
      "Int64Index: 16444 entries, 0 to 16714\n",
      "Data columns (total 11 columns):\n",
      " #   Column           Non-Null Count  Dtype  \n",
      "---  ------           --------------  -----  \n",
      " 0   name             16444 non-null  object \n",
      " 1   platform         16444 non-null  object \n",
      " 2   year_of_release  16444 non-null  int64  \n",
      " 3   genre            16444 non-null  object \n",
      " 4   na_sales         16444 non-null  float64\n",
      " 5   eu_sales         16444 non-null  float64\n",
      " 6   jp_sales         16444 non-null  float64\n",
      " 7   other_sales      16444 non-null  float64\n",
      " 8   critic_score     16444 non-null  int64  \n",
      " 9   user_score       16444 non-null  float64\n",
      " 10  rating           16444 non-null  object \n",
      "dtypes: float64(5), int64(2), object(4)\n",
      "memory usage: 1.5+ MB\n"
     ]
    }
   ],
   "source": [
    "# Запрос основной информации обо всех столбцах таблицы\n",
    "df.info()"
   ]
  },
  {
   "cell_type": "markdown",
   "id": "ff3f5690",
   "metadata": {},
   "source": [
    "Теперь, когда мы избавились от пропущенных значений и все столбцы имеют верный формат данных, проверим данные на аномалии."
   ]
  },
  {
   "cell_type": "markdown",
   "id": "808da9c5",
   "metadata": {},
   "source": [
    "### Проверка данных на аномалии и дубликаты"
   ]
  },
  {
   "cell_type": "markdown",
   "id": "4dcdebce",
   "metadata": {},
   "source": [
    "Проверим данные на аномалии. Сначала - оценим общую картину в количественных переменных с помощью метода describe. Так мы увидим количество значений, минимальное и максиальное значение по столбцам и некоторые другие сведения."
   ]
  },
  {
   "cell_type": "code",
   "execution_count": 16,
   "id": "97543c7c",
   "metadata": {},
   "outputs": [
    {
     "data": {
      "text/html": [
       "<div>\n",
       "<style scoped>\n",
       "    .dataframe tbody tr th:only-of-type {\n",
       "        vertical-align: middle;\n",
       "    }\n",
       "\n",
       "    .dataframe tbody tr th {\n",
       "        vertical-align: top;\n",
       "    }\n",
       "\n",
       "    .dataframe thead th {\n",
       "        text-align: right;\n",
       "    }\n",
       "</style>\n",
       "<table border=\"1\" class=\"dataframe\">\n",
       "  <thead>\n",
       "    <tr style=\"text-align: right;\">\n",
       "      <th></th>\n",
       "      <th>year_of_release</th>\n",
       "      <th>na_sales</th>\n",
       "      <th>eu_sales</th>\n",
       "      <th>jp_sales</th>\n",
       "      <th>other_sales</th>\n",
       "      <th>critic_score</th>\n",
       "      <th>user_score</th>\n",
       "    </tr>\n",
       "  </thead>\n",
       "  <tbody>\n",
       "    <tr>\n",
       "      <th>count</th>\n",
       "      <td>16444.000000</td>\n",
       "      <td>16444.000000</td>\n",
       "      <td>16444.000000</td>\n",
       "      <td>16444.000000</td>\n",
       "      <td>16444.000000</td>\n",
       "      <td>16444.000000</td>\n",
       "      <td>16444.000000</td>\n",
       "    </tr>\n",
       "    <tr>\n",
       "      <th>mean</th>\n",
       "      <td>2006.486256</td>\n",
       "      <td>0.264012</td>\n",
       "      <td>0.145930</td>\n",
       "      <td>0.078487</td>\n",
       "      <td>0.047594</td>\n",
       "      <td>-2.700195</td>\n",
       "      <td>2.286414</td>\n",
       "    </tr>\n",
       "    <tr>\n",
       "      <th>std</th>\n",
       "      <td>5.875525</td>\n",
       "      <td>0.818378</td>\n",
       "      <td>0.506716</td>\n",
       "      <td>0.311100</td>\n",
       "      <td>0.188005</td>\n",
       "      <td>70.345051</td>\n",
       "      <td>4.537975</td>\n",
       "    </tr>\n",
       "    <tr>\n",
       "      <th>min</th>\n",
       "      <td>1980.000000</td>\n",
       "      <td>0.000000</td>\n",
       "      <td>0.000000</td>\n",
       "      <td>0.000000</td>\n",
       "      <td>0.000000</td>\n",
       "      <td>-75.000000</td>\n",
       "      <td>-2.000000</td>\n",
       "    </tr>\n",
       "    <tr>\n",
       "      <th>25%</th>\n",
       "      <td>2003.000000</td>\n",
       "      <td>0.000000</td>\n",
       "      <td>0.000000</td>\n",
       "      <td>0.000000</td>\n",
       "      <td>0.000000</td>\n",
       "      <td>-69.000000</td>\n",
       "      <td>-2.000000</td>\n",
       "    </tr>\n",
       "    <tr>\n",
       "      <th>50%</th>\n",
       "      <td>2007.000000</td>\n",
       "      <td>0.080000</td>\n",
       "      <td>0.020000</td>\n",
       "      <td>0.000000</td>\n",
       "      <td>0.010000</td>\n",
       "      <td>-66.000000</td>\n",
       "      <td>-1.000000</td>\n",
       "    </tr>\n",
       "    <tr>\n",
       "      <th>75%</th>\n",
       "      <td>2010.000000</td>\n",
       "      <td>0.240000</td>\n",
       "      <td>0.110000</td>\n",
       "      <td>0.040000</td>\n",
       "      <td>0.030000</td>\n",
       "      <td>70.000000</td>\n",
       "      <td>7.300000</td>\n",
       "    </tr>\n",
       "    <tr>\n",
       "      <th>max</th>\n",
       "      <td>2016.000000</td>\n",
       "      <td>41.360000</td>\n",
       "      <td>28.960000</td>\n",
       "      <td>10.220000</td>\n",
       "      <td>10.570000</td>\n",
       "      <td>98.000000</td>\n",
       "      <td>9.700000</td>\n",
       "    </tr>\n",
       "  </tbody>\n",
       "</table>\n",
       "</div>"
      ],
      "text/plain": [
       "       year_of_release      na_sales      eu_sales      jp_sales  \\\n",
       "count     16444.000000  16444.000000  16444.000000  16444.000000   \n",
       "mean       2006.486256      0.264012      0.145930      0.078487   \n",
       "std           5.875525      0.818378      0.506716      0.311100   \n",
       "min        1980.000000      0.000000      0.000000      0.000000   \n",
       "25%        2003.000000      0.000000      0.000000      0.000000   \n",
       "50%        2007.000000      0.080000      0.020000      0.000000   \n",
       "75%        2010.000000      0.240000      0.110000      0.040000   \n",
       "max        2016.000000     41.360000     28.960000     10.220000   \n",
       "\n",
       "        other_sales  critic_score    user_score  \n",
       "count  16444.000000  16444.000000  16444.000000  \n",
       "mean       0.047594     -2.700195      2.286414  \n",
       "std        0.188005     70.345051      4.537975  \n",
       "min        0.000000    -75.000000     -2.000000  \n",
       "25%        0.000000    -69.000000     -2.000000  \n",
       "50%        0.010000    -66.000000     -1.000000  \n",
       "75%        0.030000     70.000000      7.300000  \n",
       "max       10.570000     98.000000      9.700000  "
      ]
     },
     "execution_count": 16,
     "metadata": {},
     "output_type": "execute_result"
    }
   ],
   "source": [
    "# Запрос основных характеристик количественных переменных таблицы \n",
    "df.describe()"
   ]
  },
  {
   "cell_type": "markdown",
   "id": "9ef32b3f",
   "metadata": {},
   "source": [
    "Рассмотрев характеристику данных, признаем, что особых аномалий в таблицах нет, качество данных достаточно высоко. Проверим категориальные переменные. кроме переменной name - содержание данной переменной нам для анализа не пригодится."
   ]
  },
  {
   "cell_type": "code",
   "execution_count": 17,
   "id": "1c290728",
   "metadata": {},
   "outputs": [
    {
     "data": {
      "text/html": [
       "<div>\n",
       "<style scoped>\n",
       "    .dataframe tbody tr th:only-of-type {\n",
       "        vertical-align: middle;\n",
       "    }\n",
       "\n",
       "    .dataframe tbody tr th {\n",
       "        vertical-align: top;\n",
       "    }\n",
       "\n",
       "    .dataframe thead th {\n",
       "        text-align: right;\n",
       "    }\n",
       "</style>\n",
       "<table border=\"1\" class=\"dataframe\">\n",
       "  <thead>\n",
       "    <tr style=\"text-align: right;\">\n",
       "      <th></th>\n",
       "      <th>name</th>\n",
       "      <th>platform</th>\n",
       "      <th>year_of_release</th>\n",
       "      <th>genre</th>\n",
       "      <th>na_sales</th>\n",
       "      <th>eu_sales</th>\n",
       "      <th>jp_sales</th>\n",
       "      <th>other_sales</th>\n",
       "      <th>critic_score</th>\n",
       "      <th>user_score</th>\n",
       "      <th>rating</th>\n",
       "    </tr>\n",
       "  </thead>\n",
       "  <tbody>\n",
       "    <tr>\n",
       "      <th>0</th>\n",
       "      <td>Wii Sports</td>\n",
       "      <td>Wii</td>\n",
       "      <td>2006</td>\n",
       "      <td>Sports</td>\n",
       "      <td>41.36</td>\n",
       "      <td>28.96</td>\n",
       "      <td>3.77</td>\n",
       "      <td>8.45</td>\n",
       "      <td>76</td>\n",
       "      <td>8.0</td>\n",
       "      <td>E</td>\n",
       "    </tr>\n",
       "    <tr>\n",
       "      <th>1</th>\n",
       "      <td>Super Mario Bros.</td>\n",
       "      <td>NES</td>\n",
       "      <td>1985</td>\n",
       "      <td>Platform</td>\n",
       "      <td>29.08</td>\n",
       "      <td>3.58</td>\n",
       "      <td>6.81</td>\n",
       "      <td>0.77</td>\n",
       "      <td>-69</td>\n",
       "      <td>-2.0</td>\n",
       "      <td>unknown</td>\n",
       "    </tr>\n",
       "    <tr>\n",
       "      <th>2</th>\n",
       "      <td>Mario Kart Wii</td>\n",
       "      <td>Wii</td>\n",
       "      <td>2008</td>\n",
       "      <td>Racing</td>\n",
       "      <td>15.68</td>\n",
       "      <td>12.76</td>\n",
       "      <td>3.79</td>\n",
       "      <td>3.29</td>\n",
       "      <td>82</td>\n",
       "      <td>8.3</td>\n",
       "      <td>E</td>\n",
       "    </tr>\n",
       "    <tr>\n",
       "      <th>3</th>\n",
       "      <td>Wii Sports Resort</td>\n",
       "      <td>Wii</td>\n",
       "      <td>2009</td>\n",
       "      <td>Sports</td>\n",
       "      <td>15.61</td>\n",
       "      <td>10.93</td>\n",
       "      <td>3.28</td>\n",
       "      <td>2.95</td>\n",
       "      <td>80</td>\n",
       "      <td>8.0</td>\n",
       "      <td>E</td>\n",
       "    </tr>\n",
       "    <tr>\n",
       "      <th>4</th>\n",
       "      <td>Pokemon Red/Pokemon Blue</td>\n",
       "      <td>GB</td>\n",
       "      <td>1996</td>\n",
       "      <td>Role-Playing</td>\n",
       "      <td>11.27</td>\n",
       "      <td>8.89</td>\n",
       "      <td>10.22</td>\n",
       "      <td>1.00</td>\n",
       "      <td>-74</td>\n",
       "      <td>-2.0</td>\n",
       "      <td>unknown</td>\n",
       "    </tr>\n",
       "  </tbody>\n",
       "</table>\n",
       "</div>"
      ],
      "text/plain": [
       "                       name platform  year_of_release         genre  na_sales  \\\n",
       "0                Wii Sports      Wii             2006        Sports     41.36   \n",
       "1         Super Mario Bros.      NES             1985      Platform     29.08   \n",
       "2            Mario Kart Wii      Wii             2008        Racing     15.68   \n",
       "3         Wii Sports Resort      Wii             2009        Sports     15.61   \n",
       "4  Pokemon Red/Pokemon Blue       GB             1996  Role-Playing     11.27   \n",
       "\n",
       "   eu_sales  jp_sales  other_sales  critic_score  user_score   rating  \n",
       "0     28.96      3.77         8.45            76         8.0        E  \n",
       "1      3.58      6.81         0.77           -69        -2.0  unknown  \n",
       "2     12.76      3.79         3.29            82         8.3        E  \n",
       "3     10.93      3.28         2.95            80         8.0        E  \n",
       "4      8.89     10.22         1.00           -74        -2.0  unknown  "
      ]
     },
     "execution_count": 17,
     "metadata": {},
     "output_type": "execute_result"
    }
   ],
   "source": [
    "df.head()"
   ]
  },
  {
   "cell_type": "code",
   "execution_count": 18,
   "id": "7b4d601d",
   "metadata": {},
   "outputs": [
    {
     "name": "stdout",
     "output_type": "stream",
     "text": [
      "PS2     2127\n",
      "DS      2121\n",
      "PS3     1306\n",
      "Wii     1286\n",
      "X360    1232\n",
      "PSP     1193\n",
      "PS      1190\n",
      "PC       957\n",
      "GBA      811\n",
      "XB       803\n",
      "GC       542\n",
      "3DS      512\n",
      "PSV      429\n",
      "PS4      392\n",
      "N64      316\n",
      "XOne     247\n",
      "SNES     239\n",
      "SAT      173\n",
      "WiiU     147\n",
      "2600     116\n",
      "NES       98\n",
      "GB        97\n",
      "DC        52\n",
      "GEN       27\n",
      "NG        12\n",
      "SCD        6\n",
      "WS         6\n",
      "3DO        3\n",
      "TG16       2\n",
      "PCFX       1\n",
      "GG         1\n",
      "Name: platform, dtype: int64\n",
      "Всего наименований -  31\n"
     ]
    }
   ],
   "source": [
    "# Запрос значений столбца\n",
    "print(df['platform'].value_counts())\n",
    "print('Всего наименований - ', df['platform'].value_counts().count())"
   ]
  },
  {
   "cell_type": "markdown",
   "id": "031ec775",
   "metadata": {},
   "source": [
    "Всего наименований платформ 31, причем для 7 из  них существует больше 1000 игр. Аномалий не заметно. \n",
    "Проверим жанры игр."
   ]
  },
  {
   "cell_type": "code",
   "execution_count": 19,
   "id": "70ecc2bd",
   "metadata": {},
   "outputs": [
    {
     "name": "stdout",
     "output_type": "stream",
     "text": [
      "Action          3307\n",
      "Sports          2306\n",
      "Misc            1721\n",
      "Role-Playing    1481\n",
      "Shooter         1296\n",
      "Adventure       1293\n",
      "Racing          1226\n",
      "Platform         878\n",
      "Simulation       857\n",
      "Fighting         837\n",
      "Strategy         673\n",
      "Puzzle           569\n",
      "Name: genre, dtype: int64\n",
      "Всего жанров -  12\n"
     ]
    }
   ],
   "source": [
    "# Запрос значений столбца\n",
    "print(df['genre'].value_counts())\n",
    "print('Всего жанров - ', df['genre'].value_counts().count())"
   ]
  },
  {
   "cell_type": "markdown",
   "id": "2cdeaaa4",
   "metadata": {},
   "source": [
    "В столбце жанры также не наблюдается аномалий. Проверим столбец рейтинг."
   ]
  },
  {
   "cell_type": "code",
   "execution_count": 20,
   "id": "018e6d6c",
   "metadata": {},
   "outputs": [
    {
     "name": "stdout",
     "output_type": "stream",
     "text": [
      "unknown    6676\n",
      "E          3921\n",
      "T          2905\n",
      "M          1536\n",
      "E10+       1393\n",
      "EC            8\n",
      "K-A           3\n",
      "AO            1\n",
      "RP            1\n",
      "Name: rating, dtype: int64\n",
      "Всего видов -  9\n"
     ]
    }
   ],
   "source": [
    "# Запрос значений столбца\n",
    "print(df['rating'].value_counts())\n",
    "print('Всего видов - ', df['rating'].value_counts().count())"
   ]
  },
  {
   "cell_type": "markdown",
   "id": "f0373e8b",
   "metadata": {},
   "source": [
    "В системе ESRB (Enterntainment Software Rating Board) уровень рейтинга связан с возрастом аудитории, для которой содержание продукта - в данном случае игры, - подходит. Современный рейтинг включает категории:\n",
    "* `E` - everyone, для всех возрастов;\n",
    "* `E10+` - everyone 10+, для всех старше 10 лет;\n",
    "* `T` - teen, для всех старше 12 лет;\n",
    "* `M` - mature 17+, для зрелых, старше 17 лет;\n",
    "* `AO` - adults only 18+, для взрослых, старше 18 лет;\n",
    "* `RP` - rating pending, рейтинг в процессе определелния.\n",
    "\n",
    "В данных встречаются старые версии\n",
    "* `K-A` - kids to adult - от детей до взрослых, сейчас это категория everyone - для всех возрастов;\n",
    "* `EC` - early childhood - раннее детство, от 3 лет, сейчас это также категория everyone - для всех возрастов.\n",
    "\n",
    "Изменим рейтинг жанров на соответствующий действующей системе."
   ]
  },
  {
   "cell_type": "code",
   "execution_count": 21,
   "id": "43036dde",
   "metadata": {},
   "outputs": [
    {
     "name": "stdout",
     "output_type": "stream",
     "text": [
      "unknown    6676\n",
      "E          3932\n",
      "T          2905\n",
      "M          1536\n",
      "E10+       1393\n",
      "AO            1\n",
      "RP            1\n",
      "Name: rating, dtype: int64\n"
     ]
    }
   ],
   "source": [
    "# Замена значений в столбце жанры\n",
    "df.loc[df['rating'] == 'K-A', 'rating'] = 'E'\n",
    "df.loc[df['rating'] == 'EC', 'rating'] = 'E'\n",
    "# Проверка - запрос значений столбца\n",
    "print(df['rating'].value_counts())"
   ]
  },
  {
   "cell_type": "markdown",
   "id": "bfa3c094",
   "metadata": {},
   "source": [
    "Теперь проверим таблицу на явные дубликаты."
   ]
  },
  {
   "cell_type": "code",
   "execution_count": 22,
   "id": "936b0f3f",
   "metadata": {},
   "outputs": [
    {
     "data": {
      "text/plain": [
       "0"
      ]
     },
     "execution_count": 22,
     "metadata": {},
     "output_type": "execute_result"
    }
   ],
   "source": [
    "df.duplicated().sum()"
   ]
  },
  {
   "cell_type": "markdown",
   "id": "14c7a20a",
   "metadata": {},
   "source": [
    "Явных дубликатов в таблице нет. \n",
    "Мы проверили данные на аномалии и дубликаты, устранили небольшие погрешности и теперь можем рассчитать необходимые данные."
   ]
  },
  {
   "cell_type": "markdown",
   "id": "71face3c",
   "metadata": {},
   "source": [
    "### Расчет и добавление столбцов в таблицы"
   ]
  },
  {
   "cell_type": "markdown",
   "id": "bce52019",
   "metadata": {},
   "source": [
    "Посчитаем суммарные продажи во всех регионах и запишем их в отдельный столбец."
   ]
  },
  {
   "cell_type": "code",
   "execution_count": 23,
   "id": "996d3ca0",
   "metadata": {},
   "outputs": [
    {
     "data": {
      "text/html": [
       "<div>\n",
       "<style scoped>\n",
       "    .dataframe tbody tr th:only-of-type {\n",
       "        vertical-align: middle;\n",
       "    }\n",
       "\n",
       "    .dataframe tbody tr th {\n",
       "        vertical-align: top;\n",
       "    }\n",
       "\n",
       "    .dataframe thead th {\n",
       "        text-align: right;\n",
       "    }\n",
       "</style>\n",
       "<table border=\"1\" class=\"dataframe\">\n",
       "  <thead>\n",
       "    <tr style=\"text-align: right;\">\n",
       "      <th></th>\n",
       "      <th>name</th>\n",
       "      <th>platform</th>\n",
       "      <th>year_of_release</th>\n",
       "      <th>genre</th>\n",
       "      <th>na_sales</th>\n",
       "      <th>eu_sales</th>\n",
       "      <th>jp_sales</th>\n",
       "      <th>other_sales</th>\n",
       "      <th>critic_score</th>\n",
       "      <th>user_score</th>\n",
       "      <th>rating</th>\n",
       "      <th>total_sales</th>\n",
       "    </tr>\n",
       "  </thead>\n",
       "  <tbody>\n",
       "    <tr>\n",
       "      <th>0</th>\n",
       "      <td>Wii Sports</td>\n",
       "      <td>Wii</td>\n",
       "      <td>2006</td>\n",
       "      <td>Sports</td>\n",
       "      <td>41.36</td>\n",
       "      <td>28.96</td>\n",
       "      <td>3.77</td>\n",
       "      <td>8.45</td>\n",
       "      <td>76</td>\n",
       "      <td>8.0</td>\n",
       "      <td>E</td>\n",
       "      <td>82.54</td>\n",
       "    </tr>\n",
       "    <tr>\n",
       "      <th>1</th>\n",
       "      <td>Super Mario Bros.</td>\n",
       "      <td>NES</td>\n",
       "      <td>1985</td>\n",
       "      <td>Platform</td>\n",
       "      <td>29.08</td>\n",
       "      <td>3.58</td>\n",
       "      <td>6.81</td>\n",
       "      <td>0.77</td>\n",
       "      <td>-69</td>\n",
       "      <td>-2.0</td>\n",
       "      <td>unknown</td>\n",
       "      <td>40.24</td>\n",
       "    </tr>\n",
       "    <tr>\n",
       "      <th>2</th>\n",
       "      <td>Mario Kart Wii</td>\n",
       "      <td>Wii</td>\n",
       "      <td>2008</td>\n",
       "      <td>Racing</td>\n",
       "      <td>15.68</td>\n",
       "      <td>12.76</td>\n",
       "      <td>3.79</td>\n",
       "      <td>3.29</td>\n",
       "      <td>82</td>\n",
       "      <td>8.3</td>\n",
       "      <td>E</td>\n",
       "      <td>35.52</td>\n",
       "    </tr>\n",
       "    <tr>\n",
       "      <th>3</th>\n",
       "      <td>Wii Sports Resort</td>\n",
       "      <td>Wii</td>\n",
       "      <td>2009</td>\n",
       "      <td>Sports</td>\n",
       "      <td>15.61</td>\n",
       "      <td>10.93</td>\n",
       "      <td>3.28</td>\n",
       "      <td>2.95</td>\n",
       "      <td>80</td>\n",
       "      <td>8.0</td>\n",
       "      <td>E</td>\n",
       "      <td>32.77</td>\n",
       "    </tr>\n",
       "    <tr>\n",
       "      <th>4</th>\n",
       "      <td>Pokemon Red/Pokemon Blue</td>\n",
       "      <td>GB</td>\n",
       "      <td>1996</td>\n",
       "      <td>Role-Playing</td>\n",
       "      <td>11.27</td>\n",
       "      <td>8.89</td>\n",
       "      <td>10.22</td>\n",
       "      <td>1.00</td>\n",
       "      <td>-74</td>\n",
       "      <td>-2.0</td>\n",
       "      <td>unknown</td>\n",
       "      <td>31.38</td>\n",
       "    </tr>\n",
       "  </tbody>\n",
       "</table>\n",
       "</div>"
      ],
      "text/plain": [
       "                       name platform  year_of_release         genre  na_sales  \\\n",
       "0                Wii Sports      Wii             2006        Sports     41.36   \n",
       "1         Super Mario Bros.      NES             1985      Platform     29.08   \n",
       "2            Mario Kart Wii      Wii             2008        Racing     15.68   \n",
       "3         Wii Sports Resort      Wii             2009        Sports     15.61   \n",
       "4  Pokemon Red/Pokemon Blue       GB             1996  Role-Playing     11.27   \n",
       "\n",
       "   eu_sales  jp_sales  other_sales  critic_score  user_score   rating  \\\n",
       "0     28.96      3.77         8.45            76         8.0        E   \n",
       "1      3.58      6.81         0.77           -69        -2.0  unknown   \n",
       "2     12.76      3.79         3.29            82         8.3        E   \n",
       "3     10.93      3.28         2.95            80         8.0        E   \n",
       "4      8.89     10.22         1.00           -74        -2.0  unknown   \n",
       "\n",
       "   total_sales  \n",
       "0        82.54  \n",
       "1        40.24  \n",
       "2        35.52  \n",
       "3        32.77  \n",
       "4        31.38  "
      ]
     },
     "execution_count": 23,
     "metadata": {},
     "output_type": "execute_result"
    }
   ],
   "source": [
    "# Создание нового столбца на основе имеющихся\n",
    "df['total_sales'] = df['na_sales'] + df['eu_sales'] + df['jp_sales'] + df['other_sales']\n",
    "# Проверка - запрос первых пяти строк таблиц\n",
    "df.head()"
   ]
  },
  {
   "cell_type": "markdown",
   "id": "f41d221d",
   "metadata": {},
   "source": [
    "Мы успешно добавили столбeц в таблицу. \n",
    "Теперь наши данные подготовлены к проведению исследовательского анализа."
   ]
  },
  {
   "cell_type": "markdown",
   "id": "b2ecc2a7",
   "metadata": {},
   "source": [
    "## Исследовательский анализ"
   ]
  },
  {
   "cell_type": "markdown",
   "id": "62dbe913",
   "metadata": {},
   "source": [
    "Проведем исследовательский анализ. Нам важны характеристики игр и их влияние на продажи. Поэтому мы рассмотрим:\n",
    "* динамику выпуска игр по годам,\n",
    "* динамике продаж игр по платформам,\n",
    "* характеристику перспективных на сегодня платформ, \n",
    "* взаимосвязь платформ и продаж,\n",
    "* взаимосвязь отзывов и продаж,\n",
    "* прибыльность жанров игр."
   ]
  },
  {
   "cell_type": "markdown",
   "id": "0312967c",
   "metadata": {},
   "source": [
    "### Общая динамика выпуска новых игр"
   ]
  },
  {
   "cell_type": "markdown",
   "id": "86c1331e",
   "metadata": {},
   "source": [
    "Посмотрим, сколько игр выпускалось в разные годы."
   ]
  },
  {
   "cell_type": "code",
   "execution_count": 24,
   "id": "3e2eb599",
   "metadata": {},
   "outputs": [
    {
     "data": {
      "text/html": [
       "<div>\n",
       "<style scoped>\n",
       "    .dataframe tbody tr th:only-of-type {\n",
       "        vertical-align: middle;\n",
       "    }\n",
       "\n",
       "    .dataframe tbody tr th {\n",
       "        vertical-align: top;\n",
       "    }\n",
       "\n",
       "    .dataframe thead th {\n",
       "        text-align: right;\n",
       "    }\n",
       "</style>\n",
       "<table border=\"1\" class=\"dataframe\">\n",
       "  <thead>\n",
       "    <tr style=\"text-align: right;\">\n",
       "      <th></th>\n",
       "      <th>name</th>\n",
       "    </tr>\n",
       "    <tr>\n",
       "      <th>year_of_release</th>\n",
       "      <th></th>\n",
       "    </tr>\n",
       "  </thead>\n",
       "  <tbody>\n",
       "    <tr>\n",
       "      <th>1980</th>\n",
       "      <td>9</td>\n",
       "    </tr>\n",
       "    <tr>\n",
       "      <th>1981</th>\n",
       "      <td>46</td>\n",
       "    </tr>\n",
       "    <tr>\n",
       "      <th>1982</th>\n",
       "      <td>36</td>\n",
       "    </tr>\n",
       "    <tr>\n",
       "      <th>1983</th>\n",
       "      <td>17</td>\n",
       "    </tr>\n",
       "    <tr>\n",
       "      <th>1984</th>\n",
       "      <td>14</td>\n",
       "    </tr>\n",
       "    <tr>\n",
       "      <th>1985</th>\n",
       "      <td>14</td>\n",
       "    </tr>\n",
       "    <tr>\n",
       "      <th>1986</th>\n",
       "      <td>21</td>\n",
       "    </tr>\n",
       "    <tr>\n",
       "      <th>1987</th>\n",
       "      <td>16</td>\n",
       "    </tr>\n",
       "    <tr>\n",
       "      <th>1988</th>\n",
       "      <td>15</td>\n",
       "    </tr>\n",
       "    <tr>\n",
       "      <th>1989</th>\n",
       "      <td>17</td>\n",
       "    </tr>\n",
       "    <tr>\n",
       "      <th>1990</th>\n",
       "      <td>16</td>\n",
       "    </tr>\n",
       "    <tr>\n",
       "      <th>1991</th>\n",
       "      <td>41</td>\n",
       "    </tr>\n",
       "    <tr>\n",
       "      <th>1992</th>\n",
       "      <td>43</td>\n",
       "    </tr>\n",
       "    <tr>\n",
       "      <th>1993</th>\n",
       "      <td>60</td>\n",
       "    </tr>\n",
       "    <tr>\n",
       "      <th>1994</th>\n",
       "      <td>121</td>\n",
       "    </tr>\n",
       "    <tr>\n",
       "      <th>1995</th>\n",
       "      <td>219</td>\n",
       "    </tr>\n",
       "    <tr>\n",
       "      <th>1996</th>\n",
       "      <td>263</td>\n",
       "    </tr>\n",
       "    <tr>\n",
       "      <th>1997</th>\n",
       "      <td>289</td>\n",
       "    </tr>\n",
       "    <tr>\n",
       "      <th>1998</th>\n",
       "      <td>379</td>\n",
       "    </tr>\n",
       "    <tr>\n",
       "      <th>1999</th>\n",
       "      <td>338</td>\n",
       "    </tr>\n",
       "    <tr>\n",
       "      <th>2000</th>\n",
       "      <td>350</td>\n",
       "    </tr>\n",
       "    <tr>\n",
       "      <th>2001</th>\n",
       "      <td>482</td>\n",
       "    </tr>\n",
       "    <tr>\n",
       "      <th>2002</th>\n",
       "      <td>829</td>\n",
       "    </tr>\n",
       "    <tr>\n",
       "      <th>2003</th>\n",
       "      <td>775</td>\n",
       "    </tr>\n",
       "    <tr>\n",
       "      <th>2004</th>\n",
       "      <td>762</td>\n",
       "    </tr>\n",
       "    <tr>\n",
       "      <th>2005</th>\n",
       "      <td>939</td>\n",
       "    </tr>\n",
       "    <tr>\n",
       "      <th>2006</th>\n",
       "      <td>1006</td>\n",
       "    </tr>\n",
       "    <tr>\n",
       "      <th>2007</th>\n",
       "      <td>1197</td>\n",
       "    </tr>\n",
       "    <tr>\n",
       "      <th>2008</th>\n",
       "      <td>1427</td>\n",
       "    </tr>\n",
       "    <tr>\n",
       "      <th>2009</th>\n",
       "      <td>1426</td>\n",
       "    </tr>\n",
       "    <tr>\n",
       "      <th>2010</th>\n",
       "      <td>1255</td>\n",
       "    </tr>\n",
       "    <tr>\n",
       "      <th>2011</th>\n",
       "      <td>1136</td>\n",
       "    </tr>\n",
       "    <tr>\n",
       "      <th>2012</th>\n",
       "      <td>653</td>\n",
       "    </tr>\n",
       "    <tr>\n",
       "      <th>2013</th>\n",
       "      <td>544</td>\n",
       "    </tr>\n",
       "    <tr>\n",
       "      <th>2014</th>\n",
       "      <td>581</td>\n",
       "    </tr>\n",
       "    <tr>\n",
       "      <th>2015</th>\n",
       "      <td>606</td>\n",
       "    </tr>\n",
       "    <tr>\n",
       "      <th>2016</th>\n",
       "      <td>502</td>\n",
       "    </tr>\n",
       "  </tbody>\n",
       "</table>\n",
       "</div>"
      ],
      "text/plain": [
       "                 name\n",
       "year_of_release      \n",
       "1980                9\n",
       "1981               46\n",
       "1982               36\n",
       "1983               17\n",
       "1984               14\n",
       "1985               14\n",
       "1986               21\n",
       "1987               16\n",
       "1988               15\n",
       "1989               17\n",
       "1990               16\n",
       "1991               41\n",
       "1992               43\n",
       "1993               60\n",
       "1994              121\n",
       "1995              219\n",
       "1996              263\n",
       "1997              289\n",
       "1998              379\n",
       "1999              338\n",
       "2000              350\n",
       "2001              482\n",
       "2002              829\n",
       "2003              775\n",
       "2004              762\n",
       "2005              939\n",
       "2006             1006\n",
       "2007             1197\n",
       "2008             1427\n",
       "2009             1426\n",
       "2010             1255\n",
       "2011             1136\n",
       "2012              653\n",
       "2013              544\n",
       "2014              581\n",
       "2015              606\n",
       "2016              502"
      ]
     },
     "execution_count": 24,
     "metadata": {},
     "output_type": "execute_result"
    }
   ],
   "source": [
    "df.pivot_table(index = 'year_of_release', values = 'name', aggfunc = 'count')"
   ]
  },
  {
   "cell_type": "markdown",
   "id": "e9852940",
   "metadata": {},
   "source": [
    "Итак, мы видим, что количество игр, выпускаемых каждый год неоднородно. В начале развития индустрии, в 1980х годах ежегодно выпускалось несколько десятков игр, с 1994 года - несколько сотен, 2006-2011 можно назвать временем расцвета индустрии, когда выпускалось свыше 1000 игр в год. В 2012 году произошло значительный спад производства игр, с 2014 года начинается некоторый рост. В последнем году игр меньше, чем в предыдущем, но это может быть связано с неполнотой даннных."
   ]
  },
  {
   "cell_type": "code",
   "execution_count": 25,
   "id": "00d08aa9",
   "metadata": {},
   "outputs": [
    {
     "data": {
      "image/png": "[encoded data removed]",
      "text/plain": [
       "<Figure size 1080x360 with 1 Axes>"
      ]
     },
     "metadata": {
      "needs_background": "light"
     },
     "output_type": "display_data"
    }
   ],
   "source": [
    "df['year_of_release'].hist(bins=37, color='tab:blue', figsize=(15,5))\n",
    "plt.title('Распределение игр по году выпуска')\n",
    "plt.grid(True)\n",
    "plt.show()"
   ]
  },
  {
   "cell_type": "markdown",
   "id": "a8257bc3",
   "metadata": {},
   "source": [
    "Важны ли данные за все периоды? Для нашего практического кейса - нет, нас интересует только актуальный этап. Судя по гистограмме он начался в 2012 году после значительного снижения выпуска игр. Сравним с информацией по конкретным платформам. "
   ]
  },
  {
   "cell_type": "markdown",
   "id": "3c79a710",
   "metadata": {},
   "source": [
    "### Динамика выпуска игр по платформам"
   ]
  },
  {
   "cell_type": "markdown",
   "id": "e4dd9a9e",
   "metadata": {},
   "source": [
    "Посмотрим, как менялись продажи по платформам. Также выберем платформы с наибольшими суммарными продажами - лимит определим в 5% всех игр. "
   ]
  },
  {
   "cell_type": "code",
   "execution_count": 26,
   "id": "02ede24d",
   "metadata": {},
   "outputs": [
    {
     "name": "stdout",
     "output_type": "stream",
     "text": [
      "Всего платформ -  31\n",
      "Всего игр для всех платформ -  16444\n",
      "5% игр -  822.2\n"
     ]
    },
    {
     "data": {
      "text/plain": [
       "PS2     2127\n",
       "DS      2121\n",
       "PS3     1306\n",
       "Wii     1286\n",
       "X360    1232\n",
       "PSP     1193\n",
       "PS      1190\n",
       "PC       957\n",
       "Name: platform, dtype: int64"
      ]
     },
     "execution_count": 26,
     "metadata": {},
     "output_type": "execute_result"
    }
   ],
   "source": [
    "# Запрос значений столбца\n",
    "print('Всего платформ - ', df['platform'].value_counts().count())\n",
    "print('Всего игр для всех платформ - ', df['platform'].value_counts().sum())\n",
    "print('5% игр - ', df['platform'].value_counts().sum() / 20)\n",
    "df['platform'].value_counts()[df['platform'].value_counts() > df['platform'].value_counts().sum() / 20]"
   ]
  },
  {
   "cell_type": "markdown",
   "id": "83ccd018",
   "metadata": {},
   "source": [
    "Платформ с наибольшим количеством игр получилось 8 - PS2, DS, PS3, Wii, X360, PSP, PS и PC. Но это информация за всю историю.\n",
    "Выберем платформы с наибольшими суммарными продажами. Для этого используем сводную таблицу и график."
   ]
  },
  {
   "cell_type": "markdown",
   "id": "9a6c8d01",
   "metadata": {},
   "source": [
    " Построим сводную таблицу по сумме продаж за последние 5 лет. "
   ]
  },
  {
   "cell_type": "code",
   "execution_count": 27,
   "id": "d3cfe0b1",
   "metadata": {},
   "outputs": [
    {
     "data": {
      "text/html": [
       "<div>\n",
       "<style scoped>\n",
       "    .dataframe tbody tr th:only-of-type {\n",
       "        vertical-align: middle;\n",
       "    }\n",
       "\n",
       "    .dataframe tbody tr th {\n",
       "        vertical-align: top;\n",
       "    }\n",
       "\n",
       "    .dataframe thead th {\n",
       "        text-align: right;\n",
       "    }\n",
       "</style>\n",
       "<table border=\"1\" class=\"dataframe\">\n",
       "  <thead>\n",
       "    <tr style=\"text-align: right;\">\n",
       "      <th>year_of_release</th>\n",
       "      <th>2012</th>\n",
       "      <th>2013</th>\n",
       "      <th>2014</th>\n",
       "      <th>2015</th>\n",
       "      <th>2016</th>\n",
       "      <th>All</th>\n",
       "    </tr>\n",
       "    <tr>\n",
       "      <th>platform</th>\n",
       "      <th></th>\n",
       "      <th></th>\n",
       "      <th></th>\n",
       "      <th></th>\n",
       "      <th></th>\n",
       "      <th></th>\n",
       "    </tr>\n",
       "  </thead>\n",
       "  <tbody>\n",
       "    <tr>\n",
       "      <th>All</th>\n",
       "      <td>355.84</td>\n",
       "      <td>361.24</td>\n",
       "      <td>331.53</td>\n",
       "      <td>267.98</td>\n",
       "      <td>129.94</td>\n",
       "      <td>1446.53</td>\n",
       "    </tr>\n",
       "    <tr>\n",
       "      <th>PS4</th>\n",
       "      <td>NaN</td>\n",
       "      <td>25.99</td>\n",
       "      <td>100.00</td>\n",
       "      <td>118.90</td>\n",
       "      <td>69.25</td>\n",
       "      <td>314.14</td>\n",
       "    </tr>\n",
       "    <tr>\n",
       "      <th>PS3</th>\n",
       "      <td>107.36</td>\n",
       "      <td>113.25</td>\n",
       "      <td>47.76</td>\n",
       "      <td>16.82</td>\n",
       "      <td>3.60</td>\n",
       "      <td>288.79</td>\n",
       "    </tr>\n",
       "    <tr>\n",
       "      <th>X360</th>\n",
       "      <td>99.74</td>\n",
       "      <td>88.58</td>\n",
       "      <td>34.74</td>\n",
       "      <td>11.96</td>\n",
       "      <td>1.52</td>\n",
       "      <td>236.54</td>\n",
       "    </tr>\n",
       "    <tr>\n",
       "      <th>3DS</th>\n",
       "      <td>51.36</td>\n",
       "      <td>56.57</td>\n",
       "      <td>43.76</td>\n",
       "      <td>27.78</td>\n",
       "      <td>15.14</td>\n",
       "      <td>194.61</td>\n",
       "    </tr>\n",
       "    <tr>\n",
       "      <th>XOne</th>\n",
       "      <td>NaN</td>\n",
       "      <td>18.96</td>\n",
       "      <td>54.07</td>\n",
       "      <td>60.14</td>\n",
       "      <td>26.15</td>\n",
       "      <td>159.32</td>\n",
       "    </tr>\n",
       "    <tr>\n",
       "      <th>WiiU</th>\n",
       "      <td>17.56</td>\n",
       "      <td>21.65</td>\n",
       "      <td>22.03</td>\n",
       "      <td>16.35</td>\n",
       "      <td>4.60</td>\n",
       "      <td>82.19</td>\n",
       "    </tr>\n",
       "    <tr>\n",
       "      <th>PC</th>\n",
       "      <td>23.22</td>\n",
       "      <td>12.38</td>\n",
       "      <td>13.28</td>\n",
       "      <td>8.52</td>\n",
       "      <td>5.25</td>\n",
       "      <td>62.65</td>\n",
       "    </tr>\n",
       "    <tr>\n",
       "      <th>PSV</th>\n",
       "      <td>16.19</td>\n",
       "      <td>10.59</td>\n",
       "      <td>11.90</td>\n",
       "      <td>6.25</td>\n",
       "      <td>4.25</td>\n",
       "      <td>49.18</td>\n",
       "    </tr>\n",
       "    <tr>\n",
       "      <th>Wii</th>\n",
       "      <td>21.71</td>\n",
       "      <td>8.59</td>\n",
       "      <td>3.75</td>\n",
       "      <td>1.14</td>\n",
       "      <td>0.18</td>\n",
       "      <td>35.37</td>\n",
       "    </tr>\n",
       "    <tr>\n",
       "      <th>DS</th>\n",
       "      <td>11.01</td>\n",
       "      <td>1.54</td>\n",
       "      <td>NaN</td>\n",
       "      <td>NaN</td>\n",
       "      <td>NaN</td>\n",
       "      <td>12.55</td>\n",
       "    </tr>\n",
       "    <tr>\n",
       "      <th>PSP</th>\n",
       "      <td>7.69</td>\n",
       "      <td>3.14</td>\n",
       "      <td>0.24</td>\n",
       "      <td>0.12</td>\n",
       "      <td>NaN</td>\n",
       "      <td>11.19</td>\n",
       "    </tr>\n",
       "  </tbody>\n",
       "</table>\n",
       "</div>"
      ],
      "text/plain": [
       "year_of_release    2012    2013    2014    2015    2016      All\n",
       "platform                                                        \n",
       "All              355.84  361.24  331.53  267.98  129.94  1446.53\n",
       "PS4                 NaN   25.99  100.00  118.90   69.25   314.14\n",
       "PS3              107.36  113.25   47.76   16.82    3.60   288.79\n",
       "X360              99.74   88.58   34.74   11.96    1.52   236.54\n",
       "3DS               51.36   56.57   43.76   27.78   15.14   194.61\n",
       "XOne                NaN   18.96   54.07   60.14   26.15   159.32\n",
       "WiiU              17.56   21.65   22.03   16.35    4.60    82.19\n",
       "PC                23.22   12.38   13.28    8.52    5.25    62.65\n",
       "PSV               16.19   10.59   11.90    6.25    4.25    49.18\n",
       "Wii               21.71    8.59    3.75    1.14    0.18    35.37\n",
       "DS                11.01    1.54     NaN     NaN     NaN    12.55\n",
       "PSP                7.69    3.14    0.24    0.12     NaN    11.19"
      ]
     },
     "metadata": {},
     "output_type": "display_data"
    }
   ],
   "source": [
    "# Построение сводной таблице по данным с 2012 года\n",
    "platform_pivot = (df\n",
    "    .query('year_of_release > 2011')\n",
    "    .pivot_table(index = 'platform', \n",
    "                 columns = 'year_of_release', \n",
    "                 values = 'total_sales', \n",
    "                 aggfunc='sum', \n",
    "                 margins=True)\n",
    ")\n",
    "# Изменение индексации и сортировка по сумме продаж\n",
    "platform_pivot = platform_pivot.reindex(platform_pivot['All'].sort_values(ascending=False).index)\n",
    "# Демонстрация таблицы\n",
    "display(platform_pivot)"
   ]
  },
  {
   "cell_type": "markdown",
   "id": "a652f156",
   "metadata": {},
   "source": [
    "Сумма продаж всех игр за последние 5 лет - свыше 1 446 млн. проданных копий, за последний год по доступным данным - около 130 млн. \n",
    "В качестве рубежа \"перспективной\" платформы определим долю в 5% от проданных игр. \n",
    "Тогда за последние 5 лет к \"перспективным\" можно отнести платформы PS4, PS3, X360, 3DS, XOne, WiiU. Из них наиболее перспективные - востребованные в последний год - PS4 - лидер, занимающий более половины рынка, XOne, 3DS."
   ]
  },
  {
   "cell_type": "code",
   "execution_count": 28,
   "id": "a1dd4a07",
   "metadata": {},
   "outputs": [
    {
     "name": "stdout",
     "output_type": "stream",
     "text": [
      "Сроки существования платформы platform\n",
      "2600    10\n",
      "3DO      2\n",
      "3DS      6\n",
      "DC       7\n",
      "DS      11\n",
      "GB      13\n",
      "GBA      8\n",
      "GC       7\n",
      "GEN      5\n",
      "GG       1\n",
      "N64      7\n",
      "NES     12\n",
      "NG       4\n",
      "PC      26\n",
      "PCFX     1\n",
      "PS      10\n",
      "PS2     12\n",
      "PS3     11\n",
      "PS4      4\n",
      "PSP     12\n",
      "PSV      6\n",
      "SAT      6\n",
      "SCD      2\n",
      "SNES    10\n",
      "TG16     1\n",
      "WS       3\n",
      "Wii     11\n",
      "WiiU     5\n",
      "X360    12\n",
      "XB       9\n",
      "XOne     4\n",
      "dtype: int64\n",
      "Средний срок существования платформы 7.67741935483871\n"
     ]
    },
    {
     "data": {
      "image/png": "[encoded data removed]",
      "text/plain": [
       "<Figure size 1080x720 with 1 Axes>"
      ]
     },
     "metadata": {
      "needs_background": "light"
     },
     "output_type": "display_data"
    }
   ],
   "source": [
    "# Построение сводной таблице по данным всех лет\n",
    "all_platfotm_pivot = df.pivot_table(index = 'year_of_release', columns = 'platform', values = 'total_sales', aggfunc='count')\n",
    "# Вычисление срока существования платформы \n",
    "# Разность между общим числом лет наблюдений и количеством отсутствующих значений \n",
    "print('Сроки существования платформы', 37-all_platfotm_pivot.isna().sum())\n",
    "print('Средний срок существования платформы', (37-all_platfotm_pivot.isna().sum()).mean())\n",
    "# Построение графика продаж по данным всех лет\n",
    "all_platfotm_pivot.plot(figsize=(15,10))\n",
    "plt.show()"
   ]
  },
  {
   "cell_type": "markdown",
   "id": "88f2abfe",
   "metadata": {},
   "source": [
    "За какой характерный срок появляются новые и исчезают старые платформы?\n",
    "На общем распределении продаж по годам заметно, что платформы появляются и пропадают. Анализ показывает - средний срок существования платформы - 7,7 лет. Да, некоторые платформы еще существуют, но в целом можно заметить, что кроме PC - персонального компьютера, который сохраняет актуальность как платформа уже 26 лет, одни платформы сменяют другие регулярно. \n",
    "Причем видно, что в нашем списке \"перспективных\" платформ некоторые уже преодолели рубеж в 7 лет - и \"выходят\" из лидеров. Это PS3 - 11 лет и X360 - 12 лет."
   ]
  },
  {
   "cell_type": "markdown",
   "id": "a48240a1",
   "metadata": {},
   "source": [
    "### Характеристика перспективных платформ"
   ]
  },
  {
   "cell_type": "markdown",
   "id": "be2c273b",
   "metadata": {},
   "source": [
    "Учитывая, что ситуация в отрасли регулярно меняется, оставим только актуальные данные для нашего анализа. \n",
    "Возьмем данные за соответствующий актуальный период. \n",
    "Обратившись к данным развития отрасли и средней длинне жизненного цикла платформы, определим актуальный период как последние 5 лет. \n",
    "На основе этих данных постараемся построить прогноз на 2017 год.\n",
    "Не будем учитывать в работе данные за предыдущие годы."
   ]
  },
  {
   "cell_type": "code",
   "execution_count": 29,
   "id": "443f097e",
   "metadata": {},
   "outputs": [
    {
     "name": "stdout",
     "output_type": "stream",
     "text": [
      "<class 'pandas.core.frame.DataFrame'>\n",
      "Int64Index: 2886 entries, 16 to 16714\n",
      "Data columns (total 12 columns):\n",
      " #   Column           Non-Null Count  Dtype  \n",
      "---  ------           --------------  -----  \n",
      " 0   name             2886 non-null   object \n",
      " 1   platform         2886 non-null   object \n",
      " 2   year_of_release  2886 non-null   int64  \n",
      " 3   genre            2886 non-null   object \n",
      " 4   na_sales         2886 non-null   float64\n",
      " 5   eu_sales         2886 non-null   float64\n",
      " 6   jp_sales         2886 non-null   float64\n",
      " 7   other_sales      2886 non-null   float64\n",
      " 8   critic_score     2886 non-null   int64  \n",
      " 9   user_score       2886 non-null   float64\n",
      " 10  rating           2886 non-null   object \n",
      " 11  total_sales      2886 non-null   float64\n",
      "dtypes: float64(6), int64(2), object(4)\n",
      "memory usage: 293.1+ KB\n"
     ]
    }
   ],
   "source": [
    "# Создание таблицы с информацией только о последних 5 годах\n",
    "good_df = df.query('year_of_release > 2011')\n",
    "# Запрос информации о таблице\n",
    "good_df.info()"
   ]
  },
  {
   "cell_type": "markdown",
   "id": "37f23a1a",
   "metadata": {},
   "source": [
    "В таблице осталоось лишь 2886 строк, зато эти данные актуальные. "
   ]
  },
  {
   "cell_type": "markdown",
   "id": "3bc0e06e",
   "metadata": {},
   "source": [
    "Какие платформы лидируют по продажам, растут или падают? Построим сводную таблицу по по актуальным данным."
   ]
  },
  {
   "cell_type": "code",
   "execution_count": 30,
   "id": "f12ce763",
   "metadata": {},
   "outputs": [
    {
     "data": {
      "text/html": [
       "<div>\n",
       "<style scoped>\n",
       "    .dataframe tbody tr th:only-of-type {\n",
       "        vertical-align: middle;\n",
       "    }\n",
       "\n",
       "    .dataframe tbody tr th {\n",
       "        vertical-align: top;\n",
       "    }\n",
       "\n",
       "    .dataframe thead th {\n",
       "        text-align: right;\n",
       "    }\n",
       "</style>\n",
       "<table border=\"1\" class=\"dataframe\">\n",
       "  <thead>\n",
       "    <tr style=\"text-align: right;\">\n",
       "      <th>platform</th>\n",
       "      <th>3DS</th>\n",
       "      <th>DS</th>\n",
       "      <th>PC</th>\n",
       "      <th>PS3</th>\n",
       "      <th>PS4</th>\n",
       "      <th>PSP</th>\n",
       "      <th>PSV</th>\n",
       "      <th>Wii</th>\n",
       "      <th>WiiU</th>\n",
       "      <th>X360</th>\n",
       "      <th>XOne</th>\n",
       "    </tr>\n",
       "    <tr>\n",
       "      <th>year_of_release</th>\n",
       "      <th></th>\n",
       "      <th></th>\n",
       "      <th></th>\n",
       "      <th></th>\n",
       "      <th></th>\n",
       "      <th></th>\n",
       "      <th></th>\n",
       "      <th></th>\n",
       "      <th></th>\n",
       "      <th></th>\n",
       "      <th></th>\n",
       "    </tr>\n",
       "  </thead>\n",
       "  <tbody>\n",
       "    <tr>\n",
       "      <th>2012</th>\n",
       "      <td>93.0</td>\n",
       "      <td>23.0</td>\n",
       "      <td>61.0</td>\n",
       "      <td>148.0</td>\n",
       "      <td>NaN</td>\n",
       "      <td>106.0</td>\n",
       "      <td>53.0</td>\n",
       "      <td>31.0</td>\n",
       "      <td>32.0</td>\n",
       "      <td>106.0</td>\n",
       "      <td>NaN</td>\n",
       "    </tr>\n",
       "    <tr>\n",
       "      <th>2013</th>\n",
       "      <td>91.0</td>\n",
       "      <td>8.0</td>\n",
       "      <td>38.0</td>\n",
       "      <td>126.0</td>\n",
       "      <td>16.0</td>\n",
       "      <td>54.0</td>\n",
       "      <td>63.0</td>\n",
       "      <td>12.0</td>\n",
       "      <td>42.0</td>\n",
       "      <td>75.0</td>\n",
       "      <td>19.0</td>\n",
       "    </tr>\n",
       "    <tr>\n",
       "      <th>2014</th>\n",
       "      <td>80.0</td>\n",
       "      <td>NaN</td>\n",
       "      <td>47.0</td>\n",
       "      <td>108.0</td>\n",
       "      <td>75.0</td>\n",
       "      <td>10.0</td>\n",
       "      <td>100.0</td>\n",
       "      <td>6.0</td>\n",
       "      <td>31.0</td>\n",
       "      <td>63.0</td>\n",
       "      <td>61.0</td>\n",
       "    </tr>\n",
       "    <tr>\n",
       "      <th>2015</th>\n",
       "      <td>86.0</td>\n",
       "      <td>NaN</td>\n",
       "      <td>50.0</td>\n",
       "      <td>73.0</td>\n",
       "      <td>137.0</td>\n",
       "      <td>3.0</td>\n",
       "      <td>110.0</td>\n",
       "      <td>4.0</td>\n",
       "      <td>28.0</td>\n",
       "      <td>35.0</td>\n",
       "      <td>80.0</td>\n",
       "    </tr>\n",
       "    <tr>\n",
       "      <th>2016</th>\n",
       "      <td>46.0</td>\n",
       "      <td>NaN</td>\n",
       "      <td>54.0</td>\n",
       "      <td>38.0</td>\n",
       "      <td>164.0</td>\n",
       "      <td>NaN</td>\n",
       "      <td>85.0</td>\n",
       "      <td>1.0</td>\n",
       "      <td>14.0</td>\n",
       "      <td>13.0</td>\n",
       "      <td>87.0</td>\n",
       "    </tr>\n",
       "  </tbody>\n",
       "</table>\n",
       "</div>"
      ],
      "text/plain": [
       "platform          3DS    DS    PC    PS3    PS4    PSP    PSV   Wii  WiiU  \\\n",
       "year_of_release                                                             \n",
       "2012             93.0  23.0  61.0  148.0    NaN  106.0   53.0  31.0  32.0   \n",
       "2013             91.0   8.0  38.0  126.0   16.0   54.0   63.0  12.0  42.0   \n",
       "2014             80.0   NaN  47.0  108.0   75.0   10.0  100.0   6.0  31.0   \n",
       "2015             86.0   NaN  50.0   73.0  137.0    3.0  110.0   4.0  28.0   \n",
       "2016             46.0   NaN  54.0   38.0  164.0    NaN   85.0   1.0  14.0   \n",
       "\n",
       "platform          X360  XOne  \n",
       "year_of_release               \n",
       "2012             106.0   NaN  \n",
       "2013              75.0  19.0  \n",
       "2014              63.0  61.0  \n",
       "2015              35.0  80.0  \n",
       "2016              13.0  87.0  "
      ]
     },
     "metadata": {},
     "output_type": "display_data"
    },
    {
     "data": {
      "image/png": "[encoded data removed]",
      "text/plain": [
       "<Figure size 1080x360 with 1 Axes>"
      ]
     },
     "metadata": {
      "needs_background": "light"
     },
     "output_type": "display_data"
    }
   ],
   "source": [
    "recent_platform_pivot = (good_df\n",
    "                         .pivot_table(index='year_of_release', \n",
    "                                      columns='platform', \n",
    "                                      values='total_sales', \n",
    "                                      aggfunc='count')\n",
    "                        )\n",
    "display(recent_platform_pivot)\n",
    "recent_platform_pivot.plot(figsize = (15,5))\n",
    "plt.legend(loc='upper left')\n",
    "plt.xticks(ticks=[2012, 2013, 2014, 2015, 2016], labels=None)\n",
    "plt.show()"
   ]
  },
  {
   "cell_type": "markdown",
   "id": "69917c28",
   "metadata": {},
   "source": [
    "Среди платформ есть явный лидер - PS4, за ним идут PSV и XOne. Если продажи PSV хоть и на высоком уровне, но снижаются, то XOne демонстрирует некоторый рост. Следующая группа - PC, имеющий самую долгую историю и сохраняющий уверенные позиции на протяжении десятилетий и 3DS, занимавший уверенные позиции и теперь падающий и PS3, бывший лидер индустрии, теперь уступающий новому поколению приставок.\n",
    "DS и PSP не будем рассматривать, так как к 2016 году они совсем потеряли актуальность. Wii, WiiU и X360 имеют слишком маленький объем продаж, чтобы их рассматривать в качестве перспективных платформ. \n",
    "Среди крупных игроков:\n",
    "- растут продажи: PS4, XOne, PC. \n",
    "- снижаются: PSV, 3DS, PS3."
   ]
  },
  {
   "cell_type": "markdown",
   "id": "ef3ff3dc",
   "metadata": {},
   "source": [
    "### Взаимосвязь платформ и продаж"
   ]
  },
  {
   "cell_type": "markdown",
   "id": "d83bcf92",
   "metadata": {},
   "source": [
    "Построим график «ящик с усами» по глобальным продажам игр в разбивке по платформам. Сначала рассмотрим данные за последние 5 лет."
   ]
  },
  {
   "cell_type": "code",
   "execution_count": 31,
   "id": "a6c660a9",
   "metadata": {
    "scrolled": true
   },
   "outputs": [
    {
     "data": {
      "image/png": "[encoded data removed]",
      "text/plain": [
       "<Figure size 1080x360 with 1 Axes>"
      ]
     },
     "metadata": {
      "needs_background": "light"
     },
     "output_type": "display_data"
    }
   ],
   "source": [
    "# Построение диаграмм с помощью библиотек seaborn и matplotlib\n",
    "plt.figure(figsize = (15,5))\n",
    "sns.boxplot(data=good_df, \n",
    "            x='platform', \n",
    "            y='total_sales') \n",
    "plt.title('Продажи игр по платформам, 2012-2016 гг.')\n",
    "plt.ylim(0, 2)\n",
    "plt.title('Продажи игр по платформам, 2012-2016 гг.')\n",
    "plt.show()"
   ]
  },
  {
   "cell_type": "markdown",
   "id": "651c44ee",
   "metadata": {},
   "source": [
    "Итак, самые высокие продажи в среднем имеют платформы X360. Достаточно высокие средние показатели у PS3, PS4, WiiU, Wii  и XOne. Несмотря на возможную популярность платформ, средние продажи 3DS, PC, PSV, PSP значительно ниже.\n",
    "Рассмотрим более подробно данные за 2016 год."
   ]
  },
  {
   "cell_type": "code",
   "execution_count": 32,
   "id": "898448fa",
   "metadata": {},
   "outputs": [
    {
     "data": {
      "image/png": "[encoded data removed]",
      "text/plain": [
       "<Figure size 1080x360 with 1 Axes>"
      ]
     },
     "metadata": {
      "needs_background": "light"
     },
     "output_type": "display_data"
    }
   ],
   "source": [
    "# Построение диаграмм с помощью библиотек seaborn и matplotlib\n",
    "plt.figure(figsize = (15,5))\n",
    "sns.boxplot(data=good_df.query('year_of_release == 2016'), \n",
    "            x='platform', \n",
    "            y='total_sales') \n",
    "plt.ylim(0, 0.8)\n",
    "plt.title('Продажи игр по платформам, 2016 гг.')\n",
    "plt.show()"
   ]
  },
  {
   "cell_type": "markdown",
   "id": "ef683502",
   "metadata": {},
   "source": [
    "Несколько платформ покинуло рейтинг продаж. К лидерам по продажам можно отнести PS4, WiiU, XOne 3DS."
   ]
  },
  {
   "cell_type": "markdown",
   "id": "be903206",
   "metadata": {},
   "source": [
    "**Вывод:**\n",
    "Среди лидеров среди платформ - звезда PS4, на которую приходится около трети продаж последнего года, наибольший среднее количество продаж по платформе - у WiiU, сильные игроки растущий XOne и снижающийся PSV, PC сохраняет свою значительную долю рынка.  "
   ]
  },
  {
   "cell_type": "markdown",
   "id": "87ded705",
   "metadata": {},
   "source": [
    "### Взаимосвязь отзывов и продаж"
   ]
  },
  {
   "cell_type": "markdown",
   "id": "eff66a8b",
   "metadata": {},
   "source": [
    "Посмотрим, как влияют на продажи внутри одной платформы отзывы пользователей и критиков. \n",
    "В качестве примера платформы выберем самую популярную платформу последнего времени - PS4. Построим диаграмму рассеяния и посчитаем корреляцию между отзывами и продажами."
   ]
  },
  {
   "cell_type": "code",
   "execution_count": 33,
   "id": "74fe5b82",
   "metadata": {},
   "outputs": [
    {
     "data": {
      "image/png": "[encoded data removed]",
      "text/plain": [
       "<Figure size 1080x360 with 1 Axes>"
      ]
     },
     "metadata": {
      "needs_background": "light"
     },
     "output_type": "display_data"
    },
    {
     "name": "stdout",
     "output_type": "stream",
     "text": [
      "Коэффициент корреляции Пирсона между продажами игр и отзывами критиков; 0.40656790206178095\n"
     ]
    }
   ],
   "source": [
    "# Отбор релевантных данных по приставке\n",
    "good_df_ps4 = good_df.query('platform == \"PS4\" and critic_score > 0')\n",
    "# Построение диаграммы рассеяния с помощью пакета matplotlib\n",
    "plt.figure(figsize = (15,5))\n",
    "plt.scatter(data=good_df_ps4, \n",
    "            x = 'critic_score', \n",
    "            y='total_sales')\n",
    "plt.xlim(left=0)\n",
    "plt.title('Взаимосвязь продаж игр и оценок критиков, платформа PS4')\n",
    "plt.show()\n",
    "# Расчет коэффициента корреляции Пирсона\n",
    "print('Коэффициент корреляции Пирсона между продажами игр и отзывами критиков;', end = ' ')\n",
    "print(good_df_ps4['critic_score']\n",
    "      .corr(good_df_ps4['total_sales']))"
   ]
  },
  {
   "cell_type": "markdown",
   "id": "12fcaf13",
   "metadata": {},
   "source": [
    "Построим аналогичную диаграмму и рассчитаем коэффициент корреляции для отзывов пользователей."
   ]
  },
  {
   "cell_type": "code",
   "execution_count": 34,
   "id": "f9a6097a",
   "metadata": {},
   "outputs": [
    {
     "data": {
      "image/png": "[encoded data removed]",
      "text/plain": [
       "<Figure size 1080x360 with 1 Axes>"
      ]
     },
     "metadata": {
      "needs_background": "light"
     },
     "output_type": "display_data"
    },
    {
     "name": "stdout",
     "output_type": "stream",
     "text": [
      "Коэффициент корреляции Пирсона между продажами игр и отзывами критиков; 0.0023941352579608267\n"
     ]
    }
   ],
   "source": [
    "# Отбор релевантных данных по приставке\n",
    "good_df_ps4_user = good_df.query('platform == \"PS4\" and user_score >= 0')\n",
    "# Построение диаграммы рассеяния с помощью пакета matplotlib\n",
    "plt.figure(figsize = (15,5))\n",
    "plt.scatter(data=good_df_ps4_user, \n",
    "            x = 'user_score', \n",
    "            y='total_sales')\n",
    "plt.xlim(left=0)\n",
    "plt.title('Взаимосвязь продаж игр и оценок пользователей, платформа PS4')\n",
    "plt.show()\n",
    "# Расчет коэффициента корреляции Пирсона\n",
    "print('Коэффициент корреляции Пирсона между продажами игр и отзывами критиков;', end = ' ')\n",
    "print(good_df_ps4['user_score']\n",
    "      .corr(good_df_ps4['total_sales']))"
   ]
  },
  {
   "cell_type": "markdown",
   "id": "57a0c848",
   "metadata": {},
   "source": [
    "Диаграммы рассеяния показывают: существует слабая связь между оценками критиков и продажами игр, а связь между оценками пользователей и продажами игр отсутствует. "
   ]
  },
  {
   "cell_type": "markdown",
   "id": "a24973bf",
   "metadata": {},
   "source": [
    "**Вывод:**\n",
    "Анализ данных по платформе PS4 показал: существует слабая корреляционная связь между оценками критиков и продажами игр, однако связь между продажами и оценками пользователей не была обнаружена. При планировании необходимо в первую очередь обращать внимание на экспертные, а не на пользовательские оценки."
   ]
  },
  {
   "cell_type": "markdown",
   "id": "6aedf2f3",
   "metadata": {},
   "source": [
    "### Взаимосвязь жанров и продаж"
   ]
  },
  {
   "cell_type": "markdown",
   "id": "f4c09542",
   "metadata": {},
   "source": [
    "Посмотрим на общее распределение игр по жанрам. Построим сводную таблицу с информацией о количестве игр и сумме продаж. "
   ]
  },
  {
   "cell_type": "code",
   "execution_count": 35,
   "id": "5b349158",
   "metadata": {},
   "outputs": [
    {
     "data": {
      "text/html": [
       "<div>\n",
       "<style scoped>\n",
       "    .dataframe tbody tr th:only-of-type {\n",
       "        vertical-align: middle;\n",
       "    }\n",
       "\n",
       "    .dataframe tbody tr th {\n",
       "        vertical-align: top;\n",
       "    }\n",
       "\n",
       "    .dataframe thead th {\n",
       "        text-align: right;\n",
       "    }\n",
       "</style>\n",
       "<table border=\"1\" class=\"dataframe\">\n",
       "  <thead>\n",
       "    <tr style=\"text-align: right;\">\n",
       "      <th></th>\n",
       "      <th>sales_sum</th>\n",
       "      <th>games_count</th>\n",
       "      <th>sales_median</th>\n",
       "    </tr>\n",
       "    <tr>\n",
       "      <th>genre</th>\n",
       "      <th></th>\n",
       "      <th></th>\n",
       "      <th></th>\n",
       "    </tr>\n",
       "  </thead>\n",
       "  <tbody>\n",
       "    <tr>\n",
       "      <th>Action</th>\n",
       "      <td>441.12</td>\n",
       "      <td>1031</td>\n",
       "      <td>0.120</td>\n",
       "    </tr>\n",
       "    <tr>\n",
       "      <th>Shooter</th>\n",
       "      <td>304.73</td>\n",
       "      <td>235</td>\n",
       "      <td>0.440</td>\n",
       "    </tr>\n",
       "    <tr>\n",
       "      <th>Role-Playing</th>\n",
       "      <td>192.80</td>\n",
       "      <td>370</td>\n",
       "      <td>0.140</td>\n",
       "    </tr>\n",
       "    <tr>\n",
       "      <th>Sports</th>\n",
       "      <td>181.07</td>\n",
       "      <td>268</td>\n",
       "      <td>0.240</td>\n",
       "    </tr>\n",
       "    <tr>\n",
       "      <th>Misc</th>\n",
       "      <td>85.04</td>\n",
       "      <td>192</td>\n",
       "      <td>0.120</td>\n",
       "    </tr>\n",
       "    <tr>\n",
       "      <th>Platform</th>\n",
       "      <td>61.00</td>\n",
       "      <td>85</td>\n",
       "      <td>0.210</td>\n",
       "    </tr>\n",
       "    <tr>\n",
       "      <th>Racing</th>\n",
       "      <td>53.50</td>\n",
       "      <td>115</td>\n",
       "      <td>0.140</td>\n",
       "    </tr>\n",
       "    <tr>\n",
       "      <th>Fighting</th>\n",
       "      <td>44.49</td>\n",
       "      <td>109</td>\n",
       "      <td>0.130</td>\n",
       "    </tr>\n",
       "    <tr>\n",
       "      <th>Simulation</th>\n",
       "      <td>35.12</td>\n",
       "      <td>80</td>\n",
       "      <td>0.120</td>\n",
       "    </tr>\n",
       "    <tr>\n",
       "      <th>Adventure</th>\n",
       "      <td>29.43</td>\n",
       "      <td>302</td>\n",
       "      <td>0.030</td>\n",
       "    </tr>\n",
       "    <tr>\n",
       "      <th>Strategy</th>\n",
       "      <td>13.34</td>\n",
       "      <td>71</td>\n",
       "      <td>0.080</td>\n",
       "    </tr>\n",
       "    <tr>\n",
       "      <th>Puzzle</th>\n",
       "      <td>4.89</td>\n",
       "      <td>28</td>\n",
       "      <td>0.045</td>\n",
       "    </tr>\n",
       "  </tbody>\n",
       "</table>\n",
       "</div>"
      ],
      "text/plain": [
       "              sales_sum  games_count  sales_median\n",
       "genre                                             \n",
       "Action           441.12         1031         0.120\n",
       "Shooter          304.73          235         0.440\n",
       "Role-Playing     192.80          370         0.140\n",
       "Sports           181.07          268         0.240\n",
       "Misc              85.04          192         0.120\n",
       "Platform          61.00           85         0.210\n",
       "Racing            53.50          115         0.140\n",
       "Fighting          44.49          109         0.130\n",
       "Simulation        35.12           80         0.120\n",
       "Adventure         29.43          302         0.030\n",
       "Strategy          13.34           71         0.080\n",
       "Puzzle             4.89           28         0.045"
      ]
     },
     "execution_count": 35,
     "metadata": {},
     "output_type": "execute_result"
    }
   ],
   "source": [
    "# Построение сводной таблицы\n",
    "pivot_genre = good_df.pivot_table(index='genre', \n",
    "                                  values='total_sales', \n",
    "                                  aggfunc=['sum', 'count', 'median'])\n",
    "# Переименование столбцов\n",
    "pivot_genre.columns = ['sales_sum', 'games_count', 'sales_median']\n",
    "# Демонстрация таблицы с сортировкой по сумме продаж\n",
    "pivot_genre.sort_values(['sales_sum'], ascending=False)"
   ]
  },
  {
   "cell_type": "markdown",
   "id": "e9817f91",
   "metadata": {},
   "source": [
    "Что можно сказать о самых прибыльных жанрах? \n",
    "Среди всех жанров в качестве наиболее прибыльных можно выделить \n",
    "- Action - более 440 миллионов проданных игр, \n",
    "- Shooter - свыше 300 миллионов,\n",
    "- Role-Playing\tи Sports - по 180-190 миллионов. \n",
    "\n",
    "Меньше всего сумма продаж у жанров:\n",
    "- Puzzle - менее 5 миллионов,\n",
    "- Strategy - менее 15 миллионов. \n",
    "\n",
    "Остальные жанры за пять лет имеют несколько десятков миллионов проданных копий.\n",
    "\n",
    "Особенность состоит в том, что охват одной игрой в жанрах неодинаков. В медианном значении на одну игру приходится  120-140 тысяч продаж, однако есть жанры с большей \"концентрацией пользователей\" и меньшим количеством игр:\n",
    "- Shooter - медиана составляет 440 000 пользователей у одной игры,\n",
    "- Sports - медиана 240 000 пользователей у одной игры,"
   ]
  },
  {
   "cell_type": "markdown",
   "id": "3994f7ea",
   "metadata": {},
   "source": [
    "## Портрет пользователя каждого региона"
   ]
  },
  {
   "cell_type": "markdown",
   "id": "61e03de9",
   "metadata": {},
   "source": [
    "Перейдем к влиянию территории на пользовательское поведение. \n",
    "Определим для пользователя каждого региона: Северная Америка (NA), Европейский союз (EU), Япония (JP):\n",
    "- самые популярные платформы (топ-5). Опишем различия в долях продаж;\n",
    "- самые популярные жанры (топ-5). Поясним разницу.\n",
    "- влияние рейтинга ESRB на продажи в отдельном регионе\n"
   ]
  },
  {
   "cell_type": "markdown",
   "id": "03186a15",
   "metadata": {},
   "source": [
    "### Популярность платформ по регионам"
   ]
  },
  {
   "cell_type": "code",
   "execution_count": 36,
   "id": "3b55d7a3",
   "metadata": {
    "scrolled": true
   },
   "outputs": [
    {
     "data": {
      "text/html": [
       "<div>\n",
       "<style scoped>\n",
       "    .dataframe tbody tr th:only-of-type {\n",
       "        vertical-align: middle;\n",
       "    }\n",
       "\n",
       "    .dataframe tbody tr th {\n",
       "        vertical-align: top;\n",
       "    }\n",
       "\n",
       "    .dataframe thead th {\n",
       "        text-align: right;\n",
       "    }\n",
       "</style>\n",
       "<table border=\"1\" class=\"dataframe\">\n",
       "  <thead>\n",
       "    <tr style=\"text-align: right;\">\n",
       "      <th></th>\n",
       "      <th>platform</th>\n",
       "      <th>na_sales</th>\n",
       "      <th>na_sales</th>\n",
       "    </tr>\n",
       "  </thead>\n",
       "  <tbody>\n",
       "    <tr>\n",
       "      <th>0</th>\n",
       "      <td>X360</td>\n",
       "      <td>140.05</td>\n",
       "      <td>23.70</td>\n",
       "    </tr>\n",
       "    <tr>\n",
       "      <th>1</th>\n",
       "      <td>PS4</td>\n",
       "      <td>108.74</td>\n",
       "      <td>18.40</td>\n",
       "    </tr>\n",
       "    <tr>\n",
       "      <th>2</th>\n",
       "      <td>PS3</td>\n",
       "      <td>103.38</td>\n",
       "      <td>17.49</td>\n",
       "    </tr>\n",
       "    <tr>\n",
       "      <th>3</th>\n",
       "      <td>XOne</td>\n",
       "      <td>93.12</td>\n",
       "      <td>15.76</td>\n",
       "    </tr>\n",
       "    <tr>\n",
       "      <th>4</th>\n",
       "      <td>3DS</td>\n",
       "      <td>55.31</td>\n",
       "      <td>9.36</td>\n",
       "    </tr>\n",
       "  </tbody>\n",
       "</table>\n",
       "</div>"
      ],
      "text/plain": [
       "  platform  na_sales  na_sales\n",
       "0     X360    140.05     23.70\n",
       "1      PS4    108.74     18.40\n",
       "2      PS3    103.38     17.49\n",
       "3     XOne     93.12     15.76\n",
       "4      3DS     55.31      9.36"
      ]
     },
     "execution_count": 36,
     "metadata": {},
     "output_type": "execute_result"
    }
   ],
   "source": [
    "# Выбор наиболее популярных платформ по регионам \n",
    "na_data = good_df.groupby(['platform'])['na_sales'].sum().sort_values(ascending=False)\n",
    "# Расчет доли платформы в общих продажах по региону\n",
    "na_data_share = round(na_data / na_data.sum () * 100, 2)\n",
    "# Соединяем информацию о числе продаж и долях в единую таблицу и запрашиваем первые 5 строк\n",
    "pd.concat([na_data, na_data_share], axis=1).reset_index().head()"
   ]
  },
  {
   "cell_type": "markdown",
   "id": "00f87614",
   "metadata": {},
   "source": [
    "Самая популярная платформа в Северной Америке за последние 5 лет - X360, занимает более пятой части рынка. Следуют за ним PS4 - более 18%, набирает популярность и PS3, интерес к которой снижается. Также в ТОП-5 входят XOne и 3DS."
   ]
  },
  {
   "cell_type": "code",
   "execution_count": 37,
   "id": "fbeead46",
   "metadata": {},
   "outputs": [
    {
     "data": {
      "text/html": [
       "<div>\n",
       "<style scoped>\n",
       "    .dataframe tbody tr th:only-of-type {\n",
       "        vertical-align: middle;\n",
       "    }\n",
       "\n",
       "    .dataframe tbody tr th {\n",
       "        vertical-align: top;\n",
       "    }\n",
       "\n",
       "    .dataframe thead th {\n",
       "        text-align: right;\n",
       "    }\n",
       "</style>\n",
       "<table border=\"1\" class=\"dataframe\">\n",
       "  <thead>\n",
       "    <tr style=\"text-align: right;\">\n",
       "      <th></th>\n",
       "      <th>platform</th>\n",
       "      <th>eu_sales</th>\n",
       "      <th>eu_sales</th>\n",
       "    </tr>\n",
       "  </thead>\n",
       "  <tbody>\n",
       "    <tr>\n",
       "      <th>0</th>\n",
       "      <td>PS4</td>\n",
       "      <td>141.09</td>\n",
       "      <td>27.84</td>\n",
       "    </tr>\n",
       "    <tr>\n",
       "      <th>1</th>\n",
       "      <td>PS3</td>\n",
       "      <td>106.86</td>\n",
       "      <td>21.08</td>\n",
       "    </tr>\n",
       "    <tr>\n",
       "      <th>2</th>\n",
       "      <td>X360</td>\n",
       "      <td>74.52</td>\n",
       "      <td>14.70</td>\n",
       "    </tr>\n",
       "    <tr>\n",
       "      <th>3</th>\n",
       "      <td>XOne</td>\n",
       "      <td>51.59</td>\n",
       "      <td>10.18</td>\n",
       "    </tr>\n",
       "    <tr>\n",
       "      <th>4</th>\n",
       "      <td>3DS</td>\n",
       "      <td>42.64</td>\n",
       "      <td>8.41</td>\n",
       "    </tr>\n",
       "  </tbody>\n",
       "</table>\n",
       "</div>"
      ],
      "text/plain": [
       "  platform  eu_sales  eu_sales\n",
       "0      PS4    141.09     27.84\n",
       "1      PS3    106.86     21.08\n",
       "2     X360     74.52     14.70\n",
       "3     XOne     51.59     10.18\n",
       "4      3DS     42.64      8.41"
      ]
     },
     "execution_count": 37,
     "metadata": {},
     "output_type": "execute_result"
    }
   ],
   "source": [
    "# Выбор наиболее популярных платформ по регионам \n",
    "eu_data = good_df.groupby(['platform'])['eu_sales'].sum().sort_values(ascending=False)\n",
    "# Расчет доли платформы в общих продажах по региону\n",
    "eu_data_share = round(eu_data / eu_data.sum () * 100, 2)\n",
    "# Соединяем информацию о числе продаж и долях в единую таблицу и запрашиваем первые 5 строк\n",
    "pd.concat([eu_data, eu_data_share], axis=1).reset_index().head()"
   ]
  },
  {
   "cell_type": "markdown",
   "id": "ae299c88",
   "metadata": {},
   "source": [
    "Состав лидеров в Европейском союзе и Северной Америке совпадает, однако здесь лидируют платформы PS: PS4 - около 28%, PS3 - около 20%, X360 - около 15% рынка, XOne и 3DS как и в Северной Америке на 4 и 5 местах по продажам."
   ]
  },
  {
   "cell_type": "code",
   "execution_count": 38,
   "id": "31611c82",
   "metadata": {},
   "outputs": [
    {
     "data": {
      "text/html": [
       "<div>\n",
       "<style scoped>\n",
       "    .dataframe tbody tr th:only-of-type {\n",
       "        vertical-align: middle;\n",
       "    }\n",
       "\n",
       "    .dataframe tbody tr th {\n",
       "        vertical-align: top;\n",
       "    }\n",
       "\n",
       "    .dataframe thead th {\n",
       "        text-align: right;\n",
       "    }\n",
       "</style>\n",
       "<table border=\"1\" class=\"dataframe\">\n",
       "  <thead>\n",
       "    <tr style=\"text-align: right;\">\n",
       "      <th></th>\n",
       "      <th>platform</th>\n",
       "      <th>jp_sales</th>\n",
       "      <th>jp_sales</th>\n",
       "    </tr>\n",
       "  </thead>\n",
       "  <tbody>\n",
       "    <tr>\n",
       "      <th>0</th>\n",
       "      <td>3DS</td>\n",
       "      <td>87.79</td>\n",
       "      <td>45.59</td>\n",
       "    </tr>\n",
       "    <tr>\n",
       "      <th>1</th>\n",
       "      <td>PS3</td>\n",
       "      <td>35.29</td>\n",
       "      <td>18.32</td>\n",
       "    </tr>\n",
       "    <tr>\n",
       "      <th>2</th>\n",
       "      <td>PSV</td>\n",
       "      <td>21.04</td>\n",
       "      <td>10.93</td>\n",
       "    </tr>\n",
       "    <tr>\n",
       "      <th>3</th>\n",
       "      <td>PS4</td>\n",
       "      <td>15.96</td>\n",
       "      <td>8.29</td>\n",
       "    </tr>\n",
       "    <tr>\n",
       "      <th>4</th>\n",
       "      <td>WiiU</td>\n",
       "      <td>13.01</td>\n",
       "      <td>6.76</td>\n",
       "    </tr>\n",
       "  </tbody>\n",
       "</table>\n",
       "</div>"
      ],
      "text/plain": [
       "  platform  jp_sales  jp_sales\n",
       "0      3DS     87.79     45.59\n",
       "1      PS3     35.29     18.32\n",
       "2      PSV     21.04     10.93\n",
       "3      PS4     15.96      8.29\n",
       "4     WiiU     13.01      6.76"
      ]
     },
     "execution_count": 38,
     "metadata": {},
     "output_type": "execute_result"
    }
   ],
   "source": [
    "# Выбор наиболее популярных платформ по регионам \n",
    "jp_data = good_df.groupby(['platform'])['jp_sales'].sum().sort_values(ascending=False)\n",
    "# Расчет доли платформы в общих продажах по региону\n",
    "jp_data_share = round(jp_data / jp_data.sum () * 100, 2).head()\n",
    "# Соединяем информацию о числе продаж и долях в единую таблицу и запрашиваем первые 5 строк\n",
    "pd.concat([jp_data, jp_data_share], axis=1).reset_index().head()"
   ]
  },
  {
   "cell_type": "markdown",
   "id": "4b6d9071",
   "metadata": {},
   "source": [
    "По структуре японский рынок существенно отличается от европейского и американского. Платформа 3DS занимает здесь почти половину - свыше 45% продаж, PS3 - 18%, PSV - 11%, PS4-8% , в рейтинг также вошел WiiU - около 7%. Отсутствуют в рейтинге американский лидер X360 и Xone. "
   ]
  },
  {
   "cell_type": "markdown",
   "id": "eb0f850a",
   "metadata": {},
   "source": [
    "### Популярность жанров по регионам"
   ]
  },
  {
   "cell_type": "markdown",
   "id": "6dd39cd6",
   "metadata": {},
   "source": [
    "Рассмотрим популярность жанров игр по регионам. "
   ]
  },
  {
   "cell_type": "code",
   "execution_count": 39,
   "id": "cb8ba857",
   "metadata": {
    "scrolled": true
   },
   "outputs": [
    {
     "data": {
      "text/html": [
       "<div>\n",
       "<style scoped>\n",
       "    .dataframe tbody tr th:only-of-type {\n",
       "        vertical-align: middle;\n",
       "    }\n",
       "\n",
       "    .dataframe tbody tr th {\n",
       "        vertical-align: top;\n",
       "    }\n",
       "\n",
       "    .dataframe thead th {\n",
       "        text-align: right;\n",
       "    }\n",
       "</style>\n",
       "<table border=\"1\" class=\"dataframe\">\n",
       "  <thead>\n",
       "    <tr style=\"text-align: right;\">\n",
       "      <th></th>\n",
       "      <th>sales_sum_na</th>\n",
       "      <th>games_count_na</th>\n",
       "      <th>sales_median_na</th>\n",
       "    </tr>\n",
       "    <tr>\n",
       "      <th>genre</th>\n",
       "      <th></th>\n",
       "      <th></th>\n",
       "      <th></th>\n",
       "    </tr>\n",
       "  </thead>\n",
       "  <tbody>\n",
       "    <tr>\n",
       "      <th>Action</th>\n",
       "      <td>177.84</td>\n",
       "      <td>1031</td>\n",
       "      <td>0.02</td>\n",
       "    </tr>\n",
       "    <tr>\n",
       "      <th>Shooter</th>\n",
       "      <td>144.77</td>\n",
       "      <td>235</td>\n",
       "      <td>0.20</td>\n",
       "    </tr>\n",
       "    <tr>\n",
       "      <th>Sports</th>\n",
       "      <td>81.53</td>\n",
       "      <td>268</td>\n",
       "      <td>0.08</td>\n",
       "    </tr>\n",
       "    <tr>\n",
       "      <th>Role-Playing</th>\n",
       "      <td>64.00</td>\n",
       "      <td>370</td>\n",
       "      <td>0.02</td>\n",
       "    </tr>\n",
       "    <tr>\n",
       "      <th>Misc</th>\n",
       "      <td>38.19</td>\n",
       "      <td>192</td>\n",
       "      <td>0.01</td>\n",
       "    </tr>\n",
       "    <tr>\n",
       "      <th>Platform</th>\n",
       "      <td>25.38</td>\n",
       "      <td>85</td>\n",
       "      <td>0.09</td>\n",
       "    </tr>\n",
       "    <tr>\n",
       "      <th>Fighting</th>\n",
       "      <td>19.79</td>\n",
       "      <td>109</td>\n",
       "      <td>0.05</td>\n",
       "    </tr>\n",
       "    <tr>\n",
       "      <th>Racing</th>\n",
       "      <td>17.22</td>\n",
       "      <td>115</td>\n",
       "      <td>0.04</td>\n",
       "    </tr>\n",
       "    <tr>\n",
       "      <th>Adventure</th>\n",
       "      <td>8.92</td>\n",
       "      <td>302</td>\n",
       "      <td>0.00</td>\n",
       "    </tr>\n",
       "    <tr>\n",
       "      <th>Simulation</th>\n",
       "      <td>7.97</td>\n",
       "      <td>80</td>\n",
       "      <td>0.00</td>\n",
       "    </tr>\n",
       "    <tr>\n",
       "      <th>Strategy</th>\n",
       "      <td>4.23</td>\n",
       "      <td>71</td>\n",
       "      <td>0.00</td>\n",
       "    </tr>\n",
       "    <tr>\n",
       "      <th>Puzzle</th>\n",
       "      <td>1.13</td>\n",
       "      <td>28</td>\n",
       "      <td>0.00</td>\n",
       "    </tr>\n",
       "  </tbody>\n",
       "</table>\n",
       "</div>"
      ],
      "text/plain": [
       "              sales_sum_na  games_count_na  sales_median_na\n",
       "genre                                                      \n",
       "Action              177.84            1031             0.02\n",
       "Shooter             144.77             235             0.20\n",
       "Sports               81.53             268             0.08\n",
       "Role-Playing         64.00             370             0.02\n",
       "Misc                 38.19             192             0.01\n",
       "Platform             25.38              85             0.09\n",
       "Fighting             19.79             109             0.05\n",
       "Racing               17.22             115             0.04\n",
       "Adventure             8.92             302             0.00\n",
       "Simulation            7.97              80             0.00\n",
       "Strategy              4.23              71             0.00\n",
       "Puzzle                1.13              28             0.00"
      ]
     },
     "execution_count": 39,
     "metadata": {},
     "output_type": "execute_result"
    }
   ],
   "source": [
    "# Построение сводной таблицы\n",
    "pivot_genre_na = good_df.pivot_table(index='genre', \n",
    "                                  values='na_sales', \n",
    "                                  aggfunc=['sum', 'count', 'median'])\n",
    "# Переименование столбцов\n",
    "pivot_genre_na.columns = ['sales_sum_na', 'games_count_na', 'sales_median_na']\n",
    "# Демонстрация таблицы с сортировкой по сумме продаж\n",
    "pivot_genre_na.sort_values(['sales_sum_na'], ascending=False)"
   ]
  },
  {
   "cell_type": "markdown",
   "id": "f50edd25",
   "metadata": {},
   "source": [
    "В Северной Америке наиболее популярные жанры - Action, Shooter, Sports. \n",
    "В группу игр с несколькими десятками миллионов копий входят Role-Playing, Platformб Fighting и Racing.\n",
    "Adventure, Simulation, Strategy и Puzzle замыкают рейтинг."
   ]
  },
  {
   "cell_type": "code",
   "execution_count": 40,
   "id": "027db6c2",
   "metadata": {
    "scrolled": true
   },
   "outputs": [
    {
     "data": {
      "text/html": [
       "<div>\n",
       "<style scoped>\n",
       "    .dataframe tbody tr th:only-of-type {\n",
       "        vertical-align: middle;\n",
       "    }\n",
       "\n",
       "    .dataframe tbody tr th {\n",
       "        vertical-align: top;\n",
       "    }\n",
       "\n",
       "    .dataframe thead th {\n",
       "        text-align: right;\n",
       "    }\n",
       "</style>\n",
       "<table border=\"1\" class=\"dataframe\">\n",
       "  <thead>\n",
       "    <tr style=\"text-align: right;\">\n",
       "      <th></th>\n",
       "      <th>sales_sum_eu</th>\n",
       "      <th>games_count_eu</th>\n",
       "      <th>sales_median_eu</th>\n",
       "    </tr>\n",
       "    <tr>\n",
       "      <th>genre</th>\n",
       "      <th></th>\n",
       "      <th></th>\n",
       "      <th></th>\n",
       "    </tr>\n",
       "  </thead>\n",
       "  <tbody>\n",
       "    <tr>\n",
       "      <th>Action</th>\n",
       "      <td>159.34</td>\n",
       "      <td>1031</td>\n",
       "      <td>0.020</td>\n",
       "    </tr>\n",
       "    <tr>\n",
       "      <th>Shooter</th>\n",
       "      <td>113.47</td>\n",
       "      <td>235</td>\n",
       "      <td>0.170</td>\n",
       "    </tr>\n",
       "    <tr>\n",
       "      <th>Sports</th>\n",
       "      <td>69.09</td>\n",
       "      <td>268</td>\n",
       "      <td>0.050</td>\n",
       "    </tr>\n",
       "    <tr>\n",
       "      <th>Role-Playing</th>\n",
       "      <td>48.53</td>\n",
       "      <td>370</td>\n",
       "      <td>0.010</td>\n",
       "    </tr>\n",
       "    <tr>\n",
       "      <th>Racing</th>\n",
       "      <td>27.29</td>\n",
       "      <td>115</td>\n",
       "      <td>0.090</td>\n",
       "    </tr>\n",
       "    <tr>\n",
       "      <th>Misc</th>\n",
       "      <td>26.32</td>\n",
       "      <td>192</td>\n",
       "      <td>0.015</td>\n",
       "    </tr>\n",
       "    <tr>\n",
       "      <th>Platform</th>\n",
       "      <td>21.41</td>\n",
       "      <td>85</td>\n",
       "      <td>0.080</td>\n",
       "    </tr>\n",
       "    <tr>\n",
       "      <th>Simulation</th>\n",
       "      <td>14.55</td>\n",
       "      <td>80</td>\n",
       "      <td>0.030</td>\n",
       "    </tr>\n",
       "    <tr>\n",
       "      <th>Fighting</th>\n",
       "      <td>10.79</td>\n",
       "      <td>109</td>\n",
       "      <td>0.020</td>\n",
       "    </tr>\n",
       "    <tr>\n",
       "      <th>Adventure</th>\n",
       "      <td>9.46</td>\n",
       "      <td>302</td>\n",
       "      <td>0.000</td>\n",
       "    </tr>\n",
       "    <tr>\n",
       "      <th>Strategy</th>\n",
       "      <td>5.17</td>\n",
       "      <td>71</td>\n",
       "      <td>0.010</td>\n",
       "    </tr>\n",
       "    <tr>\n",
       "      <th>Puzzle</th>\n",
       "      <td>1.40</td>\n",
       "      <td>28</td>\n",
       "      <td>0.010</td>\n",
       "    </tr>\n",
       "  </tbody>\n",
       "</table>\n",
       "</div>"
      ],
      "text/plain": [
       "              sales_sum_eu  games_count_eu  sales_median_eu\n",
       "genre                                                      \n",
       "Action              159.34            1031            0.020\n",
       "Shooter             113.47             235            0.170\n",
       "Sports               69.09             268            0.050\n",
       "Role-Playing         48.53             370            0.010\n",
       "Racing               27.29             115            0.090\n",
       "Misc                 26.32             192            0.015\n",
       "Platform             21.41              85            0.080\n",
       "Simulation           14.55              80            0.030\n",
       "Fighting             10.79             109            0.020\n",
       "Adventure             9.46             302            0.000\n",
       "Strategy              5.17              71            0.010\n",
       "Puzzle                1.40              28            0.010"
      ]
     },
     "execution_count": 40,
     "metadata": {},
     "output_type": "execute_result"
    }
   ],
   "source": [
    "# Построение сводной таблицы\n",
    "pivot_genre_eu = good_df.pivot_table(index='genre', \n",
    "                                  values='eu_sales', \n",
    "                                  aggfunc=['sum', 'count', 'median'])\n",
    "# Переименование столбцов\n",
    "pivot_genre_eu.columns = ['sales_sum_eu', 'games_count_eu', 'sales_median_eu']\n",
    "# Демонстрация таблицы с сортировкой по сумме продаж\n",
    "pivot_genre_eu.sort_values(['sales_sum_eu'], ascending=False)"
   ]
  },
  {
   "cell_type": "markdown",
   "id": "54b2457f",
   "metadata": {},
   "source": [
    "В целом рейтинг жанров в Европе похож на североамериканский. Немного популярнее Racing и Simulation, менее популярный Fighting."
   ]
  },
  {
   "cell_type": "code",
   "execution_count": 41,
   "id": "1a6f6f0f",
   "metadata": {},
   "outputs": [
    {
     "data": {
      "text/html": [
       "<div>\n",
       "<style scoped>\n",
       "    .dataframe tbody tr th:only-of-type {\n",
       "        vertical-align: middle;\n",
       "    }\n",
       "\n",
       "    .dataframe tbody tr th {\n",
       "        vertical-align: top;\n",
       "    }\n",
       "\n",
       "    .dataframe thead th {\n",
       "        text-align: right;\n",
       "    }\n",
       "</style>\n",
       "<table border=\"1\" class=\"dataframe\">\n",
       "  <thead>\n",
       "    <tr style=\"text-align: right;\">\n",
       "      <th></th>\n",
       "      <th>sales_sum_jp</th>\n",
       "      <th>games_count_jp</th>\n",
       "      <th>sales_median_jp</th>\n",
       "    </tr>\n",
       "    <tr>\n",
       "      <th>genre</th>\n",
       "      <th></th>\n",
       "      <th></th>\n",
       "      <th></th>\n",
       "    </tr>\n",
       "  </thead>\n",
       "  <tbody>\n",
       "    <tr>\n",
       "      <th>Role-Playing</th>\n",
       "      <td>65.44</td>\n",
       "      <td>370</td>\n",
       "      <td>0.06</td>\n",
       "    </tr>\n",
       "    <tr>\n",
       "      <th>Action</th>\n",
       "      <td>52.80</td>\n",
       "      <td>1031</td>\n",
       "      <td>0.01</td>\n",
       "    </tr>\n",
       "    <tr>\n",
       "      <th>Misc</th>\n",
       "      <td>12.86</td>\n",
       "      <td>192</td>\n",
       "      <td>0.02</td>\n",
       "    </tr>\n",
       "    <tr>\n",
       "      <th>Simulation</th>\n",
       "      <td>10.41</td>\n",
       "      <td>80</td>\n",
       "      <td>0.00</td>\n",
       "    </tr>\n",
       "    <tr>\n",
       "      <th>Fighting</th>\n",
       "      <td>9.44</td>\n",
       "      <td>109</td>\n",
       "      <td>0.03</td>\n",
       "    </tr>\n",
       "    <tr>\n",
       "      <th>Shooter</th>\n",
       "      <td>9.23</td>\n",
       "      <td>235</td>\n",
       "      <td>0.00</td>\n",
       "    </tr>\n",
       "    <tr>\n",
       "      <th>Platform</th>\n",
       "      <td>8.63</td>\n",
       "      <td>85</td>\n",
       "      <td>0.00</td>\n",
       "    </tr>\n",
       "    <tr>\n",
       "      <th>Adventure</th>\n",
       "      <td>8.24</td>\n",
       "      <td>302</td>\n",
       "      <td>0.01</td>\n",
       "    </tr>\n",
       "    <tr>\n",
       "      <th>Sports</th>\n",
       "      <td>8.01</td>\n",
       "      <td>268</td>\n",
       "      <td>0.00</td>\n",
       "    </tr>\n",
       "    <tr>\n",
       "      <th>Strategy</th>\n",
       "      <td>2.88</td>\n",
       "      <td>71</td>\n",
       "      <td>0.00</td>\n",
       "    </tr>\n",
       "    <tr>\n",
       "      <th>Racing</th>\n",
       "      <td>2.50</td>\n",
       "      <td>115</td>\n",
       "      <td>0.00</td>\n",
       "    </tr>\n",
       "    <tr>\n",
       "      <th>Puzzle</th>\n",
       "      <td>2.14</td>\n",
       "      <td>28</td>\n",
       "      <td>0.00</td>\n",
       "    </tr>\n",
       "  </tbody>\n",
       "</table>\n",
       "</div>"
      ],
      "text/plain": [
       "              sales_sum_jp  games_count_jp  sales_median_jp\n",
       "genre                                                      \n",
       "Role-Playing         65.44             370             0.06\n",
       "Action               52.80            1031             0.01\n",
       "Misc                 12.86             192             0.02\n",
       "Simulation           10.41              80             0.00\n",
       "Fighting              9.44             109             0.03\n",
       "Shooter               9.23             235             0.00\n",
       "Platform              8.63              85             0.00\n",
       "Adventure             8.24             302             0.01\n",
       "Sports                8.01             268             0.00\n",
       "Strategy              2.88              71             0.00\n",
       "Racing                2.50             115             0.00\n",
       "Puzzle                2.14              28             0.00"
      ]
     },
     "execution_count": 41,
     "metadata": {},
     "output_type": "execute_result"
    }
   ],
   "source": [
    "# Построение сводной таблицы\n",
    "pivot_genre_jp = good_df.pivot_table(index='genre', \n",
    "                                  values='jp_sales', \n",
    "                                  aggfunc=['sum', 'count', 'median'])\n",
    "# Переименование столбцов\n",
    "pivot_genre_jp.columns = ['sales_sum_jp', 'games_count_jp', 'sales_median_jp']\n",
    "# Демонстрация таблицы с сортировкой по сумме продаж\n",
    "pivot_genre_jp.sort_values(['sales_sum_jp'], ascending=False)"
   ]
  },
  {
   "cell_type": "markdown",
   "id": "0985acbd",
   "metadata": {},
   "source": [
    "Японские жанровые предпочтения отличаются. Здесь на первом месте - Role-Playing, затем Action, Simulation и Misc. В аутсайдерах = Straategy, Racing, Puzzle."
   ]
  },
  {
   "cell_type": "code",
   "execution_count": 55,
   "id": "5ed2fd97",
   "metadata": {},
   "outputs": [
    {
     "data": {
      "text/html": [
       "<div>\n",
       "<style scoped>\n",
       "    .dataframe tbody tr th:only-of-type {\n",
       "        vertical-align: middle;\n",
       "    }\n",
       "\n",
       "    .dataframe tbody tr th {\n",
       "        vertical-align: top;\n",
       "    }\n",
       "\n",
       "    .dataframe thead th {\n",
       "        text-align: right;\n",
       "    }\n",
       "</style>\n",
       "<table border=\"1\" class=\"dataframe\">\n",
       "  <thead>\n",
       "    <tr style=\"text-align: right;\">\n",
       "      <th></th>\n",
       "      <th>sales_sum_na</th>\n",
       "      <th>sales_sum_eu</th>\n",
       "      <th>sales_sum_jp</th>\n",
       "    </tr>\n",
       "    <tr>\n",
       "      <th>genre</th>\n",
       "      <th></th>\n",
       "      <th></th>\n",
       "      <th></th>\n",
       "    </tr>\n",
       "  </thead>\n",
       "  <tbody>\n",
       "    <tr>\n",
       "      <th>Action</th>\n",
       "      <td>177.84</td>\n",
       "      <td>159.34</td>\n",
       "      <td>52.80</td>\n",
       "    </tr>\n",
       "    <tr>\n",
       "      <th>Adventure</th>\n",
       "      <td>8.92</td>\n",
       "      <td>9.46</td>\n",
       "      <td>8.24</td>\n",
       "    </tr>\n",
       "    <tr>\n",
       "      <th>Fighting</th>\n",
       "      <td>19.79</td>\n",
       "      <td>10.79</td>\n",
       "      <td>9.44</td>\n",
       "    </tr>\n",
       "    <tr>\n",
       "      <th>Misc</th>\n",
       "      <td>38.19</td>\n",
       "      <td>26.32</td>\n",
       "      <td>12.86</td>\n",
       "    </tr>\n",
       "    <tr>\n",
       "      <th>Platform</th>\n",
       "      <td>25.38</td>\n",
       "      <td>21.41</td>\n",
       "      <td>8.63</td>\n",
       "    </tr>\n",
       "    <tr>\n",
       "      <th>Puzzle</th>\n",
       "      <td>1.13</td>\n",
       "      <td>1.40</td>\n",
       "      <td>2.14</td>\n",
       "    </tr>\n",
       "    <tr>\n",
       "      <th>Racing</th>\n",
       "      <td>17.22</td>\n",
       "      <td>27.29</td>\n",
       "      <td>2.50</td>\n",
       "    </tr>\n",
       "    <tr>\n",
       "      <th>Role-Playing</th>\n",
       "      <td>64.00</td>\n",
       "      <td>48.53</td>\n",
       "      <td>65.44</td>\n",
       "    </tr>\n",
       "    <tr>\n",
       "      <th>Shooter</th>\n",
       "      <td>144.77</td>\n",
       "      <td>113.47</td>\n",
       "      <td>9.23</td>\n",
       "    </tr>\n",
       "    <tr>\n",
       "      <th>Simulation</th>\n",
       "      <td>7.97</td>\n",
       "      <td>14.55</td>\n",
       "      <td>10.41</td>\n",
       "    </tr>\n",
       "    <tr>\n",
       "      <th>Sports</th>\n",
       "      <td>81.53</td>\n",
       "      <td>69.09</td>\n",
       "      <td>8.01</td>\n",
       "    </tr>\n",
       "    <tr>\n",
       "      <th>Strategy</th>\n",
       "      <td>4.23</td>\n",
       "      <td>5.17</td>\n",
       "      <td>2.88</td>\n",
       "    </tr>\n",
       "  </tbody>\n",
       "</table>\n",
       "</div>"
      ],
      "text/plain": [
       "              sales_sum_na  sales_sum_eu  sales_sum_jp\n",
       "genre                                                 \n",
       "Action              177.84        159.34         52.80\n",
       "Adventure             8.92          9.46          8.24\n",
       "Fighting             19.79         10.79          9.44\n",
       "Misc                 38.19         26.32         12.86\n",
       "Platform             25.38         21.41          8.63\n",
       "Puzzle                1.13          1.40          2.14\n",
       "Racing               17.22         27.29          2.50\n",
       "Role-Playing         64.00         48.53         65.44\n",
       "Shooter             144.77        113.47          9.23\n",
       "Simulation            7.97         14.55         10.41\n",
       "Sports               81.53         69.09          8.01\n",
       "Strategy              4.23          5.17          2.88"
      ]
     },
     "execution_count": 55,
     "metadata": {},
     "output_type": "execute_result"
    }
   ],
   "source": [
    "# Объединение данных таблиц по регионам для сравнения\n",
    "pivot_genre_reg = pivot_genre_na.join(pivot_genre_eu['sales_sum_eu'], on='genre')\n",
    "pivot_genre_reg = pivot_genre_reg.join(pivot_genre_jp['sales_sum_jp'], on='genre')\n",
    "# Удаление лишних столбцов\n",
    "pivot_genre_reg = pivot_genre_reg.drop(['games_count_na', 'sales_median_na'], 1)\n",
    "# Показ таблицы\n",
    "pivot_genre_reg"
   ]
  },
  {
   "cell_type": "markdown",
   "id": "a904c55f",
   "metadata": {},
   "source": [
    "Рынки Европы и Северной Америке схожи по жанровому наполнению и объему, японский рынок значительно меньше и отличается по популярным жанрам."
   ]
  },
  {
   "cell_type": "markdown",
   "id": "1bca425b",
   "metadata": {},
   "source": [
    "### Влияние рейтинга ESRB на продажи по регионам"
   ]
  },
  {
   "cell_type": "markdown",
   "id": "452ce2cd",
   "metadata": {},
   "source": [
    "Рассмотрим, как рейтинг ESRB влияет на продажи по регионам."
   ]
  },
  {
   "cell_type": "code",
   "execution_count": 63,
   "id": "029aba59",
   "metadata": {},
   "outputs": [
    {
     "data": {
      "text/html": [
       "<div>\n",
       "<style scoped>\n",
       "    .dataframe tbody tr th:only-of-type {\n",
       "        vertical-align: middle;\n",
       "    }\n",
       "\n",
       "    .dataframe tbody tr th {\n",
       "        vertical-align: top;\n",
       "    }\n",
       "\n",
       "    .dataframe thead th {\n",
       "        text-align: right;\n",
       "    }\n",
       "</style>\n",
       "<table border=\"1\" class=\"dataframe\">\n",
       "  <thead>\n",
       "    <tr style=\"text-align: right;\">\n",
       "      <th></th>\n",
       "      <th>sales_sum_na</th>\n",
       "      <th>share_na</th>\n",
       "    </tr>\n",
       "    <tr>\n",
       "      <th>rating</th>\n",
       "      <th></th>\n",
       "      <th></th>\n",
       "    </tr>\n",
       "  </thead>\n",
       "  <tbody>\n",
       "    <tr>\n",
       "      <th>E</th>\n",
       "      <td>114.37</td>\n",
       "      <td>0.19</td>\n",
       "    </tr>\n",
       "    <tr>\n",
       "      <th>E10+</th>\n",
       "      <td>75.70</td>\n",
       "      <td>0.13</td>\n",
       "    </tr>\n",
       "    <tr>\n",
       "      <th>M</th>\n",
       "      <td>231.57</td>\n",
       "      <td>0.39</td>\n",
       "    </tr>\n",
       "    <tr>\n",
       "      <th>T</th>\n",
       "      <td>66.02</td>\n",
       "      <td>0.11</td>\n",
       "    </tr>\n",
       "    <tr>\n",
       "      <th>unknown</th>\n",
       "      <td>103.31</td>\n",
       "      <td>0.17</td>\n",
       "    </tr>\n",
       "  </tbody>\n",
       "</table>\n",
       "</div>"
      ],
      "text/plain": [
       "         sales_sum_na  share_na\n",
       "rating                         \n",
       "E              114.37      0.19\n",
       "E10+            75.70      0.13\n",
       "M              231.57      0.39\n",
       "T               66.02      0.11\n",
       "unknown        103.31      0.17"
      ]
     },
     "execution_count": 63,
     "metadata": {},
     "output_type": "execute_result"
    }
   ],
   "source": [
    "# Построение сводной таблицы\n",
    "pivot_rating_na = good_df.pivot_table(index='rating', \n",
    "                                  values='na_sales', \n",
    "                                  aggfunc='sum')\n",
    "# Переименование столбцов\n",
    "pivot_rating_na.columns = ['sales_sum_na']\n",
    "pivot_rating_na['share_na'] = round(pivot_rating_na['sales_sum_na'] / pivot_rating_na['sales_sum_na'].sum(), 2)\n",
    "# Демонстрация таблицы с сортировкой по сумме продаж\n",
    "pivot_rating_na"
   ]
  },
  {
   "cell_type": "markdown",
   "id": "d13f3b32",
   "metadata": {},
   "source": [
    "Наибольшей популярностью в Северной Америке пользуются игры с рейтингом М - для взрослых. Также достаточное количество игр продается в категории E - около пятой части. "
   ]
  },
  {
   "cell_type": "code",
   "execution_count": 65,
   "id": "9c5d0178",
   "metadata": {},
   "outputs": [
    {
     "data": {
      "text/html": [
       "<div>\n",
       "<style scoped>\n",
       "    .dataframe tbody tr th:only-of-type {\n",
       "        vertical-align: middle;\n",
       "    }\n",
       "\n",
       "    .dataframe tbody tr th {\n",
       "        vertical-align: top;\n",
       "    }\n",
       "\n",
       "    .dataframe thead th {\n",
       "        text-align: right;\n",
       "    }\n",
       "</style>\n",
       "<table border=\"1\" class=\"dataframe\">\n",
       "  <thead>\n",
       "    <tr style=\"text-align: right;\">\n",
       "      <th></th>\n",
       "      <th>sales_sum_eu</th>\n",
       "      <th>share_eu</th>\n",
       "    </tr>\n",
       "    <tr>\n",
       "      <th>rating</th>\n",
       "      <th></th>\n",
       "      <th></th>\n",
       "    </tr>\n",
       "  </thead>\n",
       "  <tbody>\n",
       "    <tr>\n",
       "      <th>E</th>\n",
       "      <td>113.03</td>\n",
       "      <td>0.22</td>\n",
       "    </tr>\n",
       "    <tr>\n",
       "      <th>E10+</th>\n",
       "      <td>55.37</td>\n",
       "      <td>0.11</td>\n",
       "    </tr>\n",
       "    <tr>\n",
       "      <th>M</th>\n",
       "      <td>193.96</td>\n",
       "      <td>0.38</td>\n",
       "    </tr>\n",
       "    <tr>\n",
       "      <th>T</th>\n",
       "      <td>52.96</td>\n",
       "      <td>0.10</td>\n",
       "    </tr>\n",
       "    <tr>\n",
       "      <th>unknown</th>\n",
       "      <td>91.50</td>\n",
       "      <td>0.18</td>\n",
       "    </tr>\n",
       "  </tbody>\n",
       "</table>\n",
       "</div>"
      ],
      "text/plain": [
       "         sales_sum_eu  share_eu\n",
       "rating                         \n",
       "E              113.03      0.22\n",
       "E10+            55.37      0.11\n",
       "M              193.96      0.38\n",
       "T               52.96      0.10\n",
       "unknown         91.50      0.18"
      ]
     },
     "execution_count": 65,
     "metadata": {},
     "output_type": "execute_result"
    }
   ],
   "source": [
    "# Построение сводной таблицы\n",
    "pivot_rating_eu = good_df.pivot_table(index='rating', \n",
    "                                  values='eu_sales', \n",
    "                                  aggfunc='sum')\n",
    "# Переименование столбцов\n",
    "pivot_rating_eu.columns = ['sales_sum_eu']\n",
    "pivot_rating_eu['share_eu'] = round(pivot_rating_eu['sales_sum_eu'] / pivot_rating_eu['sales_sum_eu'].sum(), 2)\n",
    "# Демонстрация таблицы с сортировкой по сумме продаж\n",
    "pivot_rating_eu"
   ]
  },
  {
   "cell_type": "markdown",
   "id": "6b2d9549",
   "metadata": {},
   "source": [
    "Распределение игр по рейтингу в Европейском союзе похоже на североамериканское распределение. Также значительная доля игр для взрослой аудитории."
   ]
  },
  {
   "cell_type": "code",
   "execution_count": 67,
   "id": "2af8c150",
   "metadata": {},
   "outputs": [
    {
     "data": {
      "text/html": [
       "<div>\n",
       "<style scoped>\n",
       "    .dataframe tbody tr th:only-of-type {\n",
       "        vertical-align: middle;\n",
       "    }\n",
       "\n",
       "    .dataframe tbody tr th {\n",
       "        vertical-align: top;\n",
       "    }\n",
       "\n",
       "    .dataframe thead th {\n",
       "        text-align: right;\n",
       "    }\n",
       "</style>\n",
       "<table border=\"1\" class=\"dataframe\">\n",
       "  <thead>\n",
       "    <tr style=\"text-align: right;\">\n",
       "      <th></th>\n",
       "      <th>sales_sum_jp</th>\n",
       "      <th>share_jp</th>\n",
       "    </tr>\n",
       "    <tr>\n",
       "      <th>rating</th>\n",
       "      <th></th>\n",
       "      <th></th>\n",
       "    </tr>\n",
       "  </thead>\n",
       "  <tbody>\n",
       "    <tr>\n",
       "      <th>E</th>\n",
       "      <td>28.33</td>\n",
       "      <td>0.15</td>\n",
       "    </tr>\n",
       "    <tr>\n",
       "      <th>E10+</th>\n",
       "      <td>8.19</td>\n",
       "      <td>0.04</td>\n",
       "    </tr>\n",
       "    <tr>\n",
       "      <th>M</th>\n",
       "      <td>21.20</td>\n",
       "      <td>0.11</td>\n",
       "    </tr>\n",
       "    <tr>\n",
       "      <th>T</th>\n",
       "      <td>26.02</td>\n",
       "      <td>0.14</td>\n",
       "    </tr>\n",
       "    <tr>\n",
       "      <th>unknown</th>\n",
       "      <td>108.84</td>\n",
       "      <td>0.57</td>\n",
       "    </tr>\n",
       "  </tbody>\n",
       "</table>\n",
       "</div>"
      ],
      "text/plain": [
       "         sales_sum_jp  share_jp\n",
       "rating                         \n",
       "E               28.33      0.15\n",
       "E10+             8.19      0.04\n",
       "M               21.20      0.11\n",
       "T               26.02      0.14\n",
       "unknown        108.84      0.57"
      ]
     },
     "execution_count": 67,
     "metadata": {},
     "output_type": "execute_result"
    }
   ],
   "source": [
    "# Построение сводной таблицы\n",
    "pivot_rating_jp = good_df.pivot_table(index='rating', \n",
    "                                  values='jp_sales', \n",
    "                                  aggfunc='sum')\n",
    "# Переименование столбцов\n",
    "pivot_rating_jp.columns = ['sales_sum_jp']\n",
    "pivot_rating_jp['share_jp'] = round(pivot_rating_jp['sales_sum_jp'] / pivot_rating_jp['sales_sum_jp'].sum(), 2)\n",
    "# Демонстрация таблицы с сортировкой по сумме продаж\n",
    "pivot_rating_jp"
   ]
  },
  {
   "cell_type": "markdown",
   "id": "6795fac6",
   "metadata": {},
   "source": [
    "Информация относительно рейтинга в Японии неполная - для большей части игр рейтинг не ясен. Среди остльных распространены игры для всех - 15%, для подростков - 14%. Однако, если удастстя восстановить рейтинги для игр в Японии ситуация может оказаться совсем другой."
   ]
  },
  {
   "cell_type": "markdown",
   "id": "c59090eb",
   "metadata": {},
   "source": [
    "###### Вывод:"
   ]
  },
  {
   "cell_type": "markdown",
   "id": "7b3984d1",
   "metadata": {},
   "source": [
    "Мы видим, что пользователи по разным рынкам различаются: Северная Америка и Европейский союз демонстрируют схожие тенденции - некоторая разница есть в предпочитаемых платформах и жанрах, но общие тенденции схожи.\n",
    "Япония же является самобытным рынком - по жанрам, платформам и отношению к рейтингу она отличается от остальных двух регионов."
   ]
  },
  {
   "cell_type": "markdown",
   "id": "bd727508",
   "metadata": {},
   "source": [
    "## Проверка гипотез"
   ]
  },
  {
   "cell_type": "markdown",
   "id": "7b8bf230",
   "metadata": {},
   "source": [
    "Средние пользовательские рейтинги платформ Xbox One и PC одинаковые;\n",
    "Средние пользовательские рейтинги жанров Action (англ. «действие», экшен-игры) и Sports (англ. «спортивные соревнования») разные.\n",
    "Задайте самостоятельно пороговое значение alpha.\n",
    "Поясните:\n",
    "Как вы сформулировали нулевую и альтернативную гипотезы;\n",
    "Какой критерий применили для проверки гипотез и почему."
   ]
  },
  {
   "cell_type": "markdown",
   "id": "40d5030b",
   "metadata": {},
   "source": [
    "Сформулируем нулевые и альтернативные гипотезы для нашего исследования:\n",
    "1. \n",
    "- Н0(нулевая гипотеза): Средние пользовательские рейтинги платформ Xbox One и PC одинаковые\n",
    "- Н1(альтернативная гипотеза): Средние пользовательские рейтинги платформ Xbox One и PC различаются.\n",
    "\n",
    "2. \n",
    "- Н0(нулевая гипотеза): Средние пользовательские рейтинги жанров Action (англ. «действие», экшен-игры) и Sports (англ. «спортивные соревнования») одинаковые.\n",
    "- Н1(альтернативная гипотеза): Средние пользовательские рейтинги жанров Action (англ. «действие», экшен-игры) и Sports (англ. «спортивные соревнования») разные.\n",
    "\n",
    "Пороговое значение alpha примем равным 0.5.\n",
    "\n",
    "Мы формулировали гипотезы исходя из положения, что нулевая гипотеза предполагает использование знака равенства - она предполагает сохранение \"статуса кво\" - в нашем случае рейтинги платформ (или жанров) не различаются. \n",
    "Альтернативные гипотезы формулируются таким образом, чтобы оценить влияние факторов, в нашем случае платформа (или жанр) на рейтинг. Альтернативные гипотезы в обоих случаях \"двусторонние\" - то есть нас интересует любой исход: в вопросе платформ и ситуация, когда выше рейтинг Xbox One, чем PC, и обратная.\n",
    "Для проверки гипотез мы используем критерий Пирсона. \n",
    "Он позволяет охарактеризовать попадание в двустороннюю критическую область.\n",
    "Он характеризует достигнутый уровень значимости и позволяет отвергнуть (или не отвергнуть) нулевую гипотезу."
   ]
  },
  {
   "cell_type": "markdown",
   "id": "8c7bd6fc",
   "metadata": {},
   "source": [
    "### Различаются пользовательские рейтинги платформ Xbox One и PC?"
   ]
  },
  {
   "cell_type": "markdown",
   "id": "4e38a616",
   "metadata": {},
   "source": [
    "Оценим, значимо ли различие пользовательской оценки на разных платформах."
   ]
  },
  {
   "cell_type": "code",
   "execution_count": 73,
   "id": "361c13d4",
   "metadata": {},
   "outputs": [
    {
     "name": "stdout",
     "output_type": "stream",
     "text": [
      "p-значение:, 0.5535080500643661\n",
      "Не получилось отвергнуть нулевую гипотезу\n"
     ]
    }
   ],
   "source": [
    "alpha = .05 # критический уровень статистической значимости\n",
    "# если p-value окажется меньше него - отвергнем гипотезу\n",
    "\n",
    "results = st.ttest_ind(\n",
    "    good_df.query('platform == \"XOne\" and user_score > 0')['user_score'], \n",
    "    good_df.query('platform == \"PC\" and user_score > 0')['user_score'])\n",
    "\n",
    "print(f'p-значение:, {results.pvalue}')\n",
    "\n",
    "if results.pvalue < alpha:\n",
    "    print(\"Отвергаем нулевую гипотезу\")\n",
    "else:\n",
    "    print(\"Не получилось отвергнуть нулевую гипотезу\") "
   ]
  },
  {
   "cell_type": "markdown",
   "id": "8eb43682",
   "metadata": {},
   "source": [
    "Различия в оценках пользователей по этим двум платформам незначительные. Мы не можем отвергнуть нулевую гипотезу."
   ]
  },
  {
   "cell_type": "markdown",
   "id": "7670ae45",
   "metadata": {},
   "source": [
    "### Различаются ли рейтинги жанров Action и Sports?"
   ]
  },
  {
   "cell_type": "markdown",
   "id": "d0ff3928",
   "metadata": {},
   "source": [
    "Сравним пользовательскую оценку игр разных жанров - Action и Sports."
   ]
  },
  {
   "cell_type": "code",
   "execution_count": 74,
   "id": "fa7ce6e4",
   "metadata": {},
   "outputs": [
    {
     "name": "stdout",
     "output_type": "stream",
     "text": [
      "p-значение:, 3.7163089460934874e-26\n",
      "Отвергаем нулевую гипотезу\n"
     ]
    }
   ],
   "source": [
    "alpha = .05 # критический уровень статистической значимости\n",
    "# если p-value окажется меньше него - отвергнем гипотезу\n",
    "\n",
    "results = st.ttest_ind(\n",
    "    good_df.query('genre == \"Action\" and user_score > 0')['user_score'], \n",
    "    good_df.query('genre == \"Sports\" and user_score > 0')['user_score'])\n",
    "\n",
    "print(f'p-значение:, {results.pvalue}')\n",
    "\n",
    "if results.pvalue < alpha:\n",
    "    print(\"Отвергаем нулевую гипотезу\")\n",
    "else:\n",
    "    print(\"Не получилось отвергнуть нулевую гипотезу\") "
   ]
  },
  {
   "cell_type": "markdown",
   "id": "9f01529e",
   "metadata": {},
   "source": [
    "Значение критерия Пирсона мало, и  мы можем отвергнуть нулевую гипотезу о том, что пользовательские оценки игр в жанрах Action и Sports совпадают."
   ]
  },
  {
   "cell_type": "code",
   "execution_count": 76,
   "id": "85507c26",
   "metadata": {
    "scrolled": true
   },
   "outputs": [
    {
     "name": "stdout",
     "output_type": "stream",
     "text": [
      "Для жанра 'Action' cредняя пользовательская оценка - 6.8,\n",
      "при дисперсии 1.9 и стандартном отклонении 1.4\n",
      "Для жанра 'Sports' cредняя пользовательская оценка - 5.5,\n",
      "при дисперсии 3.0 и стандартном отклонении 1.7\n"
     ]
    },
    {
     "data": {
      "image/png": "[encoded data removed]",
      "text/plain": [
       "<Figure size 720x288 with 1 Axes>"
      ]
     },
     "metadata": {
      "needs_background": "light"
     },
     "output_type": "display_data"
    }
   ],
   "source": [
    "user_score_action_mean = good_df.query('genre == \"Action\" and user_score > 0')['user_score'].mean()\n",
    "user_score_action_var = good_df.query('genre == \"Action\" and user_score > 0')['user_score'].var()\n",
    "user_score_action_std = good_df.query('genre == \"Action\" and user_score > 0')['user_score'].std()\n",
    "\n",
    "\n",
    "user_score_sports_mean = good_df.query('genre == \"Sports\" and user_score > 0')['user_score'].mean()\n",
    "user_score_sports_var = good_df.query('genre == \"Sports\" and user_score > 0')['user_score'].var()\n",
    "user_score_sports_std = good_df.query('genre == \"Sports\" and user_score > 0')['user_score'].std()\n",
    "\n",
    "\n",
    "print(f'Для жанра \\'Action\\' cредняя пользовательская оценка - {user_score_action_mean:.1f},\\nпри дисперсии {user_score_action_var:.1f} и стандартном отклонении {user_score_action_std:.1f}')\n",
    "print(f'Для жанра \\'Sports\\' cредняя пользовательская оценка - {user_score_sports_mean:.1f},\\nпри дисперсии {user_score_sports_var:.1f} и стандартном отклонении {user_score_sports_std:.1f}')\n",
    "\n",
    "# Построение гистограммы с помощью пакета matplotlib.pyplot\n",
    "good_df.query('genre == \"Action\" and user_score > 0')['user_score'].hist(bins=30, color='tab:red',  alpha=0.7, figsize=(10,4), label='Action')\n",
    "good_df.query('genre == \"Sports\" and user_score > 0')['user_score'].hist(bins=30, color='tab:blue', alpha=0.7, figsize=(10,4), label='Sports')\n",
    "plt.title('Распределение пользовательских оценок игр в жанрах  \\'Action\\' и \\'Sports\\'')\n",
    "plt.grid(True)\n",
    "plt.legend()\n",
    "plt.show()"
   ]
  },
  {
   "cell_type": "markdown",
   "id": "9660af06",
   "metadata": {},
   "source": [
    "В целом оценки жанра Action выше, чем оценки жанра Sports."
   ]
  },
  {
   "cell_type": "markdown",
   "id": "5be03165",
   "metadata": {},
   "source": [
    "## Общий вывод:"
   ]
  },
  {
   "cell_type": "markdown",
   "id": "afbea764",
   "metadata": {},
   "source": [
    "Мы провели исследование по выявлению определяющих успех игры закономерностей. Мы проанализировали исторические данные и увидели: \n",
    "- средний срок жизни платформы для видеоигр - чуть меньше 8 лет, новые платформы \"волнами\" захватывают рынок, интерес к слабым постепенно охладевает, среди лидирующих платформ самые молодые - PS4 и Xone, но и они уже 4 года на рынке, следует ожидать новых игроков, \n",
    "- актуальный период в истории видеоигр начался в 2012 году, когда значительно снизились продажи и одновременно появились новые игроки,\n",
    "- сумма продаж всех игр за последние 5 лет - свыше 1 446 млн. проданных копий, за последний год по доступным данным - около 130 млн. В качестве рубежа \"перспективной\" платформы определим долю в 5% от проданных игр. Тогда за последние 5 лет к \"перспективным\" можно отнести платформы PS4, PS3, X360, 3DS, XOne, WiiU. Из них наиболее перспективные - востребованные в последний год - PS4 - лидер, занимающий более половины рынка, XOne, 3DS.\n",
    "- отзывы критиков и продажи игр имеют слабую корреляционную связь, отзывы пользователей на продажи игр не влияют,\n",
    "- рынки Европы и Северной Америки по основным параметрам похожи, рынок Японии значительно отличается от них по представленности жанров, платформ и объему - он значительно меньше.\n",
    "- проверив гипотезы, мы определили: между платформами PC и XOne нет значительной разницы в оценках пользователей, а жанры Action и Sports существенно различаются по оценкам пользователей, Action имеет более высокую оценку.\n",
    "\n",
    "Можно сделать вывод — для более успешного продвижения можно выбрать перспективную платформу - X360 для Северной Америки, PS4 для Европы, и 3DS для Японии. На успешность игры будет влиять жанр - Action имеет высокие позиции во всех регионах, Shooter - в Европе и Северной Америке, Role=Playing в Японии, а также рейтинг - пользователи не боятся игр для взрослых, а также отзывы критиков.\n"
   ]
  }
 ],
 "metadata": {
  "kernelspec": {
   "display_name": "Python 3 (ipykernel)",
   "language": "python",
   "name": "python3"
  },
  "language_info": {
   "codemirror_mode": {
    "name": "ipython",
    "version": 3
   },
   "file_extension": ".py",
   "mimetype": "text/x-python",
   "name": "python",
   "nbconvert_exporter": "python",
   "pygments_lexer": "ipython3",
   "version": "3.9.12"
  },
  "toc": {
   "base_numbering": 1,
   "nav_menu": {},
   "number_sections": true,
   "sideBar": true,
   "skip_h1_title": true,
   "title_cell": "Table of Contents",
   "title_sidebar": "Contents",
   "toc_cell": false,
   "toc_position": {},
   "toc_section_display": true,
   "toc_window_display": false
  }
 },
 "nbformat": 4,
 "nbformat_minor": 5
}
