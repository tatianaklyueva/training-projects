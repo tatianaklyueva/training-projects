{
 "cells": [
  {
   "cell_type": "markdown",
   "id": "62e96f9e",
   "metadata": {},
   "source": [
    "# Определение перспективного тарифа для телеком-компании"
   ]
  },
  {
   "cell_type": "markdown",
   "id": "84c41ae8",
   "metadata": {},
   "source": [
    "Мы представляем проект для компании «Мегалайн» — федерального оператора сотовой связи. \n",
    "Клиентам предлагают два тарифных плана: «Смарт» и «Ультра». \n",
    "Нам необходимо провести предварительный анализ тарифов на небольшой выборке клиентов. В нашем распоряжении данные 500 пользователей «Мегалайна»: кто они, откуда, каким тарифом пользуются, сколько звонков и сообщений каждый отправил за 2018 год. \n",
    "\n",
    "**Цель исследования** - проанализировать поведение клиентов и сделать вывод — какой тариф лучше.\n",
    "Это позволит коммерческому департаменту скорректировать рекламный бюджет и в целом понять, какой тариф приносит больше денег.\n",
    "\n",
    "**Описание тарифов**\n",
    "\n",
    "*Тариф «Смарт»*\n",
    "Ежемесячная плата: 550 рублей\n",
    "Включено 500 минут разговора, 50 сообщений и 15 Гб интернет-трафика\n",
    "Стоимость услуг сверх тарифного пакета:\n",
    "минута разговора: 3 рубля\n",
    "сообщение: 3 рубля\n",
    "1 Гб интернет-трафика: 200 рублей\n",
    "\n",
    "*Тариф «Ультра»*\n",
    "Ежемесячная плата: 1950 рублей\n",
    "Включено 3000 минут разговора, 1000 сообщений и 30 Гб интернет-трафика\n",
    "Стоимость услуг сверх тарифного пакета:\n",
    "минута разговора: 1 рубль\n",
    "сообщение: 1 рубль\n",
    "1 Гб интернет-трафика: 150 рублей\n",
    "\n",
    "**Ход исследования**\n",
    "Данные об активности клиентов мы получили из файлов:\n",
    "* `/datasets/calls.csv` - информация о звонках;\n",
    "* `/datasets/internet.csv` - информация об Интернет-сессиях;\n",
    "* `/datasets/messages.csv` - информация о сообщениях;\n",
    "* `/datasets/tariffs.csv` - информация о тарифах;\n",
    "* `/datasets/users.csv` - информация о пользователях.\n",
    "О качестве данных нам ничего неизвестно, поэтому перед проведением исследования понадобится обзор данных.\n",
    "\n",
    "Мы проверим данные на ошибки и оценим их влияние на исследование, затем, на этапе предобработки мы при необходимости постараемся исправить самые критичные ошибки данных, а также объединим данные из разных таблиц в одну и приведем к необходимым типам.\n",
    "\n",
    "Затем мы проанализируем данные, используя методы статистики.\n",
    "\n",
    "Мы сформулировали следующие гипотезы: \n",
    "* средняя выручка пользователей тарифов «Ультра» и «Смарт» различаются;\n",
    "* средняя выручка пользователей из Москвы отличается от выручки пользователей из других регионов.\n",
    "Проверим их на имеющихся данных.\n",
    "\n",
    "Таким образом, решение пройдет в четыре этапа.\n",
    "\n",
    "\n"
   ]
  },
  {
   "cell_type": "markdown",
   "id": "38751d6e",
   "metadata": {},
   "source": [
    "## Обзор данных"
   ]
  },
  {
   "cell_type": "markdown",
   "id": "237755c2",
   "metadata": {},
   "source": [
    "Составим представление о данных. Импортируем специальную библиотеку pandas для обработки и анализа данных. "
   ]
  },
  {
   "cell_type": "code",
   "execution_count": 1,
   "id": "5af85d87",
   "metadata": {
    "scrolled": false
   },
   "outputs": [],
   "source": [
    "import pandas as pd # импорт библиотеки pandas\n",
    "import numpy as np # импорт библиотеки numpy для математических вычислений\n",
    "import matplotlib.pyplot as plt # импорт части библиотеки matplotlib\n",
    "from scipy import stats as st\n"
   ]
  },
  {
   "cell_type": "markdown",
   "id": "a07fb39a",
   "metadata": {},
   "source": [
    "Прочитаем файл `/datasets/calls.csv` и сохраним его в переменной `df_calls`:"
   ]
  },
  {
   "cell_type": "code",
   "execution_count": 2,
   "id": "c6ec68be",
   "metadata": {},
   "outputs": [],
   "source": [
    "# чтение файла с данными и сохранение в df_calls\n",
    "try:\n",
    "    # _адрес в локальном окружении\n",
    "    df_calls = pd.read_csv('calls.csv')\n",
    "except:\n",
    "    # адрес в среде 'practicum'\n",
    "    df_calls = pd.read_csv('/datasets/calls.csv')"
   ]
  },
  {
   "cell_type": "markdown",
   "id": "ec3f1d44",
   "metadata": {},
   "source": [
    "Выведем на экран первые пять строк таблицы"
   ]
  },
  {
   "cell_type": "code",
   "execution_count": 3,
   "id": "646ceda4",
   "metadata": {},
   "outputs": [
    {
     "data": {
      "text/html": [
       "<div>\n",
       "<style scoped>\n",
       "    .dataframe tbody tr th:only-of-type {\n",
       "        vertical-align: middle;\n",
       "    }\n",
       "\n",
       "    .dataframe tbody tr th {\n",
       "        vertical-align: top;\n",
       "    }\n",
       "\n",
       "    .dataframe thead th {\n",
       "        text-align: right;\n",
       "    }\n",
       "</style>\n",
       "<table border=\"1\" class=\"dataframe\">\n",
       "  <thead>\n",
       "    <tr style=\"text-align: right;\">\n",
       "      <th></th>\n",
       "      <th>id</th>\n",
       "      <th>call_date</th>\n",
       "      <th>duration</th>\n",
       "      <th>user_id</th>\n",
       "    </tr>\n",
       "  </thead>\n",
       "  <tbody>\n",
       "    <tr>\n",
       "      <th>0</th>\n",
       "      <td>1000_0</td>\n",
       "      <td>2018-07-25</td>\n",
       "      <td>0.00</td>\n",
       "      <td>1000</td>\n",
       "    </tr>\n",
       "    <tr>\n",
       "      <th>1</th>\n",
       "      <td>1000_1</td>\n",
       "      <td>2018-08-17</td>\n",
       "      <td>0.00</td>\n",
       "      <td>1000</td>\n",
       "    </tr>\n",
       "    <tr>\n",
       "      <th>2</th>\n",
       "      <td>1000_2</td>\n",
       "      <td>2018-06-11</td>\n",
       "      <td>2.85</td>\n",
       "      <td>1000</td>\n",
       "    </tr>\n",
       "    <tr>\n",
       "      <th>3</th>\n",
       "      <td>1000_3</td>\n",
       "      <td>2018-09-21</td>\n",
       "      <td>13.80</td>\n",
       "      <td>1000</td>\n",
       "    </tr>\n",
       "    <tr>\n",
       "      <th>4</th>\n",
       "      <td>1000_4</td>\n",
       "      <td>2018-12-15</td>\n",
       "      <td>5.18</td>\n",
       "      <td>1000</td>\n",
       "    </tr>\n",
       "  </tbody>\n",
       "</table>\n",
       "</div>"
      ],
      "text/plain": [
       "       id   call_date  duration  user_id\n",
       "0  1000_0  2018-07-25      0.00     1000\n",
       "1  1000_1  2018-08-17      0.00     1000\n",
       "2  1000_2  2018-06-11      2.85     1000\n",
       "3  1000_3  2018-09-21     13.80     1000\n",
       "4  1000_4  2018-12-15      5.18     1000"
      ]
     },
     "metadata": {},
     "output_type": "display_data"
    }
   ],
   "source": [
    "display(df_calls.head()) # получение первых 5 строк таблицы df_calls"
   ]
  },
  {
   "cell_type": "markdown",
   "id": "58368e3c",
   "metadata": {},
   "source": [
    "Аналогичным образом прочитаем остальные таблицы."
   ]
  },
  {
   "cell_type": "code",
   "execution_count": 4,
   "id": "f97c32bd",
   "metadata": {},
   "outputs": [
    {
     "data": {
      "text/html": [
       "<div>\n",
       "<style scoped>\n",
       "    .dataframe tbody tr th:only-of-type {\n",
       "        vertical-align: middle;\n",
       "    }\n",
       "\n",
       "    .dataframe tbody tr th {\n",
       "        vertical-align: top;\n",
       "    }\n",
       "\n",
       "    .dataframe thead th {\n",
       "        text-align: right;\n",
       "    }\n",
       "</style>\n",
       "<table border=\"1\" class=\"dataframe\">\n",
       "  <thead>\n",
       "    <tr style=\"text-align: right;\">\n",
       "      <th></th>\n",
       "      <th>Unnamed: 0</th>\n",
       "      <th>id</th>\n",
       "      <th>mb_used</th>\n",
       "      <th>session_date</th>\n",
       "      <th>user_id</th>\n",
       "    </tr>\n",
       "  </thead>\n",
       "  <tbody>\n",
       "    <tr>\n",
       "      <th>0</th>\n",
       "      <td>0</td>\n",
       "      <td>1000_0</td>\n",
       "      <td>112.95</td>\n",
       "      <td>2018-11-25</td>\n",
       "      <td>1000</td>\n",
       "    </tr>\n",
       "    <tr>\n",
       "      <th>1</th>\n",
       "      <td>1</td>\n",
       "      <td>1000_1</td>\n",
       "      <td>1052.81</td>\n",
       "      <td>2018-09-07</td>\n",
       "      <td>1000</td>\n",
       "    </tr>\n",
       "    <tr>\n",
       "      <th>2</th>\n",
       "      <td>2</td>\n",
       "      <td>1000_2</td>\n",
       "      <td>1197.26</td>\n",
       "      <td>2018-06-25</td>\n",
       "      <td>1000</td>\n",
       "    </tr>\n",
       "    <tr>\n",
       "      <th>3</th>\n",
       "      <td>3</td>\n",
       "      <td>1000_3</td>\n",
       "      <td>550.27</td>\n",
       "      <td>2018-08-22</td>\n",
       "      <td>1000</td>\n",
       "    </tr>\n",
       "    <tr>\n",
       "      <th>4</th>\n",
       "      <td>4</td>\n",
       "      <td>1000_4</td>\n",
       "      <td>302.56</td>\n",
       "      <td>2018-09-24</td>\n",
       "      <td>1000</td>\n",
       "    </tr>\n",
       "  </tbody>\n",
       "</table>\n",
       "</div>"
      ],
      "text/plain": [
       "   Unnamed: 0      id  mb_used session_date  user_id\n",
       "0           0  1000_0   112.95   2018-11-25     1000\n",
       "1           1  1000_1  1052.81   2018-09-07     1000\n",
       "2           2  1000_2  1197.26   2018-06-25     1000\n",
       "3           3  1000_3   550.27   2018-08-22     1000\n",
       "4           4  1000_4   302.56   2018-09-24     1000"
      ]
     },
     "metadata": {},
     "output_type": "display_data"
    }
   ],
   "source": [
    "# чтение файла с данными и сохранение в df_internet\n",
    "try:\n",
    "    # _адрес в локальном окружении\n",
    "    df_internet = pd.read_csv('internet.csv')\n",
    "except:\n",
    "    # адрес в среде 'practicum'\n",
    "    df_internet = pd.read_csv('/datasets/internet.csv') \n",
    "display(df_internet.head()) # получение первых 5 строк таблицы df_internet"
   ]
  },
  {
   "cell_type": "markdown",
   "id": "7f180b19",
   "metadata": {},
   "source": [
    "Мы видим столбец с индексами строк. Сохраним его правильно "
   ]
  },
  {
   "cell_type": "code",
   "execution_count": 5,
   "id": "9fbce881",
   "metadata": {},
   "outputs": [
    {
     "data": {
      "text/html": [
       "<div>\n",
       "<style scoped>\n",
       "    .dataframe tbody tr th:only-of-type {\n",
       "        vertical-align: middle;\n",
       "    }\n",
       "\n",
       "    .dataframe tbody tr th {\n",
       "        vertical-align: top;\n",
       "    }\n",
       "\n",
       "    .dataframe thead th {\n",
       "        text-align: right;\n",
       "    }\n",
       "</style>\n",
       "<table border=\"1\" class=\"dataframe\">\n",
       "  <thead>\n",
       "    <tr style=\"text-align: right;\">\n",
       "      <th></th>\n",
       "      <th>id</th>\n",
       "      <th>mb_used</th>\n",
       "      <th>session_date</th>\n",
       "      <th>user_id</th>\n",
       "    </tr>\n",
       "  </thead>\n",
       "  <tbody>\n",
       "    <tr>\n",
       "      <th>0</th>\n",
       "      <td>1000_0</td>\n",
       "      <td>112.95</td>\n",
       "      <td>2018-11-25</td>\n",
       "      <td>1000</td>\n",
       "    </tr>\n",
       "    <tr>\n",
       "      <th>1</th>\n",
       "      <td>1000_1</td>\n",
       "      <td>1052.81</td>\n",
       "      <td>2018-09-07</td>\n",
       "      <td>1000</td>\n",
       "    </tr>\n",
       "    <tr>\n",
       "      <th>2</th>\n",
       "      <td>1000_2</td>\n",
       "      <td>1197.26</td>\n",
       "      <td>2018-06-25</td>\n",
       "      <td>1000</td>\n",
       "    </tr>\n",
       "    <tr>\n",
       "      <th>3</th>\n",
       "      <td>1000_3</td>\n",
       "      <td>550.27</td>\n",
       "      <td>2018-08-22</td>\n",
       "      <td>1000</td>\n",
       "    </tr>\n",
       "    <tr>\n",
       "      <th>4</th>\n",
       "      <td>1000_4</td>\n",
       "      <td>302.56</td>\n",
       "      <td>2018-09-24</td>\n",
       "      <td>1000</td>\n",
       "    </tr>\n",
       "  </tbody>\n",
       "</table>\n",
       "</div>"
      ],
      "text/plain": [
       "       id  mb_used session_date  user_id\n",
       "0  1000_0   112.95   2018-11-25     1000\n",
       "1  1000_1  1052.81   2018-09-07     1000\n",
       "2  1000_2  1197.26   2018-06-25     1000\n",
       "3  1000_3   550.27   2018-08-22     1000\n",
       "4  1000_4   302.56   2018-09-24     1000"
      ]
     },
     "metadata": {},
     "output_type": "display_data"
    }
   ],
   "source": [
    "# чтение файла с данными и сохранение в df_internet\n",
    "try:\n",
    "    # _адрес в локальном окружении\n",
    "    df_internet = pd.read_csv('internet.csv', index_col=0)\n",
    "except:\n",
    "    # адрес в среде 'practicum'\n",
    "    df_internet = pd.read_csv('/datasets/internet.csv', index_col=0) \n",
    "display(df_internet.head()) # получение первых 5 строк таблицы df_internet"
   ]
  },
  {
   "cell_type": "code",
   "execution_count": 6,
   "id": "0c943e00",
   "metadata": {},
   "outputs": [
    {
     "data": {
      "text/html": [
       "<div>\n",
       "<style scoped>\n",
       "    .dataframe tbody tr th:only-of-type {\n",
       "        vertical-align: middle;\n",
       "    }\n",
       "\n",
       "    .dataframe tbody tr th {\n",
       "        vertical-align: top;\n",
       "    }\n",
       "\n",
       "    .dataframe thead th {\n",
       "        text-align: right;\n",
       "    }\n",
       "</style>\n",
       "<table border=\"1\" class=\"dataframe\">\n",
       "  <thead>\n",
       "    <tr style=\"text-align: right;\">\n",
       "      <th></th>\n",
       "      <th>id</th>\n",
       "      <th>message_date</th>\n",
       "      <th>user_id</th>\n",
       "    </tr>\n",
       "  </thead>\n",
       "  <tbody>\n",
       "    <tr>\n",
       "      <th>0</th>\n",
       "      <td>1000_0</td>\n",
       "      <td>2018-06-27</td>\n",
       "      <td>1000</td>\n",
       "    </tr>\n",
       "    <tr>\n",
       "      <th>1</th>\n",
       "      <td>1000_1</td>\n",
       "      <td>2018-10-08</td>\n",
       "      <td>1000</td>\n",
       "    </tr>\n",
       "    <tr>\n",
       "      <th>2</th>\n",
       "      <td>1000_2</td>\n",
       "      <td>2018-08-04</td>\n",
       "      <td>1000</td>\n",
       "    </tr>\n",
       "    <tr>\n",
       "      <th>3</th>\n",
       "      <td>1000_3</td>\n",
       "      <td>2018-06-16</td>\n",
       "      <td>1000</td>\n",
       "    </tr>\n",
       "    <tr>\n",
       "      <th>4</th>\n",
       "      <td>1000_4</td>\n",
       "      <td>2018-12-05</td>\n",
       "      <td>1000</td>\n",
       "    </tr>\n",
       "  </tbody>\n",
       "</table>\n",
       "</div>"
      ],
      "text/plain": [
       "       id message_date  user_id\n",
       "0  1000_0   2018-06-27     1000\n",
       "1  1000_1   2018-10-08     1000\n",
       "2  1000_2   2018-08-04     1000\n",
       "3  1000_3   2018-06-16     1000\n",
       "4  1000_4   2018-12-05     1000"
      ]
     },
     "metadata": {},
     "output_type": "display_data"
    }
   ],
   "source": [
    "# чтение файла с данными и сохранение в df_messages\n",
    "try:\n",
    "    # _адрес в локальном окружении\n",
    "    df_messages = pd.read_csv('messages.csv')\n",
    "except:\n",
    "    # адрес в среде 'practicum'\n",
    "    df_messages = pd.read_csv('/datasets/messages.csv') \n",
    "display(df_messages.head()) # получение первых 5 строк таблицы df_messages"
   ]
  },
  {
   "cell_type": "code",
   "execution_count": 7,
   "id": "7ab7e8da",
   "metadata": {},
   "outputs": [
    {
     "data": {
      "text/html": [
       "<div>\n",
       "<style scoped>\n",
       "    .dataframe tbody tr th:only-of-type {\n",
       "        vertical-align: middle;\n",
       "    }\n",
       "\n",
       "    .dataframe tbody tr th {\n",
       "        vertical-align: top;\n",
       "    }\n",
       "\n",
       "    .dataframe thead th {\n",
       "        text-align: right;\n",
       "    }\n",
       "</style>\n",
       "<table border=\"1\" class=\"dataframe\">\n",
       "  <thead>\n",
       "    <tr style=\"text-align: right;\">\n",
       "      <th></th>\n",
       "      <th>messages_included</th>\n",
       "      <th>mb_per_month_included</th>\n",
       "      <th>minutes_included</th>\n",
       "      <th>rub_monthly_fee</th>\n",
       "      <th>rub_per_gb</th>\n",
       "      <th>rub_per_message</th>\n",
       "      <th>rub_per_minute</th>\n",
       "      <th>tariff_name</th>\n",
       "    </tr>\n",
       "  </thead>\n",
       "  <tbody>\n",
       "    <tr>\n",
       "      <th>0</th>\n",
       "      <td>50</td>\n",
       "      <td>15360</td>\n",
       "      <td>500</td>\n",
       "      <td>550</td>\n",
       "      <td>200</td>\n",
       "      <td>3</td>\n",
       "      <td>3</td>\n",
       "      <td>smart</td>\n",
       "    </tr>\n",
       "    <tr>\n",
       "      <th>1</th>\n",
       "      <td>1000</td>\n",
       "      <td>30720</td>\n",
       "      <td>3000</td>\n",
       "      <td>1950</td>\n",
       "      <td>150</td>\n",
       "      <td>1</td>\n",
       "      <td>1</td>\n",
       "      <td>ultra</td>\n",
       "    </tr>\n",
       "  </tbody>\n",
       "</table>\n",
       "</div>"
      ],
      "text/plain": [
       "   messages_included  mb_per_month_included  minutes_included  \\\n",
       "0                 50                  15360               500   \n",
       "1               1000                  30720              3000   \n",
       "\n",
       "   rub_monthly_fee  rub_per_gb  rub_per_message  rub_per_minute tariff_name  \n",
       "0              550         200                3               3       smart  \n",
       "1             1950         150                1               1       ultra  "
      ]
     },
     "metadata": {},
     "output_type": "display_data"
    }
   ],
   "source": [
    "# чтение файла с данными и сохранение в df_tariffs\n",
    "try:\n",
    "    # _адрес в локальном окружении\n",
    "    df_tariffs = pd.read_csv('tariffs.csv')\n",
    "except:\n",
    "    # адрес в среде 'practicum'\n",
    "    df_tariffs = pd.read_csv('/datasets/tariffs.csv') \n",
    "display(df_tariffs) # получение таблицы df_tariffs"
   ]
  },
  {
   "cell_type": "code",
   "execution_count": 8,
   "id": "b5661c92",
   "metadata": {},
   "outputs": [
    {
     "data": {
      "text/html": [
       "<div>\n",
       "<style scoped>\n",
       "    .dataframe tbody tr th:only-of-type {\n",
       "        vertical-align: middle;\n",
       "    }\n",
       "\n",
       "    .dataframe tbody tr th {\n",
       "        vertical-align: top;\n",
       "    }\n",
       "\n",
       "    .dataframe thead th {\n",
       "        text-align: right;\n",
       "    }\n",
       "</style>\n",
       "<table border=\"1\" class=\"dataframe\">\n",
       "  <thead>\n",
       "    <tr style=\"text-align: right;\">\n",
       "      <th></th>\n",
       "      <th>user_id</th>\n",
       "      <th>age</th>\n",
       "      <th>churn_date</th>\n",
       "      <th>city</th>\n",
       "      <th>first_name</th>\n",
       "      <th>last_name</th>\n",
       "      <th>reg_date</th>\n",
       "      <th>tariff</th>\n",
       "    </tr>\n",
       "  </thead>\n",
       "  <tbody>\n",
       "    <tr>\n",
       "      <th>0</th>\n",
       "      <td>1000</td>\n",
       "      <td>52</td>\n",
       "      <td>NaN</td>\n",
       "      <td>Краснодар</td>\n",
       "      <td>Рафаил</td>\n",
       "      <td>Верещагин</td>\n",
       "      <td>2018-05-25</td>\n",
       "      <td>ultra</td>\n",
       "    </tr>\n",
       "    <tr>\n",
       "      <th>1</th>\n",
       "      <td>1001</td>\n",
       "      <td>41</td>\n",
       "      <td>NaN</td>\n",
       "      <td>Москва</td>\n",
       "      <td>Иван</td>\n",
       "      <td>Ежов</td>\n",
       "      <td>2018-11-01</td>\n",
       "      <td>smart</td>\n",
       "    </tr>\n",
       "    <tr>\n",
       "      <th>2</th>\n",
       "      <td>1002</td>\n",
       "      <td>59</td>\n",
       "      <td>NaN</td>\n",
       "      <td>Стерлитамак</td>\n",
       "      <td>Евгений</td>\n",
       "      <td>Абрамович</td>\n",
       "      <td>2018-06-17</td>\n",
       "      <td>smart</td>\n",
       "    </tr>\n",
       "    <tr>\n",
       "      <th>3</th>\n",
       "      <td>1003</td>\n",
       "      <td>23</td>\n",
       "      <td>NaN</td>\n",
       "      <td>Москва</td>\n",
       "      <td>Белла</td>\n",
       "      <td>Белякова</td>\n",
       "      <td>2018-08-17</td>\n",
       "      <td>ultra</td>\n",
       "    </tr>\n",
       "    <tr>\n",
       "      <th>4</th>\n",
       "      <td>1004</td>\n",
       "      <td>68</td>\n",
       "      <td>NaN</td>\n",
       "      <td>Новокузнецк</td>\n",
       "      <td>Татьяна</td>\n",
       "      <td>Авдеенко</td>\n",
       "      <td>2018-05-14</td>\n",
       "      <td>ultra</td>\n",
       "    </tr>\n",
       "  </tbody>\n",
       "</table>\n",
       "</div>"
      ],
      "text/plain": [
       "   user_id  age churn_date         city first_name  last_name    reg_date  \\\n",
       "0     1000   52        NaN    Краснодар     Рафаил  Верещагин  2018-05-25   \n",
       "1     1001   41        NaN       Москва       Иван       Ежов  2018-11-01   \n",
       "2     1002   59        NaN  Стерлитамак    Евгений  Абрамович  2018-06-17   \n",
       "3     1003   23        NaN       Москва      Белла   Белякова  2018-08-17   \n",
       "4     1004   68        NaN  Новокузнецк    Татьяна   Авдеенко  2018-05-14   \n",
       "\n",
       "  tariff  \n",
       "0  ultra  \n",
       "1  smart  \n",
       "2  smart  \n",
       "3  ultra  \n",
       "4  ultra  "
      ]
     },
     "metadata": {},
     "output_type": "display_data"
    }
   ],
   "source": [
    "# чтение файла с данными и сохранение в df_users\n",
    "try:\n",
    "    # _адрес в локальном окружении\n",
    "    df_users = pd.read_csv('users.csv')\n",
    "except:\n",
    "    # адрес в среде 'practicum'\n",
    "    df_users = pd.read_csv('/datasets/users.csv') \n",
    "display(df_users.head()) # получение первых 5 строк таблицы df_users"
   ]
  },
  {
   "cell_type": "markdown",
   "id": "753536c8",
   "metadata": {},
   "source": [
    "Получим общую информацию о таблицах. Начнем с описания тарифов. "
   ]
  },
  {
   "cell_type": "code",
   "execution_count": 9,
   "id": "7b90f054",
   "metadata": {},
   "outputs": [
    {
     "name": "stdout",
     "output_type": "stream",
     "text": [
      "<class 'pandas.core.frame.DataFrame'>\n",
      "RangeIndex: 2 entries, 0 to 1\n",
      "Data columns (total 8 columns):\n",
      " #   Column                 Non-Null Count  Dtype \n",
      "---  ------                 --------------  ----- \n",
      " 0   messages_included      2 non-null      int64 \n",
      " 1   mb_per_month_included  2 non-null      int64 \n",
      " 2   minutes_included       2 non-null      int64 \n",
      " 3   rub_monthly_fee        2 non-null      int64 \n",
      " 4   rub_per_gb             2 non-null      int64 \n",
      " 5   rub_per_message        2 non-null      int64 \n",
      " 6   rub_per_minute         2 non-null      int64 \n",
      " 7   tariff_name            2 non-null      object\n",
      "dtypes: int64(7), object(1)\n",
      "memory usage: 256.0+ bytes\n"
     ]
    }
   ],
   "source": [
    "df_tariffs.info() # получение общей информации о данных в таблице df_tariffs"
   ]
  },
  {
   "cell_type": "markdown",
   "id": "adc2349a",
   "metadata": {},
   "source": [
    "Таблица `tariffs` (информация о тарифах)\n",
    "\n",
    "В таблице 8 столбцов. Согласно документации к данным:\n",
    "* `tariff_name` — название тарифа, тип данных - object;\n",
    "\n",
    "У остальных столбцов тип данных -  int64:\n",
    "* `rub_monthly_fee` — ежемесячная абонентская плата в рублях;\n",
    "* `minutes_included` — количество минут разговора в месяц, включённых в абонентскую плату;\n",
    "* `messages_included` — количество сообщений в месяц, включённых в абонентскую плату;\n",
    "* `mb_per_month_included` — объём интернет-трафика, включённого в абонентскую плату (в мегабайтах);\n",
    "* `rub_per_minute` — стоимость минуты разговора сверх тарифного пакета (например, если в тарифе 100 минут разговора в месяц, то со 101 минуты будет взиматься плата);\n",
    "* `rub_per_message` — стоимость отправки сообщения сверх тарифного пакета;\n",
    "* `rub_per_gb` — стоимость дополнительного гигабайта интернет-трафика сверх тарифного пакета (1 гигабайт = 1024 мегабайта).\n",
    "\n",
    "В таблице всего 2 строки, пропущенных значений нет. \n",
    "\n",
    "***Примечание***\n",
    "«Мегалайн» всегда округляет секунды до минут, а мегабайты — до гигабайт. Каждый звонок округляется отдельно: даже если он длился всего 1 секунду, будет засчитан как 1 минута.\n",
    "Для веб-трафика отдельные сессии не считаются. Вместо этого общая сумма за месяц округляется в бо́льшую сторону. Если абонент использует 1025 мегабайт в этом месяце, с него возьмут плату за 2 гигабайта. Примем, что неиспользованные за предыдущий месяц звонки, смс, интернет на следующий месяц не переносятся."
   ]
  },
  {
   "cell_type": "code",
   "execution_count": 10,
   "id": "4edcddba",
   "metadata": {},
   "outputs": [
    {
     "name": "stdout",
     "output_type": "stream",
     "text": [
      "<class 'pandas.core.frame.DataFrame'>\n",
      "RangeIndex: 500 entries, 0 to 499\n",
      "Data columns (total 8 columns):\n",
      " #   Column      Non-Null Count  Dtype \n",
      "---  ------      --------------  ----- \n",
      " 0   user_id     500 non-null    int64 \n",
      " 1   age         500 non-null    int64 \n",
      " 2   churn_date  38 non-null     object\n",
      " 3   city        500 non-null    object\n",
      " 4   first_name  500 non-null    object\n",
      " 5   last_name   500 non-null    object\n",
      " 6   reg_date    500 non-null    object\n",
      " 7   tariff      500 non-null    object\n",
      "dtypes: int64(2), object(6)\n",
      "memory usage: 31.4+ KB\n"
     ]
    }
   ],
   "source": [
    "df_users.info() # получение общей информации о данных в таблице df_users"
   ]
  },
  {
   "cell_type": "markdown",
   "id": "0c2b9d07",
   "metadata": {},
   "source": [
    "Таблица `users` (информация о пользователях)\n",
    "\n",
    "Всего в таблице 8 столбцов. Согласно документации к данным:\n",
    "\n",
    "Тип int64:\n",
    "* `user_id` — уникальный идентификатор пользователя;\n",
    "* `age` — возраст пользователя (годы);\n",
    "\n",
    "Тип object:\n",
    "* `first_name` — имя пользователя;\n",
    "* `last_name` — фамилия пользователя;\n",
    "* `reg_date` — дата подключения тарифа (день, месяц, год);\n",
    "* `churn_date` — дата прекращения пользования тарифом (если значение пропущено, то тариф ещё действовал на момент выгрузки данных);\n",
    "* `city` — город проживания пользователя;\n",
    "* `tariff` — название тарифного плана.\n",
    "\n",
    "Кроме столбца `churn_date`, где наличие пропущенных значений объяснимо, все остальные данные присутствуют. \n",
    "Однако необходимо привести столбцы `reg_date`, `churn_date` к формату \"дата\". "
   ]
  },
  {
   "cell_type": "code",
   "execution_count": 11,
   "id": "e8b99d20",
   "metadata": {},
   "outputs": [
    {
     "name": "stdout",
     "output_type": "stream",
     "text": [
      "<class 'pandas.core.frame.DataFrame'>\n",
      "RangeIndex: 202607 entries, 0 to 202606\n",
      "Data columns (total 4 columns):\n",
      " #   Column     Non-Null Count   Dtype  \n",
      "---  ------     --------------   -----  \n",
      " 0   id         202607 non-null  object \n",
      " 1   call_date  202607 non-null  object \n",
      " 2   duration   202607 non-null  float64\n",
      " 3   user_id    202607 non-null  int64  \n",
      "dtypes: float64(1), int64(1), object(2)\n",
      "memory usage: 6.2+ MB\n"
     ]
    }
   ],
   "source": [
    "df_calls.info() # получение общей информации о данных в таблице df_calls"
   ]
  },
  {
   "cell_type": "markdown",
   "id": "57086a5e",
   "metadata": {},
   "source": [
    "Таблица `calls` (информация о звонках)\n",
    "\n",
    "Всего в таблице 4 столбца. Согласно документации к данным:\n",
    "\n",
    "* `id` — уникальный номер звонка - тип object;\n",
    "* `call_date` — дата звонка - тип object;\n",
    "* `duration` — длительность звонка в минутах - тип float64;\n",
    "* `user_id` — идентификатор пользователя, сделавшего звонок - тип int64.\n",
    "\n",
    "Количество записей одинаково, скорее всего пропущенных значений нет. Необходимо привести столбец `call_date` к формату \"дата\". "
   ]
  },
  {
   "cell_type": "code",
   "execution_count": 12,
   "id": "812bad1d",
   "metadata": {},
   "outputs": [
    {
     "name": "stdout",
     "output_type": "stream",
     "text": [
      "<class 'pandas.core.frame.DataFrame'>\n",
      "RangeIndex: 123036 entries, 0 to 123035\n",
      "Data columns (total 3 columns):\n",
      " #   Column        Non-Null Count   Dtype \n",
      "---  ------        --------------   ----- \n",
      " 0   id            123036 non-null  object\n",
      " 1   message_date  123036 non-null  object\n",
      " 2   user_id       123036 non-null  int64 \n",
      "dtypes: int64(1), object(2)\n",
      "memory usage: 2.8+ MB\n"
     ]
    }
   ],
   "source": [
    "df_messages.info() # получение общей информации о данных в таблице df_messages"
   ]
  },
  {
   "cell_type": "markdown",
   "id": "a89b5030",
   "metadata": {},
   "source": [
    "Таблица `messages` (информация о сообщениях)\n",
    "\n",
    "Всего в таблице 3 столбца. Согласно документации к данным: \n",
    "* `id` — уникальный номер сообщения - тип object;\n",
    "* `message_date` — дата сообщения - тип object;\n",
    "* `user_id` — идентификатор пользователя, отправившего сообщение - тип int64."
   ]
  },
  {
   "cell_type": "code",
   "execution_count": 13,
   "id": "f1300b8d",
   "metadata": {
    "scrolled": true
   },
   "outputs": [
    {
     "name": "stdout",
     "output_type": "stream",
     "text": [
      "<class 'pandas.core.frame.DataFrame'>\n",
      "Int64Index: 149396 entries, 0 to 149395\n",
      "Data columns (total 4 columns):\n",
      " #   Column        Non-Null Count   Dtype  \n",
      "---  ------        --------------   -----  \n",
      " 0   id            149396 non-null  object \n",
      " 1   mb_used       149396 non-null  float64\n",
      " 2   session_date  149396 non-null  object \n",
      " 3   user_id       149396 non-null  int64  \n",
      "dtypes: float64(1), int64(1), object(2)\n",
      "memory usage: 5.7+ MB\n"
     ]
    }
   ],
   "source": [
    "df_internet.info() # получение общей информации о данных в таблице df_internet"
   ]
  },
  {
   "cell_type": "markdown",
   "id": "b659a064",
   "metadata": {},
   "source": [
    "Таблица `internet` (информация об интернет-сессиях):\n",
    "\n",
    "Всего в таблице 5 столбцов, в документации есть информация о 4: \n",
    "\n",
    "* `id` — уникальный номер сессии, тип данных - object;\n",
    "* `mb_used` — объём потраченного за сессию интернет-трафика (в мегабайтах), тип данных - float64;\n",
    "* `session_date` — дата интернет-сессии, тип данных - object;\n",
    "* `user_id` — идентификатор пользователя, тип данных - object;\n",
    "\n",
    "Еще один столбец не имеет названия, содержит данные в формате int64, необходимо будет уточнить его содержание. \n",
    "Столбец `id` содержит данные в формате object, это не соответствует его содержанию. Возможно, безымянный столбец как раз содержит id пользователя, а в столбце `id` какие-то иные данные.\n",
    "\n",
    "Также необходимо привести данные в столбце `session_date` к типу \"дата\". "
   ]
  },
  {
   "cell_type": "markdown",
   "id": "46cb9e67",
   "metadata": {},
   "source": [
    "**Выводы**\n",
    "\n",
    "Данные об активности клиентов мобильного оператора разделены по 5 таблицам. \n",
    "В них содержатся информация о тарифах, характеристиках пользователей и их активности: звонках, сообщениях, интернет-сессиях. Для достижения целей исследования данные необходимо будет объединить, но перед этим совершить предобработку: привести данные к необходимым форматам, решить вопрос с безымянным столбцом в таблице df_internet и убедиться в качестве данных. \n",
    "\n",
    "Чтобы двигаться дальше, нужно устранить проблемы в данных."
   ]
  },
  {
   "cell_type": "markdown",
   "id": "fa655d7b",
   "metadata": {},
   "source": [
    "## Предобработка данных"
   ]
  },
  {
   "cell_type": "markdown",
   "id": "248b6bc7",
   "metadata": {},
   "source": [
    "Исключим пропуски данных и дубликаты, проверим данные на наличие аномалий и при необходимости избавимся от них. \n",
    "Приведем данные к необходимым типам."
   ]
  },
  {
   "cell_type": "markdown",
   "id": "808da9c5",
   "metadata": {},
   "source": [
    "### Проверка данных на аномалии и исправления"
   ]
  },
  {
   "cell_type": "markdown",
   "id": "4dcdebce",
   "metadata": {},
   "source": [
    "Проверим данные на аномалии. Сначала - оценим общую картину с помощью метода describe. Так мы увидим количество значений, минимальное и максиальное значение по столбцам и некоторые другие сведения по таблицам."
   ]
  },
  {
   "cell_type": "code",
   "execution_count": 14,
   "id": "97543c7c",
   "metadata": {},
   "outputs": [
    {
     "data": {
      "text/html": [
       "<div>\n",
       "<style scoped>\n",
       "    .dataframe tbody tr th:only-of-type {\n",
       "        vertical-align: middle;\n",
       "    }\n",
       "\n",
       "    .dataframe tbody tr th {\n",
       "        vertical-align: top;\n",
       "    }\n",
       "\n",
       "    .dataframe thead th {\n",
       "        text-align: right;\n",
       "    }\n",
       "</style>\n",
       "<table border=\"1\" class=\"dataframe\">\n",
       "  <thead>\n",
       "    <tr style=\"text-align: right;\">\n",
       "      <th></th>\n",
       "      <th>user_id</th>\n",
       "      <th>age</th>\n",
       "    </tr>\n",
       "  </thead>\n",
       "  <tbody>\n",
       "    <tr>\n",
       "      <th>count</th>\n",
       "      <td>500.000000</td>\n",
       "      <td>500.00000</td>\n",
       "    </tr>\n",
       "    <tr>\n",
       "      <th>mean</th>\n",
       "      <td>1249.500000</td>\n",
       "      <td>46.58800</td>\n",
       "    </tr>\n",
       "    <tr>\n",
       "      <th>std</th>\n",
       "      <td>144.481833</td>\n",
       "      <td>16.66763</td>\n",
       "    </tr>\n",
       "    <tr>\n",
       "      <th>min</th>\n",
       "      <td>1000.000000</td>\n",
       "      <td>18.00000</td>\n",
       "    </tr>\n",
       "    <tr>\n",
       "      <th>25%</th>\n",
       "      <td>1124.750000</td>\n",
       "      <td>32.00000</td>\n",
       "    </tr>\n",
       "    <tr>\n",
       "      <th>50%</th>\n",
       "      <td>1249.500000</td>\n",
       "      <td>46.00000</td>\n",
       "    </tr>\n",
       "    <tr>\n",
       "      <th>75%</th>\n",
       "      <td>1374.250000</td>\n",
       "      <td>62.00000</td>\n",
       "    </tr>\n",
       "    <tr>\n",
       "      <th>max</th>\n",
       "      <td>1499.000000</td>\n",
       "      <td>75.00000</td>\n",
       "    </tr>\n",
       "  </tbody>\n",
       "</table>\n",
       "</div>"
      ],
      "text/plain": [
       "           user_id        age\n",
       "count   500.000000  500.00000\n",
       "mean   1249.500000   46.58800\n",
       "std     144.481833   16.66763\n",
       "min    1000.000000   18.00000\n",
       "25%    1124.750000   32.00000\n",
       "50%    1249.500000   46.00000\n",
       "75%    1374.250000   62.00000\n",
       "max    1499.000000   75.00000"
      ]
     },
     "execution_count": 14,
     "metadata": {},
     "output_type": "execute_result"
    }
   ],
   "source": [
    "df_users.describe()"
   ]
  },
  {
   "cell_type": "code",
   "execution_count": 15,
   "id": "d438f028",
   "metadata": {},
   "outputs": [
    {
     "data": {
      "text/html": [
       "<div>\n",
       "<style scoped>\n",
       "    .dataframe tbody tr th:only-of-type {\n",
       "        vertical-align: middle;\n",
       "    }\n",
       "\n",
       "    .dataframe tbody tr th {\n",
       "        vertical-align: top;\n",
       "    }\n",
       "\n",
       "    .dataframe thead th {\n",
       "        text-align: right;\n",
       "    }\n",
       "</style>\n",
       "<table border=\"1\" class=\"dataframe\">\n",
       "  <thead>\n",
       "    <tr style=\"text-align: right;\">\n",
       "      <th></th>\n",
       "      <th>duration</th>\n",
       "      <th>user_id</th>\n",
       "    </tr>\n",
       "  </thead>\n",
       "  <tbody>\n",
       "    <tr>\n",
       "      <th>count</th>\n",
       "      <td>202607.000000</td>\n",
       "      <td>202607.000000</td>\n",
       "    </tr>\n",
       "    <tr>\n",
       "      <th>mean</th>\n",
       "      <td>6.755887</td>\n",
       "      <td>1253.940619</td>\n",
       "    </tr>\n",
       "    <tr>\n",
       "      <th>std</th>\n",
       "      <td>5.843365</td>\n",
       "      <td>144.722751</td>\n",
       "    </tr>\n",
       "    <tr>\n",
       "      <th>min</th>\n",
       "      <td>0.000000</td>\n",
       "      <td>1000.000000</td>\n",
       "    </tr>\n",
       "    <tr>\n",
       "      <th>25%</th>\n",
       "      <td>1.300000</td>\n",
       "      <td>1126.000000</td>\n",
       "    </tr>\n",
       "    <tr>\n",
       "      <th>50%</th>\n",
       "      <td>6.000000</td>\n",
       "      <td>1260.000000</td>\n",
       "    </tr>\n",
       "    <tr>\n",
       "      <th>75%</th>\n",
       "      <td>10.700000</td>\n",
       "      <td>1379.000000</td>\n",
       "    </tr>\n",
       "    <tr>\n",
       "      <th>max</th>\n",
       "      <td>38.000000</td>\n",
       "      <td>1499.000000</td>\n",
       "    </tr>\n",
       "  </tbody>\n",
       "</table>\n",
       "</div>"
      ],
      "text/plain": [
       "            duration        user_id\n",
       "count  202607.000000  202607.000000\n",
       "mean        6.755887    1253.940619\n",
       "std         5.843365     144.722751\n",
       "min         0.000000    1000.000000\n",
       "25%         1.300000    1126.000000\n",
       "50%         6.000000    1260.000000\n",
       "75%        10.700000    1379.000000\n",
       "max        38.000000    1499.000000"
      ]
     },
     "execution_count": 15,
     "metadata": {},
     "output_type": "execute_result"
    }
   ],
   "source": [
    "df_calls.describe()"
   ]
  },
  {
   "cell_type": "markdown",
   "id": "8ca2ecee",
   "metadata": {},
   "source": [
    "В данных мы видим звонки с нулевой продолжительностью. Это не ошибка: нулями обозначены пропущенные звонки, поэтому их не нужно удалять."
   ]
  },
  {
   "cell_type": "code",
   "execution_count": 16,
   "id": "dab54c4b",
   "metadata": {
    "scrolled": true
   },
   "outputs": [
    {
     "data": {
      "text/html": [
       "<div>\n",
       "<style scoped>\n",
       "    .dataframe tbody tr th:only-of-type {\n",
       "        vertical-align: middle;\n",
       "    }\n",
       "\n",
       "    .dataframe tbody tr th {\n",
       "        vertical-align: top;\n",
       "    }\n",
       "\n",
       "    .dataframe thead th {\n",
       "        text-align: right;\n",
       "    }\n",
       "</style>\n",
       "<table border=\"1\" class=\"dataframe\">\n",
       "  <thead>\n",
       "    <tr style=\"text-align: right;\">\n",
       "      <th></th>\n",
       "      <th>user_id</th>\n",
       "    </tr>\n",
       "  </thead>\n",
       "  <tbody>\n",
       "    <tr>\n",
       "      <th>count</th>\n",
       "      <td>123036.000000</td>\n",
       "    </tr>\n",
       "    <tr>\n",
       "      <th>mean</th>\n",
       "      <td>1256.989410</td>\n",
       "    </tr>\n",
       "    <tr>\n",
       "      <th>std</th>\n",
       "      <td>143.523967</td>\n",
       "    </tr>\n",
       "    <tr>\n",
       "      <th>min</th>\n",
       "      <td>1000.000000</td>\n",
       "    </tr>\n",
       "    <tr>\n",
       "      <th>25%</th>\n",
       "      <td>1134.000000</td>\n",
       "    </tr>\n",
       "    <tr>\n",
       "      <th>50%</th>\n",
       "      <td>1271.000000</td>\n",
       "    </tr>\n",
       "    <tr>\n",
       "      <th>75%</th>\n",
       "      <td>1381.000000</td>\n",
       "    </tr>\n",
       "    <tr>\n",
       "      <th>max</th>\n",
       "      <td>1499.000000</td>\n",
       "    </tr>\n",
       "  </tbody>\n",
       "</table>\n",
       "</div>"
      ],
      "text/plain": [
       "             user_id\n",
       "count  123036.000000\n",
       "mean     1256.989410\n",
       "std       143.523967\n",
       "min      1000.000000\n",
       "25%      1134.000000\n",
       "50%      1271.000000\n",
       "75%      1381.000000\n",
       "max      1499.000000"
      ]
     },
     "execution_count": 16,
     "metadata": {},
     "output_type": "execute_result"
    }
   ],
   "source": [
    "df_messages.describe()"
   ]
  },
  {
   "cell_type": "code",
   "execution_count": 17,
   "id": "efb99ff1",
   "metadata": {},
   "outputs": [
    {
     "data": {
      "text/html": [
       "<div>\n",
       "<style scoped>\n",
       "    .dataframe tbody tr th:only-of-type {\n",
       "        vertical-align: middle;\n",
       "    }\n",
       "\n",
       "    .dataframe tbody tr th {\n",
       "        vertical-align: top;\n",
       "    }\n",
       "\n",
       "    .dataframe thead th {\n",
       "        text-align: right;\n",
       "    }\n",
       "</style>\n",
       "<table border=\"1\" class=\"dataframe\">\n",
       "  <thead>\n",
       "    <tr style=\"text-align: right;\">\n",
       "      <th></th>\n",
       "      <th>mb_used</th>\n",
       "      <th>user_id</th>\n",
       "    </tr>\n",
       "  </thead>\n",
       "  <tbody>\n",
       "    <tr>\n",
       "      <th>count</th>\n",
       "      <td>149396.000000</td>\n",
       "      <td>149396.000000</td>\n",
       "    </tr>\n",
       "    <tr>\n",
       "      <th>mean</th>\n",
       "      <td>370.192426</td>\n",
       "      <td>1252.099842</td>\n",
       "    </tr>\n",
       "    <tr>\n",
       "      <th>std</th>\n",
       "      <td>278.300951</td>\n",
       "      <td>144.050823</td>\n",
       "    </tr>\n",
       "    <tr>\n",
       "      <th>min</th>\n",
       "      <td>0.000000</td>\n",
       "      <td>1000.000000</td>\n",
       "    </tr>\n",
       "    <tr>\n",
       "      <th>25%</th>\n",
       "      <td>138.187500</td>\n",
       "      <td>1130.000000</td>\n",
       "    </tr>\n",
       "    <tr>\n",
       "      <th>50%</th>\n",
       "      <td>348.015000</td>\n",
       "      <td>1251.000000</td>\n",
       "    </tr>\n",
       "    <tr>\n",
       "      <th>75%</th>\n",
       "      <td>559.552500</td>\n",
       "      <td>1380.000000</td>\n",
       "    </tr>\n",
       "    <tr>\n",
       "      <th>max</th>\n",
       "      <td>1724.830000</td>\n",
       "      <td>1499.000000</td>\n",
       "    </tr>\n",
       "  </tbody>\n",
       "</table>\n",
       "</div>"
      ],
      "text/plain": [
       "             mb_used        user_id\n",
       "count  149396.000000  149396.000000\n",
       "mean      370.192426    1252.099842\n",
       "std       278.300951     144.050823\n",
       "min         0.000000    1000.000000\n",
       "25%       138.187500    1130.000000\n",
       "50%       348.015000    1251.000000\n",
       "75%       559.552500    1380.000000\n",
       "max      1724.830000    1499.000000"
      ]
     },
     "execution_count": 17,
     "metadata": {},
     "output_type": "execute_result"
    }
   ],
   "source": [
    "df_internet.describe()"
   ]
  },
  {
   "cell_type": "markdown",
   "id": "9ef32b3f",
   "metadata": {},
   "source": [
    "Рассмотрев характеристику данных, признаем, что особых аномалий в таблицах нет, качество данных высоко."
   ]
  },
  {
   "cell_type": "markdown",
   "id": "f46fcaa9",
   "metadata": {},
   "source": [
    "### Изменение типов данных."
   ]
  },
  {
   "cell_type": "markdown",
   "id": "a1bb12d3",
   "metadata": {},
   "source": [
    "Приведем данные в следующих столбцах, где дата сохранена в формате строки к формату даты:\n",
    "* Таблица users (информация о пользователях), `reg_date` — дата подключения тарифа (день, месяц, год);\n",
    "* Таблица users (информация о пользователях),`churn_date` — дата прекращения пользования тарифом (если значение пропущено, то тариф ещё действовал на момент выгрузки данных);\n",
    "* Таблица calls (информация о звонках) — `call_date` — дата звонка;\n",
    "* Таблица messages (информация о сообщениях) — `message_date` — дата сообщения;\n",
    "* Таблица internet (информация об интернет-сессиях) — `session_date` — дата интернет-сессии."
   ]
  },
  {
   "cell_type": "markdown",
   "id": "5540faa4",
   "metadata": {},
   "source": [
    "Теперь заменим формат в таблице users."
   ]
  },
  {
   "cell_type": "code",
   "execution_count": 18,
   "id": "5ad92dd2",
   "metadata": {},
   "outputs": [
    {
     "name": "stdout",
     "output_type": "stream",
     "text": [
      "<class 'pandas.core.frame.DataFrame'>\n",
      "RangeIndex: 500 entries, 0 to 499\n",
      "Data columns (total 8 columns):\n",
      " #   Column      Non-Null Count  Dtype         \n",
      "---  ------      --------------  -----         \n",
      " 0   user_id     500 non-null    int64         \n",
      " 1   age         500 non-null    int64         \n",
      " 2   churn_date  38 non-null     datetime64[ns]\n",
      " 3   city        500 non-null    object        \n",
      " 4   first_name  500 non-null    object        \n",
      " 5   last_name   500 non-null    object        \n",
      " 6   reg_date    500 non-null    datetime64[ns]\n",
      " 7   tariff      500 non-null    object        \n",
      "dtypes: datetime64[ns](2), int64(2), object(4)\n",
      "memory usage: 31.4+ KB\n"
     ]
    },
    {
     "data": {
      "text/html": [
       "<div>\n",
       "<style scoped>\n",
       "    .dataframe tbody tr th:only-of-type {\n",
       "        vertical-align: middle;\n",
       "    }\n",
       "\n",
       "    .dataframe tbody tr th {\n",
       "        vertical-align: top;\n",
       "    }\n",
       "\n",
       "    .dataframe thead th {\n",
       "        text-align: right;\n",
       "    }\n",
       "</style>\n",
       "<table border=\"1\" class=\"dataframe\">\n",
       "  <thead>\n",
       "    <tr style=\"text-align: right;\">\n",
       "      <th></th>\n",
       "      <th>user_id</th>\n",
       "      <th>age</th>\n",
       "      <th>churn_date</th>\n",
       "      <th>city</th>\n",
       "      <th>first_name</th>\n",
       "      <th>last_name</th>\n",
       "      <th>reg_date</th>\n",
       "      <th>tariff</th>\n",
       "    </tr>\n",
       "  </thead>\n",
       "  <tbody>\n",
       "    <tr>\n",
       "      <th>0</th>\n",
       "      <td>1000</td>\n",
       "      <td>52</td>\n",
       "      <td>NaT</td>\n",
       "      <td>Краснодар</td>\n",
       "      <td>Рафаил</td>\n",
       "      <td>Верещагин</td>\n",
       "      <td>2018-05-25</td>\n",
       "      <td>ultra</td>\n",
       "    </tr>\n",
       "    <tr>\n",
       "      <th>1</th>\n",
       "      <td>1001</td>\n",
       "      <td>41</td>\n",
       "      <td>NaT</td>\n",
       "      <td>Москва</td>\n",
       "      <td>Иван</td>\n",
       "      <td>Ежов</td>\n",
       "      <td>2018-11-01</td>\n",
       "      <td>smart</td>\n",
       "    </tr>\n",
       "    <tr>\n",
       "      <th>2</th>\n",
       "      <td>1002</td>\n",
       "      <td>59</td>\n",
       "      <td>NaT</td>\n",
       "      <td>Стерлитамак</td>\n",
       "      <td>Евгений</td>\n",
       "      <td>Абрамович</td>\n",
       "      <td>2018-06-17</td>\n",
       "      <td>smart</td>\n",
       "    </tr>\n",
       "    <tr>\n",
       "      <th>3</th>\n",
       "      <td>1003</td>\n",
       "      <td>23</td>\n",
       "      <td>NaT</td>\n",
       "      <td>Москва</td>\n",
       "      <td>Белла</td>\n",
       "      <td>Белякова</td>\n",
       "      <td>2018-08-17</td>\n",
       "      <td>ultra</td>\n",
       "    </tr>\n",
       "    <tr>\n",
       "      <th>4</th>\n",
       "      <td>1004</td>\n",
       "      <td>68</td>\n",
       "      <td>NaT</td>\n",
       "      <td>Новокузнецк</td>\n",
       "      <td>Татьяна</td>\n",
       "      <td>Авдеенко</td>\n",
       "      <td>2018-05-14</td>\n",
       "      <td>ultra</td>\n",
       "    </tr>\n",
       "  </tbody>\n",
       "</table>\n",
       "</div>"
      ],
      "text/plain": [
       "   user_id  age churn_date         city first_name  last_name   reg_date  \\\n",
       "0     1000   52        NaT    Краснодар     Рафаил  Верещагин 2018-05-25   \n",
       "1     1001   41        NaT       Москва       Иван       Ежов 2018-11-01   \n",
       "2     1002   59        NaT  Стерлитамак    Евгений  Абрамович 2018-06-17   \n",
       "3     1003   23        NaT       Москва      Белла   Белякова 2018-08-17   \n",
       "4     1004   68        NaT  Новокузнецк    Татьяна   Авдеенко 2018-05-14   \n",
       "\n",
       "  tariff  \n",
       "0  ultra  \n",
       "1  smart  \n",
       "2  smart  \n",
       "3  ultra  \n",
       "4  ultra  "
      ]
     },
     "execution_count": 18,
     "metadata": {},
     "output_type": "execute_result"
    }
   ],
   "source": [
    "# Перевод столбца из строки в дату и время\n",
    "df_users['reg_date'] = pd.to_datetime(df_users['reg_date'], format='%Y-%m-%d')\n",
    "df_users['churn_date'] = pd.to_datetime(df_users['churn_date'], format='%Y-%m-%d')\n",
    "\n",
    "# Проверка успешности замены - запрос информации обо всех столбцах и первых пяти строк таблицы\n",
    "df_users.info()\n",
    "df_users.head()"
   ]
  },
  {
   "cell_type": "markdown",
   "id": "4eed0dae",
   "metadata": {},
   "source": [
    "Замена произведена успешно. Проведем замену в таблицах calls, messages и internet."
   ]
  },
  {
   "cell_type": "code",
   "execution_count": 19,
   "id": "bc96a0fd",
   "metadata": {},
   "outputs": [
    {
     "name": "stdout",
     "output_type": "stream",
     "text": [
      "<class 'pandas.core.frame.DataFrame'>\n",
      "RangeIndex: 202607 entries, 0 to 202606\n",
      "Data columns (total 4 columns):\n",
      " #   Column     Non-Null Count   Dtype         \n",
      "---  ------     --------------   -----         \n",
      " 0   id         202607 non-null  object        \n",
      " 1   call_date  202607 non-null  datetime64[ns]\n",
      " 2   duration   202607 non-null  float64       \n",
      " 3   user_id    202607 non-null  int64         \n",
      "dtypes: datetime64[ns](1), float64(1), int64(1), object(1)\n",
      "memory usage: 6.2+ MB\n"
     ]
    },
    {
     "data": {
      "text/html": [
       "<div>\n",
       "<style scoped>\n",
       "    .dataframe tbody tr th:only-of-type {\n",
       "        vertical-align: middle;\n",
       "    }\n",
       "\n",
       "    .dataframe tbody tr th {\n",
       "        vertical-align: top;\n",
       "    }\n",
       "\n",
       "    .dataframe thead th {\n",
       "        text-align: right;\n",
       "    }\n",
       "</style>\n",
       "<table border=\"1\" class=\"dataframe\">\n",
       "  <thead>\n",
       "    <tr style=\"text-align: right;\">\n",
       "      <th></th>\n",
       "      <th>id</th>\n",
       "      <th>call_date</th>\n",
       "      <th>duration</th>\n",
       "      <th>user_id</th>\n",
       "    </tr>\n",
       "  </thead>\n",
       "  <tbody>\n",
       "    <tr>\n",
       "      <th>0</th>\n",
       "      <td>1000_0</td>\n",
       "      <td>2018-07-25</td>\n",
       "      <td>0.00</td>\n",
       "      <td>1000</td>\n",
       "    </tr>\n",
       "    <tr>\n",
       "      <th>1</th>\n",
       "      <td>1000_1</td>\n",
       "      <td>2018-08-17</td>\n",
       "      <td>0.00</td>\n",
       "      <td>1000</td>\n",
       "    </tr>\n",
       "    <tr>\n",
       "      <th>2</th>\n",
       "      <td>1000_2</td>\n",
       "      <td>2018-06-11</td>\n",
       "      <td>2.85</td>\n",
       "      <td>1000</td>\n",
       "    </tr>\n",
       "    <tr>\n",
       "      <th>3</th>\n",
       "      <td>1000_3</td>\n",
       "      <td>2018-09-21</td>\n",
       "      <td>13.80</td>\n",
       "      <td>1000</td>\n",
       "    </tr>\n",
       "    <tr>\n",
       "      <th>4</th>\n",
       "      <td>1000_4</td>\n",
       "      <td>2018-12-15</td>\n",
       "      <td>5.18</td>\n",
       "      <td>1000</td>\n",
       "    </tr>\n",
       "  </tbody>\n",
       "</table>\n",
       "</div>"
      ],
      "text/plain": [
       "       id  call_date  duration  user_id\n",
       "0  1000_0 2018-07-25      0.00     1000\n",
       "1  1000_1 2018-08-17      0.00     1000\n",
       "2  1000_2 2018-06-11      2.85     1000\n",
       "3  1000_3 2018-09-21     13.80     1000\n",
       "4  1000_4 2018-12-15      5.18     1000"
      ]
     },
     "execution_count": 19,
     "metadata": {},
     "output_type": "execute_result"
    }
   ],
   "source": [
    "# Перевод столбца из строки в дату и время\n",
    "df_calls['call_date'] = pd.to_datetime(df_calls['call_date'], format='%Y-%m-%d')\n",
    "\n",
    "# Проверка успешности замены - запрос информации обо всех столбцах и первых пяти строк таблицы\n",
    "df_calls.info()\n",
    "df_calls.head()"
   ]
  },
  {
   "cell_type": "code",
   "execution_count": 20,
   "id": "c5104614",
   "metadata": {},
   "outputs": [
    {
     "name": "stdout",
     "output_type": "stream",
     "text": [
      "<class 'pandas.core.frame.DataFrame'>\n",
      "RangeIndex: 123036 entries, 0 to 123035\n",
      "Data columns (total 3 columns):\n",
      " #   Column        Non-Null Count   Dtype         \n",
      "---  ------        --------------   -----         \n",
      " 0   id            123036 non-null  object        \n",
      " 1   message_date  123036 non-null  datetime64[ns]\n",
      " 2   user_id       123036 non-null  int64         \n",
      "dtypes: datetime64[ns](1), int64(1), object(1)\n",
      "memory usage: 2.8+ MB\n"
     ]
    },
    {
     "data": {
      "text/html": [
       "<div>\n",
       "<style scoped>\n",
       "    .dataframe tbody tr th:only-of-type {\n",
       "        vertical-align: middle;\n",
       "    }\n",
       "\n",
       "    .dataframe tbody tr th {\n",
       "        vertical-align: top;\n",
       "    }\n",
       "\n",
       "    .dataframe thead th {\n",
       "        text-align: right;\n",
       "    }\n",
       "</style>\n",
       "<table border=\"1\" class=\"dataframe\">\n",
       "  <thead>\n",
       "    <tr style=\"text-align: right;\">\n",
       "      <th></th>\n",
       "      <th>id</th>\n",
       "      <th>message_date</th>\n",
       "      <th>user_id</th>\n",
       "    </tr>\n",
       "  </thead>\n",
       "  <tbody>\n",
       "    <tr>\n",
       "      <th>0</th>\n",
       "      <td>1000_0</td>\n",
       "      <td>2018-06-27</td>\n",
       "      <td>1000</td>\n",
       "    </tr>\n",
       "    <tr>\n",
       "      <th>1</th>\n",
       "      <td>1000_1</td>\n",
       "      <td>2018-10-08</td>\n",
       "      <td>1000</td>\n",
       "    </tr>\n",
       "    <tr>\n",
       "      <th>2</th>\n",
       "      <td>1000_2</td>\n",
       "      <td>2018-08-04</td>\n",
       "      <td>1000</td>\n",
       "    </tr>\n",
       "    <tr>\n",
       "      <th>3</th>\n",
       "      <td>1000_3</td>\n",
       "      <td>2018-06-16</td>\n",
       "      <td>1000</td>\n",
       "    </tr>\n",
       "    <tr>\n",
       "      <th>4</th>\n",
       "      <td>1000_4</td>\n",
       "      <td>2018-12-05</td>\n",
       "      <td>1000</td>\n",
       "    </tr>\n",
       "  </tbody>\n",
       "</table>\n",
       "</div>"
      ],
      "text/plain": [
       "       id message_date  user_id\n",
       "0  1000_0   2018-06-27     1000\n",
       "1  1000_1   2018-10-08     1000\n",
       "2  1000_2   2018-08-04     1000\n",
       "3  1000_3   2018-06-16     1000\n",
       "4  1000_4   2018-12-05     1000"
      ]
     },
     "execution_count": 20,
     "metadata": {},
     "output_type": "execute_result"
    }
   ],
   "source": [
    "# Перевод столбца из строки в дату и время\n",
    "df_messages['message_date'] = pd.to_datetime(df_messages['message_date'], format='%Y-%m-%d')\n",
    "\n",
    "# Проверка успешности замены - запрос информации обо всех столбцах и первых пяти строк таблицы\n",
    "df_messages.info()\n",
    "df_messages.head()"
   ]
  },
  {
   "cell_type": "code",
   "execution_count": 21,
   "id": "4ba0acfb",
   "metadata": {},
   "outputs": [
    {
     "name": "stdout",
     "output_type": "stream",
     "text": [
      "<class 'pandas.core.frame.DataFrame'>\n",
      "Int64Index: 149396 entries, 0 to 149395\n",
      "Data columns (total 4 columns):\n",
      " #   Column        Non-Null Count   Dtype         \n",
      "---  ------        --------------   -----         \n",
      " 0   id            149396 non-null  object        \n",
      " 1   mb_used       149396 non-null  float64       \n",
      " 2   session_date  149396 non-null  datetime64[ns]\n",
      " 3   user_id       149396 non-null  int64         \n",
      "dtypes: datetime64[ns](1), float64(1), int64(1), object(1)\n",
      "memory usage: 5.7+ MB\n"
     ]
    },
    {
     "data": {
      "text/html": [
       "<div>\n",
       "<style scoped>\n",
       "    .dataframe tbody tr th:only-of-type {\n",
       "        vertical-align: middle;\n",
       "    }\n",
       "\n",
       "    .dataframe tbody tr th {\n",
       "        vertical-align: top;\n",
       "    }\n",
       "\n",
       "    .dataframe thead th {\n",
       "        text-align: right;\n",
       "    }\n",
       "</style>\n",
       "<table border=\"1\" class=\"dataframe\">\n",
       "  <thead>\n",
       "    <tr style=\"text-align: right;\">\n",
       "      <th></th>\n",
       "      <th>id</th>\n",
       "      <th>mb_used</th>\n",
       "      <th>session_date</th>\n",
       "      <th>user_id</th>\n",
       "    </tr>\n",
       "  </thead>\n",
       "  <tbody>\n",
       "    <tr>\n",
       "      <th>0</th>\n",
       "      <td>1000_0</td>\n",
       "      <td>112.95</td>\n",
       "      <td>2018-11-25</td>\n",
       "      <td>1000</td>\n",
       "    </tr>\n",
       "    <tr>\n",
       "      <th>1</th>\n",
       "      <td>1000_1</td>\n",
       "      <td>1052.81</td>\n",
       "      <td>2018-09-07</td>\n",
       "      <td>1000</td>\n",
       "    </tr>\n",
       "    <tr>\n",
       "      <th>2</th>\n",
       "      <td>1000_2</td>\n",
       "      <td>1197.26</td>\n",
       "      <td>2018-06-25</td>\n",
       "      <td>1000</td>\n",
       "    </tr>\n",
       "    <tr>\n",
       "      <th>3</th>\n",
       "      <td>1000_3</td>\n",
       "      <td>550.27</td>\n",
       "      <td>2018-08-22</td>\n",
       "      <td>1000</td>\n",
       "    </tr>\n",
       "    <tr>\n",
       "      <th>4</th>\n",
       "      <td>1000_4</td>\n",
       "      <td>302.56</td>\n",
       "      <td>2018-09-24</td>\n",
       "      <td>1000</td>\n",
       "    </tr>\n",
       "  </tbody>\n",
       "</table>\n",
       "</div>"
      ],
      "text/plain": [
       "       id  mb_used session_date  user_id\n",
       "0  1000_0   112.95   2018-11-25     1000\n",
       "1  1000_1  1052.81   2018-09-07     1000\n",
       "2  1000_2  1197.26   2018-06-25     1000\n",
       "3  1000_3   550.27   2018-08-22     1000\n",
       "4  1000_4   302.56   2018-09-24     1000"
      ]
     },
     "execution_count": 21,
     "metadata": {},
     "output_type": "execute_result"
    }
   ],
   "source": [
    "# Перевод столбца из строки в дату и время\n",
    "df_internet['session_date'] = pd.to_datetime(df_internet['session_date'], format='%Y-%m-%d')\n",
    "\n",
    "# Проверка успешности замены - запрос информации обо всех столбцах и первых пяти строк таблицы\n",
    "df_internet.info()\n",
    "df_internet.head()"
   ]
  },
  {
   "cell_type": "markdown",
   "id": "2cdeaaa4",
   "metadata": {},
   "source": [
    "Замена также произведена успешно. Теперь данные в необходимых форматах."
   ]
  },
  {
   "cell_type": "markdown",
   "id": "71face3c",
   "metadata": {},
   "source": [
    "### Расчет и добавление столбцов в таблицы"
   ]
  },
  {
   "cell_type": "markdown",
   "id": "2f4cc083",
   "metadata": {},
   "source": [
    "Так как нам необходимо произвести помесячный расчет, дополнительно рассчитаем:\n",
    "* информацию о том, является ли город клиента столицей - is_capital;\n",
    "* округленную в соответствии с правилами компаниями длительность звонка в минутах - duration_min;\n",
    "* месяц для звонков - call_month;\n",
    "* месяц для сообщений - message_month;\n",
    "* месяц для Интернет-сессий - session_month."
   ]
  },
  {
   "cell_type": "markdown",
   "id": "a83e4738",
   "metadata": {},
   "source": [
    "Начнем с таблицы users"
   ]
  },
  {
   "cell_type": "code",
   "execution_count": 22,
   "id": "996d3ca0",
   "metadata": {},
   "outputs": [
    {
     "data": {
      "text/html": [
       "<div>\n",
       "<style scoped>\n",
       "    .dataframe tbody tr th:only-of-type {\n",
       "        vertical-align: middle;\n",
       "    }\n",
       "\n",
       "    .dataframe tbody tr th {\n",
       "        vertical-align: top;\n",
       "    }\n",
       "\n",
       "    .dataframe thead th {\n",
       "        text-align: right;\n",
       "    }\n",
       "</style>\n",
       "<table border=\"1\" class=\"dataframe\">\n",
       "  <thead>\n",
       "    <tr style=\"text-align: right;\">\n",
       "      <th></th>\n",
       "      <th>user_id</th>\n",
       "      <th>age</th>\n",
       "      <th>churn_date</th>\n",
       "      <th>city</th>\n",
       "      <th>first_name</th>\n",
       "      <th>last_name</th>\n",
       "      <th>reg_date</th>\n",
       "      <th>tariff</th>\n",
       "      <th>is_capital</th>\n",
       "    </tr>\n",
       "  </thead>\n",
       "  <tbody>\n",
       "    <tr>\n",
       "      <th>0</th>\n",
       "      <td>1000</td>\n",
       "      <td>52</td>\n",
       "      <td>NaT</td>\n",
       "      <td>Краснодар</td>\n",
       "      <td>Рафаил</td>\n",
       "      <td>Верещагин</td>\n",
       "      <td>2018-05-25</td>\n",
       "      <td>ultra</td>\n",
       "      <td>False</td>\n",
       "    </tr>\n",
       "    <tr>\n",
       "      <th>1</th>\n",
       "      <td>1001</td>\n",
       "      <td>41</td>\n",
       "      <td>NaT</td>\n",
       "      <td>Москва</td>\n",
       "      <td>Иван</td>\n",
       "      <td>Ежов</td>\n",
       "      <td>2018-11-01</td>\n",
       "      <td>smart</td>\n",
       "      <td>True</td>\n",
       "    </tr>\n",
       "    <tr>\n",
       "      <th>2</th>\n",
       "      <td>1002</td>\n",
       "      <td>59</td>\n",
       "      <td>NaT</td>\n",
       "      <td>Стерлитамак</td>\n",
       "      <td>Евгений</td>\n",
       "      <td>Абрамович</td>\n",
       "      <td>2018-06-17</td>\n",
       "      <td>smart</td>\n",
       "      <td>False</td>\n",
       "    </tr>\n",
       "    <tr>\n",
       "      <th>3</th>\n",
       "      <td>1003</td>\n",
       "      <td>23</td>\n",
       "      <td>NaT</td>\n",
       "      <td>Москва</td>\n",
       "      <td>Белла</td>\n",
       "      <td>Белякова</td>\n",
       "      <td>2018-08-17</td>\n",
       "      <td>ultra</td>\n",
       "      <td>True</td>\n",
       "    </tr>\n",
       "    <tr>\n",
       "      <th>4</th>\n",
       "      <td>1004</td>\n",
       "      <td>68</td>\n",
       "      <td>NaT</td>\n",
       "      <td>Новокузнецк</td>\n",
       "      <td>Татьяна</td>\n",
       "      <td>Авдеенко</td>\n",
       "      <td>2018-05-14</td>\n",
       "      <td>ultra</td>\n",
       "      <td>False</td>\n",
       "    </tr>\n",
       "  </tbody>\n",
       "</table>\n",
       "</div>"
      ],
      "text/plain": [
       "   user_id  age churn_date         city first_name  last_name   reg_date  \\\n",
       "0     1000   52        NaT    Краснодар     Рафаил  Верещагин 2018-05-25   \n",
       "1     1001   41        NaT       Москва       Иван       Ежов 2018-11-01   \n",
       "2     1002   59        NaT  Стерлитамак    Евгений  Абрамович 2018-06-17   \n",
       "3     1003   23        NaT       Москва      Белла   Белякова 2018-08-17   \n",
       "4     1004   68        NaT  Новокузнецк    Татьяна   Авдеенко 2018-05-14   \n",
       "\n",
       "  tariff  is_capital  \n",
       "0  ultra       False  \n",
       "1  smart        True  \n",
       "2  smart       False  \n",
       "3  ultra        True  \n",
       "4  ultra       False  "
      ]
     },
     "execution_count": 22,
     "metadata": {},
     "output_type": "execute_result"
    }
   ],
   "source": [
    "# С помощью метода where присвоим клиентам не из Москвы \"0\", а из столицы - \"1\"\n",
    "df_users['is_capital'] = df_users['city'].where(df_users['city'] == 'Москва', other=0)\n",
    "df_users['is_capital'] = df_users['is_capital'].where(df_users['is_capital'] == 0, other=1)\n",
    "# Приведем данные к булеву формату\n",
    "df_users['is_capital'] = df_users['is_capital'].astype('bool')\n",
    "# Проверка - запрос первых пяти строк таблиц\n",
    "df_users.head()"
   ]
  },
  {
   "cell_type": "markdown",
   "id": "688f5890",
   "metadata": {},
   "source": [
    "Перейдем к таблице calls. Создадим столбцы с округленным временем минут и с информацией о месяце."
   ]
  },
  {
   "cell_type": "code",
   "execution_count": 23,
   "id": "9851dd4c",
   "metadata": {},
   "outputs": [
    {
     "data": {
      "text/html": [
       "<div>\n",
       "<style scoped>\n",
       "    .dataframe tbody tr th:only-of-type {\n",
       "        vertical-align: middle;\n",
       "    }\n",
       "\n",
       "    .dataframe tbody tr th {\n",
       "        vertical-align: top;\n",
       "    }\n",
       "\n",
       "    .dataframe thead th {\n",
       "        text-align: right;\n",
       "    }\n",
       "</style>\n",
       "<table border=\"1\" class=\"dataframe\">\n",
       "  <thead>\n",
       "    <tr style=\"text-align: right;\">\n",
       "      <th></th>\n",
       "      <th>id</th>\n",
       "      <th>call_date</th>\n",
       "      <th>duration</th>\n",
       "      <th>user_id</th>\n",
       "      <th>duration_min</th>\n",
       "      <th>month</th>\n",
       "    </tr>\n",
       "  </thead>\n",
       "  <tbody>\n",
       "    <tr>\n",
       "      <th>0</th>\n",
       "      <td>1000_0</td>\n",
       "      <td>2018-07-25</td>\n",
       "      <td>0.00</td>\n",
       "      <td>1000</td>\n",
       "      <td>0.0</td>\n",
       "      <td>2018-07-01</td>\n",
       "    </tr>\n",
       "    <tr>\n",
       "      <th>1</th>\n",
       "      <td>1000_1</td>\n",
       "      <td>2018-08-17</td>\n",
       "      <td>0.00</td>\n",
       "      <td>1000</td>\n",
       "      <td>0.0</td>\n",
       "      <td>2018-08-01</td>\n",
       "    </tr>\n",
       "    <tr>\n",
       "      <th>2</th>\n",
       "      <td>1000_2</td>\n",
       "      <td>2018-06-11</td>\n",
       "      <td>2.85</td>\n",
       "      <td>1000</td>\n",
       "      <td>3.0</td>\n",
       "      <td>2018-06-01</td>\n",
       "    </tr>\n",
       "    <tr>\n",
       "      <th>3</th>\n",
       "      <td>1000_3</td>\n",
       "      <td>2018-09-21</td>\n",
       "      <td>13.80</td>\n",
       "      <td>1000</td>\n",
       "      <td>14.0</td>\n",
       "      <td>2018-09-01</td>\n",
       "    </tr>\n",
       "    <tr>\n",
       "      <th>4</th>\n",
       "      <td>1000_4</td>\n",
       "      <td>2018-12-15</td>\n",
       "      <td>5.18</td>\n",
       "      <td>1000</td>\n",
       "      <td>6.0</td>\n",
       "      <td>2018-12-01</td>\n",
       "    </tr>\n",
       "  </tbody>\n",
       "</table>\n",
       "</div>"
      ],
      "text/plain": [
       "       id  call_date  duration  user_id  duration_min      month\n",
       "0  1000_0 2018-07-25      0.00     1000           0.0 2018-07-01\n",
       "1  1000_1 2018-08-17      0.00     1000           0.0 2018-08-01\n",
       "2  1000_2 2018-06-11      2.85     1000           3.0 2018-06-01\n",
       "3  1000_3 2018-09-21     13.80     1000          14.0 2018-09-01\n",
       "4  1000_4 2018-12-15      5.18     1000           6.0 2018-12-01"
      ]
     },
     "execution_count": 23,
     "metadata": {},
     "output_type": "execute_result"
    }
   ],
   "source": [
    "# C помощью функции ceil из модуля math округлим минуты в большую сторону\n",
    "df_calls['duration_min'] = np.ceil(df_calls['duration'])\n",
    "# Создание столбца через запрос формата \"месяц и год\"\n",
    "df_calls['month'] = df_calls['call_date'].astype('datetime64[M]')\n",
    "\n",
    "# Проверка - запрос первых пяти строк таблиц\n",
    "df_calls.head()"
   ]
  },
  {
   "cell_type": "markdown",
   "id": "47aa54b0",
   "metadata": {},
   "source": [
    "Округленные данные относятся к целочисленному типу. Преобразуем тип данных столбца."
   ]
  },
  {
   "cell_type": "code",
   "execution_count": 24,
   "id": "323b998a",
   "metadata": {},
   "outputs": [
    {
     "name": "stdout",
     "output_type": "stream",
     "text": [
      "<class 'pandas.core.frame.DataFrame'>\n",
      "RangeIndex: 202607 entries, 0 to 202606\n",
      "Data columns (total 6 columns):\n",
      " #   Column        Non-Null Count   Dtype         \n",
      "---  ------        --------------   -----         \n",
      " 0   id            202607 non-null  object        \n",
      " 1   call_date     202607 non-null  datetime64[ns]\n",
      " 2   duration      202607 non-null  float64       \n",
      " 3   user_id       202607 non-null  int64         \n",
      " 4   duration_min  202607 non-null  int64         \n",
      " 5   month         202607 non-null  datetime64[ns]\n",
      "dtypes: datetime64[ns](2), float64(1), int64(2), object(1)\n",
      "memory usage: 9.3+ MB\n"
     ]
    }
   ],
   "source": [
    "# Преобразование в целочисленный тип\n",
    "df_calls['duration_min'] = df_calls['duration_min'].astype(int)\n",
    "# Проверка успешности преобразования - запрос информации обо всех столбцах\n",
    "df_calls.info()"
   ]
  },
  {
   "cell_type": "markdown",
   "id": "f64b8245",
   "metadata": {},
   "source": [
    "Теперь добавим столбец с информацией о месяце в таблицу messages."
   ]
  },
  {
   "cell_type": "code",
   "execution_count": 25,
   "id": "c318cba1",
   "metadata": {},
   "outputs": [
    {
     "data": {
      "text/html": [
       "<div>\n",
       "<style scoped>\n",
       "    .dataframe tbody tr th:only-of-type {\n",
       "        vertical-align: middle;\n",
       "    }\n",
       "\n",
       "    .dataframe tbody tr th {\n",
       "        vertical-align: top;\n",
       "    }\n",
       "\n",
       "    .dataframe thead th {\n",
       "        text-align: right;\n",
       "    }\n",
       "</style>\n",
       "<table border=\"1\" class=\"dataframe\">\n",
       "  <thead>\n",
       "    <tr style=\"text-align: right;\">\n",
       "      <th></th>\n",
       "      <th>id</th>\n",
       "      <th>message_date</th>\n",
       "      <th>user_id</th>\n",
       "      <th>month</th>\n",
       "    </tr>\n",
       "  </thead>\n",
       "  <tbody>\n",
       "    <tr>\n",
       "      <th>0</th>\n",
       "      <td>1000_0</td>\n",
       "      <td>2018-06-27</td>\n",
       "      <td>1000</td>\n",
       "      <td>2018-06-01</td>\n",
       "    </tr>\n",
       "    <tr>\n",
       "      <th>1</th>\n",
       "      <td>1000_1</td>\n",
       "      <td>2018-10-08</td>\n",
       "      <td>1000</td>\n",
       "      <td>2018-10-01</td>\n",
       "    </tr>\n",
       "    <tr>\n",
       "      <th>2</th>\n",
       "      <td>1000_2</td>\n",
       "      <td>2018-08-04</td>\n",
       "      <td>1000</td>\n",
       "      <td>2018-08-01</td>\n",
       "    </tr>\n",
       "    <tr>\n",
       "      <th>3</th>\n",
       "      <td>1000_3</td>\n",
       "      <td>2018-06-16</td>\n",
       "      <td>1000</td>\n",
       "      <td>2018-06-01</td>\n",
       "    </tr>\n",
       "    <tr>\n",
       "      <th>4</th>\n",
       "      <td>1000_4</td>\n",
       "      <td>2018-12-05</td>\n",
       "      <td>1000</td>\n",
       "      <td>2018-12-01</td>\n",
       "    </tr>\n",
       "  </tbody>\n",
       "</table>\n",
       "</div>"
      ],
      "text/plain": [
       "       id message_date  user_id      month\n",
       "0  1000_0   2018-06-27     1000 2018-06-01\n",
       "1  1000_1   2018-10-08     1000 2018-10-01\n",
       "2  1000_2   2018-08-04     1000 2018-08-01\n",
       "3  1000_3   2018-06-16     1000 2018-06-01\n",
       "4  1000_4   2018-12-05     1000 2018-12-01"
      ]
     },
     "execution_count": 25,
     "metadata": {},
     "output_type": "execute_result"
    }
   ],
   "source": [
    "# Создание столбца через запрос формата \"месяц и год\"\n",
    "df_messages['month'] = df_messages['message_date'].astype('datetime64[M]')\n",
    "\n",
    "# Проверка - запрос первых пяти строк таблиц\n",
    "df_messages.head()"
   ]
  },
  {
   "cell_type": "markdown",
   "id": "b4a818bf",
   "metadata": {},
   "source": [
    "Наконец добавим столбец с информацией о месяце в таблицу с данными Интернет-сессий."
   ]
  },
  {
   "cell_type": "code",
   "execution_count": 26,
   "id": "129af943",
   "metadata": {},
   "outputs": [
    {
     "data": {
      "text/html": [
       "<div>\n",
       "<style scoped>\n",
       "    .dataframe tbody tr th:only-of-type {\n",
       "        vertical-align: middle;\n",
       "    }\n",
       "\n",
       "    .dataframe tbody tr th {\n",
       "        vertical-align: top;\n",
       "    }\n",
       "\n",
       "    .dataframe thead th {\n",
       "        text-align: right;\n",
       "    }\n",
       "</style>\n",
       "<table border=\"1\" class=\"dataframe\">\n",
       "  <thead>\n",
       "    <tr style=\"text-align: right;\">\n",
       "      <th></th>\n",
       "      <th>id</th>\n",
       "      <th>mb_used</th>\n",
       "      <th>session_date</th>\n",
       "      <th>user_id</th>\n",
       "      <th>month</th>\n",
       "    </tr>\n",
       "  </thead>\n",
       "  <tbody>\n",
       "    <tr>\n",
       "      <th>0</th>\n",
       "      <td>1000_0</td>\n",
       "      <td>112.95</td>\n",
       "      <td>2018-11-25</td>\n",
       "      <td>1000</td>\n",
       "      <td>2018-11-01</td>\n",
       "    </tr>\n",
       "    <tr>\n",
       "      <th>1</th>\n",
       "      <td>1000_1</td>\n",
       "      <td>1052.81</td>\n",
       "      <td>2018-09-07</td>\n",
       "      <td>1000</td>\n",
       "      <td>2018-09-01</td>\n",
       "    </tr>\n",
       "    <tr>\n",
       "      <th>2</th>\n",
       "      <td>1000_2</td>\n",
       "      <td>1197.26</td>\n",
       "      <td>2018-06-25</td>\n",
       "      <td>1000</td>\n",
       "      <td>2018-06-01</td>\n",
       "    </tr>\n",
       "    <tr>\n",
       "      <th>3</th>\n",
       "      <td>1000_3</td>\n",
       "      <td>550.27</td>\n",
       "      <td>2018-08-22</td>\n",
       "      <td>1000</td>\n",
       "      <td>2018-08-01</td>\n",
       "    </tr>\n",
       "    <tr>\n",
       "      <th>4</th>\n",
       "      <td>1000_4</td>\n",
       "      <td>302.56</td>\n",
       "      <td>2018-09-24</td>\n",
       "      <td>1000</td>\n",
       "      <td>2018-09-01</td>\n",
       "    </tr>\n",
       "  </tbody>\n",
       "</table>\n",
       "</div>"
      ],
      "text/plain": [
       "       id  mb_used session_date  user_id      month\n",
       "0  1000_0   112.95   2018-11-25     1000 2018-11-01\n",
       "1  1000_1  1052.81   2018-09-07     1000 2018-09-01\n",
       "2  1000_2  1197.26   2018-06-25     1000 2018-06-01\n",
       "3  1000_3   550.27   2018-08-22     1000 2018-08-01\n",
       "4  1000_4   302.56   2018-09-24     1000 2018-09-01"
      ]
     },
     "execution_count": 26,
     "metadata": {},
     "output_type": "execute_result"
    }
   ],
   "source": [
    "# Создание столбца через запрос формата \"месяц и год\"\n",
    "df_internet['month'] = df_internet['session_date'].astype('datetime64[M]')\n",
    "\n",
    "# Проверка - запрос первых пяти строк таблиц\n",
    "df_internet.head()"
   ]
  },
  {
   "cell_type": "markdown",
   "id": "f41d221d",
   "metadata": {},
   "source": [
    "Мы успешно добавили столбцы во все три таблицы. \n",
    "Теперь наши данные подготовлены к созданию сводной таблице по активности клиентов."
   ]
  },
  {
   "cell_type": "markdown",
   "id": "bf8abd79",
   "metadata": {},
   "source": [
    "### Объединение данных в итоговую таблицу"
   ]
  },
  {
   "cell_type": "markdown",
   "id": "5d9782f7",
   "metadata": {},
   "source": [
    "Посчитаем для каждого пользователя:\n",
    "- количество сделанных звонков по месяцам,\n",
    "- количество израсходованных минут разговора по месяцам;\n",
    "- количество отправленных сообщений по месяцам;\n",
    "- объем израсходованного интернет-трафика по месяцам;\n",
    "- помесячную выручку с каждого пользователя.\n",
    "\n",
    "Для подсчета выручки вычтем бесплатный лимит из суммарного количества звонков, сообщений и интернет-трафика; остаток умножим на значение из тарифного плана; прибавим абонентскую плату, соответствующую тарифному плану.\n",
    "\n",
    "Начнем с информации о звонках."
   ]
  },
  {
   "cell_type": "code",
   "execution_count": 27,
   "id": "d5e45cb1",
   "metadata": {},
   "outputs": [
    {
     "data": {
      "text/html": [
       "<div>\n",
       "<style scoped>\n",
       "    .dataframe tbody tr th:only-of-type {\n",
       "        vertical-align: middle;\n",
       "    }\n",
       "\n",
       "    .dataframe tbody tr th {\n",
       "        vertical-align: top;\n",
       "    }\n",
       "\n",
       "    .dataframe thead th {\n",
       "        text-align: right;\n",
       "    }\n",
       "</style>\n",
       "<table border=\"1\" class=\"dataframe\">\n",
       "  <thead>\n",
       "    <tr style=\"text-align: right;\">\n",
       "      <th></th>\n",
       "      <th></th>\n",
       "      <th>calls_count</th>\n",
       "      <th>calls_duration</th>\n",
       "    </tr>\n",
       "    <tr>\n",
       "      <th>user_id</th>\n",
       "      <th>month</th>\n",
       "      <th></th>\n",
       "      <th></th>\n",
       "    </tr>\n",
       "  </thead>\n",
       "  <tbody>\n",
       "    <tr>\n",
       "      <th rowspan=\"5\" valign=\"top\">1000</th>\n",
       "      <th>2018-05-01</th>\n",
       "      <td>22</td>\n",
       "      <td>159</td>\n",
       "    </tr>\n",
       "    <tr>\n",
       "      <th>2018-06-01</th>\n",
       "      <td>43</td>\n",
       "      <td>172</td>\n",
       "    </tr>\n",
       "    <tr>\n",
       "      <th>2018-07-01</th>\n",
       "      <td>47</td>\n",
       "      <td>340</td>\n",
       "    </tr>\n",
       "    <tr>\n",
       "      <th>2018-08-01</th>\n",
       "      <td>52</td>\n",
       "      <td>408</td>\n",
       "    </tr>\n",
       "    <tr>\n",
       "      <th>2018-09-01</th>\n",
       "      <td>58</td>\n",
       "      <td>466</td>\n",
       "    </tr>\n",
       "  </tbody>\n",
       "</table>\n",
       "</div>"
      ],
      "text/plain": [
       "                    calls_count  calls_duration\n",
       "user_id month                                  \n",
       "1000    2018-05-01           22             159\n",
       "        2018-06-01           43             172\n",
       "        2018-07-01           47             340\n",
       "        2018-08-01           52             408\n",
       "        2018-09-01           58             466"
      ]
     },
     "execution_count": 27,
     "metadata": {},
     "output_type": "execute_result"
    }
   ],
   "source": [
    "# Создание сводной таблицы по звонкам\n",
    "call_stats = df_calls.pivot_table(\n",
    "    index = ['user_id', 'month'], \n",
    "    values = 'duration_min', \n",
    "    aggfunc=['count','sum']\n",
    ")\n",
    "# Переименование столбца\n",
    "call_stats.columns = ['_'.join(col) for col in call_stats.columns.values]\n",
    "call_stats = call_stats.rename(\n",
    "    columns = {'count_duration_min': 'calls_count', 'sum_duration_min': 'calls_duration'}\n",
    ")\n",
    "# Проверка - запрос первых пяти строк таблицы\n",
    "call_stats.head()"
   ]
  },
  {
   "cell_type": "markdown",
   "id": "985fbd51",
   "metadata": {},
   "source": [
    "Добавим информацию о сообщениях. Сначала создадим соответствующую таблицу. "
   ]
  },
  {
   "cell_type": "code",
   "execution_count": 28,
   "id": "99b20635",
   "metadata": {},
   "outputs": [
    {
     "data": {
      "text/html": [
       "<div>\n",
       "<style scoped>\n",
       "    .dataframe tbody tr th:only-of-type {\n",
       "        vertical-align: middle;\n",
       "    }\n",
       "\n",
       "    .dataframe tbody tr th {\n",
       "        vertical-align: top;\n",
       "    }\n",
       "\n",
       "    .dataframe thead th {\n",
       "        text-align: right;\n",
       "    }\n",
       "</style>\n",
       "<table border=\"1\" class=\"dataframe\">\n",
       "  <thead>\n",
       "    <tr style=\"text-align: right;\">\n",
       "      <th></th>\n",
       "      <th></th>\n",
       "      <th>messages_count</th>\n",
       "    </tr>\n",
       "    <tr>\n",
       "      <th>user_id</th>\n",
       "      <th>month</th>\n",
       "      <th></th>\n",
       "    </tr>\n",
       "  </thead>\n",
       "  <tbody>\n",
       "    <tr>\n",
       "      <th rowspan=\"5\" valign=\"top\">1000</th>\n",
       "      <th>2018-05-01</th>\n",
       "      <td>22</td>\n",
       "    </tr>\n",
       "    <tr>\n",
       "      <th>2018-06-01</th>\n",
       "      <td>60</td>\n",
       "    </tr>\n",
       "    <tr>\n",
       "      <th>2018-07-01</th>\n",
       "      <td>75</td>\n",
       "    </tr>\n",
       "    <tr>\n",
       "      <th>2018-08-01</th>\n",
       "      <td>81</td>\n",
       "    </tr>\n",
       "    <tr>\n",
       "      <th>2018-09-01</th>\n",
       "      <td>57</td>\n",
       "    </tr>\n",
       "  </tbody>\n",
       "</table>\n",
       "</div>"
      ],
      "text/plain": [
       "                    messages_count\n",
       "user_id month                     \n",
       "1000    2018-05-01              22\n",
       "        2018-06-01              60\n",
       "        2018-07-01              75\n",
       "        2018-08-01              81\n",
       "        2018-09-01              57"
      ]
     },
     "execution_count": 28,
     "metadata": {},
     "output_type": "execute_result"
    }
   ],
   "source": [
    "# Создание сводной таблицы по сообщениям\n",
    "message_stats = df_messages.pivot_table(\n",
    "    index = ['user_id', 'month'], \n",
    "    values = 'id', \n",
    "    aggfunc=['count']\n",
    ")\n",
    "# Переименование столбца\n",
    "message_stats.columns = ['_'.join(col) for col in message_stats.columns.values]\n",
    "message_stats = message_stats.rename(columns = {'count_id': 'messages_count'})\n",
    "# Проверка - запрос первых пяти строк таблицы\n",
    "message_stats.head()"
   ]
  },
  {
   "cell_type": "markdown",
   "id": "dd377ab6",
   "metadata": {},
   "source": [
    "Обработаем информацию об интернет-сессиях: объединим по месяцам и переведем объем данных в гигабайты по правилам оператора. "
   ]
  },
  {
   "cell_type": "code",
   "execution_count": 29,
   "id": "579b156b",
   "metadata": {},
   "outputs": [
    {
     "data": {
      "text/html": [
       "<div>\n",
       "<style scoped>\n",
       "    .dataframe tbody tr th:only-of-type {\n",
       "        vertical-align: middle;\n",
       "    }\n",
       "\n",
       "    .dataframe tbody tr th {\n",
       "        vertical-align: top;\n",
       "    }\n",
       "\n",
       "    .dataframe thead th {\n",
       "        text-align: right;\n",
       "    }\n",
       "</style>\n",
       "<table border=\"1\" class=\"dataframe\">\n",
       "  <thead>\n",
       "    <tr style=\"text-align: right;\">\n",
       "      <th></th>\n",
       "      <th></th>\n",
       "      <th>gb_used</th>\n",
       "    </tr>\n",
       "    <tr>\n",
       "      <th>user_id</th>\n",
       "      <th>month</th>\n",
       "      <th></th>\n",
       "    </tr>\n",
       "  </thead>\n",
       "  <tbody>\n",
       "    <tr>\n",
       "      <th rowspan=\"5\" valign=\"top\">1000</th>\n",
       "      <th>2018-05-01</th>\n",
       "      <td>3.0</td>\n",
       "    </tr>\n",
       "    <tr>\n",
       "      <th>2018-06-01</th>\n",
       "      <td>23.0</td>\n",
       "    </tr>\n",
       "    <tr>\n",
       "      <th>2018-07-01</th>\n",
       "      <td>14.0</td>\n",
       "    </tr>\n",
       "    <tr>\n",
       "      <th>2018-08-01</th>\n",
       "      <td>14.0</td>\n",
       "    </tr>\n",
       "    <tr>\n",
       "      <th>2018-09-01</th>\n",
       "      <td>15.0</td>\n",
       "    </tr>\n",
       "  </tbody>\n",
       "</table>\n",
       "</div>"
      ],
      "text/plain": [
       "                    gb_used\n",
       "user_id month              \n",
       "1000    2018-05-01      3.0\n",
       "        2018-06-01     23.0\n",
       "        2018-07-01     14.0\n",
       "        2018-08-01     14.0\n",
       "        2018-09-01     15.0"
      ]
     },
     "execution_count": 29,
     "metadata": {},
     "output_type": "execute_result"
    }
   ],
   "source": [
    "# Создание сводной таблицы \n",
    "internet_stats = df_internet.pivot_table(\n",
    "    index = ['user_id', 'month'], \n",
    "    values = 'mb_used', \n",
    "    aggfunc=['sum']\n",
    ")\n",
    "# Объединение уровней заголовков\n",
    "internet_stats.columns = ['_'.join(col) for col in internet_stats.columns.values]\n",
    "\n",
    "# Перевод в гигабайты: деление на 1024 и округление в большую сторону по правилам оператора\n",
    "internet_stats['gb_used'] = np.ceil(internet_stats['sum_mb_used'] / 1024)\n",
    "\n",
    "# Удалим ненужную колонку с информацией о трафике в мегабайтах\n",
    "internet_stats.drop('sum_mb_used', axis=1, inplace=True)\n",
    "# internet_stats = internet_stats.rename(columns = {'sum_mb_used': 'mb_sum'})\n",
    "# Проверка - запрос первых пяти строк таблицы\n",
    "internet_stats.head()"
   ]
  },
  {
   "cell_type": "markdown",
   "id": "6d896df3",
   "metadata": {},
   "source": [
    "Все таблицы подготовлены. Теперь можно их объединить в одну. "
   ]
  },
  {
   "cell_type": "code",
   "execution_count": 30,
   "id": "8cf19727",
   "metadata": {},
   "outputs": [
    {
     "data": {
      "text/html": [
       "<div>\n",
       "<style scoped>\n",
       "    .dataframe tbody tr th:only-of-type {\n",
       "        vertical-align: middle;\n",
       "    }\n",
       "\n",
       "    .dataframe tbody tr th {\n",
       "        vertical-align: top;\n",
       "    }\n",
       "\n",
       "    .dataframe thead th {\n",
       "        text-align: right;\n",
       "    }\n",
       "</style>\n",
       "<table border=\"1\" class=\"dataframe\">\n",
       "  <thead>\n",
       "    <tr style=\"text-align: right;\">\n",
       "      <th></th>\n",
       "      <th></th>\n",
       "      <th>calls_count</th>\n",
       "      <th>calls_duration</th>\n",
       "      <th>messages_count</th>\n",
       "      <th>gb_used</th>\n",
       "    </tr>\n",
       "    <tr>\n",
       "      <th>user_id</th>\n",
       "      <th>month</th>\n",
       "      <th></th>\n",
       "      <th></th>\n",
       "      <th></th>\n",
       "      <th></th>\n",
       "    </tr>\n",
       "  </thead>\n",
       "  <tbody>\n",
       "    <tr>\n",
       "      <th rowspan=\"5\" valign=\"top\">1000</th>\n",
       "      <th>2018-05-01</th>\n",
       "      <td>22.0</td>\n",
       "      <td>159.0</td>\n",
       "      <td>22.0</td>\n",
       "      <td>3.0</td>\n",
       "    </tr>\n",
       "    <tr>\n",
       "      <th>2018-06-01</th>\n",
       "      <td>43.0</td>\n",
       "      <td>172.0</td>\n",
       "      <td>60.0</td>\n",
       "      <td>23.0</td>\n",
       "    </tr>\n",
       "    <tr>\n",
       "      <th>2018-07-01</th>\n",
       "      <td>47.0</td>\n",
       "      <td>340.0</td>\n",
       "      <td>75.0</td>\n",
       "      <td>14.0</td>\n",
       "    </tr>\n",
       "    <tr>\n",
       "      <th>2018-08-01</th>\n",
       "      <td>52.0</td>\n",
       "      <td>408.0</td>\n",
       "      <td>81.0</td>\n",
       "      <td>14.0</td>\n",
       "    </tr>\n",
       "    <tr>\n",
       "      <th>2018-09-01</th>\n",
       "      <td>58.0</td>\n",
       "      <td>466.0</td>\n",
       "      <td>57.0</td>\n",
       "      <td>15.0</td>\n",
       "    </tr>\n",
       "  </tbody>\n",
       "</table>\n",
       "</div>"
      ],
      "text/plain": [
       "                    calls_count  calls_duration  messages_count  gb_used\n",
       "user_id month                                                           \n",
       "1000    2018-05-01         22.0           159.0            22.0      3.0\n",
       "        2018-06-01         43.0           172.0            60.0     23.0\n",
       "        2018-07-01         47.0           340.0            75.0     14.0\n",
       "        2018-08-01         52.0           408.0            81.0     14.0\n",
       "        2018-09-01         58.0           466.0            57.0     15.0"
      ]
     },
     "execution_count": 30,
     "metadata": {},
     "output_type": "execute_result"
    }
   ],
   "source": [
    "# Объединяем таблицы звонков и сообщений по 'user_id' и месяцу. \n",
    "stats_full = pd.merge(call_stats, message_stats, on=['user_id', 'month'], how='outer')\n",
    "# Добавляем к объединенной таблице данные по интернет-сессиям\n",
    "stats_full = pd.merge(stats_full, internet_stats, on=['user_id', 'month'], how='outer')\n",
    "\n",
    "# Проверка - запрос первых пяти строк таблицы\n",
    "stats_full.head()"
   ]
  },
  {
   "cell_type": "markdown",
   "id": "ba030beb",
   "metadata": {},
   "source": [
    "Заполним пропуски в полях с количеством и длительностью звонков, количеством смс и гигабайт значением \"0\" - если в некоторых таблицах данных нет, значит эти виды связи не использовались.  "
   ]
  },
  {
   "cell_type": "code",
   "execution_count": 31,
   "id": "15265fa8",
   "metadata": {},
   "outputs": [
    {
     "data": {
      "text/plain": [
       "calls_count       0\n",
       "calls_duration    0\n",
       "messages_count    0\n",
       "gb_used           0\n",
       "dtype: int64"
      ]
     },
     "execution_count": 31,
     "metadata": {},
     "output_type": "execute_result"
    }
   ],
   "source": [
    "# Заполнение пропущенных данных значением \"0\"\n",
    "stats_full = stats_full.fillna(0)\n",
    "# Проверка - запрос суммы пропущенных значений по колонкам\n",
    "stats_full.isna().sum()"
   ]
  },
  {
   "cell_type": "markdown",
   "id": "f72d3381",
   "metadata": {},
   "source": [
    "Добавим к таблице информацию о виде тарифа и о том, живет ли клиент в столице из таблицы users."
   ]
  },
  {
   "cell_type": "code",
   "execution_count": 32,
   "id": "12babc05",
   "metadata": {
    "scrolled": false
   },
   "outputs": [
    {
     "data": {
      "text/html": [
       "<div>\n",
       "<style scoped>\n",
       "    .dataframe tbody tr th:only-of-type {\n",
       "        vertical-align: middle;\n",
       "    }\n",
       "\n",
       "    .dataframe tbody tr th {\n",
       "        vertical-align: top;\n",
       "    }\n",
       "\n",
       "    .dataframe thead th {\n",
       "        text-align: right;\n",
       "    }\n",
       "</style>\n",
       "<table border=\"1\" class=\"dataframe\">\n",
       "  <thead>\n",
       "    <tr style=\"text-align: right;\">\n",
       "      <th></th>\n",
       "      <th>user_id</th>\n",
       "      <th>calls_count</th>\n",
       "      <th>calls_duration</th>\n",
       "      <th>messages_count</th>\n",
       "      <th>gb_used</th>\n",
       "      <th>is_capital</th>\n",
       "      <th>tariff</th>\n",
       "    </tr>\n",
       "  </thead>\n",
       "  <tbody>\n",
       "    <tr>\n",
       "      <th>0</th>\n",
       "      <td>1000</td>\n",
       "      <td>22.0</td>\n",
       "      <td>159.0</td>\n",
       "      <td>22.0</td>\n",
       "      <td>3.0</td>\n",
       "      <td>False</td>\n",
       "      <td>ultra</td>\n",
       "    </tr>\n",
       "    <tr>\n",
       "      <th>1</th>\n",
       "      <td>1000</td>\n",
       "      <td>43.0</td>\n",
       "      <td>172.0</td>\n",
       "      <td>60.0</td>\n",
       "      <td>23.0</td>\n",
       "      <td>False</td>\n",
       "      <td>ultra</td>\n",
       "    </tr>\n",
       "    <tr>\n",
       "      <th>2</th>\n",
       "      <td>1000</td>\n",
       "      <td>47.0</td>\n",
       "      <td>340.0</td>\n",
       "      <td>75.0</td>\n",
       "      <td>14.0</td>\n",
       "      <td>False</td>\n",
       "      <td>ultra</td>\n",
       "    </tr>\n",
       "    <tr>\n",
       "      <th>3</th>\n",
       "      <td>1000</td>\n",
       "      <td>52.0</td>\n",
       "      <td>408.0</td>\n",
       "      <td>81.0</td>\n",
       "      <td>14.0</td>\n",
       "      <td>False</td>\n",
       "      <td>ultra</td>\n",
       "    </tr>\n",
       "    <tr>\n",
       "      <th>4</th>\n",
       "      <td>1000</td>\n",
       "      <td>58.0</td>\n",
       "      <td>466.0</td>\n",
       "      <td>57.0</td>\n",
       "      <td>15.0</td>\n",
       "      <td>False</td>\n",
       "      <td>ultra</td>\n",
       "    </tr>\n",
       "  </tbody>\n",
       "</table>\n",
       "</div>"
      ],
      "text/plain": [
       "   user_id  calls_count  calls_duration  messages_count  gb_used  is_capital  \\\n",
       "0     1000         22.0           159.0            22.0      3.0       False   \n",
       "1     1000         43.0           172.0            60.0     23.0       False   \n",
       "2     1000         47.0           340.0            75.0     14.0       False   \n",
       "3     1000         52.0           408.0            81.0     14.0       False   \n",
       "4     1000         58.0           466.0            57.0     15.0       False   \n",
       "\n",
       "  tariff  \n",
       "0  ultra  \n",
       "1  ultra  \n",
       "2  ultra  \n",
       "3  ultra  \n",
       "4  ultra  "
      ]
     },
     "execution_count": 32,
     "metadata": {},
     "output_type": "execute_result"
    }
   ],
   "source": [
    "# Объединение таблицы stats и некоторых столбцов с информацией о пользователях.\n",
    "stats_full = pd.merge(stats_full, df_users[['user_id', 'is_capital','tariff']], on='user_id')\n",
    "# Проверка - запрос первых пяти строк таблицы\n",
    "stats_full.head()"
   ]
  },
  {
   "cell_type": "markdown",
   "id": "0524750c",
   "metadata": {},
   "source": [
    "Для проведения расчетов объединим получившуюся таблицу и таблицу с информацией о тарифах."
   ]
  },
  {
   "cell_type": "code",
   "execution_count": 33,
   "id": "17d2725f",
   "metadata": {},
   "outputs": [
    {
     "data": {
      "text/html": [
       "<div>\n",
       "<style scoped>\n",
       "    .dataframe tbody tr th:only-of-type {\n",
       "        vertical-align: middle;\n",
       "    }\n",
       "\n",
       "    .dataframe tbody tr th {\n",
       "        vertical-align: top;\n",
       "    }\n",
       "\n",
       "    .dataframe thead th {\n",
       "        text-align: right;\n",
       "    }\n",
       "</style>\n",
       "<table border=\"1\" class=\"dataframe\">\n",
       "  <thead>\n",
       "    <tr style=\"text-align: right;\">\n",
       "      <th></th>\n",
       "      <th>user_id</th>\n",
       "      <th>calls_count</th>\n",
       "      <th>calls_duration</th>\n",
       "      <th>messages_count</th>\n",
       "      <th>gb_used</th>\n",
       "      <th>is_capital</th>\n",
       "      <th>tariff</th>\n",
       "      <th>messages_included</th>\n",
       "      <th>mb_per_month_included</th>\n",
       "      <th>minutes_included</th>\n",
       "      <th>rub_monthly_fee</th>\n",
       "      <th>rub_per_gb</th>\n",
       "      <th>rub_per_message</th>\n",
       "      <th>rub_per_minute</th>\n",
       "    </tr>\n",
       "  </thead>\n",
       "  <tbody>\n",
       "    <tr>\n",
       "      <th>0</th>\n",
       "      <td>1000</td>\n",
       "      <td>22.0</td>\n",
       "      <td>159.0</td>\n",
       "      <td>22.0</td>\n",
       "      <td>3.0</td>\n",
       "      <td>False</td>\n",
       "      <td>ultra</td>\n",
       "      <td>1000</td>\n",
       "      <td>30720</td>\n",
       "      <td>3000</td>\n",
       "      <td>1950</td>\n",
       "      <td>150</td>\n",
       "      <td>1</td>\n",
       "      <td>1</td>\n",
       "    </tr>\n",
       "    <tr>\n",
       "      <th>1</th>\n",
       "      <td>1000</td>\n",
       "      <td>43.0</td>\n",
       "      <td>172.0</td>\n",
       "      <td>60.0</td>\n",
       "      <td>23.0</td>\n",
       "      <td>False</td>\n",
       "      <td>ultra</td>\n",
       "      <td>1000</td>\n",
       "      <td>30720</td>\n",
       "      <td>3000</td>\n",
       "      <td>1950</td>\n",
       "      <td>150</td>\n",
       "      <td>1</td>\n",
       "      <td>1</td>\n",
       "    </tr>\n",
       "    <tr>\n",
       "      <th>2</th>\n",
       "      <td>1000</td>\n",
       "      <td>47.0</td>\n",
       "      <td>340.0</td>\n",
       "      <td>75.0</td>\n",
       "      <td>14.0</td>\n",
       "      <td>False</td>\n",
       "      <td>ultra</td>\n",
       "      <td>1000</td>\n",
       "      <td>30720</td>\n",
       "      <td>3000</td>\n",
       "      <td>1950</td>\n",
       "      <td>150</td>\n",
       "      <td>1</td>\n",
       "      <td>1</td>\n",
       "    </tr>\n",
       "    <tr>\n",
       "      <th>3</th>\n",
       "      <td>1000</td>\n",
       "      <td>52.0</td>\n",
       "      <td>408.0</td>\n",
       "      <td>81.0</td>\n",
       "      <td>14.0</td>\n",
       "      <td>False</td>\n",
       "      <td>ultra</td>\n",
       "      <td>1000</td>\n",
       "      <td>30720</td>\n",
       "      <td>3000</td>\n",
       "      <td>1950</td>\n",
       "      <td>150</td>\n",
       "      <td>1</td>\n",
       "      <td>1</td>\n",
       "    </tr>\n",
       "    <tr>\n",
       "      <th>4</th>\n",
       "      <td>1000</td>\n",
       "      <td>58.0</td>\n",
       "      <td>466.0</td>\n",
       "      <td>57.0</td>\n",
       "      <td>15.0</td>\n",
       "      <td>False</td>\n",
       "      <td>ultra</td>\n",
       "      <td>1000</td>\n",
       "      <td>30720</td>\n",
       "      <td>3000</td>\n",
       "      <td>1950</td>\n",
       "      <td>150</td>\n",
       "      <td>1</td>\n",
       "      <td>1</td>\n",
       "    </tr>\n",
       "  </tbody>\n",
       "</table>\n",
       "</div>"
      ],
      "text/plain": [
       "   user_id  calls_count  calls_duration  messages_count  gb_used  is_capital  \\\n",
       "0     1000         22.0           159.0            22.0      3.0       False   \n",
       "1     1000         43.0           172.0            60.0     23.0       False   \n",
       "2     1000         47.0           340.0            75.0     14.0       False   \n",
       "3     1000         52.0           408.0            81.0     14.0       False   \n",
       "4     1000         58.0           466.0            57.0     15.0       False   \n",
       "\n",
       "  tariff  messages_included  mb_per_month_included  minutes_included  \\\n",
       "0  ultra               1000                  30720              3000   \n",
       "1  ultra               1000                  30720              3000   \n",
       "2  ultra               1000                  30720              3000   \n",
       "3  ultra               1000                  30720              3000   \n",
       "4  ultra               1000                  30720              3000   \n",
       "\n",
       "   rub_monthly_fee  rub_per_gb  rub_per_message  rub_per_minute  \n",
       "0             1950         150                1               1  \n",
       "1             1950         150                1               1  \n",
       "2             1950         150                1               1  \n",
       "3             1950         150                1               1  \n",
       "4             1950         150                1               1  "
      ]
     },
     "execution_count": 33,
     "metadata": {},
     "output_type": "execute_result"
    }
   ],
   "source": [
    "# Объединение таблицы с информацией о тарифах\n",
    "stats_full = stats_full.join(df_tariffs.set_index('tariff_name'), how='left', on='tariff')\n",
    "# Проверка - запрос первых пяти строк таблицы\n",
    "stats_full.head()"
   ]
  },
  {
   "cell_type": "code",
   "execution_count": 34,
   "id": "5435cf63",
   "metadata": {
    "scrolled": true
   },
   "outputs": [
    {
     "data": {
      "text/html": [
       "<div>\n",
       "<style scoped>\n",
       "    .dataframe tbody tr th:only-of-type {\n",
       "        vertical-align: middle;\n",
       "    }\n",
       "\n",
       "    .dataframe tbody tr th {\n",
       "        vertical-align: top;\n",
       "    }\n",
       "\n",
       "    .dataframe thead th {\n",
       "        text-align: right;\n",
       "    }\n",
       "</style>\n",
       "<table border=\"1\" class=\"dataframe\">\n",
       "  <thead>\n",
       "    <tr style=\"text-align: right;\">\n",
       "      <th></th>\n",
       "      <th>user_id</th>\n",
       "      <th>calls_count</th>\n",
       "      <th>calls_duration</th>\n",
       "      <th>messages_count</th>\n",
       "      <th>gb_used</th>\n",
       "      <th>is_capital</th>\n",
       "      <th>tariff</th>\n",
       "      <th>messages_included</th>\n",
       "      <th>mb_per_month_included</th>\n",
       "      <th>minutes_included</th>\n",
       "      <th>rub_monthly_fee</th>\n",
       "      <th>rub_per_gb</th>\n",
       "      <th>rub_per_message</th>\n",
       "      <th>rub_per_minute</th>\n",
       "      <th>revenue</th>\n",
       "    </tr>\n",
       "  </thead>\n",
       "  <tbody>\n",
       "    <tr>\n",
       "      <th>0</th>\n",
       "      <td>1000</td>\n",
       "      <td>22.0</td>\n",
       "      <td>159.0</td>\n",
       "      <td>22.0</td>\n",
       "      <td>3.0</td>\n",
       "      <td>False</td>\n",
       "      <td>ultra</td>\n",
       "      <td>1000</td>\n",
       "      <td>30720</td>\n",
       "      <td>3000</td>\n",
       "      <td>1950</td>\n",
       "      <td>150</td>\n",
       "      <td>1</td>\n",
       "      <td>1</td>\n",
       "      <td>1950.0</td>\n",
       "    </tr>\n",
       "    <tr>\n",
       "      <th>1</th>\n",
       "      <td>1000</td>\n",
       "      <td>43.0</td>\n",
       "      <td>172.0</td>\n",
       "      <td>60.0</td>\n",
       "      <td>23.0</td>\n",
       "      <td>False</td>\n",
       "      <td>ultra</td>\n",
       "      <td>1000</td>\n",
       "      <td>30720</td>\n",
       "      <td>3000</td>\n",
       "      <td>1950</td>\n",
       "      <td>150</td>\n",
       "      <td>1</td>\n",
       "      <td>1</td>\n",
       "      <td>1950.0</td>\n",
       "    </tr>\n",
       "    <tr>\n",
       "      <th>2</th>\n",
       "      <td>1000</td>\n",
       "      <td>47.0</td>\n",
       "      <td>340.0</td>\n",
       "      <td>75.0</td>\n",
       "      <td>14.0</td>\n",
       "      <td>False</td>\n",
       "      <td>ultra</td>\n",
       "      <td>1000</td>\n",
       "      <td>30720</td>\n",
       "      <td>3000</td>\n",
       "      <td>1950</td>\n",
       "      <td>150</td>\n",
       "      <td>1</td>\n",
       "      <td>1</td>\n",
       "      <td>1950.0</td>\n",
       "    </tr>\n",
       "    <tr>\n",
       "      <th>3</th>\n",
       "      <td>1000</td>\n",
       "      <td>52.0</td>\n",
       "      <td>408.0</td>\n",
       "      <td>81.0</td>\n",
       "      <td>14.0</td>\n",
       "      <td>False</td>\n",
       "      <td>ultra</td>\n",
       "      <td>1000</td>\n",
       "      <td>30720</td>\n",
       "      <td>3000</td>\n",
       "      <td>1950</td>\n",
       "      <td>150</td>\n",
       "      <td>1</td>\n",
       "      <td>1</td>\n",
       "      <td>1950.0</td>\n",
       "    </tr>\n",
       "    <tr>\n",
       "      <th>4</th>\n",
       "      <td>1000</td>\n",
       "      <td>58.0</td>\n",
       "      <td>466.0</td>\n",
       "      <td>57.0</td>\n",
       "      <td>15.0</td>\n",
       "      <td>False</td>\n",
       "      <td>ultra</td>\n",
       "      <td>1000</td>\n",
       "      <td>30720</td>\n",
       "      <td>3000</td>\n",
       "      <td>1950</td>\n",
       "      <td>150</td>\n",
       "      <td>1</td>\n",
       "      <td>1</td>\n",
       "      <td>1950.0</td>\n",
       "    </tr>\n",
       "    <tr>\n",
       "      <th>5</th>\n",
       "      <td>1000</td>\n",
       "      <td>57.0</td>\n",
       "      <td>350.0</td>\n",
       "      <td>73.0</td>\n",
       "      <td>15.0</td>\n",
       "      <td>False</td>\n",
       "      <td>ultra</td>\n",
       "      <td>1000</td>\n",
       "      <td>30720</td>\n",
       "      <td>3000</td>\n",
       "      <td>1950</td>\n",
       "      <td>150</td>\n",
       "      <td>1</td>\n",
       "      <td>1</td>\n",
       "      <td>1950.0</td>\n",
       "    </tr>\n",
       "    <tr>\n",
       "      <th>6</th>\n",
       "      <td>1000</td>\n",
       "      <td>43.0</td>\n",
       "      <td>338.0</td>\n",
       "      <td>58.0</td>\n",
       "      <td>15.0</td>\n",
       "      <td>False</td>\n",
       "      <td>ultra</td>\n",
       "      <td>1000</td>\n",
       "      <td>30720</td>\n",
       "      <td>3000</td>\n",
       "      <td>1950</td>\n",
       "      <td>150</td>\n",
       "      <td>1</td>\n",
       "      <td>1</td>\n",
       "      <td>1950.0</td>\n",
       "    </tr>\n",
       "    <tr>\n",
       "      <th>7</th>\n",
       "      <td>1000</td>\n",
       "      <td>46.0</td>\n",
       "      <td>333.0</td>\n",
       "      <td>70.0</td>\n",
       "      <td>10.0</td>\n",
       "      <td>False</td>\n",
       "      <td>ultra</td>\n",
       "      <td>1000</td>\n",
       "      <td>30720</td>\n",
       "      <td>3000</td>\n",
       "      <td>1950</td>\n",
       "      <td>150</td>\n",
       "      <td>1</td>\n",
       "      <td>1</td>\n",
       "      <td>1950.0</td>\n",
       "    </tr>\n",
       "    <tr>\n",
       "      <th>8</th>\n",
       "      <td>1001</td>\n",
       "      <td>59.0</td>\n",
       "      <td>430.0</td>\n",
       "      <td>0.0</td>\n",
       "      <td>18.0</td>\n",
       "      <td>True</td>\n",
       "      <td>smart</td>\n",
       "      <td>50</td>\n",
       "      <td>15360</td>\n",
       "      <td>500</td>\n",
       "      <td>550</td>\n",
       "      <td>200</td>\n",
       "      <td>3</td>\n",
       "      <td>3</td>\n",
       "      <td>1150.0</td>\n",
       "    </tr>\n",
       "    <tr>\n",
       "      <th>9</th>\n",
       "      <td>1001</td>\n",
       "      <td>63.0</td>\n",
       "      <td>414.0</td>\n",
       "      <td>0.0</td>\n",
       "      <td>14.0</td>\n",
       "      <td>True</td>\n",
       "      <td>smart</td>\n",
       "      <td>50</td>\n",
       "      <td>15360</td>\n",
       "      <td>500</td>\n",
       "      <td>550</td>\n",
       "      <td>200</td>\n",
       "      <td>3</td>\n",
       "      <td>3</td>\n",
       "      <td>550.0</td>\n",
       "    </tr>\n",
       "  </tbody>\n",
       "</table>\n",
       "</div>"
      ],
      "text/plain": [
       "   user_id  calls_count  calls_duration  messages_count  gb_used  is_capital  \\\n",
       "0     1000         22.0           159.0            22.0      3.0       False   \n",
       "1     1000         43.0           172.0            60.0     23.0       False   \n",
       "2     1000         47.0           340.0            75.0     14.0       False   \n",
       "3     1000         52.0           408.0            81.0     14.0       False   \n",
       "4     1000         58.0           466.0            57.0     15.0       False   \n",
       "5     1000         57.0           350.0            73.0     15.0       False   \n",
       "6     1000         43.0           338.0            58.0     15.0       False   \n",
       "7     1000         46.0           333.0            70.0     10.0       False   \n",
       "8     1001         59.0           430.0             0.0     18.0        True   \n",
       "9     1001         63.0           414.0             0.0     14.0        True   \n",
       "\n",
       "  tariff  messages_included  mb_per_month_included  minutes_included  \\\n",
       "0  ultra               1000                  30720              3000   \n",
       "1  ultra               1000                  30720              3000   \n",
       "2  ultra               1000                  30720              3000   \n",
       "3  ultra               1000                  30720              3000   \n",
       "4  ultra               1000                  30720              3000   \n",
       "5  ultra               1000                  30720              3000   \n",
       "6  ultra               1000                  30720              3000   \n",
       "7  ultra               1000                  30720              3000   \n",
       "8  smart                 50                  15360               500   \n",
       "9  smart                 50                  15360               500   \n",
       "\n",
       "   rub_monthly_fee  rub_per_gb  rub_per_message  rub_per_minute  revenue  \n",
       "0             1950         150                1               1   1950.0  \n",
       "1             1950         150                1               1   1950.0  \n",
       "2             1950         150                1               1   1950.0  \n",
       "3             1950         150                1               1   1950.0  \n",
       "4             1950         150                1               1   1950.0  \n",
       "5             1950         150                1               1   1950.0  \n",
       "6             1950         150                1               1   1950.0  \n",
       "7             1950         150                1               1   1950.0  \n",
       "8              550         200                3               3   1150.0  \n",
       "9              550         200                3               3    550.0  "
      ]
     },
     "execution_count": 34,
     "metadata": {},
     "output_type": "execute_result"
    }
   ],
   "source": [
    "# Расчет дохода по правилам тарифа\n",
    "stats_full['revenue'] = (\n",
    "    stats_full.calls_duration > stats_full.minutes_included) * (\n",
    "    (stats_full.calls_duration - stats_full.minutes_included) * stats_full.rub_per_minute) + (\n",
    "    stats_full.messages_count > stats_full.messages_included) * (\n",
    "    (stats_full.messages_count - stats_full.messages_included) * stats_full.rub_per_message) +(\n",
    "    stats_full.gb_used > stats_full.mb_per_month_included / 1024) * (\n",
    "    (stats_full.gb_used - stats_full.mb_per_month_included / 1024) * stats_full.rub_per_gb\n",
    ") +stats_full.rub_monthly_fee\n",
    "\n",
    "# Проверка - запрос первых 10 строк таблицы\n",
    "stats_full.head(10)"
   ]
  },
  {
   "cell_type": "markdown",
   "id": "f09a6423",
   "metadata": {},
   "source": [
    "Мы рассчитали ежемесячный доход от каждого пользователя. Теперь сохраним результаты в компактную таблицу с только необходимыми для анализа колонками."
   ]
  },
  {
   "cell_type": "code",
   "execution_count": 35,
   "id": "9e24a64c",
   "metadata": {},
   "outputs": [
    {
     "name": "stdout",
     "output_type": "stream",
     "text": [
      "Всего записей в таблице с информацией об активности клиентов - 3214\n"
     ]
    },
    {
     "data": {
      "text/html": [
       "<div>\n",
       "<style scoped>\n",
       "    .dataframe tbody tr th:only-of-type {\n",
       "        vertical-align: middle;\n",
       "    }\n",
       "\n",
       "    .dataframe tbody tr th {\n",
       "        vertical-align: top;\n",
       "    }\n",
       "\n",
       "    .dataframe thead th {\n",
       "        text-align: right;\n",
       "    }\n",
       "</style>\n",
       "<table border=\"1\" class=\"dataframe\">\n",
       "  <thead>\n",
       "    <tr style=\"text-align: right;\">\n",
       "      <th></th>\n",
       "      <th>user_id</th>\n",
       "      <th>calls_count</th>\n",
       "      <th>calls_duration</th>\n",
       "      <th>messages_count</th>\n",
       "      <th>gb_used</th>\n",
       "      <th>revenue</th>\n",
       "      <th>is_capital</th>\n",
       "      <th>tariff</th>\n",
       "    </tr>\n",
       "  </thead>\n",
       "  <tbody>\n",
       "    <tr>\n",
       "      <th>0</th>\n",
       "      <td>1000</td>\n",
       "      <td>22.0</td>\n",
       "      <td>159.0</td>\n",
       "      <td>22.0</td>\n",
       "      <td>3.0</td>\n",
       "      <td>1950.0</td>\n",
       "      <td>False</td>\n",
       "      <td>ultra</td>\n",
       "    </tr>\n",
       "    <tr>\n",
       "      <th>1</th>\n",
       "      <td>1000</td>\n",
       "      <td>43.0</td>\n",
       "      <td>172.0</td>\n",
       "      <td>60.0</td>\n",
       "      <td>23.0</td>\n",
       "      <td>1950.0</td>\n",
       "      <td>False</td>\n",
       "      <td>ultra</td>\n",
       "    </tr>\n",
       "    <tr>\n",
       "      <th>2</th>\n",
       "      <td>1000</td>\n",
       "      <td>47.0</td>\n",
       "      <td>340.0</td>\n",
       "      <td>75.0</td>\n",
       "      <td>14.0</td>\n",
       "      <td>1950.0</td>\n",
       "      <td>False</td>\n",
       "      <td>ultra</td>\n",
       "    </tr>\n",
       "    <tr>\n",
       "      <th>3</th>\n",
       "      <td>1000</td>\n",
       "      <td>52.0</td>\n",
       "      <td>408.0</td>\n",
       "      <td>81.0</td>\n",
       "      <td>14.0</td>\n",
       "      <td>1950.0</td>\n",
       "      <td>False</td>\n",
       "      <td>ultra</td>\n",
       "    </tr>\n",
       "    <tr>\n",
       "      <th>4</th>\n",
       "      <td>1000</td>\n",
       "      <td>58.0</td>\n",
       "      <td>466.0</td>\n",
       "      <td>57.0</td>\n",
       "      <td>15.0</td>\n",
       "      <td>1950.0</td>\n",
       "      <td>False</td>\n",
       "      <td>ultra</td>\n",
       "    </tr>\n",
       "  </tbody>\n",
       "</table>\n",
       "</div>"
      ],
      "text/plain": [
       "   user_id  calls_count  calls_duration  messages_count  gb_used  revenue  \\\n",
       "0     1000         22.0           159.0            22.0      3.0   1950.0   \n",
       "1     1000         43.0           172.0            60.0     23.0   1950.0   \n",
       "2     1000         47.0           340.0            75.0     14.0   1950.0   \n",
       "3     1000         52.0           408.0            81.0     14.0   1950.0   \n",
       "4     1000         58.0           466.0            57.0     15.0   1950.0   \n",
       "\n",
       "   is_capital tariff  \n",
       "0       False  ultra  \n",
       "1       False  ultra  \n",
       "2       False  ultra  \n",
       "3       False  ultra  \n",
       "4       False  ultra  "
      ]
     },
     "execution_count": 35,
     "metadata": {},
     "output_type": "execute_result"
    }
   ],
   "source": [
    "# Создание новой таблицы с главными колонками из общей таблицы для анализа\n",
    "stats = stats_full[[\n",
    "    'user_id', \n",
    "    'calls_count', \n",
    "    'calls_duration', \n",
    "    'messages_count', \n",
    "    'gb_used', \n",
    "    'revenue', \n",
    "    'is_capital', \n",
    "    'tariff' ]] \n",
    "print('Всего записей в таблице с информацией об активности клиентов -', len(stats))\n",
    "# Проверка - запрос первых 5 строк таблицы\n",
    "stats.head()"
   ]
  },
  {
   "cell_type": "markdown",
   "id": "af4bce16",
   "metadata": {},
   "source": [
    "Создадим также две отдельных таблицы с информацией по пользователям разных тарифов."
   ]
  },
  {
   "cell_type": "code",
   "execution_count": 36,
   "id": "edbf2e01",
   "metadata": {},
   "outputs": [
    {
     "name": "stdout",
     "output_type": "stream",
     "text": [
      "Всего записей в таблице с информацией об абонентах тарифа ultra -  985\n"
     ]
    },
    {
     "data": {
      "text/html": [
       "<div>\n",
       "<style scoped>\n",
       "    .dataframe tbody tr th:only-of-type {\n",
       "        vertical-align: middle;\n",
       "    }\n",
       "\n",
       "    .dataframe tbody tr th {\n",
       "        vertical-align: top;\n",
       "    }\n",
       "\n",
       "    .dataframe thead th {\n",
       "        text-align: right;\n",
       "    }\n",
       "</style>\n",
       "<table border=\"1\" class=\"dataframe\">\n",
       "  <thead>\n",
       "    <tr style=\"text-align: right;\">\n",
       "      <th></th>\n",
       "      <th>user_id</th>\n",
       "      <th>calls_count</th>\n",
       "      <th>calls_duration</th>\n",
       "      <th>messages_count</th>\n",
       "      <th>gb_used</th>\n",
       "      <th>revenue</th>\n",
       "      <th>is_capital</th>\n",
       "      <th>tariff</th>\n",
       "    </tr>\n",
       "  </thead>\n",
       "  <tbody>\n",
       "    <tr>\n",
       "      <th>0</th>\n",
       "      <td>1000</td>\n",
       "      <td>22.0</td>\n",
       "      <td>159.0</td>\n",
       "      <td>22.0</td>\n",
       "      <td>3.0</td>\n",
       "      <td>1950.0</td>\n",
       "      <td>False</td>\n",
       "      <td>ultra</td>\n",
       "    </tr>\n",
       "    <tr>\n",
       "      <th>1</th>\n",
       "      <td>1000</td>\n",
       "      <td>43.0</td>\n",
       "      <td>172.0</td>\n",
       "      <td>60.0</td>\n",
       "      <td>23.0</td>\n",
       "      <td>1950.0</td>\n",
       "      <td>False</td>\n",
       "      <td>ultra</td>\n",
       "    </tr>\n",
       "    <tr>\n",
       "      <th>2</th>\n",
       "      <td>1000</td>\n",
       "      <td>47.0</td>\n",
       "      <td>340.0</td>\n",
       "      <td>75.0</td>\n",
       "      <td>14.0</td>\n",
       "      <td>1950.0</td>\n",
       "      <td>False</td>\n",
       "      <td>ultra</td>\n",
       "    </tr>\n",
       "    <tr>\n",
       "      <th>3</th>\n",
       "      <td>1000</td>\n",
       "      <td>52.0</td>\n",
       "      <td>408.0</td>\n",
       "      <td>81.0</td>\n",
       "      <td>14.0</td>\n",
       "      <td>1950.0</td>\n",
       "      <td>False</td>\n",
       "      <td>ultra</td>\n",
       "    </tr>\n",
       "    <tr>\n",
       "      <th>4</th>\n",
       "      <td>1000</td>\n",
       "      <td>58.0</td>\n",
       "      <td>466.0</td>\n",
       "      <td>57.0</td>\n",
       "      <td>15.0</td>\n",
       "      <td>1950.0</td>\n",
       "      <td>False</td>\n",
       "      <td>ultra</td>\n",
       "    </tr>\n",
       "  </tbody>\n",
       "</table>\n",
       "</div>"
      ],
      "text/plain": [
       "   user_id  calls_count  calls_duration  messages_count  gb_used  revenue  \\\n",
       "0     1000         22.0           159.0            22.0      3.0   1950.0   \n",
       "1     1000         43.0           172.0            60.0     23.0   1950.0   \n",
       "2     1000         47.0           340.0            75.0     14.0   1950.0   \n",
       "3     1000         52.0           408.0            81.0     14.0   1950.0   \n",
       "4     1000         58.0           466.0            57.0     15.0   1950.0   \n",
       "\n",
       "   is_capital tariff  \n",
       "0       False  ultra  \n",
       "1       False  ultra  \n",
       "2       False  ultra  \n",
       "3       False  ultra  \n",
       "4       False  ultra  "
      ]
     },
     "execution_count": 36,
     "metadata": {},
     "output_type": "execute_result"
    }
   ],
   "source": [
    "# Создание таблицы с выборкой по тарифу\n",
    "stats_ultra = stats.query('tariff == \"ultra\"')\n",
    "print('Всего записей в таблице с информацией об абонентах тарифа ultra - ', len(stats_ultra))\n",
    "# Проверка - запрос первых 5 строк таблицы\n",
    "stats_ultra.head()"
   ]
  },
  {
   "cell_type": "markdown",
   "id": "8963caec",
   "metadata": {},
   "source": [
    "Таблица с информацией об активности абонентов ultra создана. Создадим такую же таблицу по тарифу smart."
   ]
  },
  {
   "cell_type": "code",
   "execution_count": 37,
   "id": "8279efd2",
   "metadata": {},
   "outputs": [
    {
     "name": "stdout",
     "output_type": "stream",
     "text": [
      "Всего записей в таблице с информацией об абонентах тарифа smart -  2229\n"
     ]
    },
    {
     "data": {
      "text/html": [
       "<div>\n",
       "<style scoped>\n",
       "    .dataframe tbody tr th:only-of-type {\n",
       "        vertical-align: middle;\n",
       "    }\n",
       "\n",
       "    .dataframe tbody tr th {\n",
       "        vertical-align: top;\n",
       "    }\n",
       "\n",
       "    .dataframe thead th {\n",
       "        text-align: right;\n",
       "    }\n",
       "</style>\n",
       "<table border=\"1\" class=\"dataframe\">\n",
       "  <thead>\n",
       "    <tr style=\"text-align: right;\">\n",
       "      <th></th>\n",
       "      <th>user_id</th>\n",
       "      <th>calls_count</th>\n",
       "      <th>calls_duration</th>\n",
       "      <th>messages_count</th>\n",
       "      <th>gb_used</th>\n",
       "      <th>revenue</th>\n",
       "      <th>is_capital</th>\n",
       "      <th>tariff</th>\n",
       "    </tr>\n",
       "  </thead>\n",
       "  <tbody>\n",
       "    <tr>\n",
       "      <th>8</th>\n",
       "      <td>1001</td>\n",
       "      <td>59.0</td>\n",
       "      <td>430.0</td>\n",
       "      <td>0.0</td>\n",
       "      <td>18.0</td>\n",
       "      <td>1150.0</td>\n",
       "      <td>True</td>\n",
       "      <td>smart</td>\n",
       "    </tr>\n",
       "    <tr>\n",
       "      <th>9</th>\n",
       "      <td>1001</td>\n",
       "      <td>63.0</td>\n",
       "      <td>414.0</td>\n",
       "      <td>0.0</td>\n",
       "      <td>14.0</td>\n",
       "      <td>550.0</td>\n",
       "      <td>True</td>\n",
       "      <td>smart</td>\n",
       "    </tr>\n",
       "    <tr>\n",
       "      <th>10</th>\n",
       "      <td>1002</td>\n",
       "      <td>15.0</td>\n",
       "      <td>117.0</td>\n",
       "      <td>4.0</td>\n",
       "      <td>11.0</td>\n",
       "      <td>550.0</td>\n",
       "      <td>False</td>\n",
       "      <td>smart</td>\n",
       "    </tr>\n",
       "    <tr>\n",
       "      <th>11</th>\n",
       "      <td>1002</td>\n",
       "      <td>26.0</td>\n",
       "      <td>214.0</td>\n",
       "      <td>11.0</td>\n",
       "      <td>18.0</td>\n",
       "      <td>1150.0</td>\n",
       "      <td>False</td>\n",
       "      <td>smart</td>\n",
       "    </tr>\n",
       "    <tr>\n",
       "      <th>12</th>\n",
       "      <td>1002</td>\n",
       "      <td>42.0</td>\n",
       "      <td>289.0</td>\n",
       "      <td>13.0</td>\n",
       "      <td>20.0</td>\n",
       "      <td>1550.0</td>\n",
       "      <td>False</td>\n",
       "      <td>smart</td>\n",
       "    </tr>\n",
       "  </tbody>\n",
       "</table>\n",
       "</div>"
      ],
      "text/plain": [
       "    user_id  calls_count  calls_duration  messages_count  gb_used  revenue  \\\n",
       "8      1001         59.0           430.0             0.0     18.0   1150.0   \n",
       "9      1001         63.0           414.0             0.0     14.0    550.0   \n",
       "10     1002         15.0           117.0             4.0     11.0    550.0   \n",
       "11     1002         26.0           214.0            11.0     18.0   1150.0   \n",
       "12     1002         42.0           289.0            13.0     20.0   1550.0   \n",
       "\n",
       "    is_capital tariff  \n",
       "8         True  smart  \n",
       "9         True  smart  \n",
       "10       False  smart  \n",
       "11       False  smart  \n",
       "12       False  smart  "
      ]
     },
     "execution_count": 37,
     "metadata": {},
     "output_type": "execute_result"
    }
   ],
   "source": [
    "# Создание таблицы с выборкой по тарифу\n",
    "stats_smart = stats.query('tariff == \"smart\"')\n",
    "print('Всего записей в таблице с информацией об абонентах тарифа smart - ', len(stats_smart))\n",
    "# Проверка - запрос первых 5 строк таблицы\n",
    "stats_smart.head()"
   ]
  },
  {
   "cell_type": "markdown",
   "id": "c3de44c4",
   "metadata": {},
   "source": [
    "Таблица с информацие по активности абонентов тарифа smart также готова. Их гораздо больше. Теперь данные готовы к анализу. Мы можем сравнить тарифы и выбрать наиболее прибыльный."
   ]
  },
  {
   "cell_type": "markdown",
   "id": "b2ecc2a7",
   "metadata": {},
   "source": [
    "## Исследовательский анализ"
   ]
  },
  {
   "cell_type": "markdown",
   "id": "ba4f68f1",
   "metadata": {},
   "source": [
    "Опишем поведение клиентов оператора, исходя из выборки. \n",
    "Для этого посчитаем среднее количество, дисперсию и стандартное отклонение показателей основных видов связи:\n",
    "- сколько минут разговора, \n",
    "- сколько сообщений \n",
    "- какой объём интернет-трафика \n",
    "\n",
    "требуется пользователям каждого тарифа в месяц? \n",
    " \n",
    "Построим гистограммы и опишем распределение."
   ]
  },
  {
   "cell_type": "markdown",
   "id": "6aedf2f3",
   "metadata": {},
   "source": [
    "### Голосовая связь"
   ]
  },
  {
   "cell_type": "markdown",
   "id": "0cc8e797",
   "metadata": {},
   "source": [
    "Изучим основные параметры времени разговоров. Рассчитаем среднее, дисперсию и стандартное отклонение."
   ]
  },
  {
   "cell_type": "code",
   "execution_count": 38,
   "id": "e1e13d3a",
   "metadata": {},
   "outputs": [
    {
     "name": "stdout",
     "output_type": "stream",
     "text": [
      "Для абонентов тарифа 'ultra' cреднее количество минут в месяц - 526.6 , а медианное - 518.0\n",
      "Для абонентов тарифа 'ultra' общая дисперсия - 100873.6\n",
      "Для абонентов тарифа 'ultra' cтандартное отклонение - 317.6\n"
     ]
    },
    {
     "data": {
      "image/png": "[encoded data removed]",
      "text/plain": [
       "<Figure size 720x360 with 1 Axes>"
      ]
     },
     "metadata": {
      "needs_background": "light"
     },
     "output_type": "display_data"
    }
   ],
   "source": [
    "# Расчет мер дисперсии и среднего с помощью пакета numpy\n",
    "calls_ultra_mean = stats_ultra['calls_duration'].mean()\n",
    "calls_ultra_median = stats_ultra['calls_duration'].median()\n",
    "calls_ultra_var = stats_ultra['calls_duration'].var()\n",
    "calls_ultra_std = stats_ultra['calls_duration'].std()\n",
    "print(f'Для абонентов тарифа \\'ultra\\' cреднее количество минут в месяц - {calls_ultra_mean:.1f} , а медианное - {calls_ultra_median:.1f}')\n",
    "print(f'Для абонентов тарифа \\'ultra\\' общая дисперсия - {calls_ultra_var:.1f}')\n",
    "print(f'Для абонентов тарифа \\'ultra\\' cтандартное отклонение - {calls_ultra_std:.1f}')\n",
    "\n",
    "# Построение гистограммы с помощью пакета matplotlib.pyplot\n",
    "stats_ultra['calls_duration'].hist(bins=30, color='tab:blue', figsize=(10,5))\n",
    "plt.title('Распределение абонентов по количеству потраченных минут в месяц, тариф \\'ultra\\'')\n",
    "plt.grid(True)\n",
    "plt.show()"
   ]
  },
  {
   "cell_type": "markdown",
   "id": "b34db84e",
   "metadata": {},
   "source": [
    "Для абонентов тарифа ultra среднее колиество минут разговора в месяц - около 526, то есть поти 9 часов. Медианное и среднее знаение близки, Для распределения характерна высокая дисперсия и значительное стандартное отклонение. По форме распределения можно выделить несколько пиков - это может говорить о том, что среди абонентов этого тарифа можно выделить несколько разнородных групп. Среди пользователей тарифа есть значительная доля абонентов, вообще не использующая голосовую связь и достаточное количество клиентов, разговаривающих свыше 1000 минут в месяц.  "
   ]
  },
  {
   "cell_type": "code",
   "execution_count": 39,
   "id": "200e2b15",
   "metadata": {},
   "outputs": [
    {
     "name": "stdout",
     "output_type": "stream",
     "text": [
      "Для абонентов тарифа 'smart' cреднее количество минут в месяц - 417.9 , а медианное - 422.0\n",
      "Для абонентов тарифа 'smart' общая дисперсия - 36219.3\n",
      "Для абонентов тарифа 'smart' cтандартное отклонение - 190.3\n"
     ]
    },
    {
     "data": {
      "image/png": "[encoded data removed]",
      "text/plain": [
       "<Figure size 720x360 with 1 Axes>"
      ]
     },
     "metadata": {
      "needs_background": "light"
     },
     "output_type": "display_data"
    }
   ],
   "source": [
    "# Расчет мер дисперсии и среднего с помощью пакета numpy\n",
    "calls_smart_mean = stats_smart['calls_duration'].mean()\n",
    "calls_smart_median = stats_smart['calls_duration'].median()\n",
    "calls_smart_var = stats_smart['calls_duration'].var()\n",
    "calls_smart_std = stats_smart['calls_duration'].std()\n",
    "print(f'Для абонентов тарифа \\'smart\\' cреднее количество минут в месяц - {calls_smart_mean:.1f} , а медианное - {calls_smart_median:.1f}')\n",
    "print(f'Для абонентов тарифа \\'smart\\' общая дисперсия - {calls_smart_var:.1f}')\n",
    "print(f'Для абонентов тарифа \\'smart\\' cтандартное отклонение - {calls_smart_std:.1f}')\n",
    "\n",
    "# Построение гистограммы с помощью пакета matplotlib.pyplot\n",
    "stats_smart['calls_duration'].hist(bins=30, color='tab:red', figsize=(10,5))\n",
    "plt.title('Распределение абонентов по количеству потраченных минут в месяц, тариф \\'smart\\'')\n",
    "plt.grid(True)\n",
    "plt.show()"
   ]
  },
  {
   "cell_type": "markdown",
   "id": "7ece4396",
   "metadata": {},
   "source": [
    "В среднем абоненты тарифа тарифа smart тратят около 417 минут голосовой связи в месяц. По форме распределение ближе к \"колоколу\" нормального распределения, дисперсия выборки меньше, как и стандартное отклонение.Это может говорить о том, что состав абонентов в данном тарифном плане более \"гомогенный\", единообразный."
   ]
  },
  {
   "cell_type": "markdown",
   "id": "b6f3592e",
   "metadata": {},
   "source": [
    "### Сообщения"
   ]
  },
  {
   "cell_type": "markdown",
   "id": "9c90e2a8",
   "metadata": {},
   "source": [
    "Рассмотрим пользование сообщениями. "
   ]
  },
  {
   "cell_type": "code",
   "execution_count": 40,
   "id": "2a3cd8c5",
   "metadata": {},
   "outputs": [
    {
     "name": "stdout",
     "output_type": "stream",
     "text": [
      "Для абонентов тарифа 'ultra' cреднее количество сообщений в месяц - 49.4 , а медианное - 38.0\n",
      "Для абонентов тарифа 'ultra' общая дисперсия количества сообщений - 2285.3\n",
      "Для абонентов тарифа 'ultra' cтандартное отклонение количества сообщений - 47.8\n"
     ]
    },
    {
     "data": {
      "image/png": "[encoded data removed]",
      "text/plain": [
       "<Figure size 720x360 with 1 Axes>"
      ]
     },
     "metadata": {
      "needs_background": "light"
     },
     "output_type": "display_data"
    }
   ],
   "source": [
    "# Расчет мер дисперсии и среднего с помощью пакета numpy\n",
    "messages_ultra_mean = stats_ultra['messages_count'].mean()\n",
    "messages_ultra_median = stats_ultra['messages_count'].median()\n",
    "messages_ultra_var = stats_ultra['messages_count'].var()\n",
    "messages_ultra_std = stats_ultra['messages_count'].std()\n",
    "print(f'Для абонентов тарифа \\'ultra\\' cреднее количество сообщений в месяц - {messages_ultra_mean:.1f} , а медианное - {messages_ultra_median:.1f}')\n",
    "print(f'Для абонентов тарифа \\'ultra\\' общая дисперсия количества сообщений - {messages_ultra_var:.1f}')\n",
    "print(f'Для абонентов тарифа \\'ultra\\' cтандартное отклонение количества сообщений - {messages_ultra_std:.1f}')\n",
    "\n",
    "# Построение гистограммы с помощью пакета matplotlib.pyplot\n",
    "stats_ultra['messages_count'].hist(bins=30, color='tab:blue', figsize=(10,5))\n",
    "plt.title('Распределение абонентов по количеству отправленных сообщений в месяц, тариф \\'ultra\\'')\n",
    "plt.grid(True)\n",
    "plt.show()"
   ]
  },
  {
   "cell_type": "markdown",
   "id": "96a855f0",
   "metadata": {},
   "source": [
    "Среди абонентов тарифа ultra значительная доля не пользуется сообщениями вообще. Среднее количество отпрвленных сообщений - около 49. При этом медианное значение значительно меньше среднего арифметического - 38. Это связано как раз с большим количеством не отправляющих сообщения клиентов. Стандартное отклонение близко к среднему значению, дисперсия значительная - в плане пользования сообщениями пользователи тарифа ultra достаточно неоднородны."
   ]
  },
  {
   "cell_type": "code",
   "execution_count": 41,
   "id": "97f3f419",
   "metadata": {
    "scrolled": true
   },
   "outputs": [
    {
     "name": "stdout",
     "output_type": "stream",
     "text": [
      "Для абонентов тарифа 'smart' cреднее количество сообщений в месяц - 33.4 , а медианное - 28.0\n",
      "Для абонентов тарифа 'smart' общая дисперсия количества сообщений - 796.8\n",
      "Для абонентов тарифа 'smart' cтандартное отклонение количества сообщений - 28.2\n"
     ]
    },
    {
     "data": {
      "image/png": "[encoded data removed]",
      "text/plain": [
       "<Figure size 720x360 with 1 Axes>"
      ]
     },
     "metadata": {
      "needs_background": "light"
     },
     "output_type": "display_data"
    }
   ],
   "source": [
    "# Расчет мер дисперсии и среднего с помощью пакета numpy\n",
    "messages_smart_mean = stats_smart['messages_count'].mean()\n",
    "messages_smart_median = stats_smart['messages_count'].median()\n",
    "messages_smart_var = stats_smart['messages_count'].var()\n",
    "messages_smart_std = stats_smart['messages_count'].std()\n",
    "print(f'Для абонентов тарифа \\'smart\\' cреднее количество сообщений в месяц - {messages_smart_mean:.1f} , а медианное - {messages_smart_median:.1f}')\n",
    "print(f'Для абонентов тарифа \\'smart\\' общая дисперсия количества сообщений - {messages_smart_var:.1f}')\n",
    "print(f'Для абонентов тарифа \\'smart\\' cтандартное отклонение количества сообщений - {messages_smart_std:.1f}')\n",
    "\n",
    "# Построение гистограммы с помощью пакета matplotlib.pyplot\n",
    "stats_smart['messages_count'].hist(bins=30, color='tab:red', figsize=(10,5))\n",
    "plt.title('Распределение абонентов по количеству отправленных сообщений в месяц, тариф \\'smart\\'')\n",
    "plt.grid(True)\n",
    "plt.show()"
   ]
  },
  {
   "cell_type": "markdown",
   "id": "6260ea64",
   "metadata": {},
   "source": [
    "Среди абонетов тарифа smart также значительная часть не пользуется сообщениями вообще, однако в целом распределение более однородное - дисперсия и стандартное отклонение знаительно ниже, чем у тарифа ultra. "
   ]
  },
  {
   "cell_type": "markdown",
   "id": "3994f7ea",
   "metadata": {},
   "source": [
    "### Пользование интернет-трафиком"
   ]
  },
  {
   "cell_type": "markdown",
   "id": "61e03de9",
   "metadata": {},
   "source": [
    "Рассмотрим особенности использования мобильного интернета пользователями разных тарифов."
   ]
  },
  {
   "cell_type": "code",
   "execution_count": 42,
   "id": "3b55d7a3",
   "metadata": {},
   "outputs": [
    {
     "name": "stdout",
     "output_type": "stream",
     "text": [
      "Для абонентов тарифа 'ultra' cреднее количество использованных гигабайт Интернет-трафика в месяц - 19.5 , а медианное - 19.0\n",
      "Для абонентов тарифа 'ultra' общая дисперсия количества  использованных гигабайт Интернет-трафика - 97.1\n",
      "Для абонентов тарифа 'ultra' cтандартное отклонение  использованных гигабайт Интернет-трафика - 9.9\n"
     ]
    },
    {
     "data": {
      "image/png": "[encoded data removed]",
      "text/plain": [
       "<Figure size 720x360 with 1 Axes>"
      ]
     },
     "metadata": {
      "needs_background": "light"
     },
     "output_type": "display_data"
    }
   ],
   "source": [
    "# Расчет мер дисперсии и среднего с помощью пакета numpy\n",
    "internet_ultra_mean = stats_ultra['gb_used'].mean()\n",
    "internet_ultra_median = stats_ultra['gb_used'].median()\n",
    "internet_ultra_var = stats_ultra['gb_used'].var()\n",
    "internet_ultra_std = stats_ultra['gb_used'].std()\n",
    "print(f'Для абонентов тарифа \\'ultra\\' cреднее количество использованных гигабайт Интернет-трафика в месяц - {internet_ultra_mean:.1f} , а медианное - {internet_ultra_median:.1f}')\n",
    "print(f'Для абонентов тарифа \\'ultra\\' общая дисперсия количества  использованных гигабайт Интернет-трафика - {internet_ultra_var:.1f}')\n",
    "print(f'Для абонентов тарифа \\'ultra\\' cтандартное отклонение  использованных гигабайт Интернет-трафика - {internet_ultra_std:.1f}')\n",
    "\n",
    "# Построение гистограммы с помощью пакета matplotlib.pyplot\n",
    "stats_ultra['gb_used'].hist(bins=10, color='tab:blue', figsize=(10,5))\n",
    "plt.title('Распределение использования гигабайт Интернет-трафика в месяц, тариф \\'ultra\\'')\n",
    "plt.grid(True)\n",
    "plt.show()"
   ]
  },
  {
   "cell_type": "markdown",
   "id": "6dd39cd6",
   "metadata": {},
   "source": [
    "Распределение пользования интернет-трафиком в тарифе ultra близко к нормальному. Среднее арифметическое количество использованного трафика ежемесячно для этого тарифа составляет 19.5 гигабайт, а медианное - 19. Близость средних мер подтвердает близость распределения по форме к нормальному. \n"
   ]
  },
  {
   "cell_type": "code",
   "execution_count": 43,
   "id": "4f4ec964",
   "metadata": {},
   "outputs": [
    {
     "name": "stdout",
     "output_type": "stream",
     "text": [
      "Для абонентов тарифа 'smart' cреднее количество использованных гигабайт Интернет-трафика в месяц - 16.3 , а медианное - 17.0\n",
      "Для абонентов тарифа 'smart' общая дисперсия количества  использованных гигабайт Интернет-трафика - 33.0\n",
      "Для абонентов тарифа 'smart' cтандартное отклонение  использованных гигабайт Интернет-трафика - 5.7\n"
     ]
    },
    {
     "data": {
      "image/png": "[encoded data removed]",
      "text/plain": [
       "<Figure size 720x360 with 1 Axes>"
      ]
     },
     "metadata": {
      "needs_background": "light"
     },
     "output_type": "display_data"
    }
   ],
   "source": [
    "# Расчет мер дисперсии и среднего с помощью пакета numpy\n",
    "internet_smart_mean = stats_smart['gb_used'].mean()\n",
    "internet_smart_median = stats_smart['gb_used'].median()\n",
    "internet_smart_var = stats_smart['gb_used'].var()\n",
    "internet_smart_std = stats_smart['gb_used'].std()\n",
    "print(f'Для абонентов тарифа \\'smart\\' cреднее количество использованных гигабайт Интернет-трафика в месяц - {internet_smart_mean:.1f} , а медианное - {internet_smart_median:.1f}')\n",
    "print(f'Для абонентов тарифа \\'smart\\' общая дисперсия количества  использованных гигабайт Интернет-трафика - {internet_smart_var:.1f}')\n",
    "print(f'Для абонентов тарифа \\'smart\\' cтандартное отклонение  использованных гигабайт Интернет-трафика - {internet_smart_std:.1f}')\n",
    "\n",
    "# Построение гистограммы с помощью пакета matplotlib.pyplot\n",
    "stats_smart['gb_used'].hist(bins=10, color='tab:red', figsize=(10,5))\n",
    "plt.title('Распределение использования гигабайт Интернет-трафика в месяц, тариф \\'smart\\'')\n",
    "plt.grid(True)\n",
    "plt.show()"
   ]
  },
  {
   "cell_type": "markdown",
   "id": "452ce2cd",
   "metadata": {},
   "source": [
    "Распределение пользователей Интернетом по объему трафика в тарифе smart также близко к нормальному по форме. В среднем абоненты этого тарифа расходуют 16 Гигабайт интернет-трафика, при этом стандартное отклонение и дисперсия невелики."
   ]
  },
  {
   "cell_type": "markdown",
   "id": "c59090eb",
   "metadata": {},
   "source": [
    "###### Вывод:"
   ]
  },
  {
   "cell_type": "markdown",
   "id": "7b3984d1",
   "metadata": {},
   "source": [
    "Мы видим, что пользователи тарифа ultra в среднем активнее пользуются всеми видами связи, чем пользователи тарифа smart. Средние значения по всем видам связи у абонентов тарифа ultra выше. Кроме того, стандартное отклонение и дисперсия по всем показателям у абонентов тарифа smart ниже - эта группа более гомогенна. \n",
    "Однако мы не можем ответить на вопрос, носят ли эти отличия случайный характер, либо они статистически значимы без проверки гипотез. "
   ]
  },
  {
   "cell_type": "markdown",
   "id": "bd727508",
   "metadata": {},
   "source": [
    "## Проверка гипотез"
   ]
  },
  {
   "cell_type": "markdown",
   "id": "40d5030b",
   "metadata": {},
   "source": [
    "Сформулируем нулевые и альтернативные гипотезы для нашего исследования:\n",
    "1. \n",
    "- Н0(нулевая гипотеза): Средняя выручка пользователей тарифов «Ультра» и «Смарт» равны между собой\n",
    "- Н1(альтернативная гипотеза): Средняя выручка пользователей тарифов «Ультра» и «Смарт» различаются\n",
    "\n",
    "2. \n",
    "- Н0(нулевая гипотеза) средняя выручка пользователей из Москвы и из других регионов равны между собой\n",
    "- Н1(альтернативная гипотеза): Средняя выручка пользователей из Москвы отличается от выручки пользователей из других регионов.\n",
    "\n",
    "Пороговое значение alpha примем равным 0.5.\n",
    "\n",
    "Мы формулировали гипотезы исходя из положения, что нулевая гипотеза предполагает использование знака равенства - она предполагает сохранение \"статуса кво\" - в нашем случае тарифный план (или регион) не влияют на выручку пользователей. \n",
    "Альтернативные гипотезы формулируются таким образом, чтобы оценить влияние факторов, в нашем случае тариф (или регион) на выручку пользователей. Альтернативные гипотезы в обоих случаях \"двусторонние\" - то есть нас интересует любой исход: в вопросе тарифов и ситуация, когда тариф «Смарт» более прибыльный, и когда  «Ультра» более прибыльный.\n",
    "Для проверки гипотез мы используем критерий Пирсона. \n",
    "Он позволяет охарактеризовать попадание в двустороннюю критическую область.\n",
    "Он характеризует достигнутый уровень значимости и позволяет отвергнуть (или не отвергнуть) нулевую гипотезу."
   ]
  },
  {
   "cell_type": "markdown",
   "id": "8c7bd6fc",
   "metadata": {},
   "source": [
    "### Различается ли выручка пользователей разных тарифов?"
   ]
  },
  {
   "cell_type": "markdown",
   "id": "4e38a616",
   "metadata": {},
   "source": [
    "Оценим, значимо ли различие выручки пользователей разных тарифов. "
   ]
  },
  {
   "cell_type": "code",
   "execution_count": 44,
   "id": "361c13d4",
   "metadata": {},
   "outputs": [
    {
     "name": "stdout",
     "output_type": "stream",
     "text": [
      "p-значение:, 1.4229814360764067e-160\n",
      "Отвергаем нулевую гипотезу\n"
     ]
    }
   ],
   "source": [
    "alpha = .05 # критический уровень статистической значимости\n",
    "# если p-value окажется меньше него - отвергнем гипотезу\n",
    "\n",
    "results = st.ttest_ind(\n",
    "    stats_ultra['revenue'], \n",
    "    stats_smart['revenue'])\n",
    "\n",
    "print(f'p-значение:, {results.pvalue}')\n",
    "\n",
    "if results.pvalue < alpha:\n",
    "    print(\"Отвергаем нулевую гипотезу\")\n",
    "else:\n",
    "    print(\"Не получилось отвергнуть нулевую гипотезу\") "
   ]
  },
  {
   "cell_type": "markdown",
   "id": "8eb43682",
   "metadata": {},
   "source": [
    "Различия настолько значительные, что даже при пороговом значении 0.01 нам пришлось бы отвергнуть нулевую гипотезу. Посмотрим, какой же тариф более выгодный."
   ]
  },
  {
   "cell_type": "code",
   "execution_count": 45,
   "id": "85507c26",
   "metadata": {},
   "outputs": [
    {
     "name": "stdout",
     "output_type": "stream",
     "text": [
      "Для абонентов тарифа 'ultra' cредняя выручка в месяц - 2070.2 рублей,\n",
      "при дисперсии 141516.7 и стандартном отклонении 376.2\n",
      "Для абонентов тарифа 'smart' cредняя выручка в месяц - 1290.0 рублей,\n",
      "при дисперсии 669785.7 и стандартном отклонении 818.4\n"
     ]
    },
    {
     "data": {
      "image/png": "[encoded data removed]",
      "text/plain": [
       "<Figure size 720x360 with 1 Axes>"
      ]
     },
     "metadata": {
      "needs_background": "light"
     },
     "output_type": "display_data"
    }
   ],
   "source": [
    "revenue_ultra_mean = stats_ultra['revenue'].mean()\n",
    "revenue_ultra_var = stats_ultra['revenue'].var()\n",
    "revenue_ultra_std = stats_ultra['revenue'].std()\n",
    "\n",
    "\n",
    "revenue_smart_mean = stats_smart['revenue'].mean()\n",
    "revenue_smart_var = stats_smart['revenue'].var()\n",
    "revenue_smart_std = stats_smart['revenue'].std()\n",
    "\n",
    "print(f'Для абонентов тарифа \\'ultra\\' cредняя выручка в месяц - {revenue_ultra_mean:.1f} рублей,\\nпри дисперсии {revenue_ultra_var:.1f} и стандартном отклонении {revenue_ultra_std:.1f}')\n",
    "print(f'Для абонентов тарифа \\'smart\\' cредняя выручка в месяц - {revenue_smart_mean:.1f} рублей,\\nпри дисперсии {revenue_smart_var:.1f} и стандартном отклонении {revenue_smart_std:.1f}')\n",
    "\n",
    "# Построение гистограммы с помощью пакета matplotlib.pyplot\n",
    "stats_smart['revenue'].hist(bins=30, color='tab:red',  alpha=0.7, figsize=(10,5), label='smart')\n",
    "stats_ultra['revenue'].hist(bins=30, color='tab:blue', alpha=0.7, figsize=(10,5), label='ultra')\n",
    "plt.title('Распределение выручки в месяц, тарифы \\'smart\\' и \\'ultra\\'')\n",
    "plt.grid(True)\n",
    "plt.legend()\n",
    "plt.show()"
   ]
  },
  {
   "cell_type": "markdown",
   "id": "102d34fc",
   "metadata": {},
   "source": [
    "Больше выручки приносит тариф ultra."
   ]
  },
  {
   "cell_type": "markdown",
   "id": "7670ae45",
   "metadata": {},
   "source": [
    "### Различается ли выручка пользователей в столице и регионах?"
   ]
  },
  {
   "cell_type": "code",
   "execution_count": 46,
   "id": "fa7ce6e4",
   "metadata": {},
   "outputs": [
    {
     "name": "stdout",
     "output_type": "stream",
     "text": [
      "p-значение:, 0.54\n",
      "Не получилось отвергнуть нулевую гипотезу\n"
     ]
    }
   ],
   "source": [
    "alpha = .05 # критический уровень статистической значимости\n",
    "# если p-value окажется меньше него - отвергнем гипотезу\n",
    "\n",
    "results = st.ttest_ind(\n",
    "    stats.query('is_capital == True')['revenue'],\n",
    "    stats.query('is_capital != True')['revenue'])\n",
    "\n",
    "print(f'p-значение:, {results.pvalue:.2f}')\n",
    "\n",
    "if results.pvalue < alpha:\n",
    "    print(\"Отвергаем нулевую гипотезу\")\n",
    "else:\n",
    "    print(\"Не получилось отвергнуть нулевую гипотезу\") "
   ]
  },
  {
   "cell_type": "markdown",
   "id": "9f01529e",
   "metadata": {},
   "source": [
    "Значение критерия Пирсона слишком высоко - вероятность получить такое значение около 54%. Мы не можем отвергнуть нулевую гипотезу о том, что жители столицы и регионов в среднем приносят компании одинаковую выручку."
   ]
  },
  {
   "cell_type": "markdown",
   "id": "5be03165",
   "metadata": {},
   "source": [
    "## Общий вывод:"
   ]
  },
  {
   "cell_type": "markdown",
   "id": "afbea764",
   "metadata": {},
   "source": [
    "Мы провели исследование по определению лучшего тарифа для продвижения.\n",
    "Мы проанализировали поведение клиентов и увидели: \n",
    "- абоненты тарифа \"Ультра\" активнее пользуются всеми видами связи: звонки, сообщения, мобильный интернет, чем абоненты тарифа \"Смарт\",\n",
    "- средняя выручка от клиентов разных тарифов существенно различается,\n",
    "- средняя выручка клиента \"Ультра\" на 60% больше, чем клиента \"Смарт\". При этом за счет высокой абоненсткой платы, дисперсия (и соответственно стандартное отклонение) в выручке абонентов \"Ультра\" значительно меньше,\n",
    "- средняя выручка клиентов в Москве и других регионах значимо не различается.\n",
    "\n",
    "В силу того, что тарифы по своим параметрам в Москве и регионах не отличаются - абонентская плата и плата за минуты, сообщения и Интернет рассчитывается по одним ценам, то и выручка от пользователей значимо не различается.\n",
    "\n",
    "Можно сделать вывод — для продвижение лучше тариф \"Ультра\". Пользователи там могут активнее использовать тот или иной вид связи достаточно активно, однако в результате и платят значительно больше, чем пользователи тарифа \"Смарт\". Порекомендуем коммерческому департаменту скорректировать рекламный бюджет в сторону данного тарифа.\n",
    "\n"
   ]
  }
 ],
 "metadata": {
  "kernelspec": {
   "display_name": "Python 3 (ipykernel)",
   "language": "python",
   "name": "python3"
  },
  "language_info": {
   "codemirror_mode": {
    "name": "ipython",
    "version": 3
   },
   "file_extension": ".py",
   "mimetype": "text/x-python",
   "name": "python",
   "nbconvert_exporter": "python",
   "pygments_lexer": "ipython3",
   "version": "3.9.12"
  },
  "toc": {
   "base_numbering": 1,
   "nav_menu": {},
   "number_sections": true,
   "sideBar": true,
   "skip_h1_title": true,
   "title_cell": "Table of Contents",
   "title_sidebar": "Contents",
   "toc_cell": false,
   "toc_position": {},
   "toc_section_display": true,
   "toc_window_display": false
  }
 },
 "nbformat": 4,
 "nbformat_minor": 5
}
