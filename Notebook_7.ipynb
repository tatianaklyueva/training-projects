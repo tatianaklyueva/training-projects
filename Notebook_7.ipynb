{
 "cells": [
  {
   "cell_type": "markdown",
   "id": "5a6c4b06",
   "metadata": {},
   "source": []
  },
  {
   "cell_type": "markdown",
   "id": "62e96f9e",
   "metadata": {},
   "source": [
    "# Рынок заведений общественного питания Москвы"
   ]
  },
  {
   "cell_type": "markdown",
   "id": "84c41ae8",
   "metadata": {},
   "source": [
    "Мы решили открыть небольшое кафе в Москве. Оно оригинальное — гостей должны обслуживать роботы. Проект многообещающий, но дорогой. Вместе с партнёрами мы решились обратиться к инвесторам. Их интересует текущее положение дел на рынке — сможем ли мы снискать популярность на долгое время, когда все зеваки насмотрятся на роботов-официантов?\n",
    "\n",
    "**Цель исследования** - определить наиболее перспективные характеристики будущего заведения: вид, количество посадочных мест, а также район расположения.\n",
    "\n",
    "Исследование мы проведем на основе открытых данных.  \n",
    "\n",
    "**Ход исследования**\n",
    "\n",
    "Для анализа мы используем следующие данные:\n",
    "* характеристику заведений общественного питания Москвы;\n",
    "* перечень улиц города Москвы с принадлежностью к району и административному округу. \n",
    "\n",
    "О качестве данных нам ничего неизвестно, поэтому перед проведением исследования понадобится обзор данных.\n",
    "Мы проведем предобработку данных: обработаем пропуски и дубликаты в случае наличия, приведем данные к необходимым типам, проведем дополнительные расчеты.\n",
    "\n",
    "Затем мы проведем исследовательский анализ - оценим распространенность различных видов заведений, влияние сетевого характера, расположения и числа посадочных мест на количество заведений, дополнительно проанализируем улицы, на которых расположены заведения.\n",
    "\n",
    "На основе анализа подготовим презентацию для инвесторов.\n",
    "\n",
    "Таким образом, решение пройдет в три этапа."
   ]
  },
  {
   "cell_type": "markdown",
   "id": "c71199fc",
   "metadata": {},
   "source": [
    "## Обзор данных и предобработка"
   ]
  },
  {
   "cell_type": "markdown",
   "id": "38751d6e",
   "metadata": {},
   "source": [
    "### Обзор данных"
   ]
  },
  {
   "cell_type": "code",
   "execution_count": 1,
   "id": "7612286b",
   "metadata": {},
   "outputs": [
    {
     "name": "stdout",
     "output_type": "stream",
     "text": [
      "Requirement already satisfied: nbconvert[webpdf] in /home/tanya/anaconda3/envs/practicum/lib/python3.9/site-packages (6.5.0)\n",
      "Requirement already satisfied: traitlets>=5.0 in /home/tanya/anaconda3/envs/practicum/lib/python3.9/site-packages (from nbconvert[webpdf]) (5.1.1)\n",
      "Requirement already satisfied: jinja2>=3.0 in /home/tanya/anaconda3/envs/practicum/lib/python3.9/site-packages (from nbconvert[webpdf]) (3.1.1)\n",
      "Requirement already satisfied: jupyter-core>=4.7 in /home/tanya/anaconda3/envs/practicum/lib/python3.9/site-packages (from nbconvert[webpdf]) (4.9.2)\n",
      "Requirement already satisfied: nbclient>=0.5.0 in /home/tanya/anaconda3/envs/practicum/lib/python3.9/site-packages (from nbconvert[webpdf]) (0.6.0)\n",
      "Requirement already satisfied: entrypoints>=0.2.2 in /home/tanya/anaconda3/envs/practicum/lib/python3.9/site-packages (from nbconvert[webpdf]) (0.4)\n",
      "Requirement already satisfied: pygments>=2.4.1 in /home/tanya/anaconda3/envs/practicum/lib/python3.9/site-packages (from nbconvert[webpdf]) (2.11.2)\n",
      "Requirement already satisfied: bleach in /home/tanya/anaconda3/envs/practicum/lib/python3.9/site-packages (from nbconvert[webpdf]) (5.0.0)\n",
      "Requirement already satisfied: jupyterlab-pygments in /home/tanya/anaconda3/envs/practicum/lib/python3.9/site-packages (from nbconvert[webpdf]) (0.2.2)\n",
      "Requirement already satisfied: MarkupSafe>=2.0 in /home/tanya/anaconda3/envs/practicum/lib/python3.9/site-packages (from nbconvert[webpdf]) (2.1.1)\n",
      "Requirement already satisfied: packaging in /home/tanya/anaconda3/envs/practicum/lib/python3.9/site-packages (from nbconvert[webpdf]) (21.3)\n",
      "Requirement already satisfied: tinycss2 in /home/tanya/anaconda3/envs/practicum/lib/python3.9/site-packages (from nbconvert[webpdf]) (1.1.1)\n",
      "Requirement already satisfied: mistune<2,>=0.8.1 in /home/tanya/anaconda3/envs/practicum/lib/python3.9/site-packages (from nbconvert[webpdf]) (0.8.4)\n",
      "Requirement already satisfied: nbformat>=5.1 in /home/tanya/anaconda3/envs/practicum/lib/python3.9/site-packages (from nbconvert[webpdf]) (5.3.0)\n",
      "Requirement already satisfied: defusedxml in /home/tanya/anaconda3/envs/practicum/lib/python3.9/site-packages (from nbconvert[webpdf]) (0.7.1)\n",
      "Requirement already satisfied: pandocfilters>=1.4.1 in /home/tanya/anaconda3/envs/practicum/lib/python3.9/site-packages (from nbconvert[webpdf]) (1.5.0)\n",
      "Requirement already satisfied: beautifulsoup4 in /home/tanya/anaconda3/envs/practicum/lib/python3.9/site-packages (from nbconvert[webpdf]) (4.9.3)\n",
      "Requirement already satisfied: pyppeteer<1.1,>=1 in /home/tanya/anaconda3/envs/practicum/lib/python3.9/site-packages (from nbconvert[webpdf]) (1.0.2)\n",
      "Requirement already satisfied: nest-asyncio in /home/tanya/anaconda3/envs/practicum/lib/python3.9/site-packages (from nbclient>=0.5.0->nbconvert[webpdf]) (1.5.5)\n",
      "Requirement already satisfied: jupyter-client>=6.1.5 in /home/tanya/anaconda3/envs/practicum/lib/python3.9/site-packages (from nbclient>=0.5.0->nbconvert[webpdf]) (7.2.2)\n",
      "Requirement already satisfied: fastjsonschema in /home/tanya/anaconda3/envs/practicum/lib/python3.9/site-packages (from nbformat>=5.1->nbconvert[webpdf]) (2.15.3)\n",
      "Requirement already satisfied: jsonschema>=2.6 in /home/tanya/anaconda3/envs/practicum/lib/python3.9/site-packages (from nbformat>=5.1->nbconvert[webpdf]) (4.4.0)\n",
      "Requirement already satisfied: pyee<9.0.0,>=8.1.0 in /home/tanya/anaconda3/envs/practicum/lib/python3.9/site-packages (from pyppeteer<1.1,>=1->nbconvert[webpdf]) (8.2.2)\n",
      "Requirement already satisfied: tqdm<5.0.0,>=4.42.1 in /home/tanya/anaconda3/envs/practicum/lib/python3.9/site-packages (from pyppeteer<1.1,>=1->nbconvert[webpdf]) (4.64.0)\n",
      "Requirement already satisfied: importlib-metadata>=1.4 in /home/tanya/anaconda3/envs/practicum/lib/python3.9/site-packages (from pyppeteer<1.1,>=1->nbconvert[webpdf]) (4.11.3)\n",
      "Requirement already satisfied: urllib3<2.0.0,>=1.25.8 in /home/tanya/anaconda3/envs/practicum/lib/python3.9/site-packages (from pyppeteer<1.1,>=1->nbconvert[webpdf]) (1.26.9)\n",
      "Requirement already satisfied: appdirs<2.0.0,>=1.4.3 in /home/tanya/anaconda3/envs/practicum/lib/python3.9/site-packages (from pyppeteer<1.1,>=1->nbconvert[webpdf]) (1.4.4)\n",
      "Requirement already satisfied: certifi>=2021 in /home/tanya/anaconda3/envs/practicum/lib/python3.9/site-packages (from pyppeteer<1.1,>=1->nbconvert[webpdf]) (2021.10.8)\n",
      "Requirement already satisfied: websockets<11.0,>=10.0 in /home/tanya/anaconda3/envs/practicum/lib/python3.9/site-packages (from pyppeteer<1.1,>=1->nbconvert[webpdf]) (10.4)\n",
      "Requirement already satisfied: soupsieve>1.2 in /home/tanya/anaconda3/envs/practicum/lib/python3.9/site-packages (from beautifulsoup4->nbconvert[webpdf]) (2.3.1)\n",
      "Requirement already satisfied: webencodings in /home/tanya/anaconda3/envs/practicum/lib/python3.9/site-packages (from bleach->nbconvert[webpdf]) (0.5.1)\n",
      "Requirement already satisfied: six>=1.9.0 in /home/tanya/anaconda3/envs/practicum/lib/python3.9/site-packages (from bleach->nbconvert[webpdf]) (1.16.0)\n",
      "Requirement already satisfied: pyparsing!=3.0.5,>=2.0.2 in /home/tanya/anaconda3/envs/practicum/lib/python3.9/site-packages (from packaging->nbconvert[webpdf]) (3.0.8)\n",
      "Requirement already satisfied: zipp>=0.5 in /home/tanya/anaconda3/envs/practicum/lib/python3.9/site-packages (from importlib-metadata>=1.4->pyppeteer<1.1,>=1->nbconvert[webpdf]) (3.8.0)\n",
      "Requirement already satisfied: attrs>=17.4.0 in /home/tanya/anaconda3/envs/practicum/lib/python3.9/site-packages (from jsonschema>=2.6->nbformat>=5.1->nbconvert[webpdf]) (21.4.0)\n",
      "Requirement already satisfied: pyrsistent!=0.17.0,!=0.17.1,!=0.17.2,>=0.14.0 in /home/tanya/anaconda3/envs/practicum/lib/python3.9/site-packages (from jsonschema>=2.6->nbformat>=5.1->nbconvert[webpdf]) (0.18.1)\n",
      "Requirement already satisfied: python-dateutil>=2.8.2 in /home/tanya/anaconda3/envs/practicum/lib/python3.9/site-packages (from jupyter-client>=6.1.5->nbclient>=0.5.0->nbconvert[webpdf]) (2.8.2)\n",
      "Requirement already satisfied: pyzmq>=22.3 in /home/tanya/anaconda3/envs/practicum/lib/python3.9/site-packages (from jupyter-client>=6.1.5->nbclient>=0.5.0->nbconvert[webpdf]) (22.3.0)\n",
      "Requirement already satisfied: tornado>=6.0 in /home/tanya/anaconda3/envs/practicum/lib/python3.9/site-packages (from jupyter-client>=6.1.5->nbclient>=0.5.0->nbconvert[webpdf]) (6.1)\n",
      "Note: you may need to restart the kernel to use updated packages.\n"
     ]
    }
   ],
   "source": [
    "pip install nbconvert[webpdf]"
   ]
  },
  {
   "cell_type": "markdown",
   "id": "237755c2",
   "metadata": {},
   "source": [
    "Составим представление о данных. Импортируем специальную библиотеку pandas для обработки и анализа данных, а также другие библиотеки. "
   ]
  },
  {
   "cell_type": "code",
   "execution_count": 2,
   "id": "5af85d87",
   "metadata": {
    "scrolled": false
   },
   "outputs": [],
   "source": [
    "import pandas as pd # импорт библиотеки pandas\n",
    "import seaborn as sns # импорт библиотеки seaborn для работы с графиками\n",
    "\n",
    "import matplotlib.pyplot as plt # импорт части библиотеки matplotlib\n",
    "import plotly.express as px\n",
    "import plotly.graph_objects as go\n",
    "import re  # импорт библиотеки re для работы с регулярными выражениями\n",
    "\n",
    "import numpy as np # импорт библиотеки numpy для математических вычислений\n"
   ]
  },
  {
   "cell_type": "markdown",
   "id": "e2869e5e",
   "metadata": {},
   "source": [
    "Обновим библиотеку matplotlib, чтобы нам были доступны все функции при построении графиков."
   ]
  },
  {
   "cell_type": "code",
   "execution_count": 3,
   "id": "a9be3b8c",
   "metadata": {},
   "outputs": [
    {
     "name": "stdout",
     "output_type": "stream",
     "text": [
      "Requirement already satisfied: matplotlib in /home/tanya/anaconda3/envs/practicum/lib/python3.9/site-packages (3.5.2)\n",
      "Collecting matplotlib\n",
      "  Downloading matplotlib-3.6.1-cp39-cp39-manylinux_2_17_x86_64.manylinux2014_x86_64.whl (11.8 MB)\n",
      "\u001b[2K     \u001b[38;2;114;156;31m━━━━━━━━━━━━━━━━━━━━━━━━━━━━━━━━━━━━━━━━\u001b[0m \u001b[32m11.8/11.8 MB\u001b[0m \u001b[31m17.9 MB/s\u001b[0m eta \u001b[36m0:00:00\u001b[0mm eta \u001b[36m0:00:01\u001b[0m[36m0:00:01\u001b[0m\n",
      "\u001b[?25hRequirement already satisfied: packaging>=20.0 in /home/tanya/anaconda3/envs/practicum/lib/python3.9/site-packages (from matplotlib) (21.3)\n",
      "Requirement already satisfied: python-dateutil>=2.7 in /home/tanya/anaconda3/envs/practicum/lib/python3.9/site-packages (from matplotlib) (2.8.2)\n",
      "Requirement already satisfied: pillow>=6.2.0 in /home/tanya/anaconda3/envs/practicum/lib/python3.9/site-packages (from matplotlib) (9.1.0)\n",
      "Collecting contourpy>=1.0.1\n",
      "  Downloading contourpy-1.0.5-cp39-cp39-manylinux_2_17_x86_64.manylinux2014_x86_64.whl (296 kB)\n",
      "\u001b[2K     \u001b[38;2;114;156;31m━━━━━━━━━━━━━━━━━━━━━━━━━━━━━━━━━━━━━━\u001b[0m \u001b[32m296.3/296.3 KB\u001b[0m \u001b[31m14.1 MB/s\u001b[0m eta \u001b[36m0:00:00\u001b[0m\n",
      "\u001b[?25hRequirement already satisfied: numpy>=1.19 in /home/tanya/anaconda3/envs/practicum/lib/python3.9/site-packages (from matplotlib) (1.20.1)\n",
      "Requirement already satisfied: kiwisolver>=1.0.1 in /home/tanya/anaconda3/envs/practicum/lib/python3.9/site-packages (from matplotlib) (1.4.2)\n",
      "Requirement already satisfied: cycler>=0.10 in /home/tanya/anaconda3/envs/practicum/lib/python3.9/site-packages (from matplotlib) (0.11.0)\n",
      "Requirement already satisfied: fonttools>=4.22.0 in /home/tanya/anaconda3/envs/practicum/lib/python3.9/site-packages (from matplotlib) (4.34.4)\n",
      "Requirement already satisfied: pyparsing>=2.2.1 in /home/tanya/anaconda3/envs/practicum/lib/python3.9/site-packages (from matplotlib) (3.0.8)\n",
      "Requirement already satisfied: six>=1.5 in /home/tanya/anaconda3/envs/practicum/lib/python3.9/site-packages (from python-dateutil>=2.7->matplotlib) (1.16.0)\n",
      "Installing collected packages: contourpy, matplotlib\n",
      "  Attempting uninstall: matplotlib\n",
      "    Found existing installation: matplotlib 3.5.2\n",
      "    Uninstalling matplotlib-3.5.2:\n",
      "      Successfully uninstalled matplotlib-3.5.2\n",
      "Successfully installed contourpy-1.0.5 matplotlib-3.6.1\n",
      "Note: you may need to restart the kernel to use updated packages.\n"
     ]
    }
   ],
   "source": [
    "pip install --upgrade matplotlib"
   ]
  },
  {
   "cell_type": "raw",
   "id": "9e4e3e54",
   "metadata": {},
   "source": [
    "Прочитаем файл `/datasets/rest_data.csv` и сохраним в переменную rest_data:"
   ]
  },
  {
   "cell_type": "code",
   "execution_count": 4,
   "id": "c6ec68be",
   "metadata": {},
   "outputs": [],
   "source": [
    "# чтение файла с данными и сохранение в rest_data\n",
    "try:\n",
    "    # адрес в локальном окружении\n",
    "    rest_data = pd.read_csv('rest_data.csv')\n",
    "except:\n",
    "    # адрес в среде 'practicum'\n",
    "    rest_data = pd.read_csv('/datasets/rest_data.csv')"
   ]
  },
  {
   "cell_type": "markdown",
   "id": "ec3f1d44",
   "metadata": {},
   "source": [
    "Выведем на экран первые пять строк таблицы"
   ]
  },
  {
   "cell_type": "code",
   "execution_count": 5,
   "id": "646ceda4",
   "metadata": {},
   "outputs": [
    {
     "data": {
      "text/html": [
       "<div>\n",
       "<style scoped>\n",
       "    .dataframe tbody tr th:only-of-type {\n",
       "        vertical-align: middle;\n",
       "    }\n",
       "\n",
       "    .dataframe tbody tr th {\n",
       "        vertical-align: top;\n",
       "    }\n",
       "\n",
       "    .dataframe thead th {\n",
       "        text-align: right;\n",
       "    }\n",
       "</style>\n",
       "<table border=\"1\" class=\"dataframe\">\n",
       "  <thead>\n",
       "    <tr style=\"text-align: right;\">\n",
       "      <th></th>\n",
       "      <th>id</th>\n",
       "      <th>object_name</th>\n",
       "      <th>chain</th>\n",
       "      <th>object_type</th>\n",
       "      <th>address</th>\n",
       "      <th>number</th>\n",
       "    </tr>\n",
       "  </thead>\n",
       "  <tbody>\n",
       "    <tr>\n",
       "      <th>0</th>\n",
       "      <td>151635</td>\n",
       "      <td>СМЕТАНА</td>\n",
       "      <td>нет</td>\n",
       "      <td>кафе</td>\n",
       "      <td>город Москва, улица Егора Абакумова, дом 9</td>\n",
       "      <td>48</td>\n",
       "    </tr>\n",
       "    <tr>\n",
       "      <th>1</th>\n",
       "      <td>77874</td>\n",
       "      <td>Родник</td>\n",
       "      <td>нет</td>\n",
       "      <td>кафе</td>\n",
       "      <td>город Москва, улица Талалихина, дом 2/1, корпус 1</td>\n",
       "      <td>35</td>\n",
       "    </tr>\n",
       "    <tr>\n",
       "      <th>2</th>\n",
       "      <td>24309</td>\n",
       "      <td>Кафе «Академия»</td>\n",
       "      <td>нет</td>\n",
       "      <td>кафе</td>\n",
       "      <td>город Москва, Абельмановская улица, дом 6</td>\n",
       "      <td>95</td>\n",
       "    </tr>\n",
       "    <tr>\n",
       "      <th>3</th>\n",
       "      <td>21894</td>\n",
       "      <td>ПИЦЦЕТОРИЯ</td>\n",
       "      <td>да</td>\n",
       "      <td>кафе</td>\n",
       "      <td>город Москва, Абрамцевская улица, дом 1</td>\n",
       "      <td>40</td>\n",
       "    </tr>\n",
       "    <tr>\n",
       "      <th>4</th>\n",
       "      <td>119365</td>\n",
       "      <td>Кафе «Вишневая метель»</td>\n",
       "      <td>нет</td>\n",
       "      <td>кафе</td>\n",
       "      <td>город Москва, Абрамцевская улица, дом 9, корпус 1</td>\n",
       "      <td>50</td>\n",
       "    </tr>\n",
       "  </tbody>\n",
       "</table>\n",
       "</div>"
      ],
      "text/plain": [
       "       id             object_name chain object_type  \\\n",
       "0  151635                 СМЕТАНА   нет        кафе   \n",
       "1   77874                  Родник   нет        кафе   \n",
       "2   24309         Кафе «Академия»   нет        кафе   \n",
       "3   21894              ПИЦЦЕТОРИЯ    да        кафе   \n",
       "4  119365  Кафе «Вишневая метель»   нет        кафе   \n",
       "\n",
       "                                             address  number  \n",
       "0         город Москва, улица Егора Абакумова, дом 9      48  \n",
       "1  город Москва, улица Талалихина, дом 2/1, корпус 1      35  \n",
       "2          город Москва, Абельмановская улица, дом 6      95  \n",
       "3            город Москва, Абрамцевская улица, дом 1      40  \n",
       "4  город Москва, Абрамцевская улица, дом 9, корпус 1      50  "
      ]
     },
     "metadata": {},
     "output_type": "display_data"
    }
   ],
   "source": [
    "# Запрос демонстрации первых 5 строк таблицы\n",
    "display(rest_data.head(5)) # получение первых 5 строк таблицы"
   ]
  },
  {
   "cell_type": "markdown",
   "id": "e2f44263",
   "metadata": {},
   "source": [
    "Прочитаем таблицы с данными о принадлежности улицы к району. "
   ]
  },
  {
   "cell_type": "code",
   "execution_count": 6,
   "id": "4030d047",
   "metadata": {},
   "outputs": [],
   "source": [
    "try:\n",
    "    streets = pd.read_csv('streets.csv')\n",
    "except:\n",
    "\n",
    "    url = 'https://frs.noosphere.ru/xmlui/bitstream/handle/20.500.11925/714058/mosgaz-streets.csv?sequence=1&isAllowed=y'\n",
    "    streets = pd.read_csv(url)"
   ]
  },
  {
   "cell_type": "code",
   "execution_count": 7,
   "id": "8c75be02",
   "metadata": {},
   "outputs": [
    {
     "data": {
      "text/html": [
       "<div>\n",
       "<style scoped>\n",
       "    .dataframe tbody tr th:only-of-type {\n",
       "        vertical-align: middle;\n",
       "    }\n",
       "\n",
       "    .dataframe tbody tr th {\n",
       "        vertical-align: top;\n",
       "    }\n",
       "\n",
       "    .dataframe thead th {\n",
       "        text-align: right;\n",
       "    }\n",
       "</style>\n",
       "<table border=\"1\" class=\"dataframe\">\n",
       "  <thead>\n",
       "    <tr style=\"text-align: right;\">\n",
       "      <th></th>\n",
       "      <th>streetname</th>\n",
       "      <th>areaid</th>\n",
       "      <th>okrug</th>\n",
       "      <th>area</th>\n",
       "    </tr>\n",
       "  </thead>\n",
       "  <tbody>\n",
       "    <tr>\n",
       "      <th>0</th>\n",
       "      <td>Выставочный переулок</td>\n",
       "      <td>17</td>\n",
       "      <td>ЦАО</td>\n",
       "      <td>Пресненский район</td>\n",
       "    </tr>\n",
       "    <tr>\n",
       "      <th>1</th>\n",
       "      <td>улица Гашека</td>\n",
       "      <td>17</td>\n",
       "      <td>ЦАО</td>\n",
       "      <td>Пресненский район</td>\n",
       "    </tr>\n",
       "    <tr>\n",
       "      <th>2</th>\n",
       "      <td>Большая Никитская улица</td>\n",
       "      <td>17</td>\n",
       "      <td>ЦАО</td>\n",
       "      <td>Пресненский район</td>\n",
       "    </tr>\n",
       "    <tr>\n",
       "      <th>3</th>\n",
       "      <td>Глубокий переулок</td>\n",
       "      <td>17</td>\n",
       "      <td>ЦАО</td>\n",
       "      <td>Пресненский район</td>\n",
       "    </tr>\n",
       "    <tr>\n",
       "      <th>4</th>\n",
       "      <td>Большой Гнездниковский переулок</td>\n",
       "      <td>17</td>\n",
       "      <td>ЦАО</td>\n",
       "      <td>Пресненский район</td>\n",
       "    </tr>\n",
       "  </tbody>\n",
       "</table>\n",
       "</div>"
      ],
      "text/plain": [
       "                        streetname  areaid okrug               area\n",
       "0             Выставочный переулок      17   ЦАО  Пресненский район\n",
       "1                     улица Гашека      17   ЦАО  Пресненский район\n",
       "2          Большая Никитская улица      17   ЦАО  Пресненский район\n",
       "3                Глубокий переулок      17   ЦАО  Пресненский район\n",
       "4  Большой Гнездниковский переулок      17   ЦАО  Пресненский район"
      ]
     },
     "execution_count": 7,
     "metadata": {},
     "output_type": "execute_result"
    }
   ],
   "source": [
    "streets.head(5)"
   ]
  },
  {
   "cell_type": "markdown",
   "id": "6a30dfbd",
   "metadata": {},
   "source": [
    "Получим общую информацию о таблицах. Начнем с общих данных о заведениях. "
   ]
  },
  {
   "cell_type": "code",
   "execution_count": 8,
   "id": "7b90f054",
   "metadata": {},
   "outputs": [
    {
     "name": "stdout",
     "output_type": "stream",
     "text": [
      "<class 'pandas.core.frame.DataFrame'>\n",
      "RangeIndex: 15366 entries, 0 to 15365\n",
      "Data columns (total 6 columns):\n",
      " #   Column       Non-Null Count  Dtype \n",
      "---  ------       --------------  ----- \n",
      " 0   id           15366 non-null  int64 \n",
      " 1   object_name  15366 non-null  object\n",
      " 2   chain        15366 non-null  object\n",
      " 3   object_type  15366 non-null  object\n",
      " 4   address      15366 non-null  object\n",
      " 5   number       15366 non-null  int64 \n",
      "dtypes: int64(2), object(4)\n",
      "memory usage: 720.4+ KB\n"
     ]
    }
   ],
   "source": [
    "rest_data.info() # получение общей информации о данных в таблице rest_data"
   ]
  },
  {
   "cell_type": "markdown",
   "id": "ef5e6d1f",
   "metadata": {},
   "source": [
    "Таблица `rest_data` (данные о заведениях общественного питания)\n",
    "\n",
    "В таблице 6 столбцов. Согласно документации к данным:\n",
    "* `id` — идентификатор объекта, тип данных int64;\n",
    "* `number` —количество посадочных мест, тип данных int64;\n",
    "\n",
    "У остальных столбцов тип данных - object: \n",
    "* `object_name` — название объекта общественного питания;\n",
    "* `chain` — сетевой ресторан;\n",
    "* `object_type` — тип объекта общественного питания;\n",
    "* `address` -адрес.\n",
    "\n",
    "В таблице 15 366 значений в каждом столбце, скорее всего пропущенных значений нет.\n",
    "\n",
    "Переименуем столбец `number` в `total_seats`, что лучше соответствует характеру данных.\n",
    "Заменим формат столбца `chain` на boolean."
   ]
  },
  {
   "cell_type": "code",
   "execution_count": 9,
   "id": "a2095b77",
   "metadata": {
    "scrolled": false
   },
   "outputs": [
    {
     "name": "stdout",
     "output_type": "stream",
     "text": [
      "<class 'pandas.core.frame.DataFrame'>\n",
      "RangeIndex: 4398 entries, 0 to 4397\n",
      "Data columns (total 4 columns):\n",
      " #   Column      Non-Null Count  Dtype \n",
      "---  ------      --------------  ----- \n",
      " 0   streetname  4398 non-null   object\n",
      " 1   areaid      4398 non-null   int64 \n",
      " 2   okrug       4398 non-null   object\n",
      " 3   area        4398 non-null   object\n",
      "dtypes: int64(1), object(3)\n",
      "memory usage: 137.6+ KB\n"
     ]
    }
   ],
   "source": [
    "streets.info() # получение общей информации о данных в таблице streets"
   ]
  },
  {
   "cell_type": "markdown",
   "id": "4b8829a1",
   "metadata": {},
   "source": [
    "Таблица `streets` (информация о улицах)\n",
    "\n",
    "В таблице 4 столбца. Документации к данным нет, но анализ содержимого таблицы показал, таблица содержит следующие столбцы:\n",
    "\n",
    "* `streetname` — название улицы, тип данных object;\n",
    "* `areaid` — идентификатор района, в котором расположена улица, тип данных int64;\n",
    "* `okrug` — название округа, в котором расположена улица, тип данных object;\n",
    "* `area` — название района, в котором расположена улица, тип данных object.\n",
    "\n",
    "В таблице 4 398 значений в каждом столбце, скорее всего пропущенных значений нет.\n",
    "Здесь необходимо привести названия столбцов `streetname`, `areaid` к хорошему стилю, а столбец `okrug` - перевеименовать в `district` для едиообразия."
   ]
  },
  {
   "cell_type": "markdown",
   "id": "14d213f2",
   "metadata": {},
   "source": [
    "Проверим, есть ли в таблице улицы, принадлежащие сразу нескольким районам. Посмотрим пример такой улицы."
   ]
  },
  {
   "cell_type": "code",
   "execution_count": 10,
   "id": "9da13230",
   "metadata": {
    "scrolled": true
   },
   "outputs": [
    {
     "name": "stdout",
     "output_type": "stream",
     "text": [
      "Всего дубликатов в названиях улиц 794\n"
     ]
    },
    {
     "data": {
      "text/html": [
       "<div>\n",
       "<style scoped>\n",
       "    .dataframe tbody tr th:only-of-type {\n",
       "        vertical-align: middle;\n",
       "    }\n",
       "\n",
       "    .dataframe tbody tr th {\n",
       "        vertical-align: top;\n",
       "    }\n",
       "\n",
       "    .dataframe thead th {\n",
       "        text-align: right;\n",
       "    }\n",
       "</style>\n",
       "<table border=\"1\" class=\"dataframe\">\n",
       "  <thead>\n",
       "    <tr style=\"text-align: right;\">\n",
       "      <th></th>\n",
       "      <th>streetname</th>\n",
       "      <th>areaid</th>\n",
       "      <th>okrug</th>\n",
       "      <th>area</th>\n",
       "    </tr>\n",
       "  </thead>\n",
       "  <tbody>\n",
       "    <tr>\n",
       "      <th>4213</th>\n",
       "      <td>1-й Басманный переулок</td>\n",
       "      <td>15</td>\n",
       "      <td>ЦАО</td>\n",
       "      <td>Красносельский район</td>\n",
       "    </tr>\n",
       "  </tbody>\n",
       "</table>\n",
       "</div>"
      ],
      "text/plain": [
       "                  streetname  areaid okrug                  area\n",
       "4213  1-й Басманный переулок      15   ЦАО  Красносельский район"
      ]
     },
     "metadata": {},
     "output_type": "display_data"
    }
   ],
   "source": [
    "# Подсчет названий улиц, встречающихся более 1 раза \n",
    "print('Всего дубликатов в названиях улиц', streets['streetname'].duplicated().sum())\n",
    "# Демонстрация примера такого названияя\n",
    "display(streets.loc[streets['streetname'].duplicated()].sort_values(by='streetname').head(1))"
   ]
  },
  {
   "cell_type": "markdown",
   "id": "8fab7566",
   "metadata": {},
   "source": [
    "Проверим, в каких районах есть 1-й Басманный переулок."
   ]
  },
  {
   "cell_type": "code",
   "execution_count": 11,
   "id": "9851ea67",
   "metadata": {
    "scrolled": true
   },
   "outputs": [
    {
     "data": {
      "text/html": [
       "<div>\n",
       "<style scoped>\n",
       "    .dataframe tbody tr th:only-of-type {\n",
       "        vertical-align: middle;\n",
       "    }\n",
       "\n",
       "    .dataframe tbody tr th {\n",
       "        vertical-align: top;\n",
       "    }\n",
       "\n",
       "    .dataframe thead th {\n",
       "        text-align: right;\n",
       "    }\n",
       "</style>\n",
       "<table border=\"1\" class=\"dataframe\">\n",
       "  <thead>\n",
       "    <tr style=\"text-align: right;\">\n",
       "      <th></th>\n",
       "      <th>streetname</th>\n",
       "      <th>areaid</th>\n",
       "      <th>okrug</th>\n",
       "      <th>area</th>\n",
       "    </tr>\n",
       "  </thead>\n",
       "  <tbody>\n",
       "    <tr>\n",
       "      <th>805</th>\n",
       "      <td>1-й Басманный переулок</td>\n",
       "      <td>13</td>\n",
       "      <td>ЦАО</td>\n",
       "      <td>Басманный район</td>\n",
       "    </tr>\n",
       "    <tr>\n",
       "      <th>4213</th>\n",
       "      <td>1-й Басманный переулок</td>\n",
       "      <td>15</td>\n",
       "      <td>ЦАО</td>\n",
       "      <td>Красносельский район</td>\n",
       "    </tr>\n",
       "  </tbody>\n",
       "</table>\n",
       "</div>"
      ],
      "text/plain": [
       "                  streetname  areaid okrug                  area\n",
       "805   1-й Басманный переулок      13   ЦАО       Басманный район\n",
       "4213  1-й Басманный переулок      15   ЦАО  Красносельский район"
      ]
     },
     "execution_count": 11,
     "metadata": {},
     "output_type": "execute_result"
    }
   ],
   "source": [
    "# Получение информации о улице, встречающейся более одного раза\n",
    "streets.query(\"streetname == '1-й Басманный переулок'\")"
   ]
  },
  {
   "cell_type": "markdown",
   "id": "753536c8",
   "metadata": {},
   "source": [
    "**Выводы**\n",
    "\n",
    "Данные разделены на 2 таблицы. В первой содержатся описание и характеристики заведений общественного питания Москвы. \n",
    "Вторая таблица содержит информацию о связи улицы, района и административного округа. Для достижения целей исследования необходимо будет провести предобработку: привести данные к необходимым форматам, привести названия столбцов к хорошему стилю и убедиться в качестве данных. \n",
    "\n",
    "Чтобы двигаться дальше, нужно устранить проблемы в данных."
   ]
  },
  {
   "cell_type": "markdown",
   "id": "fa655d7b",
   "metadata": {},
   "source": [
    "### Предобработка данных"
   ]
  },
  {
   "cell_type": "markdown",
   "id": "fb2dcec3",
   "metadata": {},
   "source": [
    "Обработаем названия столбцов, исключим пропуски данных и дубликаты, проверим данные на наличие аномалий и при необходиЫмости избавимся от них. Приведем данные к необходимым типам."
   ]
  },
  {
   "cell_type": "markdown",
   "id": "24c2b26a",
   "metadata": {},
   "source": [
    "#### Приведение названий столбцов к хорошему стилю"
   ]
  },
  {
   "cell_type": "markdown",
   "id": "d1fca6af",
   "metadata": {},
   "source": [
    "Заменим названия столбцов в таблице rest_data - приведем к нижнему регистру."
   ]
  },
  {
   "cell_type": "code",
   "execution_count": 12,
   "id": "e1cd1f60",
   "metadata": {},
   "outputs": [
    {
     "data": {
      "text/plain": [
       "Index(['id', 'object_name', 'chain', 'object_type', 'address', 'total_seats'], dtype='object')"
      ]
     },
     "execution_count": 12,
     "metadata": {},
     "output_type": "execute_result"
    }
   ],
   "source": [
    "# Переименование столбцов\n",
    "rest_data.rename(columns = {'number':'total_seats'}, inplace = True)\n",
    "\n",
    "# Проверка - вывод названий столбцов\n",
    "rest_data.columns "
   ]
  },
  {
   "cell_type": "markdown",
   "id": "c51c5422",
   "metadata": {},
   "source": [
    "Изменим стиль названий в таблице orders"
   ]
  },
  {
   "cell_type": "code",
   "execution_count": 13,
   "id": "7239f47b",
   "metadata": {
    "scrolled": true
   },
   "outputs": [
    {
     "data": {
      "text/plain": [
       "Index(['street_name', 'area_id', 'district', 'area'], dtype='object')"
      ]
     },
     "execution_count": 13,
     "metadata": {},
     "output_type": "execute_result"
    }
   ],
   "source": [
    "# Переименование столбца\n",
    "streets.rename(columns = {'streetname':'street_name', 'areaid' : 'area_id', 'okrug' : 'district'}, inplace = True)\n",
    "# Проверка - вывод названий столбцов\n",
    "streets.columns "
   ]
  },
  {
   "cell_type": "markdown",
   "id": "f76d06e8",
   "metadata": {},
   "source": [
    "Теперь названия столбцов в порядке. "
   ]
  },
  {
   "cell_type": "markdown",
   "id": "f14f752f",
   "metadata": {},
   "source": [
    "#### Преобразование типов данных"
   ]
  },
  {
   "cell_type": "markdown",
   "id": "248b6bc7",
   "metadata": {},
   "source": [
    "Преобразуем данные в нужные типы. В столбцe `chain` необходимо заменить формат object на boolean."
   ]
  },
  {
   "cell_type": "markdown",
   "id": "bbf24cd9",
   "metadata": {},
   "source": [
    "Начнем с преобразований значений."
   ]
  },
  {
   "cell_type": "code",
   "execution_count": 14,
   "id": "00e5d916",
   "metadata": {},
   "outputs": [
    {
     "name": "stdout",
     "output_type": "stream",
     "text": [
      "<class 'numpy.dtype[bool_]'>\n"
     ]
    },
    {
     "data": {
      "text/html": [
       "<div>\n",
       "<style scoped>\n",
       "    .dataframe tbody tr th:only-of-type {\n",
       "        vertical-align: middle;\n",
       "    }\n",
       "\n",
       "    .dataframe tbody tr th {\n",
       "        vertical-align: top;\n",
       "    }\n",
       "\n",
       "    .dataframe thead th {\n",
       "        text-align: right;\n",
       "    }\n",
       "</style>\n",
       "<table border=\"1\" class=\"dataframe\">\n",
       "  <thead>\n",
       "    <tr style=\"text-align: right;\">\n",
       "      <th></th>\n",
       "      <th>id</th>\n",
       "      <th>object_name</th>\n",
       "      <th>chain</th>\n",
       "      <th>object_type</th>\n",
       "      <th>address</th>\n",
       "      <th>total_seats</th>\n",
       "    </tr>\n",
       "  </thead>\n",
       "  <tbody>\n",
       "    <tr>\n",
       "      <th>0</th>\n",
       "      <td>151635</td>\n",
       "      <td>СМЕТАНА</td>\n",
       "      <td>False</td>\n",
       "      <td>кафе</td>\n",
       "      <td>город Москва, улица Егора Абакумова, дом 9</td>\n",
       "      <td>48</td>\n",
       "    </tr>\n",
       "    <tr>\n",
       "      <th>1</th>\n",
       "      <td>77874</td>\n",
       "      <td>Родник</td>\n",
       "      <td>False</td>\n",
       "      <td>кафе</td>\n",
       "      <td>город Москва, улица Талалихина, дом 2/1, корпус 1</td>\n",
       "      <td>35</td>\n",
       "    </tr>\n",
       "    <tr>\n",
       "      <th>2</th>\n",
       "      <td>24309</td>\n",
       "      <td>Кафе «Академия»</td>\n",
       "      <td>False</td>\n",
       "      <td>кафе</td>\n",
       "      <td>город Москва, Абельмановская улица, дом 6</td>\n",
       "      <td>95</td>\n",
       "    </tr>\n",
       "    <tr>\n",
       "      <th>3</th>\n",
       "      <td>21894</td>\n",
       "      <td>ПИЦЦЕТОРИЯ</td>\n",
       "      <td>True</td>\n",
       "      <td>кафе</td>\n",
       "      <td>город Москва, Абрамцевская улица, дом 1</td>\n",
       "      <td>40</td>\n",
       "    </tr>\n",
       "    <tr>\n",
       "      <th>4</th>\n",
       "      <td>119365</td>\n",
       "      <td>Кафе «Вишневая метель»</td>\n",
       "      <td>False</td>\n",
       "      <td>кафе</td>\n",
       "      <td>город Москва, Абрамцевская улица, дом 9, корпус 1</td>\n",
       "      <td>50</td>\n",
       "    </tr>\n",
       "  </tbody>\n",
       "</table>\n",
       "</div>"
      ],
      "text/plain": [
       "       id             object_name  chain object_type  \\\n",
       "0  151635                 СМЕТАНА  False        кафе   \n",
       "1   77874                  Родник  False        кафе   \n",
       "2   24309         Кафе «Академия»  False        кафе   \n",
       "3   21894              ПИЦЦЕТОРИЯ   True        кафе   \n",
       "4  119365  Кафе «Вишневая метель»  False        кафе   \n",
       "\n",
       "                                             address  total_seats  \n",
       "0         город Москва, улица Егора Абакумова, дом 9           48  \n",
       "1  город Москва, улица Талалихина, дом 2/1, корпус 1           35  \n",
       "2          город Москва, Абельмановская улица, дом 6           95  \n",
       "3            город Москва, Абрамцевская улица, дом 1           40  \n",
       "4  город Москва, Абрамцевская улица, дом 9, корпус 1           50  "
      ]
     },
     "execution_count": 14,
     "metadata": {},
     "output_type": "execute_result"
    }
   ],
   "source": [
    "# Замена значений столбца на True и False\n",
    "rest_data['chain'] = rest_data['chain'].replace({'да': True, 'нет': False})\n",
    "# Запрос получившегося типа данных\n",
    "print(type(rest_data['chain'].dtype))\n",
    "# Проверка - получение первых 5 строк таблицы\n",
    "rest_data.head()"
   ]
  },
  {
   "cell_type": "markdown",
   "id": "f764d8d0",
   "metadata": {},
   "source": [
    "Замена произведена удачно. Теперь проверим данные на аномалии и дубликаты."
   ]
  },
  {
   "cell_type": "markdown",
   "id": "808da9c5",
   "metadata": {},
   "source": [
    "#### Проверка данных на аномалии и дубликаты"
   ]
  },
  {
   "cell_type": "markdown",
   "id": "8c98a3b8",
   "metadata": {},
   "source": [
    "Определим, есть ли в таблицах rest_data и streets пропуски."
   ]
  },
  {
   "cell_type": "code",
   "execution_count": 15,
   "id": "52a21774",
   "metadata": {},
   "outputs": [
    {
     "name": "stdout",
     "output_type": "stream",
     "text": [
      "id             0\n",
      "object_name    0\n",
      "chain          0\n",
      "object_type    0\n",
      "address        0\n",
      "total_seats    0\n",
      "dtype: int64\n",
      "street_name    0\n",
      "area_id        0\n",
      "district       0\n",
      "area           0\n",
      "dtype: int64\n"
     ]
    }
   ],
   "source": [
    "# Запрос количества пропущенных значений по столбцам.\n",
    "print(rest_data.isna().sum())\n",
    "print(streets.isna().sum())"
   ]
  },
  {
   "cell_type": "markdown",
   "id": "a662dd0f",
   "metadata": {},
   "source": [
    "В таблицах, как мы и предположили, отсутствуют пропуски."
   ]
  },
  {
   "cell_type": "markdown",
   "id": "4dcdebce",
   "metadata": {},
   "source": [
    "Проверим поле total_seats на аномалии."
   ]
  },
  {
   "cell_type": "code",
   "execution_count": 16,
   "id": "97543c7c",
   "metadata": {
    "scrolled": false
   },
   "outputs": [
    {
     "data": {
      "text/plain": [
       "count    15366.000000\n",
       "mean        59.547182\n",
       "std         74.736833\n",
       "min          0.000000\n",
       "25%         12.000000\n",
       "50%         40.000000\n",
       "75%         80.000000\n",
       "max       1700.000000\n",
       "Name: total_seats, dtype: float64"
      ]
     },
     "execution_count": 16,
     "metadata": {},
     "output_type": "execute_result"
    }
   ],
   "source": [
    "# Запрос характеристик столбца\n",
    "rest_data['total_seats'].describe()"
   ]
  },
  {
   "cell_type": "markdown",
   "id": "17ba3f20",
   "metadata": {},
   "source": [
    "Итак, мы видим, что в наших данных есть информация о разных заведениях - у некоторых совсем нет посадочных мест, а у других их очень много. Убедимся, что заведения с наибольшим количеством мест - не техническая ошибка, а реально работающие заведения."
   ]
  },
  {
   "cell_type": "code",
   "execution_count": 17,
   "id": "da83d0c0",
   "metadata": {
    "scrolled": true
   },
   "outputs": [
    {
     "data": {
      "text/html": [
       "<div>\n",
       "<style scoped>\n",
       "    .dataframe tbody tr th:only-of-type {\n",
       "        vertical-align: middle;\n",
       "    }\n",
       "\n",
       "    .dataframe tbody tr th {\n",
       "        vertical-align: top;\n",
       "    }\n",
       "\n",
       "    .dataframe thead th {\n",
       "        text-align: right;\n",
       "    }\n",
       "</style>\n",
       "<table border=\"1\" class=\"dataframe\">\n",
       "  <thead>\n",
       "    <tr style=\"text-align: right;\">\n",
       "      <th></th>\n",
       "      <th>id</th>\n",
       "      <th>object_name</th>\n",
       "      <th>chain</th>\n",
       "      <th>object_type</th>\n",
       "      <th>address</th>\n",
       "      <th>total_seats</th>\n",
       "    </tr>\n",
       "  </thead>\n",
       "  <tbody>\n",
       "    <tr>\n",
       "      <th>12723</th>\n",
       "      <td>199696</td>\n",
       "      <td>Arena by Soho Family</td>\n",
       "      <td>False</td>\n",
       "      <td>бар</td>\n",
       "      <td>город Москва, Кутузовский проспект, дом 36, ст...</td>\n",
       "      <td>1700</td>\n",
       "    </tr>\n",
       "    <tr>\n",
       "      <th>8148</th>\n",
       "      <td>80291</td>\n",
       "      <td>Банкетный зал Шелк</td>\n",
       "      <td>False</td>\n",
       "      <td>ресторан</td>\n",
       "      <td>город Москва, Большой Саввинский переулок, дом...</td>\n",
       "      <td>1500</td>\n",
       "    </tr>\n",
       "    <tr>\n",
       "      <th>8345</th>\n",
       "      <td>27750</td>\n",
       "      <td>СТОЛОВАЯ-БУФЕТ</td>\n",
       "      <td>False</td>\n",
       "      <td>столовая</td>\n",
       "      <td>город Москва, улица Волхонка, дом 15</td>\n",
       "      <td>1400</td>\n",
       "    </tr>\n",
       "    <tr>\n",
       "      <th>9064</th>\n",
       "      <td>19719</td>\n",
       "      <td>КОМБИНАТ ПИТАНИЯ «УПРАВЛЕНИЕ АКАДЕМСЕРВИС»</td>\n",
       "      <td>False</td>\n",
       "      <td>столовая</td>\n",
       "      <td>город Москва, проспект Вернадского, дом 84, ст...</td>\n",
       "      <td>1288</td>\n",
       "    </tr>\n",
       "    <tr>\n",
       "      <th>4480</th>\n",
       "      <td>27024</td>\n",
       "      <td>РУМ СЕРВИС</td>\n",
       "      <td>False</td>\n",
       "      <td>ресторан</td>\n",
       "      <td>город Москва, Кутузовский проспект, дом 2/1, с...</td>\n",
       "      <td>1200</td>\n",
       "    </tr>\n",
       "    <tr>\n",
       "      <th>3686</th>\n",
       "      <td>27026</td>\n",
       "      <td>РУМ СЕРВИС</td>\n",
       "      <td>False</td>\n",
       "      <td>ресторан</td>\n",
       "      <td>город Москва, площадь Европы, дом 2</td>\n",
       "      <td>1200</td>\n",
       "    </tr>\n",
       "    <tr>\n",
       "      <th>2313</th>\n",
       "      <td>26560</td>\n",
       "      <td>Ресторан «АЛЬФА»</td>\n",
       "      <td>False</td>\n",
       "      <td>ресторан</td>\n",
       "      <td>город Москва, Измайловское шоссе, дом 71, корп...</td>\n",
       "      <td>1040</td>\n",
       "    </tr>\n",
       "    <tr>\n",
       "      <th>9955</th>\n",
       "      <td>171116</td>\n",
       "      <td>EATALY</td>\n",
       "      <td>False</td>\n",
       "      <td>ресторан</td>\n",
       "      <td>город Москва, Киевская улица, дом 2</td>\n",
       "      <td>920</td>\n",
       "    </tr>\n",
       "    <tr>\n",
       "      <th>5649</th>\n",
       "      <td>29232</td>\n",
       "      <td>СТОЛОВАЯ МОСКОВСКИЙ ГУМАНИТАРНЫЙ УНИВЕРСИТЕТ</td>\n",
       "      <td>False</td>\n",
       "      <td>столовая</td>\n",
       "      <td>город Москва, улица Юности, дом 5, строение 1</td>\n",
       "      <td>760</td>\n",
       "    </tr>\n",
       "    <tr>\n",
       "      <th>13299</th>\n",
       "      <td>200905</td>\n",
       "      <td>White Hall</td>\n",
       "      <td>False</td>\n",
       "      <td>ресторан</td>\n",
       "      <td>город Москва, Ферганская улица, дом 8</td>\n",
       "      <td>700</td>\n",
       "    </tr>\n",
       "  </tbody>\n",
       "</table>\n",
       "</div>"
      ],
      "text/plain": [
       "           id                                   object_name  chain  \\\n",
       "12723  199696                          Arena by Soho Family  False   \n",
       "8148    80291                            Банкетный зал Шелк  False   \n",
       "8345    27750                                СТОЛОВАЯ-БУФЕТ  False   \n",
       "9064    19719    КОМБИНАТ ПИТАНИЯ «УПРАВЛЕНИЕ АКАДЕМСЕРВИС»  False   \n",
       "4480    27024                                    РУМ СЕРВИС  False   \n",
       "3686    27026                                    РУМ СЕРВИС  False   \n",
       "2313    26560                              Ресторан «АЛЬФА»  False   \n",
       "9955   171116                                        EATALY  False   \n",
       "5649    29232  СТОЛОВАЯ МОСКОВСКИЙ ГУМАНИТАРНЫЙ УНИВЕРСИТЕТ  False   \n",
       "13299  200905                                    White Hall  False   \n",
       "\n",
       "      object_type                                            address  \\\n",
       "12723         бар  город Москва, Кутузовский проспект, дом 36, ст...   \n",
       "8148     ресторан  город Москва, Большой Саввинский переулок, дом...   \n",
       "8345     столовая               город Москва, улица Волхонка, дом 15   \n",
       "9064     столовая  город Москва, проспект Вернадского, дом 84, ст...   \n",
       "4480     ресторан  город Москва, Кутузовский проспект, дом 2/1, с...   \n",
       "3686     ресторан                город Москва, площадь Европы, дом 2   \n",
       "2313     ресторан  город Москва, Измайловское шоссе, дом 71, корп...   \n",
       "9955     ресторан                город Москва, Киевская улица, дом 2   \n",
       "5649     столовая      город Москва, улица Юности, дом 5, строение 1   \n",
       "13299    ресторан              город Москва, Ферганская улица, дом 8   \n",
       "\n",
       "       total_seats  \n",
       "12723         1700  \n",
       "8148          1500  \n",
       "8345          1400  \n",
       "9064          1288  \n",
       "4480          1200  \n",
       "3686          1200  \n",
       "2313          1040  \n",
       "9955           920  \n",
       "5649           760  \n",
       "13299          700  "
      ]
     },
     "execution_count": 17,
     "metadata": {},
     "output_type": "execute_result"
    }
   ],
   "source": [
    "rest_data.sort_values(by='total_seats', ascending=False).head(10)"
   ]
  },
  {
   "cell_type": "markdown",
   "id": "6ff513ec",
   "metadata": {},
   "source": [
    "Итак, аномально высокие показатели количества посадочных мест объясняются тем, что это совокупные показатели нескольких заведений - все столовые вуза (например, РАНХИГС - «УПРАВЛЕНИЕ АКАДЕМСЕРВИС» или МГУ - СТОЛОВАЯ МОСКОВСКИЙ ГУМАНИТАРНЫЙ УНИВЕРСИТЕТ), все точки питания большой гостиницы (как .Ресторан «АЛЬФА» в гостинице Измайлово). Чтобы эти данные не влияли на наши результаты, необходимо удалить их. В качестве границы определим 500 мест - рестораны такого размера уже могут обслуживать посетителей."
   ]
  },
  {
   "cell_type": "code",
   "execution_count": 18,
   "id": "091a6243",
   "metadata": {},
   "outputs": [
    {
     "name": "stdout",
     "output_type": "stream",
     "text": [
      "Количество записей в таблице данных заведений общественного питания 15332\n"
     ]
    }
   ],
   "source": [
    "# Удаление из таблицы заведений с числом посадочных мест более 500.\n",
    "rest_data = rest_data.loc[rest_data['total_seats'] < 500]\n",
    "# Проверка - получение количесва строк таблицы\n",
    "print('Количество записей в таблице данных заведений общественного питания', len(rest_data))"
   ]
  },
  {
   "cell_type": "markdown",
   "id": "d06ab1e3",
   "metadata": {},
   "source": [
    "Теперь проверим таблицу rest_data на скрытые дубликаты. Сначала проанализируем виды заведений, а потом обработаем их названия."
   ]
  },
  {
   "cell_type": "code",
   "execution_count": 19,
   "id": "73a68a5a",
   "metadata": {
    "scrolled": false
   },
   "outputs": [
    {
     "data": {
      "text/plain": [
       "кафе                                 6098\n",
       "столовая                             2577\n",
       "ресторан                             2264\n",
       "предприятие быстрого обслуживания    1922\n",
       "бар                                   855\n",
       "буфет                                 585\n",
       "кафетерий                             398\n",
       "закусочная                            360\n",
       "магазин (отдел кулинарии)             273\n",
       "Name: object_type, dtype: int64"
      ]
     },
     "execution_count": 19,
     "metadata": {},
     "output_type": "execute_result"
    }
   ],
   "source": [
    "# Запрос значений столбца\n",
    "rest_data['object_type'].value_counts()"
   ]
  },
  {
   "cell_type": "markdown",
   "id": "1595a065",
   "metadata": {},
   "source": [
    "Мы будем использовать объекты для подписей в графиках, поэтому следует адаптировать тип \"предприятие быстрого обслуживания для подписей\"."
   ]
  },
  {
   "cell_type": "code",
   "execution_count": 20,
   "id": "602ae3d4",
   "metadata": {},
   "outputs": [],
   "source": [
    "rest_data.loc[rest_data['object_type'] == 'предприятие быстрого обслуживания','object_type'] = 'фаст-фуд'"
   ]
  },
  {
   "cell_type": "markdown",
   "id": "ef881ffe",
   "metadata": {},
   "source": [
    "Дубликатов в столбце с видами заведений нет, однако мы можем удалить из анализа закусочные и магазин (отдел кулинарии), так как это специфические виды заведений, информация о них не обогатит исследование для нашего кафе."
   ]
  },
  {
   "cell_type": "code",
   "execution_count": 21,
   "id": "64fb206e",
   "metadata": {},
   "outputs": [
    {
     "name": "stdout",
     "output_type": "stream",
     "text": [
      "Количество записей в таблице данных заведений общественного питания 14699\n"
     ]
    }
   ],
   "source": [
    "# Удаление из таблицы заведений с типом \"закусочная\" или \"магазин (отдел кулинарии)\".\n",
    "rest_data = rest_data.loc[~rest_data['object_type'].isin(['закусочная', 'магазин (отдел кулинарии)'])]\n",
    "# Проверка - получение количесва строк таблицы\n",
    "print('Количество записей в таблице данных заведений общественного питания', len(rest_data))"
   ]
  },
  {
   "cell_type": "markdown",
   "id": "bd0c61cf",
   "metadata": {},
   "source": [
    "Теперь проанализируем названия заведений."
   ]
  },
  {
   "cell_type": "code",
   "execution_count": 22,
   "id": "6e10474d",
   "metadata": {},
   "outputs": [
    {
     "name": "stdout",
     "output_type": "stream",
     "text": [
      "Количество оригинальных названий -  10116\n"
     ]
    }
   ],
   "source": [
    "# Запрос уникальных значений столбца\n",
    "sorted(rest_data['object_name'].unique())\n",
    "# Проверка - запрос количества уникальных названий\n",
    "print('Количество оригинальных названий - ', rest_data['object_name'].nunique())"
   ]
  },
  {
   "cell_type": "markdown",
   "id": "e460297b",
   "metadata": {},
   "source": [
    "Мы видим, что в столбце есть неявные дубликаты + иногда в название попадает тип заведения (например, кафе \"Роза\"). В нашу задачу не входит устранение проблем в этом поле, однако мы можем привести все данные к единому регистру и убрать из названий тип.  "
   ]
  },
  {
   "cell_type": "code",
   "execution_count": 23,
   "id": "2d047e91",
   "metadata": {},
   "outputs": [
    {
     "name": "stdout",
     "output_type": "stream",
     "text": [
      "Количество оригинальных названий -  9676\n"
     ]
    }
   ],
   "source": [
    "# Преобразование регистра\n",
    "rest_data['object_name'] = rest_data['object_name'].str.title()\n",
    "# Проверка - запрос количества уникальных названий\n",
    "print('Количество оригинальных названий - ', rest_data['object_name'].nunique() )"
   ]
  },
  {
   "cell_type": "code",
   "execution_count": 24,
   "id": "4a4a19e8",
   "metadata": {},
   "outputs": [
    {
     "name": "stdout",
     "output_type": "stream",
     "text": [
      "Количество оригинальных названий -  9471\n"
     ]
    }
   ],
   "source": [
    "# Удаление вида заведения\n",
    "rest_data['object_name'] = rest_data['object_name'].str.replace('Кафе', '').str.strip()\n",
    "rest_data['object_name'] = rest_data['object_name'].str.replace('Ресторан', '').str.strip()\n",
    "rest_data['object_name'] = rest_data['object_name'].str.replace('Банкетный Зал', '').str.strip()\n",
    "rest_data['object_name'] = rest_data['object_name'].str.replace('Бар', '').str.strip()\n",
    "# Проверка - запрос количества уникальных названий\n",
    "print('Количество оригинальных названий - ', rest_data['object_name'].nunique() )"
   ]
  },
  {
   "cell_type": "markdown",
   "id": "bfa3c094",
   "metadata": {},
   "source": [
    "Теперь проверим таблицы на явные дубликаты."
   ]
  },
  {
   "cell_type": "code",
   "execution_count": 25,
   "id": "936b0f3f",
   "metadata": {
    "scrolled": true
   },
   "outputs": [
    {
     "name": "stdout",
     "output_type": "stream",
     "text": [
      "0\n",
      "8\n"
     ]
    }
   ],
   "source": [
    "# Запрос количества явных дубликатов\n",
    "print(rest_data.duplicated().sum())\n",
    "print(streets.duplicated().sum())"
   ]
  },
  {
   "cell_type": "markdown",
   "id": "314b41e8",
   "metadata": {},
   "source": [
    "Удалим явные дубликаты из таблицы улиц."
   ]
  },
  {
   "cell_type": "code",
   "execution_count": 26,
   "id": "a74eb3d9",
   "metadata": {},
   "outputs": [
    {
     "data": {
      "text/plain": [
       "0"
      ]
     },
     "execution_count": 26,
     "metadata": {},
     "output_type": "execute_result"
    }
   ],
   "source": [
    "# Удаление явных дубликатов\n",
    "streets = streets.drop_duplicates().reset_index(drop=True) \n",
    "streets.duplicated().sum() # проверка на отсутствие дубликатов"
   ]
  },
  {
   "cell_type": "markdown",
   "id": "14c7a20a",
   "metadata": {},
   "source": [
    "Явных дубликатов в таблицах нет. \n",
    "Мы проверили данные на аномалии и дубликаты, устранили небольшие погрешности и теперь можем приступать к дальнейшему анализу."
   ]
  },
  {
   "cell_type": "markdown",
   "id": "71face3c",
   "metadata": {},
   "source": [
    "## Анализ данных"
   ]
  },
  {
   "cell_type": "markdown",
   "id": "a3b6ef09",
   "metadata": {},
   "source": [
    "В рамках анализа данных проанализируем соотношение видов объектов общественного питания, рассмотрим особенности сетевых и несетевых заведений, выделим информацию об улицах, на которых расположены заведения и выявим улицы с высоким количеством заведения и с одним заведением на всей улице, определим районы, где эти улицы расположены."
   ]
  },
  {
   "cell_type": "markdown",
   "id": "f8c4df64",
   "metadata": {},
   "source": [
    "### Виды объектов общественного питания: какие более распространены?"
   ]
  },
  {
   "cell_type": "markdown",
   "id": "10c1c843",
   "metadata": {},
   "source": [
    "Исследуем соотношение видов объектов общественного питания по количеству."
   ]
  },
  {
   "cell_type": "markdown",
   "id": "cf42808c",
   "metadata": {},
   "source": [
    "Зададим стиль для графиков seaborn."
   ]
  },
  {
   "cell_type": "code",
   "execution_count": 27,
   "id": "cb9ad58f",
   "metadata": {},
   "outputs": [],
   "source": [
    "# Определение размера элементов и шрифта\n",
    "sns.set_context(\"paper\", font_scale = 2)\n",
    "# Определение стиля графика\n",
    "sns.set_style('ticks')\n",
    "# Определение палитры \n",
    "sns.set_palette(\"rainbow\")"
   ]
  },
  {
   "cell_type": "code",
   "execution_count": 28,
   "id": "18ec5b04",
   "metadata": {
    "scrolled": false
   },
   "outputs": [
    {
     "ename": "TypeError",
     "evalue": "got an unexpected keyword argument 'orientation'",
     "output_type": "error",
     "traceback": [
      "\u001b[0;31m---------------------------------------------------------------------------\u001b[0m",
      "\u001b[0;31mTypeError\u001b[0m                                 Traceback (most recent call last)",
      "File \u001b[0;32m~/anaconda3/envs/practicum/lib/python3.9/site-packages/IPython/core/formatters.py:339\u001b[0m, in \u001b[0;36mBaseFormatter.__call__\u001b[0;34m(self, obj)\u001b[0m\n\u001b[1;32m    337\u001b[0m     \u001b[38;5;28;01mpass\u001b[39;00m\n\u001b[1;32m    338\u001b[0m \u001b[38;5;28;01melse\u001b[39;00m:\n\u001b[0;32m--> 339\u001b[0m     \u001b[38;5;28;01mreturn\u001b[39;00m \u001b[43mprinter\u001b[49m\u001b[43m(\u001b[49m\u001b[43mobj\u001b[49m\u001b[43m)\u001b[49m\n\u001b[1;32m    340\u001b[0m \u001b[38;5;66;03m# Finally look for special method names\u001b[39;00m\n\u001b[1;32m    341\u001b[0m method \u001b[38;5;241m=\u001b[39m get_real_method(obj, \u001b[38;5;28mself\u001b[39m\u001b[38;5;241m.\u001b[39mprint_method)\n",
      "File \u001b[0;32m~/anaconda3/envs/practicum/lib/python3.9/site-packages/IPython/core/pylabtools.py:151\u001b[0m, in \u001b[0;36mprint_figure\u001b[0;34m(fig, fmt, bbox_inches, base64, **kwargs)\u001b[0m\n\u001b[1;32m    148\u001b[0m     \u001b[38;5;28;01mfrom\u001b[39;00m \u001b[38;5;21;01mmatplotlib\u001b[39;00m\u001b[38;5;21;01m.\u001b[39;00m\u001b[38;5;21;01mbackend_bases\u001b[39;00m \u001b[38;5;28;01mimport\u001b[39;00m FigureCanvasBase\n\u001b[1;32m    149\u001b[0m     FigureCanvasBase(fig)\n\u001b[0;32m--> 151\u001b[0m \u001b[43mfig\u001b[49m\u001b[38;5;241;43m.\u001b[39;49m\u001b[43mcanvas\u001b[49m\u001b[38;5;241;43m.\u001b[39;49m\u001b[43mprint_figure\u001b[49m\u001b[43m(\u001b[49m\u001b[43mbytes_io\u001b[49m\u001b[43m,\u001b[49m\u001b[43m \u001b[49m\u001b[38;5;241;43m*\u001b[39;49m\u001b[38;5;241;43m*\u001b[39;49m\u001b[43mkw\u001b[49m\u001b[43m)\u001b[49m\n\u001b[1;32m    152\u001b[0m data \u001b[38;5;241m=\u001b[39m bytes_io\u001b[38;5;241m.\u001b[39mgetvalue()\n\u001b[1;32m    153\u001b[0m \u001b[38;5;28;01mif\u001b[39;00m fmt \u001b[38;5;241m==\u001b[39m \u001b[38;5;124m'\u001b[39m\u001b[38;5;124msvg\u001b[39m\u001b[38;5;124m'\u001b[39m:\n",
      "File \u001b[0;32m~/anaconda3/envs/practicum/lib/python3.9/site-packages/matplotlib/backend_bases.py:2289\u001b[0m, in \u001b[0;36mprint_figure\u001b[0;34m(self, filename, dpi, facecolor, edgecolor, orientation, format, bbox_inches, pad_inches, bbox_extra_artists, backend, **kwargs)\u001b[0m\n\u001b[1;32m   2282\u001b[0m     dpi \u001b[38;5;241m=\u001b[39m \u001b[38;5;28mgetattr\u001b[39m(\u001b[38;5;28mself\u001b[39m\u001b[38;5;241m.\u001b[39mfigure, \u001b[38;5;124m'\u001b[39m\u001b[38;5;124m_original_dpi\u001b[39m\u001b[38;5;124m'\u001b[39m, \u001b[38;5;28mself\u001b[39m\u001b[38;5;241m.\u001b[39mfigure\u001b[38;5;241m.\u001b[39mdpi)\n\u001b[1;32m   2284\u001b[0m \u001b[38;5;66;03m# Remove the figure manager, if any, to avoid resizing the GUI widget.\u001b[39;00m\n\u001b[1;32m   2285\u001b[0m \u001b[38;5;28;01mwith\u001b[39;00m cbook\u001b[38;5;241m.\u001b[39m_setattr_cm(\u001b[38;5;28mself\u001b[39m, manager\u001b[38;5;241m=\u001b[39m\u001b[38;5;28;01mNone\u001b[39;00m), \\\n\u001b[1;32m   2286\u001b[0m      \u001b[38;5;28mself\u001b[39m\u001b[38;5;241m.\u001b[39m_switch_canvas_and_return_print_method(\u001b[38;5;28mformat\u001b[39m, backend) \\\n\u001b[1;32m   2287\u001b[0m          \u001b[38;5;28;01mas\u001b[39;00m print_method, \\\n\u001b[1;32m   2288\u001b[0m      cbook\u001b[38;5;241m.\u001b[39m_setattr_cm(\u001b[38;5;28mself\u001b[39m\u001b[38;5;241m.\u001b[39mfigure, dpi\u001b[38;5;241m=\u001b[39mdpi), \\\n\u001b[0;32m-> 2289\u001b[0m      cbook\u001b[38;5;241m.\u001b[39m_setattr_cm(\u001b[38;5;28mself\u001b[39m\u001b[38;5;241m.\u001b[39mfigure\u001b[38;5;241m.\u001b[39mcanvas, _device_pixel_ratio\u001b[38;5;241m=\u001b[39m\u001b[38;5;241m1\u001b[39m), \\\n\u001b[1;32m   2290\u001b[0m      cbook\u001b[38;5;241m.\u001b[39m_setattr_cm(\u001b[38;5;28mself\u001b[39m\u001b[38;5;241m.\u001b[39mfigure\u001b[38;5;241m.\u001b[39mcanvas, _is_saving\u001b[38;5;241m=\u001b[39m\u001b[38;5;28;01mTrue\u001b[39;00m), \\\n\u001b[1;32m   2291\u001b[0m      ExitStack() \u001b[38;5;28;01mas\u001b[39;00m stack:\n\u001b[1;32m   2293\u001b[0m     \u001b[38;5;28;01mfor\u001b[39;00m prop \u001b[38;5;129;01min\u001b[39;00m [\u001b[38;5;124m\"\u001b[39m\u001b[38;5;124mfacecolor\u001b[39m\u001b[38;5;124m\"\u001b[39m, \u001b[38;5;124m\"\u001b[39m\u001b[38;5;124medgecolor\u001b[39m\u001b[38;5;124m\"\u001b[39m]:\n\u001b[1;32m   2294\u001b[0m         color \u001b[38;5;241m=\u001b[39m \u001b[38;5;28mlocals\u001b[39m()[prop]\n",
      "File \u001b[0;32m~/anaconda3/envs/practicum/lib/python3.9/site-packages/matplotlib/backend_bases.py:1544\u001b[0m, in \u001b[0;36m_get_renderer\u001b[0;34m(figure, print_method)\u001b[0m\n\u001b[1;32m   1536\u001b[0m def _get_renderer(figure, print_method=None):\n\u001b[1;32m   1537\u001b[0m     \"\"\"\n\u001b[1;32m   1538\u001b[0m     Get the renderer that would be used to save a `.Figure`.\n\u001b[1;32m   1539\u001b[0m \n\u001b[1;32m   1540\u001b[0m     If you need a renderer without any active draw methods use\n\u001b[1;32m   1541\u001b[0m     renderer._draw_disabled to temporary patch them out at your call site.\n\u001b[1;32m   1542\u001b[0m     \"\"\"\n\u001b[1;32m   1543\u001b[0m     # This is implemented by triggering a draw, then immediately jumping out of\n\u001b[0;32m-> 1544\u001b[0m     # Figure.draw() by raising an exception.\n\u001b[1;32m   1546\u001b[0m     class Done(Exception):\n\u001b[1;32m   1547\u001b[0m         pass\n",
      "File \u001b[0;32m~/anaconda3/envs/practicum/lib/python3.9/site-packages/matplotlib/_api/deprecation.py:390\u001b[0m, in \u001b[0;36mwrapper\u001b[0;34m(*inner_args, **inner_kwargs)\u001b[0m\n\u001b[1;32m    385\u001b[0m arguments \u001b[38;5;241m=\u001b[39m signature\u001b[38;5;241m.\u001b[39mbind(\u001b[38;5;241m*\u001b[39minner_args, \u001b[38;5;241m*\u001b[39m\u001b[38;5;241m*\u001b[39minner_kwargs)\u001b[38;5;241m.\u001b[39marguments\n\u001b[1;32m    386\u001b[0m \u001b[38;5;28;01mif\u001b[39;00m is_varargs \u001b[38;5;129;01mand\u001b[39;00m arguments\u001b[38;5;241m.\u001b[39mget(name):\n\u001b[1;32m    387\u001b[0m     warn_deprecated(\n\u001b[1;32m    388\u001b[0m         since, message\u001b[38;5;241m=\u001b[39m\u001b[38;5;124mf\u001b[39m\u001b[38;5;124m\"\u001b[39m\u001b[38;5;124mAdditional positional arguments to \u001b[39m\u001b[38;5;124m\"\u001b[39m\n\u001b[1;32m    389\u001b[0m         \u001b[38;5;124mf\u001b[39m\u001b[38;5;124m\"\u001b[39m\u001b[38;5;132;01m{\u001b[39;00mfunc\u001b[38;5;241m.\u001b[39m\u001b[38;5;18m__name__\u001b[39m\u001b[38;5;132;01m}\u001b[39;00m\u001b[38;5;124m() are deprecated since %(since)s and \u001b[39m\u001b[38;5;124m\"\u001b[39m\n\u001b[0;32m--> 390\u001b[0m         \u001b[38;5;124mf\u001b[39m\u001b[38;5;124m\"\u001b[39m\u001b[38;5;124msupport for them will be removed %(removal)s.\u001b[39m\u001b[38;5;124m\"\u001b[39m)\n\u001b[1;32m    391\u001b[0m \u001b[38;5;28;01melif\u001b[39;00m is_varkwargs \u001b[38;5;129;01mand\u001b[39;00m arguments\u001b[38;5;241m.\u001b[39mget(name):\n\u001b[1;32m    392\u001b[0m     warn_deprecated(\n\u001b[1;32m    393\u001b[0m         since, message\u001b[38;5;241m=\u001b[39m\u001b[38;5;124mf\u001b[39m\u001b[38;5;124m\"\u001b[39m\u001b[38;5;124mAdditional keyword arguments to \u001b[39m\u001b[38;5;124m\"\u001b[39m\n\u001b[1;32m    394\u001b[0m         \u001b[38;5;124mf\u001b[39m\u001b[38;5;124m\"\u001b[39m\u001b[38;5;132;01m{\u001b[39;00mfunc\u001b[38;5;241m.\u001b[39m\u001b[38;5;18m__name__\u001b[39m\u001b[38;5;132;01m}\u001b[39;00m\u001b[38;5;124m() are deprecated since %(since)s and \u001b[39m\u001b[38;5;124m\"\u001b[39m\n\u001b[1;32m    395\u001b[0m         \u001b[38;5;124mf\u001b[39m\u001b[38;5;124m\"\u001b[39m\u001b[38;5;124msupport for them will be removed %(removal)s.\u001b[39m\u001b[38;5;124m\"\u001b[39m)\n",
      "File \u001b[0;32m~/anaconda3/envs/practicum/lib/python3.9/inspect.py:3045\u001b[0m, in \u001b[0;36mSignature.bind\u001b[0;34m(self, *args, **kwargs)\u001b[0m\n\u001b[1;32m   3040\u001b[0m \u001b[38;5;28;01mdef\u001b[39;00m \u001b[38;5;21mbind\u001b[39m(\u001b[38;5;28mself\u001b[39m, \u001b[38;5;241m/\u001b[39m, \u001b[38;5;241m*\u001b[39margs, \u001b[38;5;241m*\u001b[39m\u001b[38;5;241m*\u001b[39mkwargs):\n\u001b[1;32m   3041\u001b[0m     \u001b[38;5;124;03m\"\"\"Get a BoundArguments object, that maps the passed `args`\u001b[39;00m\n\u001b[1;32m   3042\u001b[0m \u001b[38;5;124;03m    and `kwargs` to the function's signature.  Raises `TypeError`\u001b[39;00m\n\u001b[1;32m   3043\u001b[0m \u001b[38;5;124;03m    if the passed arguments can not be bound.\u001b[39;00m\n\u001b[1;32m   3044\u001b[0m \u001b[38;5;124;03m    \"\"\"\u001b[39;00m\n\u001b[0;32m-> 3045\u001b[0m     \u001b[38;5;28;01mreturn\u001b[39;00m \u001b[38;5;28;43mself\u001b[39;49m\u001b[38;5;241;43m.\u001b[39;49m\u001b[43m_bind\u001b[49m\u001b[43m(\u001b[49m\u001b[43margs\u001b[49m\u001b[43m,\u001b[49m\u001b[43m \u001b[49m\u001b[43mkwargs\u001b[49m\u001b[43m)\u001b[49m\n",
      "File \u001b[0;32m~/anaconda3/envs/practicum/lib/python3.9/inspect.py:3034\u001b[0m, in \u001b[0;36mSignature._bind\u001b[0;34m(self, args, kwargs, partial)\u001b[0m\n\u001b[1;32m   3032\u001b[0m         arguments[kwargs_param\u001b[38;5;241m.\u001b[39mname] \u001b[38;5;241m=\u001b[39m kwargs\n\u001b[1;32m   3033\u001b[0m     \u001b[38;5;28;01melse\u001b[39;00m:\n\u001b[0;32m-> 3034\u001b[0m         \u001b[38;5;28;01mraise\u001b[39;00m \u001b[38;5;167;01mTypeError\u001b[39;00m(\n\u001b[1;32m   3035\u001b[0m             \u001b[38;5;124m'\u001b[39m\u001b[38;5;124mgot an unexpected keyword argument \u001b[39m\u001b[38;5;132;01m{arg!r}\u001b[39;00m\u001b[38;5;124m'\u001b[39m\u001b[38;5;241m.\u001b[39mformat(\n\u001b[1;32m   3036\u001b[0m                 arg\u001b[38;5;241m=\u001b[39m\u001b[38;5;28mnext\u001b[39m(\u001b[38;5;28miter\u001b[39m(kwargs))))\n\u001b[1;32m   3038\u001b[0m \u001b[38;5;28;01mreturn\u001b[39;00m \u001b[38;5;28mself\u001b[39m\u001b[38;5;241m.\u001b[39m_bound_arguments_cls(\u001b[38;5;28mself\u001b[39m, arguments)\n",
      "\u001b[0;31mTypeError\u001b[0m: got an unexpected keyword argument 'orientation'"
     ]
    },
    {
     "data": {
      "text/plain": [
       "<Figure size 504x648 with 1 Axes>"
      ]
     },
     "metadata": {
      "needs_background": "light"
     },
     "output_type": "display_data"
    },
    {
     "ename": "TypeError",
     "evalue": "got an unexpected keyword argument 'facecolor'",
     "output_type": "error",
     "traceback": [
      "\u001b[0;31m---------------------------------------------------------------------------\u001b[0m",
      "\u001b[0;31mTypeError\u001b[0m                                 Traceback (most recent call last)",
      "Input \u001b[0;32mIn [28]\u001b[0m, in \u001b[0;36m<cell line: 23>\u001b[0;34m()\u001b[0m\n\u001b[1;32m     21\u001b[0m plt\u001b[38;5;241m.\u001b[39mshow()\n\u001b[1;32m     22\u001b[0m \u001b[38;5;66;03m# \u001b[39;00m\n\u001b[0;32m---> 23\u001b[0m \u001b[43mplt\u001b[49m\u001b[38;5;241;43m.\u001b[39;49m\u001b[43msavefig\u001b[49m\u001b[43m(\u001b[49m\u001b[38;5;124;43m'\u001b[39;49m\u001b[38;5;124;43mdkdkd.png\u001b[39;49m\u001b[38;5;124;43m'\u001b[39;49m\u001b[43m)\u001b[49m\n",
      "File \u001b[0;32m~/anaconda3/envs/practicum/lib/python3.9/site-packages/matplotlib/pyplot.py:979\u001b[0m, in \u001b[0;36msavefig\u001b[0;34m(*args, **kwargs)\u001b[0m\n\u001b[1;32m    960\u001b[0m \u001b[38;5;129m@_docstring\u001b[39m\u001b[38;5;241m.\u001b[39mdedent_interpd\n\u001b[1;32m    961\u001b[0m \u001b[38;5;28;01mdef\u001b[39;00m \u001b[38;5;21maxes\u001b[39m(arg\u001b[38;5;241m=\u001b[39m\u001b[38;5;28;01mNone\u001b[39;00m, \u001b[38;5;241m*\u001b[39m\u001b[38;5;241m*\u001b[39mkwargs):\n\u001b[1;32m    962\u001b[0m     \u001b[38;5;124;03m\"\"\"\u001b[39;00m\n\u001b[1;32m    963\u001b[0m \u001b[38;5;124;03m    Add an Axes to the current figure and make it the current Axes.\u001b[39;00m\n\u001b[1;32m    964\u001b[0m \n\u001b[1;32m    965\u001b[0m \u001b[38;5;124;03m    Call signatures::\u001b[39;00m\n\u001b[1;32m    966\u001b[0m \n\u001b[1;32m    967\u001b[0m \u001b[38;5;124;03m        plt.axes()\u001b[39;00m\n\u001b[1;32m    968\u001b[0m \u001b[38;5;124;03m        plt.axes(rect, projection=None, polar=False, **kwargs)\u001b[39;00m\n\u001b[1;32m    969\u001b[0m \u001b[38;5;124;03m        plt.axes(ax)\u001b[39;00m\n\u001b[1;32m    970\u001b[0m \n\u001b[1;32m    971\u001b[0m \u001b[38;5;124;03m    Parameters\u001b[39;00m\n\u001b[1;32m    972\u001b[0m \u001b[38;5;124;03m    ----------\u001b[39;00m\n\u001b[1;32m    973\u001b[0m \u001b[38;5;124;03m    arg : None or 4-tuple\u001b[39;00m\n\u001b[1;32m    974\u001b[0m \u001b[38;5;124;03m        The exact behavior of this function depends on the type:\u001b[39;00m\n\u001b[1;32m    975\u001b[0m \n\u001b[1;32m    976\u001b[0m \u001b[38;5;124;03m        - *None*: A new full window Axes is added using\u001b[39;00m\n\u001b[1;32m    977\u001b[0m \u001b[38;5;124;03m          ``subplot(**kwargs)``.\u001b[39;00m\n\u001b[1;32m    978\u001b[0m \u001b[38;5;124;03m        - 4-tuple of floats *rect* = ``[left, bottom, width, height]``.\u001b[39;00m\n\u001b[0;32m--> 979\u001b[0m \u001b[38;5;124;03m          A new Axes is added with dimensions *rect* in normalized\u001b[39;00m\n\u001b[1;32m    980\u001b[0m \u001b[38;5;124;03m          (0, 1) units using `~.Figure.add_axes` on the current figure.\u001b[39;00m\n\u001b[1;32m    981\u001b[0m \n\u001b[1;32m    982\u001b[0m \u001b[38;5;124;03m    projection : {None, 'aitoff', 'hammer', 'lambert', 'mollweide', \\\u001b[39;00m\n\u001b[1;32m    983\u001b[0m \u001b[38;5;124;03m'polar', 'rectilinear', str}, optional\u001b[39;00m\n\u001b[1;32m    984\u001b[0m \u001b[38;5;124;03m        The projection type of the `~.axes.Axes`. *str* is the name of\u001b[39;00m\n\u001b[1;32m    985\u001b[0m \u001b[38;5;124;03m        a custom projection, see `~matplotlib.projections`. The default\u001b[39;00m\n\u001b[1;32m    986\u001b[0m \u001b[38;5;124;03m        None results in a 'rectilinear' projection.\u001b[39;00m\n\u001b[1;32m    987\u001b[0m \n\u001b[1;32m    988\u001b[0m \u001b[38;5;124;03m    polar : bool, default: False\u001b[39;00m\n\u001b[1;32m    989\u001b[0m \u001b[38;5;124;03m        If True, equivalent to projection='polar'.\u001b[39;00m\n\u001b[1;32m    990\u001b[0m \n\u001b[1;32m    991\u001b[0m \u001b[38;5;124;03m    sharex, sharey : `~.axes.Axes`, optional\u001b[39;00m\n\u001b[1;32m    992\u001b[0m \u001b[38;5;124;03m        Share the x or y `~matplotlib.axis` with sharex and/or sharey.\u001b[39;00m\n\u001b[1;32m    993\u001b[0m \u001b[38;5;124;03m        The axis will have the same limits, ticks, and scale as the axis\u001b[39;00m\n\u001b[1;32m    994\u001b[0m \u001b[38;5;124;03m        of the shared Axes.\u001b[39;00m\n\u001b[1;32m    995\u001b[0m \n\u001b[1;32m    996\u001b[0m \u001b[38;5;124;03m    label : str\u001b[39;00m\n\u001b[1;32m    997\u001b[0m \u001b[38;5;124;03m        A label for the returned Axes.\u001b[39;00m\n\u001b[1;32m    998\u001b[0m \n\u001b[1;32m    999\u001b[0m \u001b[38;5;124;03m    Returns\u001b[39;00m\n\u001b[1;32m   1000\u001b[0m \u001b[38;5;124;03m    -------\u001b[39;00m\n\u001b[1;32m   1001\u001b[0m \u001b[38;5;124;03m    `~.axes.Axes`, or a subclass of `~.axes.Axes`\u001b[39;00m\n\u001b[1;32m   1002\u001b[0m \u001b[38;5;124;03m        The returned axes class depends on the projection used. It is\u001b[39;00m\n\u001b[1;32m   1003\u001b[0m \u001b[38;5;124;03m        `~.axes.Axes` if rectilinear projection is used and\u001b[39;00m\n\u001b[1;32m   1004\u001b[0m \u001b[38;5;124;03m        `.projections.polar.PolarAxes` if polar projection is used.\u001b[39;00m\n\u001b[1;32m   1005\u001b[0m \n\u001b[1;32m   1006\u001b[0m \u001b[38;5;124;03m    Other Parameters\u001b[39;00m\n\u001b[1;32m   1007\u001b[0m \u001b[38;5;124;03m    ----------------\u001b[39;00m\n\u001b[1;32m   1008\u001b[0m \u001b[38;5;124;03m    **kwargs\u001b[39;00m\n\u001b[1;32m   1009\u001b[0m \u001b[38;5;124;03m        This method also takes the keyword arguments for\u001b[39;00m\n\u001b[1;32m   1010\u001b[0m \u001b[38;5;124;03m        the returned Axes class. The keyword arguments for the\u001b[39;00m\n\u001b[1;32m   1011\u001b[0m \u001b[38;5;124;03m        rectilinear Axes class `~.axes.Axes` can be found in\u001b[39;00m\n\u001b[1;32m   1012\u001b[0m \u001b[38;5;124;03m        the following table but there might also be other keyword\u001b[39;00m\n\u001b[1;32m   1013\u001b[0m \u001b[38;5;124;03m        arguments if another projection is used, see the actual Axes\u001b[39;00m\n\u001b[1;32m   1014\u001b[0m \u001b[38;5;124;03m        class.\u001b[39;00m\n\u001b[1;32m   1015\u001b[0m \n\u001b[1;32m   1016\u001b[0m \u001b[38;5;124;03m        %(Axes:kwdoc)s\u001b[39;00m\n\u001b[1;32m   1017\u001b[0m \n\u001b[1;32m   1018\u001b[0m \u001b[38;5;124;03m    Notes\u001b[39;00m\n\u001b[1;32m   1019\u001b[0m \u001b[38;5;124;03m    -----\u001b[39;00m\n\u001b[1;32m   1020\u001b[0m \u001b[38;5;124;03m    If the figure already has an Axes with key (*args*,\u001b[39;00m\n\u001b[1;32m   1021\u001b[0m \u001b[38;5;124;03m    *kwargs*) then it will simply make that axes current and\u001b[39;00m\n\u001b[1;32m   1022\u001b[0m \u001b[38;5;124;03m    return it.  This behavior is deprecated. Meanwhile, if you do\u001b[39;00m\n\u001b[1;32m   1023\u001b[0m \u001b[38;5;124;03m    not want this behavior (i.e., you want to force the creation of a\u001b[39;00m\n\u001b[1;32m   1024\u001b[0m \u001b[38;5;124;03m    new axes), you must use a unique set of args and kwargs.  The Axes\u001b[39;00m\n\u001b[1;32m   1025\u001b[0m \u001b[38;5;124;03m    *label* attribute has been exposed for this purpose: if you want\u001b[39;00m\n\u001b[1;32m   1026\u001b[0m \u001b[38;5;124;03m    two Axes that are otherwise identical to be added to the figure,\u001b[39;00m\n\u001b[1;32m   1027\u001b[0m \u001b[38;5;124;03m    make sure you give them unique labels.\u001b[39;00m\n\u001b[1;32m   1028\u001b[0m \n\u001b[1;32m   1029\u001b[0m \u001b[38;5;124;03m    See Also\u001b[39;00m\n\u001b[1;32m   1030\u001b[0m \u001b[38;5;124;03m    --------\u001b[39;00m\n\u001b[1;32m   1031\u001b[0m \u001b[38;5;124;03m    .Figure.add_axes\u001b[39;00m\n\u001b[1;32m   1032\u001b[0m \u001b[38;5;124;03m    .pyplot.subplot\u001b[39;00m\n\u001b[1;32m   1033\u001b[0m \u001b[38;5;124;03m    .Figure.add_subplot\u001b[39;00m\n\u001b[1;32m   1034\u001b[0m \u001b[38;5;124;03m    .Figure.subplots\u001b[39;00m\n\u001b[1;32m   1035\u001b[0m \u001b[38;5;124;03m    .pyplot.subplots\u001b[39;00m\n\u001b[1;32m   1036\u001b[0m \n\u001b[1;32m   1037\u001b[0m \u001b[38;5;124;03m    Examples\u001b[39;00m\n\u001b[1;32m   1038\u001b[0m \u001b[38;5;124;03m    --------\u001b[39;00m\n\u001b[1;32m   1039\u001b[0m \u001b[38;5;124;03m    ::\u001b[39;00m\n\u001b[1;32m   1040\u001b[0m \n\u001b[1;32m   1041\u001b[0m \u001b[38;5;124;03m        # Creating a new full window Axes\u001b[39;00m\n\u001b[1;32m   1042\u001b[0m \u001b[38;5;124;03m        plt.axes()\u001b[39;00m\n\u001b[1;32m   1043\u001b[0m \n\u001b[1;32m   1044\u001b[0m \u001b[38;5;124;03m        # Creating a new Axes with specified dimensions and a grey background\u001b[39;00m\n\u001b[1;32m   1045\u001b[0m \u001b[38;5;124;03m        plt.axes((left, bottom, width, height), facecolor='grey')\u001b[39;00m\n\u001b[1;32m   1046\u001b[0m \u001b[38;5;124;03m    \"\"\"\u001b[39;00m\n\u001b[1;32m   1047\u001b[0m     fig \u001b[38;5;241m=\u001b[39m gcf()\n\u001b[1;32m   1048\u001b[0m     pos \u001b[38;5;241m=\u001b[39m kwargs\u001b[38;5;241m.\u001b[39mpop(\u001b[38;5;124m'\u001b[39m\u001b[38;5;124mposition\u001b[39m\u001b[38;5;124m'\u001b[39m, \u001b[38;5;28;01mNone\u001b[39;00m)\n",
      "File \u001b[0;32m~/anaconda3/envs/practicum/lib/python3.9/site-packages/matplotlib/figure.py:3046\u001b[0m, in \u001b[0;36msavefig\u001b[0;34m(self, fname, transparent, **kwargs)\u001b[0m\n\u001b[1;32m   3029\u001b[0m     \"\"\"\n\u001b[1;32m   3030\u001b[0m     Set the height of the figure in inches.\n\u001b[1;32m   3031\u001b[0m \n\u001b[0;32m   (...)\u001b[0m\n\u001b[1;32m   3041\u001b[0m     matplotlib.figure.Figure.set_size_inches\n\u001b[1;32m   3042\u001b[0m     \"\"\"\n\u001b[1;32m   3043\u001b[0m     self.set_size_inches(self.get_figwidth(), val, forward=forward)\n\u001b[1;32m   3045\u001b[0m def clear(self, keep_observers=False):\n\u001b[0;32m-> 3046\u001b[0m     # docstring inherited\n\u001b[1;32m   3047\u001b[0m     super().clear(keep_observers=keep_observers)\n\u001b[1;32m   3048\u001b[0m     # FigureBase.clear does not clear toolbars, as\n\u001b[1;32m   3049\u001b[0m     # only Figure can have toolbars\n",
      "File \u001b[0;32m~/anaconda3/envs/practicum/lib/python3.9/site-packages/matplotlib/backend_bases.py:2319\u001b[0m, in \u001b[0;36mprint_figure\u001b[0;34m(self, filename, dpi, facecolor, edgecolor, orientation, format, bbox_inches, pad_inches, bbox_extra_artists, backend, **kwargs)\u001b[0m\n\u001b[1;32m   2316\u001b[0m \u001b[38;5;28;01mif\u001b[39;00m bbox_inches:\n\u001b[1;32m   2317\u001b[0m     \u001b[38;5;28;01mif\u001b[39;00m bbox_inches \u001b[38;5;241m==\u001b[39m \u001b[38;5;124m\"\u001b[39m\u001b[38;5;124mtight\u001b[39m\u001b[38;5;124m\"\u001b[39m:\n\u001b[1;32m   2318\u001b[0m         bbox_inches \u001b[38;5;241m=\u001b[39m \u001b[38;5;28mself\u001b[39m\u001b[38;5;241m.\u001b[39mfigure\u001b[38;5;241m.\u001b[39mget_tightbbox(\n\u001b[0;32m-> 2319\u001b[0m             renderer, bbox_extra_artists\u001b[38;5;241m=\u001b[39mbbox_extra_artists)\n\u001b[1;32m   2320\u001b[0m         \u001b[38;5;28;01mif\u001b[39;00m pad_inches \u001b[38;5;129;01mis\u001b[39;00m \u001b[38;5;28;01mNone\u001b[39;00m:\n\u001b[1;32m   2321\u001b[0m             pad_inches \u001b[38;5;241m=\u001b[39m rcParams[\u001b[38;5;124m'\u001b[39m\u001b[38;5;124msavefig.pad_inches\u001b[39m\u001b[38;5;124m'\u001b[39m]\n",
      "File \u001b[0;32m~/anaconda3/envs/practicum/lib/python3.9/site-packages/matplotlib/_api/deprecation.py:390\u001b[0m, in \u001b[0;36mwrapper\u001b[0;34m(*inner_args, **inner_kwargs)\u001b[0m\n\u001b[1;32m    385\u001b[0m arguments \u001b[38;5;241m=\u001b[39m signature\u001b[38;5;241m.\u001b[39mbind(\u001b[38;5;241m*\u001b[39minner_args, \u001b[38;5;241m*\u001b[39m\u001b[38;5;241m*\u001b[39minner_kwargs)\u001b[38;5;241m.\u001b[39marguments\n\u001b[1;32m    386\u001b[0m \u001b[38;5;28;01mif\u001b[39;00m is_varargs \u001b[38;5;129;01mand\u001b[39;00m arguments\u001b[38;5;241m.\u001b[39mget(name):\n\u001b[1;32m    387\u001b[0m     warn_deprecated(\n\u001b[1;32m    388\u001b[0m         since, message\u001b[38;5;241m=\u001b[39m\u001b[38;5;124mf\u001b[39m\u001b[38;5;124m\"\u001b[39m\u001b[38;5;124mAdditional positional arguments to \u001b[39m\u001b[38;5;124m\"\u001b[39m\n\u001b[1;32m    389\u001b[0m         \u001b[38;5;124mf\u001b[39m\u001b[38;5;124m\"\u001b[39m\u001b[38;5;132;01m{\u001b[39;00mfunc\u001b[38;5;241m.\u001b[39m\u001b[38;5;18m__name__\u001b[39m\u001b[38;5;132;01m}\u001b[39;00m\u001b[38;5;124m() are deprecated since %(since)s and \u001b[39m\u001b[38;5;124m\"\u001b[39m\n\u001b[0;32m--> 390\u001b[0m         \u001b[38;5;124mf\u001b[39m\u001b[38;5;124m\"\u001b[39m\u001b[38;5;124msupport for them will be removed %(removal)s.\u001b[39m\u001b[38;5;124m\"\u001b[39m)\n\u001b[1;32m    391\u001b[0m \u001b[38;5;28;01melif\u001b[39;00m is_varkwargs \u001b[38;5;129;01mand\u001b[39;00m arguments\u001b[38;5;241m.\u001b[39mget(name):\n\u001b[1;32m    392\u001b[0m     warn_deprecated(\n\u001b[1;32m    393\u001b[0m         since, message\u001b[38;5;241m=\u001b[39m\u001b[38;5;124mf\u001b[39m\u001b[38;5;124m\"\u001b[39m\u001b[38;5;124mAdditional keyword arguments to \u001b[39m\u001b[38;5;124m\"\u001b[39m\n\u001b[1;32m    394\u001b[0m         \u001b[38;5;124mf\u001b[39m\u001b[38;5;124m\"\u001b[39m\u001b[38;5;132;01m{\u001b[39;00mfunc\u001b[38;5;241m.\u001b[39m\u001b[38;5;18m__name__\u001b[39m\u001b[38;5;132;01m}\u001b[39;00m\u001b[38;5;124m() are deprecated since %(since)s and \u001b[39m\u001b[38;5;124m\"\u001b[39m\n\u001b[1;32m    395\u001b[0m         \u001b[38;5;124mf\u001b[39m\u001b[38;5;124m\"\u001b[39m\u001b[38;5;124msupport for them will be removed %(removal)s.\u001b[39m\u001b[38;5;124m\"\u001b[39m)\n",
      "File \u001b[0;32m~/anaconda3/envs/practicum/lib/python3.9/inspect.py:3045\u001b[0m, in \u001b[0;36mSignature.bind\u001b[0;34m(self, *args, **kwargs)\u001b[0m\n\u001b[1;32m   3040\u001b[0m \u001b[38;5;28;01mdef\u001b[39;00m \u001b[38;5;21mbind\u001b[39m(\u001b[38;5;28mself\u001b[39m, \u001b[38;5;241m/\u001b[39m, \u001b[38;5;241m*\u001b[39margs, \u001b[38;5;241m*\u001b[39m\u001b[38;5;241m*\u001b[39mkwargs):\n\u001b[1;32m   3041\u001b[0m     \u001b[38;5;124;03m\"\"\"Get a BoundArguments object, that maps the passed `args`\u001b[39;00m\n\u001b[1;32m   3042\u001b[0m \u001b[38;5;124;03m    and `kwargs` to the function's signature.  Raises `TypeError`\u001b[39;00m\n\u001b[1;32m   3043\u001b[0m \u001b[38;5;124;03m    if the passed arguments can not be bound.\u001b[39;00m\n\u001b[1;32m   3044\u001b[0m \u001b[38;5;124;03m    \"\"\"\u001b[39;00m\n\u001b[0;32m-> 3045\u001b[0m     \u001b[38;5;28;01mreturn\u001b[39;00m \u001b[38;5;28;43mself\u001b[39;49m\u001b[38;5;241;43m.\u001b[39;49m\u001b[43m_bind\u001b[49m\u001b[43m(\u001b[49m\u001b[43margs\u001b[49m\u001b[43m,\u001b[49m\u001b[43m \u001b[49m\u001b[43mkwargs\u001b[49m\u001b[43m)\u001b[49m\n",
      "File \u001b[0;32m~/anaconda3/envs/practicum/lib/python3.9/inspect.py:3034\u001b[0m, in \u001b[0;36mSignature._bind\u001b[0;34m(self, args, kwargs, partial)\u001b[0m\n\u001b[1;32m   3032\u001b[0m         arguments[kwargs_param\u001b[38;5;241m.\u001b[39mname] \u001b[38;5;241m=\u001b[39m kwargs\n\u001b[1;32m   3033\u001b[0m     \u001b[38;5;28;01melse\u001b[39;00m:\n\u001b[0;32m-> 3034\u001b[0m         \u001b[38;5;28;01mraise\u001b[39;00m \u001b[38;5;167;01mTypeError\u001b[39;00m(\n\u001b[1;32m   3035\u001b[0m             \u001b[38;5;124m'\u001b[39m\u001b[38;5;124mgot an unexpected keyword argument \u001b[39m\u001b[38;5;132;01m{arg!r}\u001b[39;00m\u001b[38;5;124m'\u001b[39m\u001b[38;5;241m.\u001b[39mformat(\n\u001b[1;32m   3036\u001b[0m                 arg\u001b[38;5;241m=\u001b[39m\u001b[38;5;28mnext\u001b[39m(\u001b[38;5;28miter\u001b[39m(kwargs))))\n\u001b[1;32m   3038\u001b[0m \u001b[38;5;28;01mreturn\u001b[39;00m \u001b[38;5;28mself\u001b[39m\u001b[38;5;241m.\u001b[39m_bound_arguments_cls(\u001b[38;5;28mself\u001b[39m, arguments)\n",
      "\u001b[0;31mTypeError\u001b[0m: got an unexpected keyword argument 'facecolor'"
     ]
    },
    {
     "data": {
      "text/plain": [
       "<Figure size 432x288 with 0 Axes>"
      ]
     },
     "metadata": {},
     "output_type": "display_data"
    }
   ],
   "source": [
    "# Определение размера графика\n",
    "plt.figure(\n",
    "    figsize=(7, 9)\n",
    ")  \n",
    "# Построение диаграммы с распределением количества по категориям\n",
    "ax = sns.countplot(\n",
    "    y='object_type', \n",
    "    data=rest_data,\n",
    "    order=rest_data['object_type'].value_counts().index, \n",
    "    color='#1F77B4',\n",
    ")\n",
    "ax.set(xlim=(0, 7000))\n",
    "sns.despine()\n",
    "# Добавление подписей столбцов\n",
    "ax.bar_label(ax.containers[0], label_type='edge', fontsize=16)\n",
    "# Добавление подписей графика и осей\n",
    "plt.title('Количество объектов питания в городе Москва: \\nраспределение по видам объектов, шт.')\n",
    "plt.xlabel('Количество, шт.')\n",
    "plt.ylabel('Вид объекта питания')\n",
    "# Демонстрация графика\n",
    "plt.show()\n",
    "# \n",
    "plt.savefig('dkdkd.png')"
   ]
  },
  {
   "cell_type": "code",
   "execution_count": null,
   "id": "e89f8ac3",
   "metadata": {},
   "outputs": [],
   "source": [
    "print('Всего объектов общественного питания в городе Москва', rest_data['object_type'].count())"
   ]
  },
  {
   "cell_type": "markdown",
   "id": "041f1554",
   "metadata": {},
   "source": [
    "**Вывод**\n",
    "\n",
    "Среди видов объектов общественного питания более трети - кафе, на столовые приходится около 17% заведений, на рестораны - около 15%. На предприятия быстрого обслуживания приходится около 13% заведений, остальные виды распространены значительно меньше."
   ]
  },
  {
   "cell_type": "markdown",
   "id": "8e784858",
   "metadata": {},
   "source": [
    "### Сетевое распространение: какие виды и характеристики у сетевых заведений?"
   ]
  },
  {
   "cell_type": "markdown",
   "id": "60cf61b9",
   "metadata": {},
   "source": [
    "Исследуем соотношение сетевых и несетевых заведений по количеству. "
   ]
  },
  {
   "cell_type": "code",
   "execution_count": null,
   "id": "669c38f0",
   "metadata": {},
   "outputs": [],
   "source": [
    "# Определение размера графика\n",
    "plt.figure(\n",
    "    figsize=(7, 9)\n",
    ")  \n",
    "# Построение диаграммы с распределением количества по категориям\n",
    "ax = sns.countplot(\n",
    "    y='chain', \n",
    "    data=rest_data,\n",
    "    order=[True, False],\n",
    "    palette=['#FF770E',\"#1F77B4\"]\n",
    ")\n",
    "ax.set_yticklabels(['Сетевое\\nзаведение', 'Несетевое\\nзаведение'])\n",
    "ax.set(xlim=(0, 13000))\n",
    "# Добавление подписей столбцов\n",
    "ax.bar_label(ax.containers[0], label_type='edge', fontsize=16)\n",
    "sns.despine() \n",
    "# Добавление подписей графика и осей\n",
    "plt.title('Количество объектов питания в городе Москва: \\nраспределение по принадлежности к сети, шт.')\n",
    "plt.xlabel('Количество, шт.')\n",
    "plt.ylabel('Принадлежность к сети')\n",
    "# Демонстрация графика\n",
    "plt.show()"
   ]
  },
  {
   "cell_type": "markdown",
   "id": "1bae7c62",
   "metadata": {},
   "source": [
    "К сетевым заведениям относится около 1/5 (19.3%) всех заведений общественного питания. Эти доли могут быть неоднородно распределены по видам заведений. Проверим, для каких видов объектов общественного питания характерно сетевое распространение. Построим сводную таблицу с информацией о количестве заведений и мест в них с сетевым и несетевым распространением. В качестве показателя типичного заведения выберем медианное количество мест, так как этот показатель более устойчив к выбросам."
   ]
  },
  {
   "cell_type": "code",
   "execution_count": null,
   "id": "a4d09452",
   "metadata": {
    "scrolled": true
   },
   "outputs": [],
   "source": [
    "# Построение сводной таблицы с данными об объектах общественного питания\n",
    "rest_stats = rest_data.pivot_table(\n",
    "    index = ['object_type'], \n",
    "    values = 'total_seats', \n",
    "    columns = 'chain',\n",
    "    aggfunc=['count', 'sum', 'median'],\n",
    ")\n",
    "# Переименование столбцов\n",
    "rest_stats.columns = (['not_chain_objects', 'chain_objects', \n",
    "                       'not_chain_total_seats', 'chain_total_seats', \n",
    "                       'non_chain_median_seats', 'chain_median_seats']\n",
    "                     )\n",
    "# Округление данных о медианном количестве мест\n",
    "rest_stats['non_chain_median_seats'] = round(rest_stats['non_chain_median_seats'])\n",
    "rest_stats['chain_median_seats'] = round(rest_stats['chain_median_seats'])\n",
    "\n",
    "# Расчет доли объектов сетевого распространения\n",
    "rest_stats['chain_object_share'] = (round(rest_stats['chain_objects'] /\n",
    "                                           (rest_stats['chain_objects'] + \n",
    "                                            rest_stats['not_chain_objects']), \n",
    "                                           2)\n",
    "                                    )\n",
    "# Расчет доли мест в объектах сетевого распространения\n",
    "rest_stats['chain_seats_share'] = (round(rest_stats['chain_total_seats'] /\n",
    "                                           (rest_stats['chain_total_seats'] + \n",
    "                                            rest_stats['not_chain_total_seats']), \n",
    "                                           2)\n",
    "                                    ) \n",
    "# Сортировка по количеству объектов сетевого распространения\n",
    "rest_stats = rest_stats.sort_values(by='chain_objects')\n",
    "# Переименование столбцов для графиков\n",
    "rest_stats_for_graphics = rest_stats.rename({'not_chain_objects':'несетевые заведения', 'chain_objects':'сетевые заведения'}, axis=1)\n",
    "# Демонстрация таблицы\n",
    "display(rest_stats)"
   ]
  },
  {
   "cell_type": "markdown",
   "id": "0b2341aa",
   "metadata": {},
   "source": [
    "По полученным данным построим диаграмму."
   ]
  },
  {
   "cell_type": "code",
   "execution_count": null,
   "id": "b02baebd",
   "metadata": {
    "scrolled": false
   },
   "outputs": [],
   "source": [
    "# Построение линейчатой диаграммы\n",
    "fig = px.bar(rest_stats_for_graphics, \n",
    "             y=rest_stats_for_graphics.index, \n",
    "             x=['несетевые заведения', 'сетевые заведения'],\n",
    "# Добавление названия таблицы, осей и легенды             \n",
    "             labels={\n",
    "                     \"object_type\": \"Вид  объекта\",\n",
    "                     'value': 'Количество, шт.', \n",
    "                     'variable': 'Вид объекта'\n",
    "                 },\n",
    "             title=\"Распределение сетевых и несетевых заведений по видам предприятия общественного питания \",            \n",
    "# Выбор шаблона             \n",
    "             template='simple_white',\n",
    "            )\n",
    "# Демонстрация диаграммы\n",
    "fig.show()"
   ]
  },
  {
   "cell_type": "markdown",
   "id": "b77fae11",
   "metadata": {},
   "source": [
    "Сетевое распространение в относительном отношении в первую очередь характерно для предприятий быстрого обслуживания, на сетевые заведения здесь приходится 41% объектов и 80% посадочных мест.\n",
    "Также значительная часть объектов кафе - 23% и ресторанов 24% относятся к сетевому типу организации бизнеса. Учитывая долю кафе на рынке, в абсолютном отношении количество сетевых кафе больше, чем количество предприятий быстрого питания."
   ]
  },
  {
   "cell_type": "markdown",
   "id": "4dfcc086",
   "metadata": {},
   "source": [
    "Что же характерно для сетевых заведений: много заведений с небольшим числом посадочных мест в каждом или мало заведений с большим количеством посадочных мест? Проанализируем эти заведения в сравнении с несетевыми.\n",
    "Подготовим данные для постройки диаграмм."
   ]
  },
  {
   "cell_type": "code",
   "execution_count": null,
   "id": "80d1e713",
   "metadata": {},
   "outputs": [],
   "source": [
    "# Выбор данных для графиков: принадлежность к сети и наиболее популярный формат: кафе, ресторан, фаст-фуд\n",
    "rd_chain_cafe = rest_data.loc[(rest_data['chain']==True) & (rest_data['object_type']=='кафе')]\n",
    "rd_non_chain_cafe = rest_data.loc[(rest_data['chain']==False) & (rest_data['object_type']=='кафе')]\n",
    "rd_chain_rest = rest_data.loc[(rest_data['chain']==True) & (rest_data['object_type']=='ресторан')]\n",
    "rd_non_chain_rest = rest_data.loc[(rest_data['chain']==False) & (rest_data['object_type']=='ресторан')]\n",
    "rd_chain_fast_food = rest_data.loc[(rest_data['chain']==True) & (rest_data['object_type']=='фаст-фуд')]\n",
    "rd_non_chain_fast_food = rest_data.loc[(rest_data['chain']==False) & (rest_data['object_type']=='фаст-фуд')]"
   ]
  },
  {
   "cell_type": "markdown",
   "id": "13e363aa",
   "metadata": {},
   "source": [
    "Сравним сетевые и несетевые заведения по наиболее популярным форматам: кафе, ресторан, фаст-фуд. Построим диаграмму размаха для этих видов объектов общественного питания"
   ]
  },
  {
   "cell_type": "code",
   "execution_count": null,
   "id": "c9447f2b",
   "metadata": {},
   "outputs": [],
   "source": [
    "# Создание графического объекта\n",
    "fig = go.Figure()\n",
    "# Добавление диаграммы размаха по каждому виду объектов, определение названия и цвета\n",
    "fig.add_trace(go.Box(y=rd_chain_cafe['total_seats'], name='Сеть: кафе',\n",
    "                marker_color = '#FF7F0E'))\n",
    "fig.add_trace(go.Box(y=rd_chain_rest['total_seats'], name='Сеть: ресторан',\n",
    "                marker_color = '#FF7F0E'))\n",
    "fig.add_trace(go.Box(y=rd_chain_fast_food['total_seats'], name='Сеть: фаст-фуд',\n",
    "                marker_color = '#FF7F0E'))\n",
    "fig.add_trace(go.Box(y=rd_non_chain_cafe['total_seats'], name = 'Не сеть: кафе',\n",
    "                marker_color = '#1F77B4'))\n",
    "fig.add_trace(go.Box(y=rd_non_chain_rest['total_seats'], name = 'Не сеть: ресторан',\n",
    "                marker_color = '#1F77B4'))\n",
    "fig.add_trace(go.Box(y=rd_non_chain_fast_food['total_seats'], name = 'Не сеть: фаст-фуд',\n",
    "                marker_color = '#1F77B4'))\n",
    "# Обновление шаблона: добавление названия диаграммы и осей, шаблона и удаление легенды\n",
    "fig.update_layout(\n",
    "    title=\"Распределение сетевых и несетевых заведений по количеству мест\",\n",
    "    xaxis_title=\"Принадлежность к сети и вид объекта\",\n",
    "    yaxis_title=\"Количество мест\",\n",
    "    template='simple_white',\n",
    "    showlegend=False\n",
    ")\n",
    "# Демонстрация диаграммы\n",
    "fig.show()"
   ]
  },
  {
   "cell_type": "code",
   "execution_count": null,
   "id": "7ba9fc57",
   "metadata": {},
   "outputs": [],
   "source": [
    "fig.write_image(\"fig2.png\")"
   ]
  },
  {
   "cell_type": "markdown",
   "id": "a1ce6ad3",
   "metadata": {},
   "source": [
    "Внутри сетевых заведений есть существенные отличия, в зависимости от вида, однако общая тенденция такова: сетевых заведений меньше и они имеют больше посадочных мест, чем несетевые заведения. Так для количества посадочных мест медиана сетевый предприятий быстрого обслуживания составляет 25 мест, у несетевых - 0. У кафе соотношение медиан 40 к 30 в пользу сети, у ресторанов - 88 к 75 в пользу сети."
   ]
  },
  {
   "cell_type": "markdown",
   "id": "9113233e",
   "metadata": {},
   "source": [
    "**Вывод**\n",
    "Сетевое распространение наиболее характерно для предприятий быстрого питания, достаточно распространено среди ресторанов и кафе. Для этого типа заведений харакерно меньшее число объектов с большим количеством посадочных мест."
   ]
  },
  {
   "cell_type": "markdown",
   "id": "0312967c",
   "metadata": {},
   "source": [
    "### Количество мест в заведении: какие виды объектов лидируют?"
   ]
  },
  {
   "cell_type": "markdown",
   "id": "dbe442dc",
   "metadata": {},
   "source": [
    "Подробнее рассмотрим общую информацию о среднем количестве посадочных мест в заведениях разного вида. \n",
    "\n",
    "Для каждого вида объекта общественного питания опишем среднее количество посадочных мест. "
   ]
  },
  {
   "cell_type": "code",
   "execution_count": null,
   "id": "40395fab",
   "metadata": {},
   "outputs": [],
   "source": [
    "# Создание сводной таблицы\n",
    "seats_stats = rest_data.pivot_table(\n",
    "    index = ['object_type'], \n",
    "    values = 'total_seats',\n",
    "    aggfunc=['count', 'median', 'mean'],\n",
    ")\n",
    "seats_stats.columns = (['object_count', 'total_seats_median', 'total_seats_mean'])\n",
    "# Округление данных о медианном и среднем количестве мест\n",
    "seats_stats['total_seats_median'] = round(seats_stats['total_seats_median'])\n",
    "seats_stats['total_seats_mean'] = round(seats_stats['total_seats_mean'])\n",
    "# Сортировка по среднему количеству мест\n",
    "seats_stats = seats_stats.sort_values(by='total_seats_mean', ascending=False)\n",
    "# Демонстрация таблицы\n",
    "display(seats_stats)"
   ]
  },
  {
   "cell_type": "markdown",
   "id": "c92eddc2",
   "metadata": {},
   "source": [
    "По полученным данным пострроим диаграмму."
   ]
  },
  {
   "cell_type": "code",
   "execution_count": null,
   "id": "12dc52ba",
   "metadata": {},
   "outputs": [],
   "source": [
    "seats_stats.index"
   ]
  },
  {
   "cell_type": "code",
   "execution_count": null,
   "id": "c810fbb6",
   "metadata": {},
   "outputs": [],
   "source": [
    "# Определение размера графика\n",
    "plt.figure(\n",
    "    figsize=(7, 9)\n",
    ")  \n",
    "# Построение диаграммы с распределением количества по категориям\n",
    "ax = sns.barplot(\n",
    "    y='object_type', \n",
    "    x='total_seats',\n",
    "    data=rest_data,\n",
    "    order=seats_stats.index, \n",
    "    color='#1F77B4',\n",
    "    ci=None,\n",
    ")\n",
    "ax.set(xlim=(0, 150))\n",
    "sns.despine() \n",
    "# Добавление подписей столбцов\n",
    "ax.bar_label(ax.containers[0], label_type='edge', fontsize=16)\n",
    "# Добавление подписей графика и осей\n",
    "plt.title('Среднее количество мест в объекте питания в городе Москва:\\nраспределение по виду объекта, чел.')\n",
    "plt.xlabel('Количество, шт.')\n",
    "plt.ylabel('Вид объекта питания')\n",
    "# Демонстрация графика\n",
    "plt.show()"
   ]
  },
  {
   "cell_type": "markdown",
   "id": "8d59c323",
   "metadata": {},
   "source": [
    "**Вывод**\n",
    "\n",
    "В среднем самое большое количество посадочных мест предоставляют столовые - почти 128. Достаточно много мест в ресторанах - около 91. Кафе, бары и буфеты предлагают 40-50 мест в среднем, фаст-фуд - около 20, а кафетерий - меньше 9."
   ]
  },
  {
   "cell_type": "markdown",
   "id": "ccd86b46",
   "metadata": {},
   "source": [
    "###  Расположение заведения: влияние улицы и района"
   ]
  },
  {
   "cell_type": "markdown",
   "id": "ea9f8056",
   "metadata": {},
   "source": [
    "Выделим в отдельный столбец информацию об улице из столбца address . Для этого воспользуемся регулярными выражениями и срезами данных."
   ]
  },
  {
   "cell_type": "code",
   "execution_count": null,
   "id": "8720544e",
   "metadata": {},
   "outputs": [],
   "source": [
    "# Функция возвращает строку без первых 14 символов\n",
    "def remove_start(address, symbol=14):\n",
    "    return address[symbol:]\n",
    "# Функция возвращает всю строку до указателя дома\n",
    "def remove_end(address, sep=', дом',):\n",
    "    return address.split(sep)[0]\n",
    "\n",
    "# Преобразования адреса в улицу\n",
    "rest_data['street_name'] = rest_data['address'].apply(lambda x: remove_start(x))\n",
    "rest_data['street_name'] = rest_data['street_name'].apply(lambda x: remove_end(x))\n",
    "rest_data['street_name'] = rest_data['street_name'].apply(lambda x: remove_end(x, ', владение'))\n",
    "\n",
    "print('Всего уникальных названий улиц в таблице -', rest_data['street_name'].nunique())\n",
    "# Проверка - вывод первых 5 строк таблицы.\n",
    "rest_data.head()"
   ]
  },
  {
   "cell_type": "markdown",
   "id": "a4335df0",
   "metadata": {},
   "source": [
    "Построим график топ-10 улиц по количеству объектов общественного питания. "
   ]
  },
  {
   "cell_type": "code",
   "execution_count": null,
   "id": "1ccb91a1",
   "metadata": {},
   "outputs": [],
   "source": [
    "rest_data['street_name'].value_counts().head(10)"
   ]
  },
  {
   "cell_type": "code",
   "execution_count": null,
   "id": "996d3ca0",
   "metadata": {
    "scrolled": true
   },
   "outputs": [],
   "source": [
    "# Определение размера графика\n",
    "plt.figure(\n",
    "    figsize=(7, 9)\n",
    ")  \n",
    "# Построение диаграммы с распределением количества по категориям\n",
    "ax = sns.barplot(\n",
    "    y=rest_data['street_name'].value_counts().head(10).index, \n",
    "    x=rest_data['street_name'].value_counts().head(10),\n",
    "    color='#1F77B4',\n",
    "    ci=None,\n",
    ")\n",
    "ax.set(xlim=(0, 200))\n",
    "sns.despine() \n",
    "# Добавление подписей столбцов\n",
    "ax.bar_label(ax.containers[0], label_type='edge', fontsize=16)\n",
    "# Добавление подписей графика и осей\n",
    "plt.title('ТОП-10 улиц по количеству заведений общественного питания,\\n расположенных на них')\n",
    "plt.xlabel('Количество заведений, шт.')\n",
    "plt.ylabel('Улица')\n",
    "# Демонстрация графика\n",
    "plt.show()"
   ]
  },
  {
   "cell_type": "markdown",
   "id": "0f0e5e00",
   "metadata": {},
   "source": [
    "На каждой из наиболее популярных улиц расположено более 100 заведений общественного питания. Улица, возглавляющая рейтинг - проспект Мира. Благодаря тому, что он имеет большую протяженность и на нем расположено сразу несколько крупных торговых центров, число предприятий питания там достигает 192."
   ]
  },
  {
   "cell_type": "markdown",
   "id": "47a9c763",
   "metadata": {},
   "source": [
    "Воспользуйтесь внешней информацией и ответьте на вопрос — в каких районах Москвы находятся эти улицы? 3"
   ]
  },
  {
   "cell_type": "markdown",
   "id": "47c7039a",
   "metadata": {},
   "source": [
    "Определим, в каких районах расположены улицы - лидеры."
   ]
  },
  {
   "cell_type": "code",
   "execution_count": null,
   "id": "9ae67b68",
   "metadata": {
    "scrolled": true
   },
   "outputs": [],
   "source": [
    "# Объединение таблиц с информацией об улице и районе\n",
    "top_streets = streets[['street_name', 'district', 'area']].join(\n",
    "    rest_data['street_name'].value_counts().head(10), \n",
    "                           on='street_name', \n",
    "                           lsuffix='', \n",
    "                           rsuffix='1', \n",
    "                           how='right'\n",
    "                          )\n",
    "# \n",
    "top_streets = top_streets.drop(columns=['street_name1'])\n",
    "display(top_streets)"
   ]
  },
  {
   "cell_type": "markdown",
   "id": "57188593",
   "metadata": {},
   "source": [
    "Определим, есть ли районы или округа, в которых проходят сразу нескоолько улиц-лидеров."
   ]
  },
  {
   "cell_type": "code",
   "execution_count": null,
   "id": "9303819d",
   "metadata": {},
   "outputs": [],
   "source": [
    "# Демонстрация таблицы\n",
    "display(top_streets['area'].value_counts())"
   ]
  },
  {
   "cell_type": "markdown",
   "id": "e2dbf513",
   "metadata": {},
   "source": [
    "В 11 районах есть по 2 улицы-лидера."
   ]
  },
  {
   "cell_type": "code",
   "execution_count": null,
   "id": "32a545df",
   "metadata": {
    "scrolled": true
   },
   "outputs": [],
   "source": [
    "display(top_streets['district'].value_counts())"
   ]
  },
  {
   "cell_type": "markdown",
   "id": "eb2efe33",
   "metadata": {},
   "source": [
    "Из округов наиболее популярные - Южный и Юго-Западный - в них по 14 комбинаций районов-улиц с максимальным количеством предприятий питания."
   ]
  },
  {
   "cell_type": "markdown",
   "id": "15550bbc",
   "metadata": {},
   "source": [
    "Найдем число улиц с одним объектом общественного питания. "
   ]
  },
  {
   "cell_type": "code",
   "execution_count": null,
   "id": "daa890cc",
   "metadata": {},
   "outputs": [],
   "source": [
    "len(rest_data['street_name'].value_counts().loc[rest_data['street_name'].value_counts() == 1])"
   ]
  },
  {
   "cell_type": "markdown",
   "id": "7cdc97b0",
   "metadata": {},
   "source": [
    "Всего улиц, на которых расположен лишь один объект общественного питания в нашем массиве 754. Определим, в каких районах Москвы находятся эти улицы."
   ]
  },
  {
   "cell_type": "code",
   "execution_count": null,
   "id": "074c0a60",
   "metadata": {},
   "outputs": [],
   "source": [
    "# Объединение таблиц с информацией об улице и районе\n",
    "rare_streets = streets[['street_name', 'district', 'area']].join(\n",
    "    rest_data['street_name'].value_counts().loc[rest_data['street_name'].value_counts() == 1], \n",
    "                           on='street_name', \n",
    "                           lsuffix='', \n",
    "                           rsuffix='1', \n",
    "                           how='inner'\n",
    "                          )\n",
    "# \n",
    "rare_streets = rare_streets.drop(columns=['street_name1'])\n",
    "display(rare_streets.sort_values(by='street_name').head(10))"
   ]
  },
  {
   "cell_type": "markdown",
   "id": "001c8607",
   "metadata": {},
   "source": [
    "Определим, в каких районах и административных округах находятся менее популярные улицы."
   ]
  },
  {
   "cell_type": "code",
   "execution_count": null,
   "id": "005b8963",
   "metadata": {},
   "outputs": [],
   "source": [
    "# Демонстрация таблиц\n",
    "display(rare_streets['area'].value_counts().head(20))"
   ]
  },
  {
   "cell_type": "markdown",
   "id": "313985d1",
   "metadata": {},
   "source": [
    "Многие районы центрального административного округа имеют улицы с одним заведением. Это может быть связано с особенностью района - исторический центр и короткие улицы. "
   ]
  },
  {
   "cell_type": "code",
   "execution_count": null,
   "id": "c8d49696",
   "metadata": {},
   "outputs": [],
   "source": [
    "display(rare_streets['district'].value_counts())"
   ]
  },
  {
   "cell_type": "markdown",
   "id": "8e1b6362",
   "metadata": {},
   "source": [
    "Среди районов с улицами, на которых находится одно заведение предсказуемо лидирует Центральный - по причинам описанным выше. Также достаточно часто встречаются такие улицы в ВАО, СВАО, ЮВАО, ЗАО."
   ]
  },
  {
   "cell_type": "markdown",
   "id": "1cb486b8",
   "metadata": {},
   "source": [
    "**Вывод**\n",
    "\n",
    "Топографически объекты общественного питания размещены неравномерно. На самых популярных улицах работают свыше сотни объектов питания, а более 700 улиц в нашей базе данных представлены лишь одним заведением. Наиболее популярная улица - проспект Мира, административные округа с популярными улицами - ЮЗАО, ЮАО, с наименее популярными улицами - ЦАО, ВАО, СВАО, САО, ЮВАО."
   ]
  },
  {
   "cell_type": "markdown",
   "id": "2ee68519",
   "metadata": {},
   "source": [
    "## Подготовка презентации"
   ]
  },
  {
   "cell_type": "markdown",
   "id": "419d91c4",
   "metadata": {},
   "source": [
    "Презентация: <https://disk.yandex.ru/i/rCmscX2nkbx_Qw> ."
   ]
  },
  {
   "cell_type": "markdown",
   "id": "5be03165",
   "metadata": {},
   "source": [
    "## Общий вывод"
   ]
  },
  {
   "cell_type": "markdown",
   "id": "bafd70be",
   "metadata": {},
   "source": [
    "Таким образом, относительно развития кафе с роботизированным обслуживанием в Москве можно дать следующие рекомендации.\n",
    "\n",
    "1. Учитывая концепцию дорогого и небольшого заведения, перспективным видом предприятия питания можно признать кафе: рестораны имеют более высокое число посадочных мест, а фаст-фуд - предполагает сетевую организацию бизнеса.\n",
    "2. Предлагаемое количество посадочных мест - 30. Это соответствует медианнному значению для несетевых кафе.\n",
    "3. Приоритетный район расположения - Юго-Западное направение, ЮАО, ЮЗАО, конкретные районы - Чертаново, Ломоносовский, Нагаткино-Садовники и другие, включая улицы Профсоюзная и Кировоградская, Варшавское и Каширское шоссе, Ленинский проспект.\n",
    "4. В условиях ориентации на небольшое и дорогое место концепция сети пока представляется нецелесообразной, однако при успешном запуске первого кафе и оптимизации расходов можно будет подумать об открытии сети, при условии: - повышении количества посадочных мест, - ориентации на \"проходимые\" и активные районы, прежде всего на Юге и Юго-Западе столицы."
   ]
  }
 ],
 "metadata": {
  "kernelspec": {
   "display_name": "Python 3 (ipykernel)",
   "language": "python",
   "name": "python3"
  },
  "language_info": {
   "codemirror_mode": {
    "name": "ipython",
    "version": 3
   },
   "file_extension": ".py",
   "mimetype": "text/x-python",
   "name": "python",
   "nbconvert_exporter": "python",
   "pygments_lexer": "ipython3",
   "version": "3.9.12"
  },
  "toc": {
   "base_numbering": 1,
   "nav_menu": {},
   "number_sections": true,
   "sideBar": true,
   "skip_h1_title": true,
   "title_cell": "Table of Contents",
   "title_sidebar": "Contents",
   "toc_cell": false,
   "toc_position": {},
   "toc_section_display": true,
   "toc_window_display": true
  }
 },
 "nbformat": 4,
 "nbformat_minor": 5
}
